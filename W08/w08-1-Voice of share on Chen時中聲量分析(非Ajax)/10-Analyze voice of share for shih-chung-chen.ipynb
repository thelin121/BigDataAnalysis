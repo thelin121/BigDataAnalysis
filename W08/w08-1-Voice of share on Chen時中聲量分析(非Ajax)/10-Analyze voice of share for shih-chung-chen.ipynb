{
 "cells": [
  {
   "attachments": {},
   "cell_type": "markdown",
   "metadata": {},
   "source": [
    "# 時中指數"
   ]
  },
  {
   "cell_type": "code",
   "execution_count": null,
   "metadata": {},
   "outputs": [],
   "source": []
  },
  {
   "attachments": {},
   "cell_type": "markdown",
   "metadata": {},
   "source": [
    "# Load Data "
   ]
  },
  {
   "cell_type": "code",
   "execution_count": 1,
   "metadata": {},
   "outputs": [],
   "source": [
    "import pandas as pd\n",
    "from datetime import datetime, timedelta\n",
    "\n",
    "df = pd.read_csv('./PTT_news_preprocessed.csv',sep='|')"
   ]
  },
  {
   "cell_type": "code",
   "execution_count": null,
   "metadata": {},
   "outputs": [],
   "source": []
  },
  {
   "cell_type": "code",
   "execution_count": 2,
   "metadata": {},
   "outputs": [
    {
     "data": {
      "text/html": [
       "<div>\n",
       "<style scoped>\n",
       "    .dataframe tbody tr th:only-of-type {\n",
       "        vertical-align: middle;\n",
       "    }\n",
       "\n",
       "    .dataframe tbody tr th {\n",
       "        vertical-align: top;\n",
       "    }\n",
       "\n",
       "    .dataframe thead th {\n",
       "        text-align: right;\n",
       "    }\n",
       "</style>\n",
       "<table border=\"1\" class=\"dataframe\">\n",
       "  <thead>\n",
       "    <tr style=\"text-align: right;\">\n",
       "      <th></th>\n",
       "      <th>item_id</th>\n",
       "      <th>date</th>\n",
       "      <th>category</th>\n",
       "      <th>title</th>\n",
       "      <th>content</th>\n",
       "      <th>sentiment</th>\n",
       "      <th>summary</th>\n",
       "      <th>top_key_freq</th>\n",
       "      <th>tokens</th>\n",
       "      <th>tokens_v2</th>\n",
       "      <th>entities</th>\n",
       "      <th>token_pos</th>\n",
       "      <th>link</th>\n",
       "      <th>photo_link</th>\n",
       "    </tr>\n",
       "  </thead>\n",
       "  <tbody>\n",
       "    <tr>\n",
       "      <th>0</th>\n",
       "      <td>Stock_04-16_1</td>\n",
       "      <td>2025-04-16</td>\n",
       "      <td>學術股市</td>\n",
       "      <td>[新聞] 日媒：台積電將敲定面板級封裝規格 先從</td>\n",
       "      <td>原文標題：日媒：台積電將敲定面板級封裝規格 先從較小尺寸開始原文連結：發布時間：2025-0...</td>\n",
       "      <td>暫無</td>\n",
       "      <td>暫無</td>\n",
       "      <td>[('台積電', 5), ('原文', 3), ('技術', 3), ('日媒', 2), ...</td>\n",
       "      <td>['原文', '標題', '：', '日媒', '：', '台積電', '將', '敲定',...</td>\n",
       "      <td>['原文', '標題', '日媒', '台積電', '面板級', '規格', '尺寸', '...</td>\n",
       "      <td>[NerToken(word='日媒', ner='NORP', idx=(5, 7)), ...</td>\n",
       "      <td>[('原文', 'Na'), ('標題', 'Na'), ('：', 'COLONCATEG...</td>\n",
       "      <td>https://www.ptt.cc/bbs/Stock/M.1744794518.A.3D...</td>\n",
       "      <td>NaN</td>\n",
       "    </tr>\n",
       "  </tbody>\n",
       "</table>\n",
       "</div>"
      ],
      "text/plain": [
       "         item_id        date category                     title  \\\n",
       "0  Stock_04-16_1  2025-04-16     學術股市  [新聞] 日媒：台積電將敲定面板級封裝規格 先從   \n",
       "\n",
       "                                             content sentiment summary  \\\n",
       "0  原文標題：日媒：台積電將敲定面板級封裝規格 先從較小尺寸開始原文連結：發布時間：2025-0...        暫無      暫無   \n",
       "\n",
       "                                        top_key_freq  \\\n",
       "0  [('台積電', 5), ('原文', 3), ('技術', 3), ('日媒', 2), ...   \n",
       "\n",
       "                                              tokens  \\\n",
       "0  ['原文', '標題', '：', '日媒', '：', '台積電', '將', '敲定',...   \n",
       "\n",
       "                                           tokens_v2  \\\n",
       "0  ['原文', '標題', '日媒', '台積電', '面板級', '規格', '尺寸', '...   \n",
       "\n",
       "                                            entities  \\\n",
       "0  [NerToken(word='日媒', ner='NORP', idx=(5, 7)), ...   \n",
       "\n",
       "                                           token_pos  \\\n",
       "0  [('原文', 'Na'), ('標題', 'Na'), ('：', 'COLONCATEG...   \n",
       "\n",
       "                                                link  photo_link  \n",
       "0  https://www.ptt.cc/bbs/Stock/M.1744794518.A.3D...         NaN  "
      ]
     },
     "execution_count": 2,
     "metadata": {},
     "output_type": "execute_result"
    }
   ],
   "source": [
    "df.head(1)"
   ]
  },
  {
   "cell_type": "code",
   "execution_count": 3,
   "metadata": {},
   "outputs": [
    {
     "data": {
      "text/plain": [
       "(268, 14)"
      ]
     },
     "execution_count": 3,
     "metadata": {},
     "output_type": "execute_result"
    }
   ],
   "source": [
    "df.shape"
   ]
  },
  {
   "attachments": {},
   "cell_type": "markdown",
   "metadata": {},
   "source": [
    "# Filter news for selected keywords"
   ]
  },
  {
   "cell_type": "code",
   "execution_count": 4,
   "metadata": {},
   "outputs": [],
   "source": [
    "import pandas as pd\n",
    "from datetime import datetime, timedelta\n",
    "import re\n",
    "\n",
    "# # Load Data \n",
    "# df = pd.read_csv('./news_dataset_preprocessed_for_django.csv',sep='|')\n",
    "# Step 0: Filter news articles using the following function\n",
    "# Searching keywords from \"content\" column\n",
    "def filter_df_via_content(df, query_keywords, cond, cate, weeks):\n",
    "\n",
    "    # end date: the date of the latest record of news\n",
    "    end_date = df.date.max()\n",
    "    \n",
    "    # start date\n",
    "    start_date_delta = (datetime.strptime(end_date, '%Y-%m-%d').date() - timedelta(weeks=weeks)).strftime('%Y-%m-%d')\n",
    "    start_date_min = df.date.min()\n",
    "    # set start_date as the larger one from the start_date_delta and start_date_min 開始時間選資料最早時間與周數:兩者較晚者\n",
    "    start_date = max(start_date_delta,   start_date_min)\n",
    "\n",
    "\n",
    "    # (1) proceed filtering: a duration of a period of time\n",
    "    # 期間條件\n",
    "    period_condition = (df.date >= start_date) & (df.date <= end_date) \n",
    "    \n",
    "    # (2) proceed filtering: news category\n",
    "    # 新聞類別條件\n",
    "    if (cate == \"全部\"):\n",
    "        condition = period_condition  # \"全部\"類別不必過濾新聞種類\n",
    "    else:\n",
    "        # 過濾category新聞類別條件\n",
    "        condition = period_condition & (df.category == cate)\n",
    "\n",
    "    # (3) proceed filtering: and or\n",
    "    # and or 條件\n",
    "    if (cond == 'and'):\n",
    "        # query keywords condition使用者輸入關鍵字條件and\n",
    "        condition = condition & df.content.apply(lambda text: all((qk in text) for qk in query_keywords)) #寫法:all()\n",
    "    elif (cond == 'or'):\n",
    "        # query keywords condition使用者輸入關鍵字條件\n",
    "        condition = condition & df.content.apply(lambda text: any((qk in text) for qk in query_keywords)) #寫法:any()\n",
    "    # condiction is a list of True or False boolean value\n",
    "    df_query = df[condition]\n",
    "\n",
    "    return df_query\n"
   ]
  },
  {
   "cell_type": "code",
   "execution_count": 5,
   "metadata": {},
   "outputs": [],
   "source": [
    "query_keywords = ['川普','Trump'] #不要有子字串否則會重複計算 ['陳時中','時中'] 這樣沒有意義!\n",
    "weeks=16\n",
    "cond='or'\n",
    "cate='全部'\n",
    "df_query = filter_df_via_content(df, query_keywords, cond, cate, weeks)"
   ]
  },
  {
   "cell_type": "code",
   "execution_count": 6,
   "metadata": {},
   "outputs": [
    {
     "data": {
      "text/plain": [
       "44"
      ]
     },
     "execution_count": 6,
     "metadata": {},
     "output_type": "execute_result"
    }
   ],
   "source": [
    "len(df_query)"
   ]
  },
  {
   "attachments": {},
   "cell_type": "markdown",
   "metadata": {},
   "source": [
    "# Count how many pieces of news containing these keywords計算各類別多少篇文章提到該關鍵字\n",
    "\n",
    "# Count how many times these keywords were mentioned in each category計算各類別出現關鍵字次數"
   ]
  },
  {
   "cell_type": "code",
   "execution_count": 7,
   "metadata": {},
   "outputs": [],
   "source": [
    "# **計算各類別多少篇文章提到該關鍵字\n",
    "# **計算各類別出現關鍵字次數\n",
    "\n",
    "news_categories = ['全部','學術股市','綜合','閒談','棒球','軍事']\n",
    "\n",
    "def count_keyword(df_query, query_keywords):\n",
    "\n",
    "    cate_occurrence = {}\n",
    "    cate_freq = {}\n",
    "    \n",
    "    # 字典初始化\n",
    "    for cate in news_categories:\n",
    "        cate_occurrence[cate] = 0   # {'政治':0, '科技':0}\n",
    "        cate_freq[cate] = 0\n",
    "        \n",
    "\n",
    "    for idx, row in df_query.iterrows():\n",
    "        # count the number of articles各類別篇數統計\n",
    "        cate_occurrence[row.category] += 1  #   {'政治':+1, '科技':0}\n",
    "        cate_occurrence['全部'] += 1\n",
    "        \n",
    "        # count the keyword frequency各類別次數統計\n",
    "        # 計算這一篇文章的content中重複含有多少個這些關鍵字(頻率)\n",
    "        freq = sum([ len(re.findall(keyword, row.content, re.I)) for keyword in query_keywords]) \n",
    "        cate_freq[row.category] += freq # 在該新聞類別中累計頻率\n",
    "        cate_freq['全部'] += freq  # 在\"全部\"類別中累計頻率\n",
    "\n",
    "    total_articles = cate_occurrence['全部']  # len(df_query)\n",
    "    total_frequency = cate_freq['全部']\n",
    "    return cate_freq, cate_occurrence, total_articles, total_frequency\n"
   ]
  },
  {
   "cell_type": "code",
   "execution_count": 8,
   "metadata": {},
   "outputs": [
    {
     "data": {
      "text/plain": [
       "({'全部': 207, '學術股市': 103, '綜合': 5, '閒談': 0, '棒球': 0, '軍事': 99},\n",
       " {'全部': 44, '學術股市': 22, '綜合': 3, '閒談': 0, '棒球': 0, '軍事': 19},\n",
       " 44,\n",
       " 207)"
      ]
     },
     "execution_count": 8,
     "metadata": {},
     "output_type": "execute_result"
    }
   ],
   "source": [
    "query_keywords = ['Trump','川普'] #不要有子字串否則會重複計算 ['陳時中','時中'] 這樣沒有意義!\n",
    "weeks=4\n",
    "cond='or'\n",
    "cate='全部'\n",
    "df_query = filter_df_via_content(df, query_keywords, cond, cate, weeks)\n",
    "count_keyword(df_query, query_keywords)"
   ]
  },
  {
   "cell_type": "code",
   "execution_count": 9,
   "metadata": {},
   "outputs": [
    {
     "data": {
      "text/plain": [
       "({'全部': 207, '學術股市': 103, '綜合': 5, '閒談': 0, '棒球': 0, '軍事': 99},\n",
       " {'全部': 44, '學術股市': 22, '綜合': 3, '閒談': 0, '棒球': 0, '軍事': 19},\n",
       " 44,\n",
       " 207)"
      ]
     },
     "execution_count": 9,
     "metadata": {},
     "output_type": "execute_result"
    }
   ],
   "source": [
    "query_keywords = ['Trump','川普'] #不要有子字串否則會重複計算 ['陳時中','時中'] 這樣沒有意義!\n",
    "weeks=4\n",
    "cond='or'\n",
    "cate='全部'\n",
    "df_query = filter_df_via_content(df, query_keywords, cond, cate, weeks)\n",
    "count_keyword(df_query, query_keywords)"
   ]
  },
  {
   "cell_type": "code",
   "execution_count": 10,
   "metadata": {},
   "outputs": [],
   "source": [
    "import re"
   ]
  },
  {
   "cell_type": "markdown",
   "metadata": {},
   "source": [
    "'Trump','Donald Trump'"
   ]
  },
  {
   "cell_type": "code",
   "execution_count": 11,
   "metadata": {},
   "outputs": [
    {
     "data": {
      "text/plain": [
       "['Trump', 'Trump', 'Trump']"
      ]
     },
     "execution_count": 11,
     "metadata": {},
     "output_type": "execute_result"
    }
   ],
   "source": [
    "content=\"Trump'....，Donald Trump，Donald Trump，\"\n",
    "keyword=\"Trump\"\n",
    "re.findall(keyword, content)"
   ]
  },
  {
   "cell_type": "code",
   "execution_count": 12,
   "metadata": {},
   "outputs": [
    {
     "data": {
      "text/plain": [
       "3"
      ]
     },
     "execution_count": 12,
     "metadata": {},
     "output_type": "execute_result"
    }
   ],
   "source": [
    "len(re.findall(keyword, content))"
   ]
  },
  {
   "cell_type": "code",
   "execution_count": 13,
   "metadata": {},
   "outputs": [
    {
     "data": {
      "text/plain": [
       "['Trump', 'Trump', 'Trump']"
      ]
     },
     "execution_count": 13,
     "metadata": {},
     "output_type": "execute_result"
    }
   ],
   "source": [
    "keyword=\"Trump\"\n",
    "re.findall(keyword, content)"
   ]
  },
  {
   "cell_type": "code",
   "execution_count": 14,
   "metadata": {},
   "outputs": [
    {
     "data": {
      "text/plain": [
       "['Donald Trump', 'Donald Trump']"
      ]
     },
     "execution_count": 14,
     "metadata": {},
     "output_type": "execute_result"
    }
   ],
   "source": [
    "keyword=\"Donald Trump\"\n",
    "re.findall(keyword, content)"
   ]
  },
  {
   "attachments": {},
   "cell_type": "markdown",
   "metadata": {},
   "source": [
    "# Caclulate date-based reported frequency of these keywords計算被報導的次數以時間為基礎"
   ]
  },
  {
   "cell_type": "code",
   "execution_count": 15,
   "metadata": {},
   "outputs": [],
   "source": [
    "def get_keyword_occurrence_time_series(df_query):\n",
    "    date_samples = df_query.date\n",
    "    query_freq = pd.DataFrame({'date_index': pd.to_datetime(date_samples), 'freq': [1 for _ in range(len(df_query))]})\n",
    "    data = query_freq.groupby(pd.Grouper(key='date_index', freq='D')).sum()\n",
    "    line_xy_data = []\n",
    "    for i, idx in enumerate(data.index):\n",
    "        row = {'x': idx.strftime('%Y-%m-%d'), 'y': int(data.iloc[i].freq)}\n",
    "        line_xy_data.append(row)\n",
    "    return line_xy_data"
   ]
  },
  {
   "cell_type": "code",
   "execution_count": 16,
   "metadata": {},
   "outputs": [
    {
     "data": {
      "text/plain": [
       "[{'x': '2025-04-15', 'y': 10}, {'x': '2025-04-16', 'y': 34}]"
      ]
     },
     "execution_count": 16,
     "metadata": {},
     "output_type": "execute_result"
    }
   ],
   "source": [
    "get_keyword_occurrence_time_series(df_query)"
   ]
  },
  {
   "attachments": {},
   "cell_type": "markdown",
   "metadata": {},
   "source": [
    "# Put them together"
   ]
  },
  {
   "cell_type": "code",
   "execution_count": 17,
   "metadata": {},
   "outputs": [],
   "source": [
    "\n",
    "query_keywords = ['Trump','川普'] #不要有子字串否則會重複計算 ['陳時中','時中'] 這樣沒有意義!\n",
    "weeks=4\n",
    "cond='or'\n",
    "cate='全部'\n",
    "\n",
    "df_query = filter_df_via_content(df, query_keywords, cond, cate, weeks)\n",
    "cate_freq, cate_occurrence, total_articles, total_frequency = count_keyword(df_query, query_keywords)\n",
    "freqByDate = get_keyword_occurrence_time_series(df_query)\n",
    "\n",
    "\n",
    "selectedCategories =  ['全部','學術股市','綜合','閒談','棒球','軍事']\n",
    "\n",
    "# selectedCategories = ['政治', '產經', '生活', '國際', '社會', '兩岸','全部']\n",
    "\n",
    "freqByCate = [cate_occurrence[k] for k in selectedCategories]\n",
    "\n",
    "response =  {'freqByDate': freqByDate, # 時間序列資料\n",
    "           'freqByCate': freqByCate, # 各類別的篇數\n",
    "           'category': selectedCategories, # 類別名稱\n",
    "           'num_frequency': cate_freq['全部'], # 這關鍵字被提多少次\n",
    "           'num_occurrence': cate_occurrence['全部'] #多少篇提到這關鍵字\n",
    "           }"
   ]
  },
  {
   "cell_type": "code",
   "execution_count": 18,
   "metadata": {},
   "outputs": [
    {
     "data": {
      "text/plain": [
       "[44, 22, 3, 0, 0, 19]"
      ]
     },
     "execution_count": 18,
     "metadata": {},
     "output_type": "execute_result"
    }
   ],
   "source": [
    "freqByCate"
   ]
  },
  {
   "cell_type": "code",
   "execution_count": 19,
   "metadata": {},
   "outputs": [
    {
     "data": {
      "text/plain": [
       "{'全部': 207, '學術股市': 103, '綜合': 5, '閒談': 0, '棒球': 0, '軍事': 99}"
      ]
     },
     "execution_count": 19,
     "metadata": {},
     "output_type": "execute_result"
    }
   ],
   "source": [
    "cate_freq"
   ]
  },
  {
   "cell_type": "code",
   "execution_count": 20,
   "metadata": {},
   "outputs": [
    {
     "data": {
      "text/plain": [
       "{'全部': 44, '學術股市': 22, '綜合': 3, '閒談': 0, '棒球': 0, '軍事': 19}"
      ]
     },
     "execution_count": 20,
     "metadata": {},
     "output_type": "execute_result"
    }
   ],
   "source": [
    "cate_occurrence"
   ]
  },
  {
   "cell_type": "code",
   "execution_count": 21,
   "metadata": {},
   "outputs": [
    {
     "data": {
      "text/plain": [
       "[{'x': '2025-04-15', 'y': 10}, {'x': '2025-04-16', 'y': 34}]"
      ]
     },
     "execution_count": 21,
     "metadata": {},
     "output_type": "execute_result"
    }
   ],
   "source": [
    "freqByDate"
   ]
  },
  {
   "cell_type": "code",
   "execution_count": 22,
   "metadata": {},
   "outputs": [
    {
     "data": {
      "text/plain": [
       "{'freqByDate': [{'x': '2025-04-15', 'y': 10}, {'x': '2025-04-16', 'y': 34}],\n",
       " 'freqByCate': [44, 22, 3, 0, 0, 19],\n",
       " 'category': ['全部', '學術股市', '綜合', '閒談', '棒球', '軍事'],\n",
       " 'num_frequency': 207,\n",
       " 'num_occurrence': 44}"
      ]
     },
     "execution_count": 22,
     "metadata": {},
     "output_type": "execute_result"
    }
   ],
   "source": [
    "response"
   ]
  },
  {
   "cell_type": "code",
   "execution_count": 23,
   "metadata": {},
   "outputs": [
    {
     "data": {
      "text/plain": [
       "dict_items([('freqByDate', [{'x': '2025-04-15', 'y': 10}, {'x': '2025-04-16', 'y': 34}]), ('freqByCate', [44, 22, 3, 0, 0, 19]), ('category', ['全部', '學術股市', '綜合', '閒談', '棒球', '軍事']), ('num_frequency', 207), ('num_occurrence', 44)])"
      ]
     },
     "execution_count": 23,
     "metadata": {},
     "output_type": "execute_result"
    }
   ],
   "source": [
    "response.items()"
   ]
  },
  {
   "cell_type": "code",
   "execution_count": 24,
   "metadata": {},
   "outputs": [
    {
     "data": {
      "text/plain": [
       "[('freqByDate', [{'x': '2025-04-15', 'y': 10}, {'x': '2025-04-16', 'y': 34}]),\n",
       " ('freqByCate', [44, 22, 3, 0, 0, 19]),\n",
       " ('category', ['全部', '學術股市', '綜合', '閒談', '棒球', '軍事']),\n",
       " ('num_frequency', 207),\n",
       " ('num_occurrence', 44)]"
      ]
     },
     "execution_count": 24,
     "metadata": {},
     "output_type": "execute_result"
    }
   ],
   "source": [
    "list(response.items())"
   ]
  },
  {
   "attachments": {},
   "cell_type": "markdown",
   "metadata": {},
   "source": [
    "## Save data to csv file"
   ]
  },
  {
   "cell_type": "code",
   "execution_count": 25,
   "metadata": {},
   "outputs": [],
   "source": [
    "df_data = pd.DataFrame(list(response.items()),columns=['name','value'])"
   ]
  },
  {
   "cell_type": "code",
   "execution_count": 26,
   "metadata": {},
   "outputs": [
    {
     "data": {
      "text/html": [
       "<div>\n",
       "<style scoped>\n",
       "    .dataframe tbody tr th:only-of-type {\n",
       "        vertical-align: middle;\n",
       "    }\n",
       "\n",
       "    .dataframe tbody tr th {\n",
       "        vertical-align: top;\n",
       "    }\n",
       "\n",
       "    .dataframe thead th {\n",
       "        text-align: right;\n",
       "    }\n",
       "</style>\n",
       "<table border=\"1\" class=\"dataframe\">\n",
       "  <thead>\n",
       "    <tr style=\"text-align: right;\">\n",
       "      <th></th>\n",
       "      <th>name</th>\n",
       "      <th>value</th>\n",
       "    </tr>\n",
       "  </thead>\n",
       "  <tbody>\n",
       "    <tr>\n",
       "      <th>0</th>\n",
       "      <td>freqByDate</td>\n",
       "      <td>[{'x': '2025-04-15', 'y': 10}, {'x': '2025-04-...</td>\n",
       "    </tr>\n",
       "    <tr>\n",
       "      <th>1</th>\n",
       "      <td>freqByCate</td>\n",
       "      <td>[44, 22, 3, 0, 0, 19]</td>\n",
       "    </tr>\n",
       "    <tr>\n",
       "      <th>2</th>\n",
       "      <td>category</td>\n",
       "      <td>[全部, 學術股市, 綜合, 閒談, 棒球, 軍事]</td>\n",
       "    </tr>\n",
       "    <tr>\n",
       "      <th>3</th>\n",
       "      <td>num_frequency</td>\n",
       "      <td>207</td>\n",
       "    </tr>\n",
       "    <tr>\n",
       "      <th>4</th>\n",
       "      <td>num_occurrence</td>\n",
       "      <td>44</td>\n",
       "    </tr>\n",
       "  </tbody>\n",
       "</table>\n",
       "</div>"
      ],
      "text/plain": [
       "             name                                              value\n",
       "0      freqByDate  [{'x': '2025-04-15', 'y': 10}, {'x': '2025-04-...\n",
       "1      freqByCate                              [44, 22, 3, 0, 0, 19]\n",
       "2        category                         [全部, 學術股市, 綜合, 閒談, 棒球, 軍事]\n",
       "3   num_frequency                                                207\n",
       "4  num_occurrence                                                 44"
      ]
     },
     "execution_count": 26,
     "metadata": {},
     "output_type": "execute_result"
    }
   ],
   "source": [
    "df_data"
   ]
  },
  {
   "cell_type": "code",
   "execution_count": null,
   "metadata": {},
   "outputs": [],
   "source": []
  },
  {
   "cell_type": "code",
   "execution_count": 27,
   "metadata": {},
   "outputs": [],
   "source": [
    "## 存成csv格式檔案\n",
    "df_data.to_csv('chen_shih_chung_data.csv',sep=',', index=None)"
   ]
  },
  {
   "cell_type": "code",
   "execution_count": null,
   "metadata": {},
   "outputs": [],
   "source": []
  },
  {
   "attachments": {},
   "cell_type": "markdown",
   "metadata": {},
   "source": [
    "### Alternative way: using zip"
   ]
  },
  {
   "cell_type": "code",
   "execution_count": 28,
   "metadata": {},
   "outputs": [],
   "source": [
    "k=list(response.keys())\n",
    "v=list(response.values())"
   ]
  },
  {
   "cell_type": "code",
   "execution_count": 29,
   "metadata": {},
   "outputs": [],
   "source": [
    "#list(zip(k,v))"
   ]
  },
  {
   "cell_type": "code",
   "execution_count": 30,
   "metadata": {
    "scrolled": true
   },
   "outputs": [
    {
     "data": {
      "text/html": [
       "<div>\n",
       "<style scoped>\n",
       "    .dataframe tbody tr th:only-of-type {\n",
       "        vertical-align: middle;\n",
       "    }\n",
       "\n",
       "    .dataframe tbody tr th {\n",
       "        vertical-align: top;\n",
       "    }\n",
       "\n",
       "    .dataframe thead th {\n",
       "        text-align: right;\n",
       "    }\n",
       "</style>\n",
       "<table border=\"1\" class=\"dataframe\">\n",
       "  <thead>\n",
       "    <tr style=\"text-align: right;\">\n",
       "      <th></th>\n",
       "      <th>name</th>\n",
       "      <th>value</th>\n",
       "    </tr>\n",
       "  </thead>\n",
       "  <tbody>\n",
       "    <tr>\n",
       "      <th>0</th>\n",
       "      <td>freqByDate</td>\n",
       "      <td>[{'x': '2025-04-15', 'y': 10}, {'x': '2025-04-...</td>\n",
       "    </tr>\n",
       "    <tr>\n",
       "      <th>1</th>\n",
       "      <td>freqByCate</td>\n",
       "      <td>[44, 22, 3, 0, 0, 19]</td>\n",
       "    </tr>\n",
       "    <tr>\n",
       "      <th>2</th>\n",
       "      <td>category</td>\n",
       "      <td>[全部, 學術股市, 綜合, 閒談, 棒球, 軍事]</td>\n",
       "    </tr>\n",
       "    <tr>\n",
       "      <th>3</th>\n",
       "      <td>num_frequency</td>\n",
       "      <td>207</td>\n",
       "    </tr>\n",
       "    <tr>\n",
       "      <th>4</th>\n",
       "      <td>num_occurrence</td>\n",
       "      <td>44</td>\n",
       "    </tr>\n",
       "  </tbody>\n",
       "</table>\n",
       "</div>"
      ],
      "text/plain": [
       "             name                                              value\n",
       "0      freqByDate  [{'x': '2025-04-15', 'y': 10}, {'x': '2025-04-...\n",
       "1      freqByCate                              [44, 22, 3, 0, 0, 19]\n",
       "2        category                         [全部, 學術股市, 綜合, 閒談, 棒球, 軍事]\n",
       "3   num_frequency                                                207\n",
       "4  num_occurrence                                                 44"
      ]
     },
     "execution_count": 30,
     "metadata": {},
     "output_type": "execute_result"
    }
   ],
   "source": [
    "df_data = pd.DataFrame(list(zip(k,v)),columns=['name','value'])\n",
    "df_data"
   ]
  },
  {
   "cell_type": "code",
   "execution_count": null,
   "metadata": {},
   "outputs": [],
   "source": []
  },
  {
   "attachments": {},
   "cell_type": "markdown",
   "metadata": {},
   "source": [
    "## Read csv file and convert to dict format"
   ]
  },
  {
   "cell_type": "code",
   "execution_count": 31,
   "metadata": {},
   "outputs": [],
   "source": [
    "df_data = pd.read_csv('chen_shih_chung_data.csv')"
   ]
  },
  {
   "cell_type": "code",
   "execution_count": 32,
   "metadata": {},
   "outputs": [
    {
     "data": {
      "text/html": [
       "<div>\n",
       "<style scoped>\n",
       "    .dataframe tbody tr th:only-of-type {\n",
       "        vertical-align: middle;\n",
       "    }\n",
       "\n",
       "    .dataframe tbody tr th {\n",
       "        vertical-align: top;\n",
       "    }\n",
       "\n",
       "    .dataframe thead th {\n",
       "        text-align: right;\n",
       "    }\n",
       "</style>\n",
       "<table border=\"1\" class=\"dataframe\">\n",
       "  <thead>\n",
       "    <tr style=\"text-align: right;\">\n",
       "      <th></th>\n",
       "      <th>name</th>\n",
       "      <th>value</th>\n",
       "    </tr>\n",
       "  </thead>\n",
       "  <tbody>\n",
       "    <tr>\n",
       "      <th>0</th>\n",
       "      <td>freqByDate</td>\n",
       "      <td>[{'x': '2025-04-15', 'y': 10}, {'x': '2025-04-...</td>\n",
       "    </tr>\n",
       "    <tr>\n",
       "      <th>1</th>\n",
       "      <td>freqByCate</td>\n",
       "      <td>[44, 22, 3, 0, 0, 19]</td>\n",
       "    </tr>\n",
       "    <tr>\n",
       "      <th>2</th>\n",
       "      <td>category</td>\n",
       "      <td>['全部', '學術股市', '綜合', '閒談', '棒球', '軍事']</td>\n",
       "    </tr>\n",
       "    <tr>\n",
       "      <th>3</th>\n",
       "      <td>num_frequency</td>\n",
       "      <td>207</td>\n",
       "    </tr>\n",
       "    <tr>\n",
       "      <th>4</th>\n",
       "      <td>num_occurrence</td>\n",
       "      <td>44</td>\n",
       "    </tr>\n",
       "  </tbody>\n",
       "</table>\n",
       "</div>"
      ],
      "text/plain": [
       "             name                                              value\n",
       "0      freqByDate  [{'x': '2025-04-15', 'y': 10}, {'x': '2025-04-...\n",
       "1      freqByCate                              [44, 22, 3, 0, 0, 19]\n",
       "2        category             ['全部', '學術股市', '綜合', '閒談', '棒球', '軍事']\n",
       "3   num_frequency                                                207\n",
       "4  num_occurrence                                                 44"
      ]
     },
     "execution_count": 32,
     "metadata": {},
     "output_type": "execute_result"
    }
   ],
   "source": [
    "df_data "
   ]
  },
  {
   "cell_type": "code",
   "execution_count": 33,
   "metadata": {},
   "outputs": [
    {
     "data": {
      "text/plain": [
       "{'freqByDate': \"[{'x': '2025-04-15', 'y': 10}, {'x': '2025-04-16', 'y': 34}]\",\n",
       " 'freqByCate': '[44, 22, 3, 0, 0, 19]',\n",
       " 'category': \"['全部', '學術股市', '綜合', '閒談', '棒球', '軍事']\",\n",
       " 'num_frequency': '207',\n",
       " 'num_occurrence': '44'}"
      ]
     },
     "execution_count": 33,
     "metadata": {},
     "output_type": "execute_result"
    }
   ],
   "source": [
    "# Convert to dictionary format\n",
    "dict(list(df_data.values))"
   ]
  },
  {
   "cell_type": "code",
   "execution_count": 34,
   "metadata": {},
   "outputs": [
    {
     "data": {
      "text/plain": [
       "[array(['freqByDate',\n",
       "        \"[{'x': '2025-04-15', 'y': 10}, {'x': '2025-04-16', 'y': 34}]\"],\n",
       "       dtype=object),\n",
       " array(['freqByCate', '[44, 22, 3, 0, 0, 19]'], dtype=object),\n",
       " array(['category', \"['全部', '學術股市', '綜合', '閒談', '棒球', '軍事']\"], dtype=object),\n",
       " array(['num_frequency', '207'], dtype=object),\n",
       " array(['num_occurrence', '44'], dtype=object)]"
      ]
     },
     "execution_count": 34,
     "metadata": {},
     "output_type": "execute_result"
    }
   ],
   "source": [
    "list(df_data.values)"
   ]
  },
  {
   "cell_type": "code",
   "execution_count": 35,
   "metadata": {},
   "outputs": [],
   "source": [
    "response = dict(list(df_data.values))\n"
   ]
  },
  {
   "cell_type": "code",
   "execution_count": 36,
   "metadata": {},
   "outputs": [
    {
     "data": {
      "text/plain": [
       "'44'"
      ]
     },
     "execution_count": 36,
     "metadata": {},
     "output_type": "execute_result"
    }
   ],
   "source": [
    "response['num_occurrence']"
   ]
  },
  {
   "cell_type": "code",
   "execution_count": 37,
   "metadata": {},
   "outputs": [
    {
     "data": {
      "text/plain": [
       "str"
      ]
     },
     "execution_count": 37,
     "metadata": {},
     "output_type": "execute_result"
    }
   ],
   "source": [
    "type(response['num_occurrence'])\n"
   ]
  },
  {
   "cell_type": "code",
   "execution_count": 38,
   "metadata": {},
   "outputs": [
    {
     "data": {
      "text/plain": [
       "str"
      ]
     },
     "execution_count": 38,
     "metadata": {},
     "output_type": "execute_result"
    }
   ],
   "source": [
    "type(response['freqByCate'])\n"
   ]
  },
  {
   "cell_type": "code",
   "execution_count": 39,
   "metadata": {},
   "outputs": [],
   "source": [
    "response['freqByCate'] = eval(response['freqByCate'])\n"
   ]
  },
  {
   "cell_type": "code",
   "execution_count": 40,
   "metadata": {},
   "outputs": [
    {
     "data": {
      "text/plain": [
       "{'freqByDate': \"[{'x': '2025-04-15', 'y': 10}, {'x': '2025-04-16', 'y': 34}]\",\n",
       " 'freqByCate': [44, 22, 3, 0, 0, 19],\n",
       " 'category': \"['全部', '學術股市', '綜合', '閒談', '棒球', '軍事']\",\n",
       " 'num_frequency': '207',\n",
       " 'num_occurrence': '44'}"
      ]
     },
     "execution_count": 40,
     "metadata": {},
     "output_type": "execute_result"
    }
   ],
   "source": [
    "response\n"
   ]
  },
  {
   "attachments": {},
   "cell_type": "markdown",
   "metadata": {},
   "source": [
    "### # How to convert a list into a dict?"
   ]
  },
  {
   "cell_type": "code",
   "execution_count": 41,
   "metadata": {},
   "outputs": [
    {
     "data": {
      "text/plain": [
       "[['one', [1, 2, 3]], ['two', 2]]"
      ]
     },
     "execution_count": 41,
     "metadata": {},
     "output_type": "execute_result"
    }
   ],
   "source": [
    "# How to convert a list into a dict?\n",
    "[['one',[1,2,3]], ['two',2]]"
   ]
  },
  {
   "cell_type": "code",
   "execution_count": 42,
   "metadata": {},
   "outputs": [
    {
     "data": {
      "text/plain": [
       "[['one', [1, 2, 3]], ['two', 2]]"
      ]
     },
     "execution_count": 42,
     "metadata": {},
     "output_type": "execute_result"
    }
   ],
   "source": [
    "# How to convert a list into a dict?\n",
    "[['one',[1,2,3]], ['two',2]]"
   ]
  },
  {
   "cell_type": "code",
   "execution_count": 43,
   "metadata": {},
   "outputs": [
    {
     "data": {
      "text/plain": [
       "{'one': [1, 2, 3], 'two': 2}"
      ]
     },
     "execution_count": 43,
     "metadata": {},
     "output_type": "execute_result"
    }
   ],
   "source": [
    "dict([['one',[1,2,3]], ['two',2]])"
   ]
  },
  {
   "attachments": {},
   "cell_type": "markdown",
   "metadata": {},
   "source": [
    "## All-in-one function"
   ]
  },
  {
   "cell_type": "code",
   "execution_count": 44,
   "metadata": {},
   "outputs": [],
   "source": [
    "# Load Data \n",
    "import pandas as pd\n",
    "from datetime import datetime, timedelta\n",
    "\n",
    "df = pd.read_csv('./PTT_news_preprocessed.csv',sep='|')"
   ]
  },
  {
   "cell_type": "code",
   "execution_count": 45,
   "metadata": {},
   "outputs": [],
   "source": [
    "\n",
    "\n",
    "def process_data_all_in_one(query_keywords, weeks):\n",
    "\n",
    "\n",
    "    cond='or'\n",
    "    cate='全部'\n",
    "\n",
    "    df_query = filter_df_via_content(df, query_keywords, cond, cate, weeks)\n",
    "    cate_freq, cate_occurrence, _, _ = count_keyword(df_query, query_keywords)\n",
    "    freqByDate = get_keyword_occurrence_time_series(df_query)\n",
    "\n",
    "\n",
    "    selectedCategories = ['全部','學術股市','綜合','閒談','棒球','軍事']\n",
    "    # selectedCategories = ['全部', '政治', '產經', '生活', '社會']\n",
    "    # selectedCategories = ['全部', '政治', '兩岸', '產經', '生活', '社會']\n",
    "    # selectedCategories = ['政治', '產經', '生活', '國際', '社會', '兩岸','全部']\n",
    "\n",
    "    freqByCate = [cate_occurrence[k] for k in selectedCategories]\n",
    "\n",
    "    response =  {'freqByDate': freqByDate,\n",
    "            'freqByCate': freqByCate,\n",
    "            'category': selectedCategories,\n",
    "            'num_frequency': cate_freq['全部'], # 這關鍵字被提多少次\n",
    "            'num_occurrence': cate_occurrence['全部'] #多少篇提到這關鍵字\n",
    "            }\n",
    "\n",
    "    \n",
    "\n",
    "    return response"
   ]
  },
  {
   "cell_type": "code",
   "execution_count": 46,
   "metadata": {},
   "outputs": [],
   "source": [
    "query_keywords = ['Trump','川普'] #不要有子字串否則會重複計算 ['陳時中','時中'] 這樣沒有意義!\n",
    "weeks=4\n",
    "data_response = process_data_all_in_one(query_keywords, weeks)"
   ]
  },
  {
   "cell_type": "code",
   "execution_count": 47,
   "metadata": {},
   "outputs": [],
   "source": [
    "df_data = pd.DataFrame(list(data_response.items()),columns=['name','value'])\n",
    "## 存成csv格式檔案\n",
    "df_data.to_csv('Trump_data.csv',sep=',', index=None)"
   ]
  },
  {
   "cell_type": "code",
   "execution_count": 48,
   "metadata": {},
   "outputs": [],
   "source": [
    "df_data = pd.read_csv('Trump_data.csv')"
   ]
  },
  {
   "cell_type": "code",
   "execution_count": 49,
   "metadata": {},
   "outputs": [
    {
     "data": {
      "text/html": [
       "<div>\n",
       "<style scoped>\n",
       "    .dataframe tbody tr th:only-of-type {\n",
       "        vertical-align: middle;\n",
       "    }\n",
       "\n",
       "    .dataframe tbody tr th {\n",
       "        vertical-align: top;\n",
       "    }\n",
       "\n",
       "    .dataframe thead th {\n",
       "        text-align: right;\n",
       "    }\n",
       "</style>\n",
       "<table border=\"1\" class=\"dataframe\">\n",
       "  <thead>\n",
       "    <tr style=\"text-align: right;\">\n",
       "      <th></th>\n",
       "      <th>name</th>\n",
       "      <th>value</th>\n",
       "    </tr>\n",
       "  </thead>\n",
       "  <tbody>\n",
       "    <tr>\n",
       "      <th>0</th>\n",
       "      <td>freqByDate</td>\n",
       "      <td>[{'x': '2025-04-15', 'y': 10}, {'x': '2025-04-...</td>\n",
       "    </tr>\n",
       "    <tr>\n",
       "      <th>1</th>\n",
       "      <td>freqByCate</td>\n",
       "      <td>[44, 22, 3, 0, 0, 19]</td>\n",
       "    </tr>\n",
       "    <tr>\n",
       "      <th>2</th>\n",
       "      <td>category</td>\n",
       "      <td>['全部', '學術股市', '綜合', '閒談', '棒球', '軍事']</td>\n",
       "    </tr>\n",
       "    <tr>\n",
       "      <th>3</th>\n",
       "      <td>num_frequency</td>\n",
       "      <td>207</td>\n",
       "    </tr>\n",
       "    <tr>\n",
       "      <th>4</th>\n",
       "      <td>num_occurrence</td>\n",
       "      <td>44</td>\n",
       "    </tr>\n",
       "  </tbody>\n",
       "</table>\n",
       "</div>"
      ],
      "text/plain": [
       "             name                                              value\n",
       "0      freqByDate  [{'x': '2025-04-15', 'y': 10}, {'x': '2025-04-...\n",
       "1      freqByCate                              [44, 22, 3, 0, 0, 19]\n",
       "2        category             ['全部', '學術股市', '綜合', '閒談', '棒球', '軍事']\n",
       "3   num_frequency                                                207\n",
       "4  num_occurrence                                                 44"
      ]
     },
     "execution_count": 49,
     "metadata": {},
     "output_type": "execute_result"
    }
   ],
   "source": [
    "df_data "
   ]
  },
  {
   "cell_type": "code",
   "execution_count": null,
   "metadata": {},
   "outputs": [],
   "source": []
  },
  {
   "attachments": {},
   "cell_type": "markdown",
   "metadata": {},
   "source": [
    "# This is your featured app"
   ]
  },
  {
   "cell_type": "code",
   "execution_count": 50,
   "metadata": {},
   "outputs": [],
   "source": [
    "#query_keywords = ['蔡英文','小英'] #不要有子字串否則會重複計算 ['陳時中','時中'] 這樣沒有意義!\n",
    "#query_keywords = ['賴清德'] #不要有子字串否則會重複計算 \n",
    "#query_keywords = ['柯文哲','柯P','柯p'] #不要有子字串否則會重複計算 \n",
    "query_keywords = ['蘋果','Apple','ipad','iphone','imac'] #不要有子字串否則會重複計算 \n",
    "weeks=4\n",
    "data_response = process_data_all_in_one(query_keywords, weeks)"
   ]
  },
  {
   "cell_type": "code",
   "execution_count": 51,
   "metadata": {},
   "outputs": [
    {
     "data": {
      "text/plain": [
       "{'freqByDate': [{'x': '2025-04-16', 'y': 2}],\n",
       " 'freqByCate': [2, 1, 1, 0, 0, 0],\n",
       " 'category': ['全部', '學術股市', '綜合', '閒談', '棒球', '軍事'],\n",
       " 'num_frequency': 2,\n",
       " 'num_occurrence': 2}"
      ]
     },
     "execution_count": 51,
     "metadata": {},
     "output_type": "execute_result"
    }
   ],
   "source": [
    "data_response"
   ]
  },
  {
   "cell_type": "code",
   "execution_count": 52,
   "metadata": {},
   "outputs": [],
   "source": [
    "query_keywords = ['疫情','新冠'] #不要有子字串否則會重複計算 ['陳時中','時中'] 這樣沒有意義!\n",
    "weeks=4\n",
    "data_response = process_data_all_in_one(query_keywords, weeks)"
   ]
  },
  {
   "cell_type": "code",
   "execution_count": 53,
   "metadata": {},
   "outputs": [
    {
     "data": {
      "text/plain": [
       "{'freqByDate': [{'x': '2025-04-07', 'y': 1},\n",
       "  {'x': '2025-04-08', 'y': 0},\n",
       "  {'x': '2025-04-09', 'y': 0},\n",
       "  {'x': '2025-04-10', 'y': 0},\n",
       "  {'x': '2025-04-11', 'y': 0},\n",
       "  {'x': '2025-04-12', 'y': 0},\n",
       "  {'x': '2025-04-13', 'y': 0},\n",
       "  {'x': '2025-04-14', 'y': 0},\n",
       "  {'x': '2025-04-15', 'y': 0},\n",
       "  {'x': '2025-04-16', 'y': 3}],\n",
       " 'freqByCate': [4, 3, 0, 1, 0, 0],\n",
       " 'category': ['全部', '學術股市', '綜合', '閒談', '棒球', '軍事'],\n",
       " 'num_frequency': 5,\n",
       " 'num_occurrence': 4}"
      ]
     },
     "execution_count": 53,
     "metadata": {},
     "output_type": "execute_result"
    }
   ],
   "source": [
    "data_response"
   ]
  },
  {
   "attachments": {},
   "cell_type": "markdown",
   "metadata": {},
   "source": [
    "# views.py in Django"
   ]
  },
  {
   "cell_type": "code",
   "execution_count": 54,
   "metadata": {},
   "outputs": [
    {
     "name": "stdout",
     "output_type": "stream",
     "text": [
      "app_scchen was loaded!\n"
     ]
    }
   ],
   "source": [
    "from django.http import JsonResponse\n",
    "from django.shortcuts import render\n",
    "import pandas as pd\n",
    "\n",
    "def load_data_scchen():\n",
    "    # Read data from csv file\n",
    "    df_data = pd.read_csv('./Trump_data.csv',sep=',')\n",
    "    global response\n",
    "    response = dict(list(df_data.values))\n",
    "    del df_data\n",
    "\n",
    "# load pk data\n",
    "load_data_scchen()\n",
    "\n",
    "def home(request):\n",
    "    return render(request,'app_scchen/home.html', response)\n",
    "\n",
    "print('app_scchen was loaded!')"
   ]
  },
  {
   "cell_type": "code",
   "execution_count": null,
   "metadata": {},
   "outputs": [],
   "source": []
  },
  {
   "attachments": {},
   "cell_type": "markdown",
   "metadata": {},
   "source": [
    "        # Saving data with other file format\n",
    "\n",
    "        ## Save to text file\n",
    "        # Save data\n",
    "        f = open('pk_politician.txt','w')\n",
    "        f.write(str(data_pk))\n",
    "        f.close()\n",
    "\n",
    "        # Load data\n",
    "        f = open('pk_politician.txt','r')\n",
    "        data_pk = f.read()\n",
    "\n",
    "        # dictionary format\n",
    "        eval(data_pk)\n",
    "        ## Save to json file\n",
    "        import json\n",
    "\n",
    "        # Save data\n",
    "        with open('pk_politician.txt', 'w') as file:\n",
    "            json.dump( data_pk, file)\n",
    "\n",
    "        # Load data\n",
    "        with open('pk_politician.txt', 'r') as file:\n",
    "            data_pk = json.load(file)\n",
    "\n",
    "        # dictionary format\n",
    "        data_pk\n",
    "\n",
    "        ## save to mongoDb (A famous NoneSQL)\n",
    "        from pymongo import MongoClient\n",
    "\n",
    "        # Save data\n",
    "        client = MongoClient()\n",
    "        database = client[\"cnaNews\"]  # SQL: Database Name\n",
    "        table_KTH = database[\"pk_politicianTsaiHan\"]   # SQL: Table Name\n",
    "\n",
    "        table_KTH.drop()\n",
    "        table_KTH.insert_one(data)\n",
    "\n",
    "\n",
    "        # Load data\n",
    "        from pymongo import MongoClient\n",
    "        client = MongoClient()\n",
    "        database = client[\"cnaNews\"]  # SQL: Database Name\n",
    "        table_KTH  = database[\"pkData\"]   # SQL: Table Name\n",
    "\n",
    "        for x in table_KTH.find():\n",
    "            print(x)\n",
    "\n",
    "        list(table_KTH.find({}, {'_id': False}))\n"
   ]
  },
  {
   "cell_type": "code",
   "execution_count": null,
   "metadata": {},
   "outputs": [],
   "source": []
  }
 ],
 "metadata": {
  "kernelspec": {
   "display_name": "ai23",
   "language": "python",
   "name": "python3"
  },
  "language_info": {
   "codemirror_mode": {
    "name": "ipython",
    "version": 3
   },
   "file_extension": ".py",
   "mimetype": "text/x-python",
   "name": "python",
   "nbconvert_exporter": "python",
   "pygments_lexer": "ipython3",
   "version": "3.10.16"
  },
  "toc-autonumbering": true
 },
 "nbformat": 4,
 "nbformat_minor": 4
}
