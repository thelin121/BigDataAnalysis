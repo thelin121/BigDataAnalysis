{
 "cells": [
  {
   "cell_type": "markdown",
   "metadata": {},
   "source": [
    "# Filter news by time period\n",
    "\n",
    "\n",
    "greater than the start date and less than the end date"
   ]
  },
  {
   "cell_type": "markdown",
   "metadata": {},
   "source": [
    "## Find max and min date time\n",
    "\n",
    "The format of \"date\" column here is string.\n",
    "\n",
    "If it is datetime format, you should use datetime format such as datetime.date(2019,9,23)"
   ]
  },
  {
   "cell_type": "code",
   "execution_count": 1,
   "metadata": {},
   "outputs": [],
   "source": [
    "import pandas as pd"
   ]
  },
  {
   "cell_type": "code",
   "execution_count": 2,
   "metadata": {},
   "outputs": [],
   "source": [
    "df = pd.read_csv('./PTT_news_preprocessed.csv',sep='|')"
   ]
  },
  {
   "cell_type": "code",
   "execution_count": 3,
   "metadata": {},
   "outputs": [
    {
     "data": {
      "text/html": [
       "<div>\n",
       "<style scoped>\n",
       "    .dataframe tbody tr th:only-of-type {\n",
       "        vertical-align: middle;\n",
       "    }\n",
       "\n",
       "    .dataframe tbody tr th {\n",
       "        vertical-align: top;\n",
       "    }\n",
       "\n",
       "    .dataframe thead th {\n",
       "        text-align: right;\n",
       "    }\n",
       "</style>\n",
       "<table border=\"1\" class=\"dataframe\">\n",
       "  <thead>\n",
       "    <tr style=\"text-align: right;\">\n",
       "      <th></th>\n",
       "      <th>item_id</th>\n",
       "      <th>date</th>\n",
       "      <th>category</th>\n",
       "      <th>title</th>\n",
       "      <th>content</th>\n",
       "      <th>sentiment</th>\n",
       "      <th>summary</th>\n",
       "      <th>top_key_freq</th>\n",
       "      <th>tokens</th>\n",
       "      <th>tokens_v2</th>\n",
       "      <th>entities</th>\n",
       "      <th>token_pos</th>\n",
       "      <th>link</th>\n",
       "      <th>photo_link</th>\n",
       "    </tr>\n",
       "  </thead>\n",
       "  <tbody>\n",
       "    <tr>\n",
       "      <th>0</th>\n",
       "      <td>Stock_04-16_1</td>\n",
       "      <td>2025-04-16</td>\n",
       "      <td>學術股市</td>\n",
       "      <td>[新聞] 日媒：台積電將敲定面板級封裝規格 先從</td>\n",
       "      <td>原文標題：日媒：台積電將敲定面板級封裝規格 先從較小尺寸開始原文連結：發布時間：2025-0...</td>\n",
       "      <td>暫無</td>\n",
       "      <td>暫無</td>\n",
       "      <td>[('台積電', 5), ('原文', 3), ('技術', 3), ('日媒', 2), ...</td>\n",
       "      <td>['原文', '標題', '：', '日媒', '：', '台積電', '將', '敲定',...</td>\n",
       "      <td>['原文', '標題', '日媒', '台積電', '面板級', '規格', '尺寸', '...</td>\n",
       "      <td>[NerToken(word='日媒', ner='NORP', idx=(5, 7)), ...</td>\n",
       "      <td>[('原文', 'Na'), ('標題', 'Na'), ('：', 'COLONCATEG...</td>\n",
       "      <td>https://www.ptt.cc/bbs/Stock/M.1744794518.A.3D...</td>\n",
       "      <td>NaN</td>\n",
       "    </tr>\n",
       "    <tr>\n",
       "      <th>1</th>\n",
       "      <td>Stock_04-16_2</td>\n",
       "      <td>2025-04-16</td>\n",
       "      <td>學術股市</td>\n",
       "      <td>Re: [新聞] 川普傳打算以關稅談判孤立中國 可能要各</td>\n",
       "      <td>從廣場協議看2018美中貿易戰 的升級版，及這次的關稅事件，廣場協議的主因也是貿易逆差跟美元...</td>\n",
       "      <td>暫無</td>\n",
       "      <td>暫無</td>\n",
       "      <td>[('中國', 36), ('美國', 30), ('國家', 21), ('技術', 13...</td>\n",
       "      <td>['從', '廣場', '協議', '看', '2018', '美中', '貿易戰 ', '...</td>\n",
       "      <td>['廣場', '協議', '美中', '貿易戰 ', '升級版', '關稅', '事件', ...</td>\n",
       "      <td>[NerToken(word='美國鋼鐵', ner='ORG', idx=(57, 61)...</td>\n",
       "      <td>[('從', 'P'), ('廣場', 'Nc'), ('協議', 'Na'), ('看',...</td>\n",
       "      <td>https://www.ptt.cc/bbs/Stock/M.1744794681.A.85...</td>\n",
       "      <td>NaN</td>\n",
       "    </tr>\n",
       "    <tr>\n",
       "      <th>2</th>\n",
       "      <td>Stock_04-16_3</td>\n",
       "      <td>2025-04-16</td>\n",
       "      <td>學術股市</td>\n",
       "      <td>[新聞] 川普大讚「關稅政策」有效！　發文激讚</td>\n",
       "      <td>川普大讚「關稅政策」有效！　發文激讚：美國通膨下降了ETTODAY2025年04月16日 1...</td>\n",
       "      <td>暫無</td>\n",
       "      <td>暫無</td>\n",
       "      <td>[('關稅', 9), ('川普', 6), ('美國', 4), ('政策', 3), (...</td>\n",
       "      <td>['川普', '大讚', '「', '關稅', '政策', '」', '有效', '！', ...</td>\n",
       "      <td>['川普', '關稅', '政策', '美國', '通膨', '記者', '吳美依', '美...</td>\n",
       "      <td>[NerToken(word='川', ner='PERSON', idx=(0, 1)),...</td>\n",
       "      <td>[('川普', 'Nb'), ('大讚', 'VC'), ('「', 'PARENTHESI...</td>\n",
       "      <td>https://www.ptt.cc/bbs/Stock/M.1744794813.A.00...</td>\n",
       "      <td>NaN</td>\n",
       "    </tr>\n",
       "  </tbody>\n",
       "</table>\n",
       "</div>"
      ],
      "text/plain": [
       "         item_id        date category                         title  \\\n",
       "0  Stock_04-16_1  2025-04-16     學術股市      [新聞] 日媒：台積電將敲定面板級封裝規格 先從   \n",
       "1  Stock_04-16_2  2025-04-16     學術股市  Re: [新聞] 川普傳打算以關稅談判孤立中國 可能要各   \n",
       "2  Stock_04-16_3  2025-04-16     學術股市       [新聞] 川普大讚「關稅政策」有效！　發文激讚   \n",
       "\n",
       "                                             content sentiment summary  \\\n",
       "0  原文標題：日媒：台積電將敲定面板級封裝規格 先從較小尺寸開始原文連結：發布時間：2025-0...        暫無      暫無   \n",
       "1  從廣場協議看2018美中貿易戰 的升級版，及這次的關稅事件，廣場協議的主因也是貿易逆差跟美元...        暫無      暫無   \n",
       "2  川普大讚「關稅政策」有效！　發文激讚：美國通膨下降了ETTODAY2025年04月16日 1...        暫無      暫無   \n",
       "\n",
       "                                        top_key_freq  \\\n",
       "0  [('台積電', 5), ('原文', 3), ('技術', 3), ('日媒', 2), ...   \n",
       "1  [('中國', 36), ('美國', 30), ('國家', 21), ('技術', 13...   \n",
       "2  [('關稅', 9), ('川普', 6), ('美國', 4), ('政策', 3), (...   \n",
       "\n",
       "                                              tokens  \\\n",
       "0  ['原文', '標題', '：', '日媒', '：', '台積電', '將', '敲定',...   \n",
       "1  ['從', '廣場', '協議', '看', '2018', '美中', '貿易戰 ', '...   \n",
       "2  ['川普', '大讚', '「', '關稅', '政策', '」', '有效', '！', ...   \n",
       "\n",
       "                                           tokens_v2  \\\n",
       "0  ['原文', '標題', '日媒', '台積電', '面板級', '規格', '尺寸', '...   \n",
       "1  ['廣場', '協議', '美中', '貿易戰 ', '升級版', '關稅', '事件', ...   \n",
       "2  ['川普', '關稅', '政策', '美國', '通膨', '記者', '吳美依', '美...   \n",
       "\n",
       "                                            entities  \\\n",
       "0  [NerToken(word='日媒', ner='NORP', idx=(5, 7)), ...   \n",
       "1  [NerToken(word='美國鋼鐵', ner='ORG', idx=(57, 61)...   \n",
       "2  [NerToken(word='川', ner='PERSON', idx=(0, 1)),...   \n",
       "\n",
       "                                           token_pos  \\\n",
       "0  [('原文', 'Na'), ('標題', 'Na'), ('：', 'COLONCATEG...   \n",
       "1  [('從', 'P'), ('廣場', 'Nc'), ('協議', 'Na'), ('看',...   \n",
       "2  [('川普', 'Nb'), ('大讚', 'VC'), ('「', 'PARENTHESI...   \n",
       "\n",
       "                                                link  photo_link  \n",
       "0  https://www.ptt.cc/bbs/Stock/M.1744794518.A.3D...         NaN  \n",
       "1  https://www.ptt.cc/bbs/Stock/M.1744794681.A.85...         NaN  \n",
       "2  https://www.ptt.cc/bbs/Stock/M.1744794813.A.00...         NaN  "
      ]
     },
     "execution_count": 3,
     "metadata": {},
     "output_type": "execute_result"
    }
   ],
   "source": [
    "df.head(3)"
   ]
  },
  {
   "cell_type": "code",
   "execution_count": 4,
   "metadata": {},
   "outputs": [
    {
     "data": {
      "text/plain": [
       "'2025-04-16'"
      ]
     },
     "execution_count": 4,
     "metadata": {},
     "output_type": "execute_result"
    }
   ],
   "source": [
    "# maximum date time\n",
    "df.date.max()"
   ]
  },
  {
   "cell_type": "code",
   "execution_count": 5,
   "metadata": {},
   "outputs": [
    {
     "data": {
      "text/plain": [
       "'2024-06-27'"
      ]
     },
     "execution_count": 5,
     "metadata": {},
     "output_type": "execute_result"
    }
   ],
   "source": [
    "# minimum date time\n",
    "df.date.min()"
   ]
  },
  {
   "cell_type": "code",
   "execution_count": null,
   "metadata": {},
   "outputs": [],
   "source": []
  },
  {
   "cell_type": "code",
   "execution_count": 6,
   "metadata": {},
   "outputs": [
    {
     "data": {
      "text/plain": [
       "'2025-04-16'"
      ]
     },
     "execution_count": 6,
     "metadata": {},
     "output_type": "execute_result"
    }
   ],
   "source": [
    "df.iloc[0].date"
   ]
  },
  {
   "cell_type": "code",
   "execution_count": 7,
   "metadata": {},
   "outputs": [
    {
     "data": {
      "text/plain": [
       "267    2025-04-15\n",
       "Name: date, dtype: object"
      ]
     },
     "execution_count": 7,
     "metadata": {},
     "output_type": "execute_result"
    }
   ],
   "source": [
    "df.tail(1).date"
   ]
  },
  {
   "cell_type": "code",
   "execution_count": 8,
   "metadata": {
    "scrolled": true
   },
   "outputs": [
    {
     "data": {
      "text/plain": [
       "'2025-04-15'"
      ]
     },
     "execution_count": 8,
     "metadata": {},
     "output_type": "execute_result"
    }
   ],
   "source": [
    "df.iloc[-1].date"
   ]
  },
  {
   "cell_type": "markdown",
   "metadata": {},
   "source": [
    "## Find news with a specified date"
   ]
  },
  {
   "cell_type": "markdown",
   "metadata": {},
   "source": [
    "### Using query command"
   ]
  },
  {
   "cell_type": "code",
   "execution_count": 49,
   "metadata": {},
   "outputs": [
    {
     "data": {
      "text/html": [
       "<div>\n",
       "<style scoped>\n",
       "    .dataframe tbody tr th:only-of-type {\n",
       "        vertical-align: middle;\n",
       "    }\n",
       "\n",
       "    .dataframe tbody tr th {\n",
       "        vertical-align: top;\n",
       "    }\n",
       "\n",
       "    .dataframe thead th {\n",
       "        text-align: right;\n",
       "    }\n",
       "</style>\n",
       "<table border=\"1\" class=\"dataframe\">\n",
       "  <thead>\n",
       "    <tr style=\"text-align: right;\">\n",
       "      <th></th>\n",
       "      <th>item_id</th>\n",
       "      <th>date</th>\n",
       "      <th>category</th>\n",
       "      <th>title</th>\n",
       "      <th>content</th>\n",
       "      <th>sentiment</th>\n",
       "      <th>summary</th>\n",
       "      <th>top_key_freq</th>\n",
       "      <th>tokens</th>\n",
       "      <th>tokens_v2</th>\n",
       "      <th>entities</th>\n",
       "      <th>token_pos</th>\n",
       "      <th>link</th>\n",
       "      <th>photo_link</th>\n",
       "    </tr>\n",
       "  </thead>\n",
       "  <tbody>\n",
       "    <tr>\n",
       "      <th>0</th>\n",
       "      <td>Stock_04-16_1</td>\n",
       "      <td>2025-04-16</td>\n",
       "      <td>學術股市</td>\n",
       "      <td>[新聞] 日媒：台積電將敲定面板級封裝規格 先從</td>\n",
       "      <td>原文標題：日媒：台積電將敲定面板級封裝規格 先從較小尺寸開始原文連結：發布時間：2025-0...</td>\n",
       "      <td>暫無</td>\n",
       "      <td>暫無</td>\n",
       "      <td>[('台積電', 5), ('原文', 3), ('技術', 3), ('日媒', 2), ...</td>\n",
       "      <td>['原文', '標題', '：', '日媒', '：', '台積電', '將', '敲定',...</td>\n",
       "      <td>['原文', '標題', '日媒', '台積電', '面板級', '規格', '尺寸', '...</td>\n",
       "      <td>[NerToken(word='日媒', ner='NORP', idx=(5, 7)), ...</td>\n",
       "      <td>[('原文', 'Na'), ('標題', 'Na'), ('：', 'COLONCATEG...</td>\n",
       "      <td>https://www.ptt.cc/bbs/Stock/M.1744794518.A.3D...</td>\n",
       "      <td>NaN</td>\n",
       "    </tr>\n",
       "    <tr>\n",
       "      <th>1</th>\n",
       "      <td>Stock_04-16_2</td>\n",
       "      <td>2025-04-16</td>\n",
       "      <td>學術股市</td>\n",
       "      <td>Re: [新聞] 川普傳打算以關稅談判孤立中國 可能要各</td>\n",
       "      <td>從廣場協議看2018美中貿易戰 的升級版，及這次的關稅事件，廣場協議的主因也是貿易逆差跟美元...</td>\n",
       "      <td>暫無</td>\n",
       "      <td>暫無</td>\n",
       "      <td>[('中國', 36), ('美國', 30), ('國家', 21), ('技術', 13...</td>\n",
       "      <td>['從', '廣場', '協議', '看', '2018', '美中', '貿易戰 ', '...</td>\n",
       "      <td>['廣場', '協議', '美中', '貿易戰 ', '升級版', '關稅', '事件', ...</td>\n",
       "      <td>[NerToken(word='美國鋼鐵', ner='ORG', idx=(57, 61)...</td>\n",
       "      <td>[('從', 'P'), ('廣場', 'Nc'), ('協議', 'Na'), ('看',...</td>\n",
       "      <td>https://www.ptt.cc/bbs/Stock/M.1744794681.A.85...</td>\n",
       "      <td>NaN</td>\n",
       "    </tr>\n",
       "  </tbody>\n",
       "</table>\n",
       "</div>"
      ],
      "text/plain": [
       "         item_id        date category                         title  \\\n",
       "0  Stock_04-16_1  2025-04-16     學術股市      [新聞] 日媒：台積電將敲定面板級封裝規格 先從   \n",
       "1  Stock_04-16_2  2025-04-16     學術股市  Re: [新聞] 川普傳打算以關稅談判孤立中國 可能要各   \n",
       "\n",
       "                                             content sentiment summary  \\\n",
       "0  原文標題：日媒：台積電將敲定面板級封裝規格 先從較小尺寸開始原文連結：發布時間：2025-0...        暫無      暫無   \n",
       "1  從廣場協議看2018美中貿易戰 的升級版，及這次的關稅事件，廣場協議的主因也是貿易逆差跟美元...        暫無      暫無   \n",
       "\n",
       "                                        top_key_freq  \\\n",
       "0  [('台積電', 5), ('原文', 3), ('技術', 3), ('日媒', 2), ...   \n",
       "1  [('中國', 36), ('美國', 30), ('國家', 21), ('技術', 13...   \n",
       "\n",
       "                                              tokens  \\\n",
       "0  ['原文', '標題', '：', '日媒', '：', '台積電', '將', '敲定',...   \n",
       "1  ['從', '廣場', '協議', '看', '2018', '美中', '貿易戰 ', '...   \n",
       "\n",
       "                                           tokens_v2  \\\n",
       "0  ['原文', '標題', '日媒', '台積電', '面板級', '規格', '尺寸', '...   \n",
       "1  ['廣場', '協議', '美中', '貿易戰 ', '升級版', '關稅', '事件', ...   \n",
       "\n",
       "                                            entities  \\\n",
       "0  [NerToken(word='日媒', ner='NORP', idx=(5, 7)), ...   \n",
       "1  [NerToken(word='美國鋼鐵', ner='ORG', idx=(57, 61)...   \n",
       "\n",
       "                                           token_pos  \\\n",
       "0  [('原文', 'Na'), ('標題', 'Na'), ('：', 'COLONCATEG...   \n",
       "1  [('從', 'P'), ('廣場', 'Nc'), ('協議', 'Na'), ('看',...   \n",
       "\n",
       "                                                link  photo_link  \n",
       "0  https://www.ptt.cc/bbs/Stock/M.1744794518.A.3D...         NaN  \n",
       "1  https://www.ptt.cc/bbs/Stock/M.1744794681.A.85...         NaN  "
      ]
     },
     "execution_count": 49,
     "metadata": {},
     "output_type": "execute_result"
    }
   ],
   "source": [
    "df.query(\"date == '2025-04-16'\")[0:2]"
   ]
  },
  {
   "cell_type": "markdown",
   "metadata": {},
   "source": [
    "### Using column value"
   ]
  },
  {
   "cell_type": "code",
   "execution_count": 50,
   "metadata": {},
   "outputs": [
    {
     "data": {
      "text/html": [
       "<div>\n",
       "<style scoped>\n",
       "    .dataframe tbody tr th:only-of-type {\n",
       "        vertical-align: middle;\n",
       "    }\n",
       "\n",
       "    .dataframe tbody tr th {\n",
       "        vertical-align: top;\n",
       "    }\n",
       "\n",
       "    .dataframe thead th {\n",
       "        text-align: right;\n",
       "    }\n",
       "</style>\n",
       "<table border=\"1\" class=\"dataframe\">\n",
       "  <thead>\n",
       "    <tr style=\"text-align: right;\">\n",
       "      <th></th>\n",
       "      <th>item_id</th>\n",
       "      <th>date</th>\n",
       "      <th>category</th>\n",
       "      <th>title</th>\n",
       "      <th>content</th>\n",
       "      <th>sentiment</th>\n",
       "      <th>summary</th>\n",
       "      <th>top_key_freq</th>\n",
       "      <th>tokens</th>\n",
       "      <th>tokens_v2</th>\n",
       "      <th>entities</th>\n",
       "      <th>token_pos</th>\n",
       "      <th>link</th>\n",
       "      <th>photo_link</th>\n",
       "    </tr>\n",
       "  </thead>\n",
       "  <tbody>\n",
       "    <tr>\n",
       "      <th>0</th>\n",
       "      <td>Stock_04-16_1</td>\n",
       "      <td>2025-04-16</td>\n",
       "      <td>學術股市</td>\n",
       "      <td>[新聞] 日媒：台積電將敲定面板級封裝規格 先從</td>\n",
       "      <td>原文標題：日媒：台積電將敲定面板級封裝規格 先從較小尺寸開始原文連結：發布時間：2025-0...</td>\n",
       "      <td>暫無</td>\n",
       "      <td>暫無</td>\n",
       "      <td>[('台積電', 5), ('原文', 3), ('技術', 3), ('日媒', 2), ...</td>\n",
       "      <td>['原文', '標題', '：', '日媒', '：', '台積電', '將', '敲定',...</td>\n",
       "      <td>['原文', '標題', '日媒', '台積電', '面板級', '規格', '尺寸', '...</td>\n",
       "      <td>[NerToken(word='日媒', ner='NORP', idx=(5, 7)), ...</td>\n",
       "      <td>[('原文', 'Na'), ('標題', 'Na'), ('：', 'COLONCATEG...</td>\n",
       "      <td>https://www.ptt.cc/bbs/Stock/M.1744794518.A.3D...</td>\n",
       "      <td>NaN</td>\n",
       "    </tr>\n",
       "    <tr>\n",
       "      <th>1</th>\n",
       "      <td>Stock_04-16_2</td>\n",
       "      <td>2025-04-16</td>\n",
       "      <td>學術股市</td>\n",
       "      <td>Re: [新聞] 川普傳打算以關稅談判孤立中國 可能要各</td>\n",
       "      <td>從廣場協議看2018美中貿易戰 的升級版，及這次的關稅事件，廣場協議的主因也是貿易逆差跟美元...</td>\n",
       "      <td>暫無</td>\n",
       "      <td>暫無</td>\n",
       "      <td>[('中國', 36), ('美國', 30), ('國家', 21), ('技術', 13...</td>\n",
       "      <td>['從', '廣場', '協議', '看', '2018', '美中', '貿易戰 ', '...</td>\n",
       "      <td>['廣場', '協議', '美中', '貿易戰 ', '升級版', '關稅', '事件', ...</td>\n",
       "      <td>[NerToken(word='美國鋼鐵', ner='ORG', idx=(57, 61)...</td>\n",
       "      <td>[('從', 'P'), ('廣場', 'Nc'), ('協議', 'Na'), ('看',...</td>\n",
       "      <td>https://www.ptt.cc/bbs/Stock/M.1744794681.A.85...</td>\n",
       "      <td>NaN</td>\n",
       "    </tr>\n",
       "    <tr>\n",
       "      <th>2</th>\n",
       "      <td>Stock_04-16_3</td>\n",
       "      <td>2025-04-16</td>\n",
       "      <td>學術股市</td>\n",
       "      <td>[新聞] 川普大讚「關稅政策」有效！　發文激讚</td>\n",
       "      <td>川普大讚「關稅政策」有效！　發文激讚：美國通膨下降了ETTODAY2025年04月16日 1...</td>\n",
       "      <td>暫無</td>\n",
       "      <td>暫無</td>\n",
       "      <td>[('關稅', 9), ('川普', 6), ('美國', 4), ('政策', 3), (...</td>\n",
       "      <td>['川普', '大讚', '「', '關稅', '政策', '」', '有效', '！', ...</td>\n",
       "      <td>['川普', '關稅', '政策', '美國', '通膨', '記者', '吳美依', '美...</td>\n",
       "      <td>[NerToken(word='川', ner='PERSON', idx=(0, 1)),...</td>\n",
       "      <td>[('川普', 'Nb'), ('大讚', 'VC'), ('「', 'PARENTHESI...</td>\n",
       "      <td>https://www.ptt.cc/bbs/Stock/M.1744794813.A.00...</td>\n",
       "      <td>NaN</td>\n",
       "    </tr>\n",
       "    <tr>\n",
       "      <th>3</th>\n",
       "      <td>Stock_04-16_4</td>\n",
       "      <td>2025-04-16</td>\n",
       "      <td>學術股市</td>\n",
       "      <td>[情報] 2834 臺企銀 113年股利:現金0.2+股票0.6</td>\n",
       "      <td>1. 標題：董事會通過擬議分派股利2. 來源：公開資訊觀測站3. 網址：4. 內文：1. 董...</td>\n",
       "      <td>暫無</td>\n",
       "      <td>暫無</td>\n",
       "      <td>[('盈餘', 4), ('公積', 4), ('股利', 3), ('現金', 3), (...</td>\n",
       "      <td>['1. ', '標題', '：', '董事會', '通過', '擬議', '分派', '股...</td>\n",
       "      <td>['標題', '董事會', '股利', '來源', '資訊', '觀測站', '網址', '...</td>\n",
       "      <td>[NerToken(word=' 年度3.', ner='DATE', idx=(79, 8...</td>\n",
       "      <td>[('1. ', 'Neu'), ('標題', 'Na'), ('：', 'COLONCAT...</td>\n",
       "      <td>https://www.ptt.cc/bbs/Stock/M.1744795089.A.D4...</td>\n",
       "      <td>NaN</td>\n",
       "    </tr>\n",
       "    <tr>\n",
       "      <th>4</th>\n",
       "      <td>Stock_04-16_5</td>\n",
       "      <td>2025-04-16</td>\n",
       "      <td>學術股市</td>\n",
       "      <td>Re: [請益] 中國繼續擺爛是不是要害慘全世界？</td>\n",
       "      <td>感覺上你在反串不過中國的確在擺爛，而且早在川普發動關稅戰前就在擺爛中國要經濟轉型、要促進內需...</td>\n",
       "      <td>暫無</td>\n",
       "      <td>暫無</td>\n",
       "      <td>[('中國', 9), ('經濟', 3), ('內需', 3), ('川普', 2), (...</td>\n",
       "      <td>['感覺', '上', '你', '在', '反串不過', '中國', '的確', '在',...</td>\n",
       "      <td>['感覺', '中國', '川普', '關稅戰', '中國', '經濟', '內需', '說...</td>\n",
       "      <td>[NerToken(word='中國', ner='GPE', idx=(9, 11)), ...</td>\n",
       "      <td>[('感覺', 'Na'), ('上', 'Ng'), ('你', 'Nh'), ('在',...</td>\n",
       "      <td>https://www.ptt.cc/bbs/Stock/M.1744795403.A.4D...</td>\n",
       "      <td>NaN</td>\n",
       "    </tr>\n",
       "  </tbody>\n",
       "</table>\n",
       "</div>"
      ],
      "text/plain": [
       "         item_id        date category                             title  \\\n",
       "0  Stock_04-16_1  2025-04-16     學術股市          [新聞] 日媒：台積電將敲定面板級封裝規格 先從   \n",
       "1  Stock_04-16_2  2025-04-16     學術股市      Re: [新聞] 川普傳打算以關稅談判孤立中國 可能要各   \n",
       "2  Stock_04-16_3  2025-04-16     學術股市           [新聞] 川普大讚「關稅政策」有效！　發文激讚   \n",
       "3  Stock_04-16_4  2025-04-16     學術股市  [情報] 2834 臺企銀 113年股利:現金0.2+股票0.6   \n",
       "4  Stock_04-16_5  2025-04-16     學術股市         Re: [請益] 中國繼續擺爛是不是要害慘全世界？   \n",
       "\n",
       "                                             content sentiment summary  \\\n",
       "0  原文標題：日媒：台積電將敲定面板級封裝規格 先從較小尺寸開始原文連結：發布時間：2025-0...        暫無      暫無   \n",
       "1  從廣場協議看2018美中貿易戰 的升級版，及這次的關稅事件，廣場協議的主因也是貿易逆差跟美元...        暫無      暫無   \n",
       "2  川普大讚「關稅政策」有效！　發文激讚：美國通膨下降了ETTODAY2025年04月16日 1...        暫無      暫無   \n",
       "3  1. 標題：董事會通過擬議分派股利2. 來源：公開資訊觀測站3. 網址：4. 內文：1. 董...        暫無      暫無   \n",
       "4  感覺上你在反串不過中國的確在擺爛，而且早在川普發動關稅戰前就在擺爛中國要經濟轉型、要促進內需...        暫無      暫無   \n",
       "\n",
       "                                        top_key_freq  \\\n",
       "0  [('台積電', 5), ('原文', 3), ('技術', 3), ('日媒', 2), ...   \n",
       "1  [('中國', 36), ('美國', 30), ('國家', 21), ('技術', 13...   \n",
       "2  [('關稅', 9), ('川普', 6), ('美國', 4), ('政策', 3), (...   \n",
       "3  [('盈餘', 4), ('公積', 4), ('股利', 3), ('現金', 3), (...   \n",
       "4  [('中國', 9), ('經濟', 3), ('內需', 3), ('川普', 2), (...   \n",
       "\n",
       "                                              tokens  \\\n",
       "0  ['原文', '標題', '：', '日媒', '：', '台積電', '將', '敲定',...   \n",
       "1  ['從', '廣場', '協議', '看', '2018', '美中', '貿易戰 ', '...   \n",
       "2  ['川普', '大讚', '「', '關稅', '政策', '」', '有效', '！', ...   \n",
       "3  ['1. ', '標題', '：', '董事會', '通過', '擬議', '分派', '股...   \n",
       "4  ['感覺', '上', '你', '在', '反串不過', '中國', '的確', '在',...   \n",
       "\n",
       "                                           tokens_v2  \\\n",
       "0  ['原文', '標題', '日媒', '台積電', '面板級', '規格', '尺寸', '...   \n",
       "1  ['廣場', '協議', '美中', '貿易戰 ', '升級版', '關稅', '事件', ...   \n",
       "2  ['川普', '關稅', '政策', '美國', '通膨', '記者', '吳美依', '美...   \n",
       "3  ['標題', '董事會', '股利', '來源', '資訊', '觀測站', '網址', '...   \n",
       "4  ['感覺', '中國', '川普', '關稅戰', '中國', '經濟', '內需', '說...   \n",
       "\n",
       "                                            entities  \\\n",
       "0  [NerToken(word='日媒', ner='NORP', idx=(5, 7)), ...   \n",
       "1  [NerToken(word='美國鋼鐵', ner='ORG', idx=(57, 61)...   \n",
       "2  [NerToken(word='川', ner='PERSON', idx=(0, 1)),...   \n",
       "3  [NerToken(word=' 年度3.', ner='DATE', idx=(79, 8...   \n",
       "4  [NerToken(word='中國', ner='GPE', idx=(9, 11)), ...   \n",
       "\n",
       "                                           token_pos  \\\n",
       "0  [('原文', 'Na'), ('標題', 'Na'), ('：', 'COLONCATEG...   \n",
       "1  [('從', 'P'), ('廣場', 'Nc'), ('協議', 'Na'), ('看',...   \n",
       "2  [('川普', 'Nb'), ('大讚', 'VC'), ('「', 'PARENTHESI...   \n",
       "3  [('1. ', 'Neu'), ('標題', 'Na'), ('：', 'COLONCAT...   \n",
       "4  [('感覺', 'Na'), ('上', 'Ng'), ('你', 'Nh'), ('在',...   \n",
       "\n",
       "                                                link  photo_link  \n",
       "0  https://www.ptt.cc/bbs/Stock/M.1744794518.A.3D...         NaN  \n",
       "1  https://www.ptt.cc/bbs/Stock/M.1744794681.A.85...         NaN  \n",
       "2  https://www.ptt.cc/bbs/Stock/M.1744794813.A.00...         NaN  \n",
       "3  https://www.ptt.cc/bbs/Stock/M.1744795089.A.D4...         NaN  \n",
       "4  https://www.ptt.cc/bbs/Stock/M.1744795403.A.4D...         NaN  "
      ]
     },
     "execution_count": 50,
     "metadata": {},
     "output_type": "execute_result"
    }
   ],
   "source": [
    "df[df['date'] == '2025-04-16'][0:5]"
   ]
  },
  {
   "cell_type": "code",
   "execution_count": null,
   "metadata": {},
   "outputs": [],
   "source": []
  },
  {
   "cell_type": "code",
   "execution_count": 51,
   "metadata": {
    "scrolled": true
   },
   "outputs": [
    {
     "data": {
      "text/plain": [
       "0"
      ]
     },
     "execution_count": 51,
     "metadata": {},
     "output_type": "execute_result"
    }
   ],
   "source": [
    "# number of pieces\n",
    "len(df[df['date'] == '2025-04-10'])"
   ]
  },
  {
   "cell_type": "code",
   "execution_count": 52,
   "metadata": {
    "scrolled": true
   },
   "outputs": [
    {
     "data": {
      "text/plain": [
       "28"
      ]
     },
     "execution_count": 52,
     "metadata": {},
     "output_type": "execute_result"
    }
   ],
   "source": [
    "# number of pieces\n",
    "len(df[df['date'] == '2025-04-15'])"
   ]
  },
  {
   "cell_type": "code",
   "execution_count": 53,
   "metadata": {
    "scrolled": true
   },
   "outputs": [
    {
     "data": {
      "text/plain": [
       "3"
      ]
     },
     "execution_count": 53,
     "metadata": {},
     "output_type": "execute_result"
    }
   ],
   "source": [
    "# number of pieces\n",
    "len(df[df['date'] == '2025-04-14'])"
   ]
  },
  {
   "cell_type": "code",
   "execution_count": 54,
   "metadata": {},
   "outputs": [
    {
     "data": {
      "text/plain": [
       "0       True\n",
       "1       True\n",
       "2       True\n",
       "3       True\n",
       "4       True\n",
       "       ...  \n",
       "263    False\n",
       "264    False\n",
       "265    False\n",
       "266    False\n",
       "267    False\n",
       "Name: date, Length: 268, dtype: bool"
      ]
     },
     "execution_count": 54,
     "metadata": {},
     "output_type": "execute_result"
    }
   ],
   "source": [
    "df['date'] == '2025-04-16'"
   ]
  },
  {
   "cell_type": "code",
   "execution_count": 55,
   "metadata": {},
   "outputs": [
    {
     "data": {
      "text/html": [
       "<div>\n",
       "<style scoped>\n",
       "    .dataframe tbody tr th:only-of-type {\n",
       "        vertical-align: middle;\n",
       "    }\n",
       "\n",
       "    .dataframe tbody tr th {\n",
       "        vertical-align: top;\n",
       "    }\n",
       "\n",
       "    .dataframe thead th {\n",
       "        text-align: right;\n",
       "    }\n",
       "</style>\n",
       "<table border=\"1\" class=\"dataframe\">\n",
       "  <thead>\n",
       "    <tr style=\"text-align: right;\">\n",
       "      <th></th>\n",
       "      <th>item_id</th>\n",
       "      <th>date</th>\n",
       "      <th>category</th>\n",
       "      <th>title</th>\n",
       "      <th>content</th>\n",
       "      <th>sentiment</th>\n",
       "      <th>summary</th>\n",
       "      <th>top_key_freq</th>\n",
       "      <th>tokens</th>\n",
       "      <th>tokens_v2</th>\n",
       "      <th>entities</th>\n",
       "      <th>token_pos</th>\n",
       "      <th>link</th>\n",
       "      <th>photo_link</th>\n",
       "    </tr>\n",
       "  </thead>\n",
       "  <tbody>\n",
       "    <tr>\n",
       "      <th>229</th>\n",
       "      <td>Military_04-15_17</td>\n",
       "      <td>2025-04-15</td>\n",
       "      <td>軍事</td>\n",
       "      <td>[新聞] 關指部聯兵營下車戰鬥演練加入反無人機應</td>\n",
       "      <td>原文來源：自由時報原文摘要：借鑑俄烏戰爭 關指部聯兵營下車戰鬥演練加入反無人機應處陸軍關渡地...</td>\n",
       "      <td>暫無</td>\n",
       "      <td>暫無</td>\n",
       "      <td>[('官兵', 6), ('部隊', 5), ('任務', 3), ('能力', 3), (...</td>\n",
       "      <td>['原文', '來源', '：', '自由時報', '原文', '摘要', '：', '借鑑...</td>\n",
       "      <td>['原文', '來源', '自由時報', '原文', '摘要', '俄烏', '戰爭', '...</td>\n",
       "      <td>[NerToken(word='俄烏戰爭', ner='EVENT', idx=(16, 2...</td>\n",
       "      <td>[('原文', 'Na'), ('來源', 'Na'), ('：', 'COLONCATEG...</td>\n",
       "      <td>https://www.ptt.cc/bbs/Military/M.1744712767.A...</td>\n",
       "      <td>NaN</td>\n",
       "    </tr>\n",
       "    <tr>\n",
       "      <th>230</th>\n",
       "      <td>Military_04-15_18</td>\n",
       "      <td>2025-04-15</td>\n",
       "      <td>軍事</td>\n",
       "      <td>[新聞] 韓國KF-21合作沒學到教訓？印尼疑找到新</td>\n",
       "      <td>作者: doozia (天龍人) 看板: Gossiping標題: [新聞] 韓國KF-21...</td>\n",
       "      <td>暫無</td>\n",
       "      <td>暫無</td>\n",
       "      <td>[('印尼', 16), ('戰機', 11), ('土耳其', 7), ('潛艦', 5)...</td>\n",
       "      <td>['作者', ':', ' doozia', ' ', '(', '天龍人)', ' ', ...</td>\n",
       "      <td>['作者', '天龍人)', '看板', '標題', '新聞', '韓國', '教訓', '...</td>\n",
       "      <td>[NerToken(word='韓國', ner='GPE', idx=(39, 41)),...</td>\n",
       "      <td>[('作者', 'Na'), (':', 'COLONCATEGORY'), (' dooz...</td>\n",
       "      <td>https://www.ptt.cc/bbs/Military/M.1744714134.A...</td>\n",
       "      <td>NaN</td>\n",
       "    </tr>\n",
       "    <tr>\n",
       "      <th>231</th>\n",
       "      <td>Military_04-15_19</td>\n",
       "      <td>2025-04-15</td>\n",
       "      <td>軍事</td>\n",
       "      <td>[情報] 范斯指責澤倫斯基因為他宣稱美偏袒俄</td>\n",
       "      <td>出處根據路透社報道，美國副總統萬斯 4 月 15 日反駁了總統澤倫斯基的批評，萬斯稱指責華盛...</td>\n",
       "      <td>暫無</td>\n",
       "      <td>暫無</td>\n",
       "      <td>[('萬斯', 9), ('美國', 8), ('俄羅斯', 6), ('政府', 4), ...</td>\n",
       "      <td>['出處', '根據', '路透社', '報道', '，', '美國', '副總統', '萬...</td>\n",
       "      <td>['出處', '路透社', '美國', '副總統', '萬斯', '總統', '澤倫斯基',...</td>\n",
       "      <td>[NerToken(word='路透社', ner='ORG', idx=(4, 7)), ...</td>\n",
       "      <td>[('出處', 'Nc'), ('根據', 'P'), ('路透社', 'Nc'), ('報...</td>\n",
       "      <td>https://www.ptt.cc/bbs/Military/M.1744715721.A...</td>\n",
       "      <td>NaN</td>\n",
       "    </tr>\n",
       "    <tr>\n",
       "      <th>232</th>\n",
       "      <td>Military_04-15_20</td>\n",
       "      <td>2025-04-15</td>\n",
       "      <td>軍事</td>\n",
       "      <td>Re: [情報] 川普拒絕澤倫斯基提出購買愛國者的需求</td>\n",
       "      <td>馬的!!  真讓我說中了!!!  但是完全高興不起來!!!     想當初川普自己在那邊說什...</td>\n",
       "      <td>暫無</td>\n",
       "      <td>暫無</td>\n",
       "      <td>[('軍援', 3), ('川粉', 3), ('川普', 2), ('武器', 2), (...</td>\n",
       "      <td>['馬', '的!!', '  ', '真', '讓', '我', '說', '中', '了...</td>\n",
       "      <td>['川普', '軍援', '澤總', '川粉', '軍援', '以色列', '胡塞', '武...</td>\n",
       "      <td>[NerToken(word='  ', ner='ORG', idx=(4, 6)), N...</td>\n",
       "      <td>[('馬', 'I'), ('的!!', 'T'), ('  ', 'WHITESPACE'...</td>\n",
       "      <td>https://www.ptt.cc/bbs/Military/M.1744717067.A...</td>\n",
       "      <td>NaN</td>\n",
       "    </tr>\n",
       "    <tr>\n",
       "      <th>233</th>\n",
       "      <td>Military_04-15_21</td>\n",
       "      <td>2025-04-15</td>\n",
       "      <td>軍事</td>\n",
       "      <td>[討論] 中美開戰  美國高科技會輸給中國產能嗎</td>\n",
       "      <td>就像二戰德國蘇聯一樣一個走精兵高科技路線 一個走人海產能路線最後德國的精兵高科技，輸給蘇聯人...</td>\n",
       "      <td>暫無</td>\n",
       "      <td>暫無</td>\n",
       "      <td>[('德國', 2), ('蘇聯', 2), ('精兵', 2), ('高科技', 2), ...</td>\n",
       "      <td>['就', '像', '二', '戰', '德國', '蘇聯', '一樣', '一', '個...</td>\n",
       "      <td>['德國', '蘇聯', '精兵', '高科技', '路線', '產能', '路線', '德...</td>\n",
       "      <td>[NerToken(word='二戰', ner='EVENT', idx=(2, 4)),...</td>\n",
       "      <td>[('就', 'D'), ('像', 'P'), ('二', 'Neu'), ('戰', '...</td>\n",
       "      <td>https://www.ptt.cc/bbs/Military/M.1744721760.A...</td>\n",
       "      <td>NaN</td>\n",
       "    </tr>\n",
       "    <tr>\n",
       "      <th>234</th>\n",
       "      <td>Military_04-15_22</td>\n",
       "      <td>2025-04-15</td>\n",
       "      <td>軍事</td>\n",
       "      <td>[新聞] 川普計畫削減國務院將近一半的經費</td>\n",
       "      <td>原文來源：華盛頓郵報原文摘要：根據上週流傳的一份內部備忘錄，川普政府提議將國務院以及美國國際...</td>\n",
       "      <td>暫無</td>\n",
       "      <td>暫無</td>\n",
       "      <td>[('國務院', 10), ('美國', 8), ('預算', 8), ('國際', 7),...</td>\n",
       "      <td>['原文', '來源', '：', '華盛頓郵報', '原文', '摘要', '：', '根...</td>\n",
       "      <td>['原文', '來源', '華盛頓郵報', '原文', '摘要', '備忘錄', '川普',...</td>\n",
       "      <td>[NerToken(word='華盛頓郵報', ner='ORG', idx=(5, 10)...</td>\n",
       "      <td>[('原文', 'Na'), ('來源', 'Na'), ('：', 'COLONCATEG...</td>\n",
       "      <td>https://www.ptt.cc/bbs/Military/M.1744723371.A...</td>\n",
       "      <td>NaN</td>\n",
       "    </tr>\n",
       "    <tr>\n",
       "      <th>235</th>\n",
       "      <td>Military_04-15_23</td>\n",
       "      <td>2025-04-15</td>\n",
       "      <td>軍事</td>\n",
       "      <td>[新聞] 多位幕僚敦促川普對俄採更強硬立場</td>\n",
       "      <td>原文來源：華爾街日報原文摘要：多位川普總統的高級幕僚建議他對俄羅斯尋求與烏克蘭達成和平的意願...</td>\n",
       "      <td>暫無</td>\n",
       "      <td>暫無</td>\n",
       "      <td>[('俄羅斯', 13), ('川普', 7), ('總統', 5), ('戰爭', 4),...</td>\n",
       "      <td>['原文', '來源', '：', '華爾街日報', '原文', '摘要', '：', '多...</td>\n",
       "      <td>['原文', '來源', '華爾街日報', '原文', '摘要', '川普', '總統', ...</td>\n",
       "      <td>[NerToken(word='華爾街日報', ner='ORG', idx=(5, 10)...</td>\n",
       "      <td>[('原文', 'Na'), ('來源', 'Na'), ('：', 'COLONCATEG...</td>\n",
       "      <td>https://www.ptt.cc/bbs/Military/M.1744726164.A...</td>\n",
       "      <td>NaN</td>\n",
       "    </tr>\n",
       "    <tr>\n",
       "      <th>236</th>\n",
       "      <td>Military_04-15_24</td>\n",
       "      <td>2025-04-15</td>\n",
       "      <td>軍事</td>\n",
       "      <td>[新聞] 抓共諜變共諜！五星旗飄揚士林憲兵隊</td>\n",
       "      <td>原文來源：原文摘要：（記者吳政峰／台北報導）近期偵辦共諜案有功的士林憲兵隊，驚爆內部有3名士...</td>\n",
       "      <td>暫無</td>\n",
       "      <td>暫無</td>\n",
       "      <td>[('中共', 10), ('機密', 7), ('憲兵隊', 6), ('士官', 6),...</td>\n",
       "      <td>['原文', '來源', '：', '原文', '摘要', '：', '（', '記者', ...</td>\n",
       "      <td>['原文', '來源', '原文', '摘要', '記者', '吳政峰', '台北', '共...</td>\n",
       "      <td>[NerToken(word='吳政峰', ner='PERSON', idx=(13, 1...</td>\n",
       "      <td>[('原文', 'Na'), ('來源', 'Na'), ('：', 'COLONCATEG...</td>\n",
       "      <td>https://www.ptt.cc/bbs/Military/M.1744726168.A...</td>\n",
       "      <td>NaN</td>\n",
       "    </tr>\n",
       "    <tr>\n",
       "      <th>237</th>\n",
       "      <td>Military_04-15_25</td>\n",
       "      <td>2025-04-15</td>\n",
       "      <td>軍事</td>\n",
       "      <td>Re: [情報] 川普拒絕澤倫斯基提出購買愛國者的需求</td>\n",
       "      <td>我猜烏克蘭這筆訂單絕對不是付現，而是又是想用\"無償貸款\"這個方式購買。烏克蘭現在都還要到歐洲...</td>\n",
       "      <td>暫無</td>\n",
       "      <td>暫無</td>\n",
       "      <td>[('烏克蘭', 11), ('歐洲', 4), ('貸款', 3), ('法國', 3),...</td>\n",
       "      <td>['我', '猜', '烏克蘭', '這', '筆', '訂單', '絕對', '不', '...</td>\n",
       "      <td>['烏克蘭', '訂單', '貸款', '方式', '烏克蘭', '歐洲', '閒錢', '...</td>\n",
       "      <td>[NerToken(word='烏克蘭', ner='GPE', idx=(2, 5)), ...</td>\n",
       "      <td>[('我', 'Nh'), ('猜', 'VE'), ('烏克蘭', 'Nc'), ('這'...</td>\n",
       "      <td>https://www.ptt.cc/bbs/Military/M.1744727452.A...</td>\n",
       "      <td>NaN</td>\n",
       "    </tr>\n",
       "    <tr>\n",
       "      <th>238</th>\n",
       "      <td>Military_04-15_26</td>\n",
       "      <td>2025-04-15</td>\n",
       "      <td>軍事</td>\n",
       "      <td>Re: [新聞] 抓共諜變共諜！五星旗飄揚士林憲兵隊</td>\n",
       "      <td>媒體報導太陽聯盟寶陽會副組長李慧馨共諜案共有7名現役軍人涉案，3名為士林憲兵隊士兵、3名是飛...</td>\n",
       "      <td>暫無</td>\n",
       "      <td>暫無</td>\n",
       "      <td>[('官兵', 4), ('教育', 3), ('成效', 2), ('媒體', 1), (...</td>\n",
       "      <td>['媒體', '報導', '太陽', '聯盟', '寶陽會', '副組長', '李慧馨', ...</td>\n",
       "      <td>['媒體', '太陽', '聯盟', '寶陽會', '副組長', '李慧馨', '共諜案',...</td>\n",
       "      <td>[NerToken(word='太陽聯盟寶陽會', ner='ORG', idx=(4, 1...</td>\n",
       "      <td>[('媒體', 'Na'), ('報導', 'VE'), ('太陽', 'Na'), ('聯...</td>\n",
       "      <td>https://www.ptt.cc/bbs/Military/M.1744728140.A...</td>\n",
       "      <td>NaN</td>\n",
       "    </tr>\n",
       "    <tr>\n",
       "      <th>239</th>\n",
       "      <td>Military_04-15_27</td>\n",
       "      <td>2025-04-15</td>\n",
       "      <td>軍事</td>\n",
       "      <td>Re: [情報] 川普拒絕澤倫斯基提出購買愛國者的需求</td>\n",
       "      <td>不用猜，當然你還是可以質疑他有沒有辦法籌到那筆錢澤倫斯基表示他告訴川普：「你們擁有很多愛國者...</td>\n",
       "      <td>暫無</td>\n",
       "      <td>暫無</td>\n",
       "      <td>[('辦法', 1), ('錢澤倫斯基', 1), ('川普', 1), ('系統', 1)...</td>\n",
       "      <td>['不用', '猜', '，', '當然', '你', '還是', '可以', '質疑', ...</td>\n",
       "      <td>['辦法', '錢澤倫斯基', '川普', '系統', '能力', '烏克蘭', '城市',...</td>\n",
       "      <td>[NerToken(word='錢澤倫斯基', ner='PERSON', idx=(23,...</td>\n",
       "      <td>[('不用', 'D'), ('猜', 'VE'), ('，', 'COMMACATEGOR...</td>\n",
       "      <td>https://www.ptt.cc/bbs/Military/M.1744729111.A...</td>\n",
       "      <td>NaN</td>\n",
       "    </tr>\n",
       "    <tr>\n",
       "      <th>240</th>\n",
       "      <td>Military_04-15_28</td>\n",
       "      <td>2025-04-15</td>\n",
       "      <td>軍事</td>\n",
       "      <td>Re: [情報] 川普拒絕澤倫斯基提出購買愛國者的需求</td>\n",
       "      <td>川普有哪一句話質疑烏克蘭根本沒錢嗎? 沒有現在檯面上的資訊很明確烏克蘭說我要花錢買  川普說...</td>\n",
       "      <td>暫無</td>\n",
       "      <td>暫無</td>\n",
       "      <td>[('烏克蘭', 4), ('川普', 3), ('美國', 2), ('檯面', 1), ...</td>\n",
       "      <td>['川普', '有', '哪', '一', '句', '話', '質疑', '烏克蘭', '...</td>\n",
       "      <td>['川普', '烏克蘭', '檯面', '資訊', '烏克蘭', '川普', '川普', '...</td>\n",
       "      <td>[NerToken(word='川普', ner='PERSON', idx=(0, 2))...</td>\n",
       "      <td>[('川普', 'Nb'), ('有', 'V_2'), ('哪', 'Nep'), ('一...</td>\n",
       "      <td>https://www.ptt.cc/bbs/Military/M.1744730687.A...</td>\n",
       "      <td>NaN</td>\n",
       "    </tr>\n",
       "    <tr>\n",
       "      <th>252</th>\n",
       "      <td>Military_04-15_40</td>\n",
       "      <td>2025-04-15</td>\n",
       "      <td>軍事</td>\n",
       "      <td>[情報] 瑞士計畫採購4~5套 IRIS-T SLM 防空系統</td>\n",
       "      <td>預計將於 2025 年第三季簽署地對空飛彈發射器的合約該系統將成為瑞士綜合防空系統的一部分可...</td>\n",
       "      <td>暫無</td>\n",
       "      <td>暫無</td>\n",
       "      <td>[('飛彈', 3), ('系統', 3), ('台灣', 3), ('發射器', 1), ...</td>\n",
       "      <td>['預計', '將', '於', ' 2025 ', '年', '第三季', '簽署', '...</td>\n",
       "      <td>['飛彈', '發射器', '合約', '系統', '瑞士', '系統', '台灣', '平...</td>\n",
       "      <td>[NerToken(word='第三季', ner='DATE', idx=(11, 14)...</td>\n",
       "      <td>[('預計', 'VE'), ('將', 'D'), ('於', 'P'), (' 2025...</td>\n",
       "      <td>https://www.ptt.cc/bbs/Military/M.1744647027.A...</td>\n",
       "      <td>NaN</td>\n",
       "    </tr>\n",
       "    <tr>\n",
       "      <th>253</th>\n",
       "      <td>Military_04-15_41</td>\n",
       "      <td>2025-04-15</td>\n",
       "      <td>軍事</td>\n",
       "      <td>[情報] 川普拒絕澤倫斯基提出購買愛國者的需求</td>\n",
       "      <td>烏克蘭總統弗拉迪米爾·澤倫斯基表示，烏克蘭準備以150億鎂購買額外10套愛國者防空系統，他已...</td>\n",
       "      <td>暫無</td>\n",
       "      <td>暫無</td>\n",
       "      <td>[('烏克蘭', 3), ('川普', 3), ('總統', 2), ('澤倫斯基', 2)...</td>\n",
       "      <td>['烏克蘭', '總統', '弗拉迪米爾', '·', '澤倫斯基', '表示', '，',...</td>\n",
       "      <td>['烏克蘭', '總統', '弗拉迪米爾', '澤倫斯基', '烏克蘭', '系統', '美...</td>\n",
       "      <td>[NerToken(word='烏克蘭', ner='GPE', idx=(0, 3)), ...</td>\n",
       "      <td>[('烏克蘭', 'Nb'), ('總統', 'Na'), ('弗拉迪米爾', 'Nb'),...</td>\n",
       "      <td>https://www.ptt.cc/bbs/Military/M.1744652383.A...</td>\n",
       "      <td>NaN</td>\n",
       "    </tr>\n",
       "    <tr>\n",
       "      <th>254</th>\n",
       "      <td>Military_04-15_42</td>\n",
       "      <td>2025-04-15</td>\n",
       "      <td>軍事</td>\n",
       "      <td>[分享] 被塞進152mm粗管的大口(徑)郊狼</td>\n",
       "      <td>TWZ今天出的跟進報導編輯獲雷松/RTX回應說這個不明彈藥就是他們的郊狼 Coyote 無人...</td>\n",
       "      <td>暫無</td>\n",
       "      <td>暫無</td>\n",
       "      <td>[('郊狼', 7), ('發射器', 3), ('雷松', 2), ('直昇機', 2),...</td>\n",
       "      <td>['TWZ', '今天', '出', '的', '跟進', '報導', '編輯', '獲雷松...</td>\n",
       "      <td>['報導', '彈藥', '郊狼', '家族', '效力器', '短程', '郊狼', '郊...</td>\n",
       "      <td>[NerToken(word='TWZ', ner='PERSON', idx=(0, 3)...</td>\n",
       "      <td>[('TWZ', 'FW'), ('今天', 'Nd'), ('出', 'VC'), ('的...</td>\n",
       "      <td>https://www.ptt.cc/bbs/Military/M.1744655807.A...</td>\n",
       "      <td>NaN</td>\n",
       "    </tr>\n",
       "    <tr>\n",
       "      <th>255</th>\n",
       "      <td>Military_04-15_43</td>\n",
       "      <td>2025-04-15</td>\n",
       "      <td>軍事</td>\n",
       "      <td>[情報] 日本開始建造新型巡邏艦</td>\n",
       "      <td>Japan starts production of a new fleet of OPV日...</td>\n",
       "      <td>暫無</td>\n",
       "      <td>暫無</td>\n",
       "      <td>[('日本', 2), ('預警', 2), ('新型', 1), ('巡邏艦', 1), ...</td>\n",
       "      <td>['Japan', ' starts', ' production', ' of', ' a...</td>\n",
       "      <td>['日本', '新型', '巡邏艦', '動力', '航速', '甲板', '機庫', '人...</td>\n",
       "      <td>[NerToken(word='日本', ner='GPE', idx=(45, 47)),...</td>\n",
       "      <td>[('Japan', 'FW'), (' starts', 'FW'), (' produc...</td>\n",
       "      <td>https://www.ptt.cc/bbs/Military/M.1744680258.A...</td>\n",
       "      <td>NaN</td>\n",
       "    </tr>\n",
       "    <tr>\n",
       "      <th>256</th>\n",
       "      <td>Military_04-15_44</td>\n",
       "      <td>2025-04-15</td>\n",
       "      <td>軍事</td>\n",
       "      <td>Re: [新聞]  美軍工承包商現身披露：數千家已倒閉</td>\n",
       "      <td>美國傳統上就不是船艦大國。這篇有講解一些歷史。有提到WWII的時候，美國發明block-st...</td>\n",
       "      <td>暫無</td>\n",
       "      <td>暫無</td>\n",
       "      <td>[('美國', 6), ('日本', 5), ('模組', 4), ('製造業', 4), ...</td>\n",
       "      <td>['美國', '傳統', '上', '就', '不', '是', '船艦', '大國', '...</td>\n",
       "      <td>['美國', '傳統', '船艦', '大國', '歷史', '時候', '美國', '發明...</td>\n",
       "      <td>[NerToken(word='美國', ner='GPE', idx=(0, 2)), N...</td>\n",
       "      <td>[('美國', 'Nc'), ('傳統', 'Na'), ('上', 'Ng'), ('就'...</td>\n",
       "      <td>https://www.ptt.cc/bbs/Military/M.1744683140.A...</td>\n",
       "      <td>NaN</td>\n",
       "    </tr>\n",
       "    <tr>\n",
       "      <th>257</th>\n",
       "      <td>Military_04-15_45</td>\n",
       "      <td>2025-04-15</td>\n",
       "      <td>軍事</td>\n",
       "      <td>Re: [新聞]  美軍工承包商現身披露：數千家已倒閉</td>\n",
       "      <td>恕刪部分，純分享補充熱騰騰的新聞，是關於南韓的韓華海洋收購費城造船廠報導中引述共同民主黨議員...</td>\n",
       "      <td>暫無</td>\n",
       "      <td>暫無</td>\n",
       "      <td>[('造船廠', 3), ('造船業', 3), ('南韓', 2), ('議員', 2),...</td>\n",
       "      <td>['恕', '刪', '部分', '，', '純', '分享', '補充', '熱騰騰', ...</td>\n",
       "      <td>['新聞', '南韓', '韓華', '海洋', '費城', '造船廠', '民主黨', '...</td>\n",
       "      <td>[NerToken(word='南韓', ner='GPE', idx=(20, 22)),...</td>\n",
       "      <td>[('恕', 'Na'), ('刪', 'VC'), ('部分', 'Neqa'), ('，...</td>\n",
       "      <td>https://www.ptt.cc/bbs/Military/M.1744687113.A...</td>\n",
       "      <td>NaN</td>\n",
       "    </tr>\n",
       "    <tr>\n",
       "      <th>258</th>\n",
       "      <td>Military_04-15_46</td>\n",
       "      <td>2025-04-15</td>\n",
       "      <td>軍事</td>\n",
       "      <td>Re: [新聞]  美軍工承包商現身披露：數千家已倒閉</td>\n",
       "      <td>過去一百年，論科技研發與工業生產在單一領域裡，美國不見得都是最強的即使是在二戰到冷戰這段美國...</td>\n",
       "      <td>暫無</td>\n",
       "      <td>暫無</td>\n",
       "      <td>[('美國', 12), ('領域', 6), ('資本', 6), ('能力', 4), ...</td>\n",
       "      <td>['過去', '一百', '年', '，', '論', '科技', '研發', '與', '...</td>\n",
       "      <td>['科技', '工業', '領域', '美國', '冷戰', '美國', '國力', '時期...</td>\n",
       "      <td>[NerToken(word='一百年', ner='DATE', idx=(2, 5)),...</td>\n",
       "      <td>[('過去', 'Nd'), ('一百', 'Neu'), ('年', 'Nf'), ('，...</td>\n",
       "      <td>https://www.ptt.cc/bbs/Military/M.1744695203.A...</td>\n",
       "      <td>NaN</td>\n",
       "    </tr>\n",
       "    <tr>\n",
       "      <th>259</th>\n",
       "      <td>Military_04-15_47</td>\n",
       "      <td>2025-04-15</td>\n",
       "      <td>軍事</td>\n",
       "      <td>中華電聯手Astranis 打造台灣首顆專屬衛星</td>\n",
       "      <td>中華電信15日宣布與美國Astranis衛星公司策略合作，引進其第三代 MicroGEO 衛...</td>\n",
       "      <td>暫無</td>\n",
       "      <td>暫無</td>\n",
       "      <td>[('衛星', 4), ('台灣', 2), ('中華', 1), ('電信', 1), (...</td>\n",
       "      <td>['中華', '電信', '15日', '宣布', '與', '美國', 'Astranis...</td>\n",
       "      <td>['中華', '電信', '美國', '衛星', '公司', '策略', '衛星', '高效...</td>\n",
       "      <td>[NerToken(word='中華電信', ner='ORG', idx=(0, 4)),...</td>\n",
       "      <td>[('中華', 'Nc'), ('電信', 'Na'), ('15日', 'Neu'), (...</td>\n",
       "      <td>https://www.ptt.cc/bbs/Military/M.1744695340.A...</td>\n",
       "      <td>NaN</td>\n",
       "    </tr>\n",
       "    <tr>\n",
       "      <th>260</th>\n",
       "      <td>Military_04-15_48</td>\n",
       "      <td>2025-04-15</td>\n",
       "      <td>軍事</td>\n",
       "      <td>[分享] 印太司令評估台海衝突會有50萬人死亡</td>\n",
       "      <td>印太司令部司令上禮拜四在參議院軍事委員會聽證會上概述如果西太平洋爆發全面衝突後的風險當被問及...</td>\n",
       "      <td>暫無</td>\n",
       "      <td>暫無</td>\n",
       "      <td>[('美國', 4), ('中國', 4), ('軍事', 3), ('台灣', 3), (...</td>\n",
       "      <td>['印太', '司令部', '司令', '上', '禮拜四', '在', '參議院', '軍...</td>\n",
       "      <td>['印太', '司令部', '司令', '參議院', '軍事', '委員會', '聽證會',...</td>\n",
       "      <td>[NerToken(word='印太司令部', ner='ORG', idx=(0, 5))...</td>\n",
       "      <td>[('印太', 'Nc'), ('司令部', 'Nc'), ('司令', 'Na'), ('...</td>\n",
       "      <td>https://www.ptt.cc/bbs/Military/M.1744695511.A...</td>\n",
       "      <td>NaN</td>\n",
       "    </tr>\n",
       "    <tr>\n",
       "      <th>261</th>\n",
       "      <td>Military_04-15_49</td>\n",
       "      <td>2025-04-15</td>\n",
       "      <td>軍事</td>\n",
       "      <td>Re: [新聞]  美軍工承包商現身披露：數千家已倒閉</td>\n",
       "      <td>台灣也有類似的問題產業單一且集中化基本上扣掉內需產業最強大且高利潤並具備規模性的就是半導體供...</td>\n",
       "      <td>暫無</td>\n",
       "      <td>暫無</td>\n",
       "      <td>[('產業', 3), ('人才', 3), ('台灣', 2), ('薪水', 2), (...</td>\n",
       "      <td>['台灣', '也', '有', '類似', '的', '問題', '產業', '單一', ...</td>\n",
       "      <td>['台灣', '問題', '產業', '基本', '內需', '產業', '利潤', '規模...</td>\n",
       "      <td>[NerToken(word='台灣', ner='GPE', idx=(0, 2)), N...</td>\n",
       "      <td>[('台灣', 'Nc'), ('也', 'D'), ('有', 'V_2'), ('類似'...</td>\n",
       "      <td>https://www.ptt.cc/bbs/Military/M.1744696457.A...</td>\n",
       "      <td>NaN</td>\n",
       "    </tr>\n",
       "    <tr>\n",
       "      <th>262</th>\n",
       "      <td>Military_04-15_50</td>\n",
       "      <td>2025-04-15</td>\n",
       "      <td>軍事</td>\n",
       "      <td>[新聞] 數量足造數萬枚導彈! 香港海關查獲25噸「</td>\n",
       "      <td>原文來源：原文摘要：數量足造數萬枚導彈! 香港海關查獲25噸「銻金屬」 走私鋁箔遮蔽擬運美國...</td>\n",
       "      <td>暫無</td>\n",
       "      <td>暫無</td>\n",
       "      <td>[('香港', 4), ('海關', 4), ('金屬', 3), ('美國', 3), (...</td>\n",
       "      <td>['原文', '來源', '：', '原文', '摘要', '：', '數量', '足造',...</td>\n",
       "      <td>['原文', '來源', '原文', '摘要', '數量', '導彈', '香港', '海關...</td>\n",
       "      <td>[NerToken(word='25噸', ner='QUANTITY', idx=(27,...</td>\n",
       "      <td>[('原文', 'Na'), ('來源', 'Na'), ('：', 'COLONCATEG...</td>\n",
       "      <td>https://www.ptt.cc/bbs/Military/M.1744700290.A...</td>\n",
       "      <td>NaN</td>\n",
       "    </tr>\n",
       "    <tr>\n",
       "      <th>263</th>\n",
       "      <td>Military_04-15_51</td>\n",
       "      <td>2025-04-15</td>\n",
       "      <td>軍事</td>\n",
       "      <td>[情報] 烏軍官方殲敵統計&amp;情報數則 (25/4/15)</td>\n",
       "      <td>[統計部分]自22/2/24到25/4/15以來的俄軍損失統計人員：約935160名 (+1...</td>\n",
       "      <td>暫無</td>\n",
       "      <td>暫無</td>\n",
       "      <td>[('俄軍', 6), ('前線', 3), ('烏克蘭', 3), ('歐盟', 3), ...</td>\n",
       "      <td>['[', '統計', '部分', ']', '自', '22/2/24', '到', '2...</td>\n",
       "      <td>['統計', '俄軍', '統計', '人員', '定翼機', '旋翼機', '坦克', '...</td>\n",
       "      <td>[NerToken(word='俄軍', ner='ORG', idx=(25, 27)),...</td>\n",
       "      <td>[('[', 'PARENTHESISCATEGORY'), ('統計', 'Na'), (...</td>\n",
       "      <td>https://www.ptt.cc/bbs/Military/M.1744702265.A...</td>\n",
       "      <td>NaN</td>\n",
       "    </tr>\n",
       "    <tr>\n",
       "      <th>264</th>\n",
       "      <td>Military_04-15_52</td>\n",
       "      <td>2025-04-15</td>\n",
       "      <td>軍事</td>\n",
       "      <td>[新聞] 總統府、士林憲兵隊士官集體拍投降片下</td>\n",
       "      <td>來源：Ettoday標題：中國人不打中國人！總統府、士林憲兵隊士官集體拍投降片下場曝網址：內...</td>\n",
       "      <td>暫無</td>\n",
       "      <td>暫無</td>\n",
       "      <td>[('士官', 10), ('中國人', 6), ('影片', 5), ('李姓', 5),...</td>\n",
       "      <td>['來源', '：', 'Ettoday', '標題', '：', '中國人', '不', ...</td>\n",
       "      <td>['來源', '標題', '中國人', '中國人', '總統府', '士林', '憲兵隊',...</td>\n",
       "      <td>[NerToken(word='y', ner='GPE', idx=(9, 10)), N...</td>\n",
       "      <td>[('來源', 'Na'), ('：', 'COLONCATEGORY'), ('Ettod...</td>\n",
       "      <td>https://www.ptt.cc/bbs/Military/M.1744705641.A...</td>\n",
       "      <td>NaN</td>\n",
       "    </tr>\n",
       "    <tr>\n",
       "      <th>265</th>\n",
       "      <td>Military_04-15_53</td>\n",
       "      <td>2025-04-15</td>\n",
       "      <td>軍事</td>\n",
       "      <td>[分享] 被俘虜的中國戰俘參與烏克蘭的記者會</td>\n",
       "      <td>之前那兩名為俄羅斯作戰結果被烏克蘭俘虜的中國公民在昨天的記者會聲稱他們不是由中國政府派去參戰...</td>\n",
       "      <td>暫無</td>\n",
       "      <td>暫無</td>\n",
       "      <td>[('俄羅斯', 10), ('中國', 10), ('烏克蘭', 5), ('戰俘', 4...</td>\n",
       "      <td>['之前', '那', '兩', '名', '為', '俄羅斯', '作戰', '結果', ...</td>\n",
       "      <td>['俄羅斯', '結果', '烏克蘭', '中國', '公民', '記者會', '中國', ...</td>\n",
       "      <td>[NerToken(word='兩', ner='CARDINAL', idx=(3, 4)...</td>\n",
       "      <td>[('之前', 'Nd'), ('那', 'Nep'), ('兩', 'Neu'), ('名...</td>\n",
       "      <td>https://www.ptt.cc/bbs/Military/M.1744706043.A...</td>\n",
       "      <td>NaN</td>\n",
       "    </tr>\n",
       "    <tr>\n",
       "      <th>266</th>\n",
       "      <td>Military_04-15_54</td>\n",
       "      <td>2025-04-15</td>\n",
       "      <td>軍事</td>\n",
       "      <td>[新聞] 川普：俄烏爆發戰爭 蒲亭、拜登和澤倫斯</td>\n",
       "      <td>來源：中央社標題：川普：俄烏爆發戰爭 蒲亭、拜登和澤倫斯基都要負責網址：內文:（中央社華盛頓...</td>\n",
       "      <td>暫無</td>\n",
       "      <td>暫無</td>\n",
       "      <td>[('澤倫斯基', 10), ('川普', 7), ('戰爭', 6), ('總統', 5)...</td>\n",
       "      <td>['來源', '：', '中央社', '標題', '：', '川普', '：', '俄烏',...</td>\n",
       "      <td>['來源', '中央社', '標題', '川普', '俄烏', '戰爭', '蒲亭', '拜...</td>\n",
       "      <td>[NerToken(word='中央社', ner='ORG', idx=(3, 6)), ...</td>\n",
       "      <td>[('來源', 'Na'), ('：', 'COLONCATEGORY'), ('中央社',...</td>\n",
       "      <td>https://www.ptt.cc/bbs/Military/M.1744709393.A...</td>\n",
       "      <td>NaN</td>\n",
       "    </tr>\n",
       "    <tr>\n",
       "      <th>267</th>\n",
       "      <td>Military_04-15_55</td>\n",
       "      <td>2025-04-15</td>\n",
       "      <td>軍事</td>\n",
       "      <td>[新聞] 在烏被俘中國人召開記者會：\"被俄騙了\"</td>\n",
       "      <td>朝鮮日報 記者鄭喆煥▲ 14日，近期在烏克蘭東部頓涅茨克以俄軍成員身份展開戰鬥時被烏克蘭軍隊...</td>\n",
       "      <td>暫無</td>\n",
       "      <td>暫無</td>\n",
       "      <td>[('烏克蘭', 12), ('俄軍', 12), ('中國', 8), ('王某', 7)...</td>\n",
       "      <td>['朝鮮日報', ' ', '記者', '鄭喆煥', '▲ 14日', '，', '近期',...</td>\n",
       "      <td>['朝鮮日報', '記者', '鄭喆煥', '烏克蘭', '頓涅茨克', '俄軍', '成員...</td>\n",
       "      <td>[NerToken(word='朝鮮日報', ner='ORG', idx=(0, 4)),...</td>\n",
       "      <td>[('朝鮮日報', 'Nb'), (' ', 'WHITESPACE'), ('記者', '...</td>\n",
       "      <td>https://www.ptt.cc/bbs/Military/M.1744709845.A...</td>\n",
       "      <td>NaN</td>\n",
       "    </tr>\n",
       "  </tbody>\n",
       "</table>\n",
       "</div>"
      ],
      "text/plain": [
       "               item_id        date category                            title  \\\n",
       "229  Military_04-15_17  2025-04-15       軍事         [新聞] 關指部聯兵營下車戰鬥演練加入反無人機應   \n",
       "230  Military_04-15_18  2025-04-15       軍事       [新聞] 韓國KF-21合作沒學到教訓？印尼疑找到新   \n",
       "231  Military_04-15_19  2025-04-15       軍事           [情報] 范斯指責澤倫斯基因為他宣稱美偏袒俄   \n",
       "232  Military_04-15_20  2025-04-15       軍事      Re: [情報] 川普拒絕澤倫斯基提出購買愛國者的需求   \n",
       "233  Military_04-15_21  2025-04-15       軍事         [討論] 中美開戰  美國高科技會輸給中國產能嗎   \n",
       "234  Military_04-15_22  2025-04-15       軍事            [新聞] 川普計畫削減國務院將近一半的經費   \n",
       "235  Military_04-15_23  2025-04-15       軍事            [新聞] 多位幕僚敦促川普對俄採更強硬立場   \n",
       "236  Military_04-15_24  2025-04-15       軍事           [新聞] 抓共諜變共諜！五星旗飄揚士林憲兵隊   \n",
       "237  Military_04-15_25  2025-04-15       軍事      Re: [情報] 川普拒絕澤倫斯基提出購買愛國者的需求   \n",
       "238  Military_04-15_26  2025-04-15       軍事       Re: [新聞] 抓共諜變共諜！五星旗飄揚士林憲兵隊   \n",
       "239  Military_04-15_27  2025-04-15       軍事      Re: [情報] 川普拒絕澤倫斯基提出購買愛國者的需求   \n",
       "240  Military_04-15_28  2025-04-15       軍事      Re: [情報] 川普拒絕澤倫斯基提出購買愛國者的需求   \n",
       "252  Military_04-15_40  2025-04-15       軍事  [情報] 瑞士計畫採購4~5套 IRIS-T SLM 防空系統   \n",
       "253  Military_04-15_41  2025-04-15       軍事          [情報] 川普拒絕澤倫斯基提出購買愛國者的需求   \n",
       "254  Military_04-15_42  2025-04-15       軍事          [分享] 被塞進152mm粗管的大口(徑)郊狼   \n",
       "255  Military_04-15_43  2025-04-15       軍事                 [情報] 日本開始建造新型巡邏艦   \n",
       "256  Military_04-15_44  2025-04-15       軍事      Re: [新聞]  美軍工承包商現身披露：數千家已倒閉   \n",
       "257  Military_04-15_45  2025-04-15       軍事      Re: [新聞]  美軍工承包商現身披露：數千家已倒閉   \n",
       "258  Military_04-15_46  2025-04-15       軍事      Re: [新聞]  美軍工承包商現身披露：數千家已倒閉   \n",
       "259  Military_04-15_47  2025-04-15       軍事         中華電聯手Astranis 打造台灣首顆專屬衛星   \n",
       "260  Military_04-15_48  2025-04-15       軍事          [分享] 印太司令評估台海衝突會有50萬人死亡   \n",
       "261  Military_04-15_49  2025-04-15       軍事      Re: [新聞]  美軍工承包商現身披露：數千家已倒閉   \n",
       "262  Military_04-15_50  2025-04-15       軍事       [新聞] 數量足造數萬枚導彈! 香港海關查獲25噸「   \n",
       "263  Military_04-15_51  2025-04-15       軍事     [情報] 烏軍官方殲敵統計&情報數則 (25/4/15)   \n",
       "264  Military_04-15_52  2025-04-15       軍事          [新聞] 總統府、士林憲兵隊士官集體拍投降片下   \n",
       "265  Military_04-15_53  2025-04-15       軍事           [分享] 被俘虜的中國戰俘參與烏克蘭的記者會   \n",
       "266  Military_04-15_54  2025-04-15       軍事         [新聞] 川普：俄烏爆發戰爭 蒲亭、拜登和澤倫斯   \n",
       "267  Military_04-15_55  2025-04-15       軍事         [新聞] 在烏被俘中國人召開記者會：\"被俄騙了\"   \n",
       "\n",
       "                                               content sentiment summary  \\\n",
       "229  原文來源：自由時報原文摘要：借鑑俄烏戰爭 關指部聯兵營下車戰鬥演練加入反無人機應處陸軍關渡地...        暫無      暫無   \n",
       "230  作者: doozia (天龍人) 看板: Gossiping標題: [新聞] 韓國KF-21...        暫無      暫無   \n",
       "231  出處根據路透社報道，美國副總統萬斯 4 月 15 日反駁了總統澤倫斯基的批評，萬斯稱指責華盛...        暫無      暫無   \n",
       "232  馬的!!  真讓我說中了!!!  但是完全高興不起來!!!     想當初川普自己在那邊說什...        暫無      暫無   \n",
       "233  就像二戰德國蘇聯一樣一個走精兵高科技路線 一個走人海產能路線最後德國的精兵高科技，輸給蘇聯人...        暫無      暫無   \n",
       "234  原文來源：華盛頓郵報原文摘要：根據上週流傳的一份內部備忘錄，川普政府提議將國務院以及美國國際...        暫無      暫無   \n",
       "235  原文來源：華爾街日報原文摘要：多位川普總統的高級幕僚建議他對俄羅斯尋求與烏克蘭達成和平的意願...        暫無      暫無   \n",
       "236  原文來源：原文摘要：（記者吳政峰／台北報導）近期偵辦共諜案有功的士林憲兵隊，驚爆內部有3名士...        暫無      暫無   \n",
       "237  我猜烏克蘭這筆訂單絕對不是付現，而是又是想用\"無償貸款\"這個方式購買。烏克蘭現在都還要到歐洲...        暫無      暫無   \n",
       "238  媒體報導太陽聯盟寶陽會副組長李慧馨共諜案共有7名現役軍人涉案，3名為士林憲兵隊士兵、3名是飛...        暫無      暫無   \n",
       "239  不用猜，當然你還是可以質疑他有沒有辦法籌到那筆錢澤倫斯基表示他告訴川普：「你們擁有很多愛國者...        暫無      暫無   \n",
       "240  川普有哪一句話質疑烏克蘭根本沒錢嗎? 沒有現在檯面上的資訊很明確烏克蘭說我要花錢買  川普說...        暫無      暫無   \n",
       "252  預計將於 2025 年第三季簽署地對空飛彈發射器的合約該系統將成為瑞士綜合防空系統的一部分可...        暫無      暫無   \n",
       "253  烏克蘭總統弗拉迪米爾·澤倫斯基表示，烏克蘭準備以150億鎂購買額外10套愛國者防空系統，他已...        暫無      暫無   \n",
       "254  TWZ今天出的跟進報導編輯獲雷松/RTX回應說這個不明彈藥就是他們的郊狼 Coyote 無人...        暫無      暫無   \n",
       "255  Japan starts production of a new fleet of OPV日...        暫無      暫無   \n",
       "256  美國傳統上就不是船艦大國。這篇有講解一些歷史。有提到WWII的時候，美國發明block-st...        暫無      暫無   \n",
       "257  恕刪部分，純分享補充熱騰騰的新聞，是關於南韓的韓華海洋收購費城造船廠報導中引述共同民主黨議員...        暫無      暫無   \n",
       "258  過去一百年，論科技研發與工業生產在單一領域裡，美國不見得都是最強的即使是在二戰到冷戰這段美國...        暫無      暫無   \n",
       "259  中華電信15日宣布與美國Astranis衛星公司策略合作，引進其第三代 MicroGEO 衛...        暫無      暫無   \n",
       "260  印太司令部司令上禮拜四在參議院軍事委員會聽證會上概述如果西太平洋爆發全面衝突後的風險當被問及...        暫無      暫無   \n",
       "261  台灣也有類似的問題產業單一且集中化基本上扣掉內需產業最強大且高利潤並具備規模性的就是半導體供...        暫無      暫無   \n",
       "262  原文來源：原文摘要：數量足造數萬枚導彈! 香港海關查獲25噸「銻金屬」 走私鋁箔遮蔽擬運美國...        暫無      暫無   \n",
       "263  [統計部分]自22/2/24到25/4/15以來的俄軍損失統計人員：約935160名 (+1...        暫無      暫無   \n",
       "264  來源：Ettoday標題：中國人不打中國人！總統府、士林憲兵隊士官集體拍投降片下場曝網址：內...        暫無      暫無   \n",
       "265  之前那兩名為俄羅斯作戰結果被烏克蘭俘虜的中國公民在昨天的記者會聲稱他們不是由中國政府派去參戰...        暫無      暫無   \n",
       "266  來源：中央社標題：川普：俄烏爆發戰爭 蒲亭、拜登和澤倫斯基都要負責網址：內文:（中央社華盛頓...        暫無      暫無   \n",
       "267  朝鮮日報 記者鄭喆煥▲ 14日，近期在烏克蘭東部頓涅茨克以俄軍成員身份展開戰鬥時被烏克蘭軍隊...        暫無      暫無   \n",
       "\n",
       "                                          top_key_freq  \\\n",
       "229  [('官兵', 6), ('部隊', 5), ('任務', 3), ('能力', 3), (...   \n",
       "230  [('印尼', 16), ('戰機', 11), ('土耳其', 7), ('潛艦', 5)...   \n",
       "231  [('萬斯', 9), ('美國', 8), ('俄羅斯', 6), ('政府', 4), ...   \n",
       "232  [('軍援', 3), ('川粉', 3), ('川普', 2), ('武器', 2), (...   \n",
       "233  [('德國', 2), ('蘇聯', 2), ('精兵', 2), ('高科技', 2), ...   \n",
       "234  [('國務院', 10), ('美國', 8), ('預算', 8), ('國際', 7),...   \n",
       "235  [('俄羅斯', 13), ('川普', 7), ('總統', 5), ('戰爭', 4),...   \n",
       "236  [('中共', 10), ('機密', 7), ('憲兵隊', 6), ('士官', 6),...   \n",
       "237  [('烏克蘭', 11), ('歐洲', 4), ('貸款', 3), ('法國', 3),...   \n",
       "238  [('官兵', 4), ('教育', 3), ('成效', 2), ('媒體', 1), (...   \n",
       "239  [('辦法', 1), ('錢澤倫斯基', 1), ('川普', 1), ('系統', 1)...   \n",
       "240  [('烏克蘭', 4), ('川普', 3), ('美國', 2), ('檯面', 1), ...   \n",
       "252  [('飛彈', 3), ('系統', 3), ('台灣', 3), ('發射器', 1), ...   \n",
       "253  [('烏克蘭', 3), ('川普', 3), ('總統', 2), ('澤倫斯基', 2)...   \n",
       "254  [('郊狼', 7), ('發射器', 3), ('雷松', 2), ('直昇機', 2),...   \n",
       "255  [('日本', 2), ('預警', 2), ('新型', 1), ('巡邏艦', 1), ...   \n",
       "256  [('美國', 6), ('日本', 5), ('模組', 4), ('製造業', 4), ...   \n",
       "257  [('造船廠', 3), ('造船業', 3), ('南韓', 2), ('議員', 2),...   \n",
       "258  [('美國', 12), ('領域', 6), ('資本', 6), ('能力', 4), ...   \n",
       "259  [('衛星', 4), ('台灣', 2), ('中華', 1), ('電信', 1), (...   \n",
       "260  [('美國', 4), ('中國', 4), ('軍事', 3), ('台灣', 3), (...   \n",
       "261  [('產業', 3), ('人才', 3), ('台灣', 2), ('薪水', 2), (...   \n",
       "262  [('香港', 4), ('海關', 4), ('金屬', 3), ('美國', 3), (...   \n",
       "263  [('俄軍', 6), ('前線', 3), ('烏克蘭', 3), ('歐盟', 3), ...   \n",
       "264  [('士官', 10), ('中國人', 6), ('影片', 5), ('李姓', 5),...   \n",
       "265  [('俄羅斯', 10), ('中國', 10), ('烏克蘭', 5), ('戰俘', 4...   \n",
       "266  [('澤倫斯基', 10), ('川普', 7), ('戰爭', 6), ('總統', 5)...   \n",
       "267  [('烏克蘭', 12), ('俄軍', 12), ('中國', 8), ('王某', 7)...   \n",
       "\n",
       "                                                tokens  \\\n",
       "229  ['原文', '來源', '：', '自由時報', '原文', '摘要', '：', '借鑑...   \n",
       "230  ['作者', ':', ' doozia', ' ', '(', '天龍人)', ' ', ...   \n",
       "231  ['出處', '根據', '路透社', '報道', '，', '美國', '副總統', '萬...   \n",
       "232  ['馬', '的!!', '  ', '真', '讓', '我', '說', '中', '了...   \n",
       "233  ['就', '像', '二', '戰', '德國', '蘇聯', '一樣', '一', '個...   \n",
       "234  ['原文', '來源', '：', '華盛頓郵報', '原文', '摘要', '：', '根...   \n",
       "235  ['原文', '來源', '：', '華爾街日報', '原文', '摘要', '：', '多...   \n",
       "236  ['原文', '來源', '：', '原文', '摘要', '：', '（', '記者', ...   \n",
       "237  ['我', '猜', '烏克蘭', '這', '筆', '訂單', '絕對', '不', '...   \n",
       "238  ['媒體', '報導', '太陽', '聯盟', '寶陽會', '副組長', '李慧馨', ...   \n",
       "239  ['不用', '猜', '，', '當然', '你', '還是', '可以', '質疑', ...   \n",
       "240  ['川普', '有', '哪', '一', '句', '話', '質疑', '烏克蘭', '...   \n",
       "252  ['預計', '將', '於', ' 2025 ', '年', '第三季', '簽署', '...   \n",
       "253  ['烏克蘭', '總統', '弗拉迪米爾', '·', '澤倫斯基', '表示', '，',...   \n",
       "254  ['TWZ', '今天', '出', '的', '跟進', '報導', '編輯', '獲雷松...   \n",
       "255  ['Japan', ' starts', ' production', ' of', ' a...   \n",
       "256  ['美國', '傳統', '上', '就', '不', '是', '船艦', '大國', '...   \n",
       "257  ['恕', '刪', '部分', '，', '純', '分享', '補充', '熱騰騰', ...   \n",
       "258  ['過去', '一百', '年', '，', '論', '科技', '研發', '與', '...   \n",
       "259  ['中華', '電信', '15日', '宣布', '與', '美國', 'Astranis...   \n",
       "260  ['印太', '司令部', '司令', '上', '禮拜四', '在', '參議院', '軍...   \n",
       "261  ['台灣', '也', '有', '類似', '的', '問題', '產業', '單一', ...   \n",
       "262  ['原文', '來源', '：', '原文', '摘要', '：', '數量', '足造',...   \n",
       "263  ['[', '統計', '部分', ']', '自', '22/2/24', '到', '2...   \n",
       "264  ['來源', '：', 'Ettoday', '標題', '：', '中國人', '不', ...   \n",
       "265  ['之前', '那', '兩', '名', '為', '俄羅斯', '作戰', '結果', ...   \n",
       "266  ['來源', '：', '中央社', '標題', '：', '川普', '：', '俄烏',...   \n",
       "267  ['朝鮮日報', ' ', '記者', '鄭喆煥', '▲ 14日', '，', '近期',...   \n",
       "\n",
       "                                             tokens_v2  \\\n",
       "229  ['原文', '來源', '自由時報', '原文', '摘要', '俄烏', '戰爭', '...   \n",
       "230  ['作者', '天龍人)', '看板', '標題', '新聞', '韓國', '教訓', '...   \n",
       "231  ['出處', '路透社', '美國', '副總統', '萬斯', '總統', '澤倫斯基',...   \n",
       "232  ['川普', '軍援', '澤總', '川粉', '軍援', '以色列', '胡塞', '武...   \n",
       "233  ['德國', '蘇聯', '精兵', '高科技', '路線', '產能', '路線', '德...   \n",
       "234  ['原文', '來源', '華盛頓郵報', '原文', '摘要', '備忘錄', '川普',...   \n",
       "235  ['原文', '來源', '華爾街日報', '原文', '摘要', '川普', '總統', ...   \n",
       "236  ['原文', '來源', '原文', '摘要', '記者', '吳政峰', '台北', '共...   \n",
       "237  ['烏克蘭', '訂單', '貸款', '方式', '烏克蘭', '歐洲', '閒錢', '...   \n",
       "238  ['媒體', '太陽', '聯盟', '寶陽會', '副組長', '李慧馨', '共諜案',...   \n",
       "239  ['辦法', '錢澤倫斯基', '川普', '系統', '能力', '烏克蘭', '城市',...   \n",
       "240  ['川普', '烏克蘭', '檯面', '資訊', '烏克蘭', '川普', '川普', '...   \n",
       "252  ['飛彈', '發射器', '合約', '系統', '瑞士', '系統', '台灣', '平...   \n",
       "253  ['烏克蘭', '總統', '弗拉迪米爾', '澤倫斯基', '烏克蘭', '系統', '美...   \n",
       "254  ['報導', '彈藥', '郊狼', '家族', '效力器', '短程', '郊狼', '郊...   \n",
       "255  ['日本', '新型', '巡邏艦', '動力', '航速', '甲板', '機庫', '人...   \n",
       "256  ['美國', '傳統', '船艦', '大國', '歷史', '時候', '美國', '發明...   \n",
       "257  ['新聞', '南韓', '韓華', '海洋', '費城', '造船廠', '民主黨', '...   \n",
       "258  ['科技', '工業', '領域', '美國', '冷戰', '美國', '國力', '時期...   \n",
       "259  ['中華', '電信', '美國', '衛星', '公司', '策略', '衛星', '高效...   \n",
       "260  ['印太', '司令部', '司令', '參議院', '軍事', '委員會', '聽證會',...   \n",
       "261  ['台灣', '問題', '產業', '基本', '內需', '產業', '利潤', '規模...   \n",
       "262  ['原文', '來源', '原文', '摘要', '數量', '導彈', '香港', '海關...   \n",
       "263  ['統計', '俄軍', '統計', '人員', '定翼機', '旋翼機', '坦克', '...   \n",
       "264  ['來源', '標題', '中國人', '中國人', '總統府', '士林', '憲兵隊',...   \n",
       "265  ['俄羅斯', '結果', '烏克蘭', '中國', '公民', '記者會', '中國', ...   \n",
       "266  ['來源', '中央社', '標題', '川普', '俄烏', '戰爭', '蒲亭', '拜...   \n",
       "267  ['朝鮮日報', '記者', '鄭喆煥', '烏克蘭', '頓涅茨克', '俄軍', '成員...   \n",
       "\n",
       "                                              entities  \\\n",
       "229  [NerToken(word='俄烏戰爭', ner='EVENT', idx=(16, 2...   \n",
       "230  [NerToken(word='韓國', ner='GPE', idx=(39, 41)),...   \n",
       "231  [NerToken(word='路透社', ner='ORG', idx=(4, 7)), ...   \n",
       "232  [NerToken(word='  ', ner='ORG', idx=(4, 6)), N...   \n",
       "233  [NerToken(word='二戰', ner='EVENT', idx=(2, 4)),...   \n",
       "234  [NerToken(word='華盛頓郵報', ner='ORG', idx=(5, 10)...   \n",
       "235  [NerToken(word='華爾街日報', ner='ORG', idx=(5, 10)...   \n",
       "236  [NerToken(word='吳政峰', ner='PERSON', idx=(13, 1...   \n",
       "237  [NerToken(word='烏克蘭', ner='GPE', idx=(2, 5)), ...   \n",
       "238  [NerToken(word='太陽聯盟寶陽會', ner='ORG', idx=(4, 1...   \n",
       "239  [NerToken(word='錢澤倫斯基', ner='PERSON', idx=(23,...   \n",
       "240  [NerToken(word='川普', ner='PERSON', idx=(0, 2))...   \n",
       "252  [NerToken(word='第三季', ner='DATE', idx=(11, 14)...   \n",
       "253  [NerToken(word='烏克蘭', ner='GPE', idx=(0, 3)), ...   \n",
       "254  [NerToken(word='TWZ', ner='PERSON', idx=(0, 3)...   \n",
       "255  [NerToken(word='日本', ner='GPE', idx=(45, 47)),...   \n",
       "256  [NerToken(word='美國', ner='GPE', idx=(0, 2)), N...   \n",
       "257  [NerToken(word='南韓', ner='GPE', idx=(20, 22)),...   \n",
       "258  [NerToken(word='一百年', ner='DATE', idx=(2, 5)),...   \n",
       "259  [NerToken(word='中華電信', ner='ORG', idx=(0, 4)),...   \n",
       "260  [NerToken(word='印太司令部', ner='ORG', idx=(0, 5))...   \n",
       "261  [NerToken(word='台灣', ner='GPE', idx=(0, 2)), N...   \n",
       "262  [NerToken(word='25噸', ner='QUANTITY', idx=(27,...   \n",
       "263  [NerToken(word='俄軍', ner='ORG', idx=(25, 27)),...   \n",
       "264  [NerToken(word='y', ner='GPE', idx=(9, 10)), N...   \n",
       "265  [NerToken(word='兩', ner='CARDINAL', idx=(3, 4)...   \n",
       "266  [NerToken(word='中央社', ner='ORG', idx=(3, 6)), ...   \n",
       "267  [NerToken(word='朝鮮日報', ner='ORG', idx=(0, 4)),...   \n",
       "\n",
       "                                             token_pos  \\\n",
       "229  [('原文', 'Na'), ('來源', 'Na'), ('：', 'COLONCATEG...   \n",
       "230  [('作者', 'Na'), (':', 'COLONCATEGORY'), (' dooz...   \n",
       "231  [('出處', 'Nc'), ('根據', 'P'), ('路透社', 'Nc'), ('報...   \n",
       "232  [('馬', 'I'), ('的!!', 'T'), ('  ', 'WHITESPACE'...   \n",
       "233  [('就', 'D'), ('像', 'P'), ('二', 'Neu'), ('戰', '...   \n",
       "234  [('原文', 'Na'), ('來源', 'Na'), ('：', 'COLONCATEG...   \n",
       "235  [('原文', 'Na'), ('來源', 'Na'), ('：', 'COLONCATEG...   \n",
       "236  [('原文', 'Na'), ('來源', 'Na'), ('：', 'COLONCATEG...   \n",
       "237  [('我', 'Nh'), ('猜', 'VE'), ('烏克蘭', 'Nc'), ('這'...   \n",
       "238  [('媒體', 'Na'), ('報導', 'VE'), ('太陽', 'Na'), ('聯...   \n",
       "239  [('不用', 'D'), ('猜', 'VE'), ('，', 'COMMACATEGOR...   \n",
       "240  [('川普', 'Nb'), ('有', 'V_2'), ('哪', 'Nep'), ('一...   \n",
       "252  [('預計', 'VE'), ('將', 'D'), ('於', 'P'), (' 2025...   \n",
       "253  [('烏克蘭', 'Nb'), ('總統', 'Na'), ('弗拉迪米爾', 'Nb'),...   \n",
       "254  [('TWZ', 'FW'), ('今天', 'Nd'), ('出', 'VC'), ('的...   \n",
       "255  [('Japan', 'FW'), (' starts', 'FW'), (' produc...   \n",
       "256  [('美國', 'Nc'), ('傳統', 'Na'), ('上', 'Ng'), ('就'...   \n",
       "257  [('恕', 'Na'), ('刪', 'VC'), ('部分', 'Neqa'), ('，...   \n",
       "258  [('過去', 'Nd'), ('一百', 'Neu'), ('年', 'Nf'), ('，...   \n",
       "259  [('中華', 'Nc'), ('電信', 'Na'), ('15日', 'Neu'), (...   \n",
       "260  [('印太', 'Nc'), ('司令部', 'Nc'), ('司令', 'Na'), ('...   \n",
       "261  [('台灣', 'Nc'), ('也', 'D'), ('有', 'V_2'), ('類似'...   \n",
       "262  [('原文', 'Na'), ('來源', 'Na'), ('：', 'COLONCATEG...   \n",
       "263  [('[', 'PARENTHESISCATEGORY'), ('統計', 'Na'), (...   \n",
       "264  [('來源', 'Na'), ('：', 'COLONCATEGORY'), ('Ettod...   \n",
       "265  [('之前', 'Nd'), ('那', 'Nep'), ('兩', 'Neu'), ('名...   \n",
       "266  [('來源', 'Na'), ('：', 'COLONCATEGORY'), ('中央社',...   \n",
       "267  [('朝鮮日報', 'Nb'), (' ', 'WHITESPACE'), ('記者', '...   \n",
       "\n",
       "                                                  link  photo_link  \n",
       "229  https://www.ptt.cc/bbs/Military/M.1744712767.A...         NaN  \n",
       "230  https://www.ptt.cc/bbs/Military/M.1744714134.A...         NaN  \n",
       "231  https://www.ptt.cc/bbs/Military/M.1744715721.A...         NaN  \n",
       "232  https://www.ptt.cc/bbs/Military/M.1744717067.A...         NaN  \n",
       "233  https://www.ptt.cc/bbs/Military/M.1744721760.A...         NaN  \n",
       "234  https://www.ptt.cc/bbs/Military/M.1744723371.A...         NaN  \n",
       "235  https://www.ptt.cc/bbs/Military/M.1744726164.A...         NaN  \n",
       "236  https://www.ptt.cc/bbs/Military/M.1744726168.A...         NaN  \n",
       "237  https://www.ptt.cc/bbs/Military/M.1744727452.A...         NaN  \n",
       "238  https://www.ptt.cc/bbs/Military/M.1744728140.A...         NaN  \n",
       "239  https://www.ptt.cc/bbs/Military/M.1744729111.A...         NaN  \n",
       "240  https://www.ptt.cc/bbs/Military/M.1744730687.A...         NaN  \n",
       "252  https://www.ptt.cc/bbs/Military/M.1744647027.A...         NaN  \n",
       "253  https://www.ptt.cc/bbs/Military/M.1744652383.A...         NaN  \n",
       "254  https://www.ptt.cc/bbs/Military/M.1744655807.A...         NaN  \n",
       "255  https://www.ptt.cc/bbs/Military/M.1744680258.A...         NaN  \n",
       "256  https://www.ptt.cc/bbs/Military/M.1744683140.A...         NaN  \n",
       "257  https://www.ptt.cc/bbs/Military/M.1744687113.A...         NaN  \n",
       "258  https://www.ptt.cc/bbs/Military/M.1744695203.A...         NaN  \n",
       "259  https://www.ptt.cc/bbs/Military/M.1744695340.A...         NaN  \n",
       "260  https://www.ptt.cc/bbs/Military/M.1744695511.A...         NaN  \n",
       "261  https://www.ptt.cc/bbs/Military/M.1744696457.A...         NaN  \n",
       "262  https://www.ptt.cc/bbs/Military/M.1744700290.A...         NaN  \n",
       "263  https://www.ptt.cc/bbs/Military/M.1744702265.A...         NaN  \n",
       "264  https://www.ptt.cc/bbs/Military/M.1744705641.A...         NaN  \n",
       "265  https://www.ptt.cc/bbs/Military/M.1744706043.A...         NaN  \n",
       "266  https://www.ptt.cc/bbs/Military/M.1744709393.A...         NaN  \n",
       "267  https://www.ptt.cc/bbs/Military/M.1744709845.A...         NaN  "
      ]
     },
     "execution_count": 55,
     "metadata": {},
     "output_type": "execute_result"
    }
   ],
   "source": [
    "df[df['date'] == '2025-04-15']"
   ]
  },
  {
   "cell_type": "code",
   "execution_count": 56,
   "metadata": {},
   "outputs": [
    {
     "data": {
      "text/plain": [
       "0"
      ]
     },
     "execution_count": 56,
     "metadata": {},
     "output_type": "execute_result"
    }
   ],
   "source": [
    "len(df[df['date'] == '2025-04-13'])"
   ]
  },
  {
   "cell_type": "code",
   "execution_count": null,
   "metadata": {},
   "outputs": [],
   "source": []
  },
  {
   "cell_type": "markdown",
   "metadata": {},
   "source": [
    "### Find news with date greater than the start date and less than the end date"
   ]
  },
  {
   "cell_type": "code",
   "execution_count": 59,
   "metadata": {},
   "outputs": [
    {
     "data": {
      "text/plain": [
       "256"
      ]
     },
     "execution_count": 59,
     "metadata": {},
     "output_type": "execute_result"
    }
   ],
   "source": [
    "df_interval = df[(df['date'] >= '2025-04-14') & (df['date'] <= '2025-04-16')]\n",
    "len(df_interval )"
   ]
  },
  {
   "cell_type": "code",
   "execution_count": 58,
   "metadata": {},
   "outputs": [
    {
     "data": {
      "text/plain": [
       "265"
      ]
     },
     "execution_count": 58,
     "metadata": {},
     "output_type": "execute_result"
    }
   ],
   "source": [
    "# same result using query\n",
    "df_interval = df.query(\"date >= '2024-10-16' & date <= '2025-04-16'\")\n",
    "len(df_interval )"
   ]
  },
  {
   "cell_type": "code",
   "execution_count": null,
   "metadata": {},
   "outputs": [],
   "source": []
  },
  {
   "cell_type": "markdown",
   "metadata": {},
   "source": [
    "# date time"
   ]
  },
  {
   "cell_type": "code",
   "execution_count": 19,
   "metadata": {},
   "outputs": [],
   "source": [
    "from datetime import datetime, timedelta, date"
   ]
  },
  {
   "cell_type": "markdown",
   "metadata": {},
   "source": [
    "### datetime and  timedelta"
   ]
  },
  {
   "cell_type": "code",
   "execution_count": 20,
   "metadata": {},
   "outputs": [],
   "source": [
    "# You can assign a specific end_date as you like."
   ]
  },
  {
   "cell_type": "code",
   "execution_count": 21,
   "metadata": {},
   "outputs": [],
   "source": [
    "end_date = date(2025,4,16)"
   ]
  },
  {
   "cell_type": "code",
   "execution_count": 22,
   "metadata": {},
   "outputs": [
    {
     "data": {
      "text/plain": [
       "datetime.date(2025, 4, 16)"
      ]
     },
     "execution_count": 22,
     "metadata": {},
     "output_type": "execute_result"
    }
   ],
   "source": [
    "end_date "
   ]
  },
  {
   "cell_type": "code",
   "execution_count": 23,
   "metadata": {},
   "outputs": [
    {
     "data": {
      "text/plain": [
       "datetime.timedelta(days=10)"
      ]
     },
     "execution_count": 23,
     "metadata": {},
     "output_type": "execute_result"
    }
   ],
   "source": [
    "timedelta(weeks=1,days=3)"
   ]
  },
  {
   "cell_type": "code",
   "execution_count": 24,
   "metadata": {},
   "outputs": [
    {
     "data": {
      "text/plain": [
       "datetime.timedelta(days=3)"
      ]
     },
     "execution_count": 24,
     "metadata": {},
     "output_type": "execute_result"
    }
   ],
   "source": [
    "timedelta(days=3)"
   ]
  },
  {
   "cell_type": "code",
   "execution_count": 25,
   "metadata": {},
   "outputs": [],
   "source": [
    "# Calculate the start date "
   ]
  },
  {
   "cell_type": "code",
   "execution_count": 26,
   "metadata": {},
   "outputs": [],
   "source": [
    "start_date = end_date  - timedelta(weeks=1,days=3)"
   ]
  },
  {
   "cell_type": "code",
   "execution_count": 27,
   "metadata": {},
   "outputs": [
    {
     "data": {
      "text/plain": [
       "datetime.date(2025, 4, 6)"
      ]
     },
     "execution_count": 27,
     "metadata": {},
     "output_type": "execute_result"
    }
   ],
   "source": [
    "start_date "
   ]
  },
  {
   "cell_type": "code",
   "execution_count": 28,
   "metadata": {},
   "outputs": [],
   "source": [
    "# convert date format into string format"
   ]
  },
  {
   "cell_type": "code",
   "execution_count": 29,
   "metadata": {},
   "outputs": [],
   "source": [
    "start_date = start_date.strftime('%Y-%m-%d')"
   ]
  },
  {
   "cell_type": "code",
   "execution_count": 30,
   "metadata": {},
   "outputs": [
    {
     "data": {
      "text/plain": [
       "'2025-04-06'"
      ]
     },
     "execution_count": 30,
     "metadata": {},
     "output_type": "execute_result"
    }
   ],
   "source": [
    "start_date "
   ]
  },
  {
   "cell_type": "code",
   "execution_count": null,
   "metadata": {},
   "outputs": [],
   "source": []
  },
  {
   "cell_type": "code",
   "execution_count": null,
   "metadata": {},
   "outputs": [],
   "source": []
  },
  {
   "cell_type": "code",
   "execution_count": 31,
   "metadata": {},
   "outputs": [],
   "source": [
    "# end_date can be today."
   ]
  },
  {
   "cell_type": "code",
   "execution_count": 32,
   "metadata": {},
   "outputs": [
    {
     "data": {
      "text/plain": [
       "datetime.date(2025, 4, 17)"
      ]
     },
     "execution_count": 32,
     "metadata": {},
     "output_type": "execute_result"
    }
   ],
   "source": [
    "date.today()"
   ]
  },
  {
   "cell_type": "code",
   "execution_count": 33,
   "metadata": {},
   "outputs": [],
   "source": [
    "end_date = date.today()"
   ]
  },
  {
   "cell_type": "code",
   "execution_count": 34,
   "metadata": {},
   "outputs": [],
   "source": [
    "start_date = date.today() - timedelta(weeks=2,days=6)"
   ]
  },
  {
   "cell_type": "code",
   "execution_count": 35,
   "metadata": {},
   "outputs": [
    {
     "data": {
      "text/plain": [
       "datetime.date(2025, 3, 28)"
      ]
     },
     "execution_count": 35,
     "metadata": {},
     "output_type": "execute_result"
    }
   ],
   "source": [
    "start_date"
   ]
  },
  {
   "cell_type": "code",
   "execution_count": 36,
   "metadata": {},
   "outputs": [
    {
     "data": {
      "text/plain": [
       "datetime.date(2025, 3, 8)"
      ]
     },
     "execution_count": 36,
     "metadata": {},
     "output_type": "execute_result"
    }
   ],
   "source": [
    "start_date = date.today() - timedelta(weeks=5,days=5)\n",
    "start_date"
   ]
  },
  {
   "cell_type": "code",
   "execution_count": null,
   "metadata": {},
   "outputs": [],
   "source": []
  },
  {
   "cell_type": "markdown",
   "metadata": {},
   "source": [
    "### How to calculate the date of previous 2 weeks"
   ]
  },
  {
   "cell_type": "code",
   "execution_count": 37,
   "metadata": {},
   "outputs": [
    {
     "data": {
      "text/plain": [
       "datetime.timedelta(days=14)"
      ]
     },
     "execution_count": 37,
     "metadata": {},
     "output_type": "execute_result"
    }
   ],
   "source": [
    "timedelta(weeks=2)"
   ]
  },
  {
   "cell_type": "code",
   "execution_count": 38,
   "metadata": {},
   "outputs": [],
   "source": [
    "# end date: the date of the latest record of news\n",
    "end_date = df.date.max()"
   ]
  },
  {
   "cell_type": "code",
   "execution_count": 39,
   "metadata": {},
   "outputs": [
    {
     "data": {
      "text/plain": [
       "'2025-04-16'"
      ]
     },
     "execution_count": 39,
     "metadata": {},
     "output_type": "execute_result"
    }
   ],
   "source": [
    "\n",
    "end_date"
   ]
  },
  {
   "cell_type": "code",
   "execution_count": 40,
   "metadata": {},
   "outputs": [
    {
     "data": {
      "text/plain": [
       "datetime.datetime(2025, 4, 16, 0, 0)"
      ]
     },
     "execution_count": 40,
     "metadata": {},
     "output_type": "execute_result"
    }
   ],
   "source": [
    "datetime.strptime( end_date ,'%Y-%m-%d')"
   ]
  },
  {
   "cell_type": "code",
   "execution_count": 41,
   "metadata": {},
   "outputs": [
    {
     "data": {
      "text/plain": [
       "datetime.date(2025, 4, 16)"
      ]
     },
     "execution_count": 41,
     "metadata": {},
     "output_type": "execute_result"
    }
   ],
   "source": [
    "datetime.strptime( end_date , '%Y-%m-%d').date() "
   ]
  },
  {
   "cell_type": "code",
   "execution_count": 42,
   "metadata": {},
   "outputs": [
    {
     "data": {
      "text/plain": [
       "datetime.date(2025, 4, 2)"
      ]
     },
     "execution_count": 42,
     "metadata": {},
     "output_type": "execute_result"
    }
   ],
   "source": [
    "weeks=2\n",
    "datetime.strptime( end_date , '%Y-%m-%d').date() - timedelta(weeks=weeks)"
   ]
  },
  {
   "cell_type": "code",
   "execution_count": 43,
   "metadata": {},
   "outputs": [],
   "source": [
    "# start date\n",
    "start_date = (datetime.strptime( end_date , '%Y-%m-%d').date() - timedelta(weeks=weeks)).strftime('%Y-%m-%d')"
   ]
  },
  {
   "cell_type": "code",
   "execution_count": 44,
   "metadata": {},
   "outputs": [
    {
     "data": {
      "text/plain": [
       "datetime.date(2025, 4, 2)"
      ]
     },
     "execution_count": 44,
     "metadata": {},
     "output_type": "execute_result"
    }
   ],
   "source": [
    "datetime.strptime( end_date , '%Y-%m-%d').date() - timedelta(weeks=weeks)"
   ]
  },
  {
   "cell_type": "code",
   "execution_count": 45,
   "metadata": {},
   "outputs": [
    {
     "data": {
      "text/plain": [
       "'2025-04-02'"
      ]
     },
     "execution_count": 45,
     "metadata": {},
     "output_type": "execute_result"
    }
   ],
   "source": [
    "(datetime.strptime( end_date , '%Y-%m-%d').date() - timedelta(weeks=weeks)).strftime('%Y-%m-%d')"
   ]
  },
  {
   "cell_type": "markdown",
   "metadata": {},
   "source": [
    "# Calculate time duration of news dataset\n",
    "\n",
    "the duration of data"
   ]
  },
  {
   "cell_type": "code",
   "execution_count": 46,
   "metadata": {},
   "outputs": [
    {
     "data": {
      "text/plain": [
       "'2024-06-27'"
      ]
     },
     "execution_count": 46,
     "metadata": {},
     "output_type": "execute_result"
    }
   ],
   "source": [
    "df.date.min()"
   ]
  },
  {
   "cell_type": "code",
   "execution_count": 47,
   "metadata": {},
   "outputs": [
    {
     "data": {
      "text/plain": [
       "'2025-04-16'"
      ]
     },
     "execution_count": 47,
     "metadata": {},
     "output_type": "execute_result"
    }
   ],
   "source": [
    "df.date.max()"
   ]
  },
  {
   "cell_type": "code",
   "execution_count": null,
   "metadata": {},
   "outputs": [],
   "source": []
  },
  {
   "cell_type": "code",
   "execution_count": 60,
   "metadata": {},
   "outputs": [
    {
     "name": "stdout",
     "output_type": "stream",
     "text": [
      "2024-06-27 00:00:00 2025-04-16 00:00:00\n"
     ]
    }
   ],
   "source": [
    "today_year = datetime.now().year\n",
    "end_date = f\"{today_year}-{end_date}\"  # 將 '10-14' → '2025-10-14'\n",
    "\n",
    "start_date = datetime.strptime(str(df.date.min()), '%Y-%m-%d')\n",
    "end_date = datetime.strptime(str(df.date.max()), '%Y-%m-%d')\n",
    "print(start_date, end_date)"
   ]
  },
  {
   "cell_type": "code",
   "execution_count": 61,
   "metadata": {},
   "outputs": [],
   "source": [
    "duration = end_date  - start_date"
   ]
  },
  {
   "cell_type": "code",
   "execution_count": 62,
   "metadata": {},
   "outputs": [
    {
     "data": {
      "text/plain": [
       "datetime.timedelta(days=293)"
      ]
     },
     "execution_count": 62,
     "metadata": {},
     "output_type": "execute_result"
    }
   ],
   "source": [
    "duration"
   ]
  },
  {
   "cell_type": "code",
   "execution_count": 63,
   "metadata": {
    "scrolled": true
   },
   "outputs": [
    {
     "data": {
      "text/plain": [
       "293"
      ]
     },
     "execution_count": 63,
     "metadata": {},
     "output_type": "execute_result"
    }
   ],
   "source": [
    "duration.days"
   ]
  },
  {
   "cell_type": "code",
   "execution_count": null,
   "metadata": {},
   "outputs": [],
   "source": []
  },
  {
   "cell_type": "code",
   "execution_count": null,
   "metadata": {},
   "outputs": [],
   "source": []
  },
  {
   "cell_type": "code",
   "execution_count": null,
   "metadata": {},
   "outputs": [],
   "source": []
  },
  {
   "cell_type": "code",
   "execution_count": null,
   "metadata": {},
   "outputs": [],
   "source": []
  },
  {
   "cell_type": "code",
   "execution_count": null,
   "metadata": {},
   "outputs": [],
   "source": []
  },
  {
   "cell_type": "code",
   "execution_count": null,
   "metadata": {},
   "outputs": [],
   "source": []
  },
  {
   "cell_type": "code",
   "execution_count": null,
   "metadata": {},
   "outputs": [],
   "source": []
  },
  {
   "cell_type": "code",
   "execution_count": null,
   "metadata": {},
   "outputs": [],
   "source": []
  },
  {
   "cell_type": "code",
   "execution_count": null,
   "metadata": {},
   "outputs": [],
   "source": []
  },
  {
   "cell_type": "code",
   "execution_count": null,
   "metadata": {},
   "outputs": [],
   "source": []
  },
  {
   "cell_type": "code",
   "execution_count": null,
   "metadata": {},
   "outputs": [],
   "source": []
  },
  {
   "cell_type": "code",
   "execution_count": null,
   "metadata": {},
   "outputs": [],
   "source": []
  },
  {
   "cell_type": "code",
   "execution_count": null,
   "metadata": {},
   "outputs": [],
   "source": []
  },
  {
   "cell_type": "code",
   "execution_count": null,
   "metadata": {},
   "outputs": [],
   "source": []
  },
  {
   "cell_type": "code",
   "execution_count": null,
   "metadata": {},
   "outputs": [],
   "source": []
  },
  {
   "cell_type": "code",
   "execution_count": null,
   "metadata": {},
   "outputs": [],
   "source": []
  },
  {
   "cell_type": "code",
   "execution_count": null,
   "metadata": {},
   "outputs": [],
   "source": []
  },
  {
   "cell_type": "code",
   "execution_count": null,
   "metadata": {},
   "outputs": [],
   "source": []
  },
  {
   "cell_type": "code",
   "execution_count": null,
   "metadata": {},
   "outputs": [],
   "source": []
  },
  {
   "cell_type": "code",
   "execution_count": null,
   "metadata": {},
   "outputs": [],
   "source": []
  },
  {
   "cell_type": "code",
   "execution_count": null,
   "metadata": {},
   "outputs": [],
   "source": []
  },
  {
   "cell_type": "code",
   "execution_count": null,
   "metadata": {},
   "outputs": [],
   "source": []
  },
  {
   "cell_type": "code",
   "execution_count": null,
   "metadata": {},
   "outputs": [],
   "source": []
  },
  {
   "cell_type": "code",
   "execution_count": null,
   "metadata": {},
   "outputs": [],
   "source": []
  },
  {
   "cell_type": "code",
   "execution_count": null,
   "metadata": {},
   "outputs": [],
   "source": []
  },
  {
   "cell_type": "code",
   "execution_count": null,
   "metadata": {},
   "outputs": [],
   "source": []
  },
  {
   "cell_type": "code",
   "execution_count": null,
   "metadata": {},
   "outputs": [],
   "source": []
  },
  {
   "cell_type": "code",
   "execution_count": null,
   "metadata": {},
   "outputs": [],
   "source": []
  },
  {
   "cell_type": "code",
   "execution_count": null,
   "metadata": {},
   "outputs": [],
   "source": []
  },
  {
   "cell_type": "code",
   "execution_count": null,
   "metadata": {},
   "outputs": [],
   "source": []
  },
  {
   "cell_type": "code",
   "execution_count": null,
   "metadata": {},
   "outputs": [],
   "source": []
  },
  {
   "cell_type": "code",
   "execution_count": null,
   "metadata": {},
   "outputs": [],
   "source": []
  },
  {
   "cell_type": "code",
   "execution_count": null,
   "metadata": {},
   "outputs": [],
   "source": []
  },
  {
   "cell_type": "code",
   "execution_count": null,
   "metadata": {},
   "outputs": [],
   "source": []
  },
  {
   "cell_type": "code",
   "execution_count": null,
   "metadata": {},
   "outputs": [],
   "source": []
  },
  {
   "cell_type": "code",
   "execution_count": null,
   "metadata": {},
   "outputs": [],
   "source": []
  },
  {
   "cell_type": "code",
   "execution_count": null,
   "metadata": {},
   "outputs": [],
   "source": []
  },
  {
   "cell_type": "code",
   "execution_count": null,
   "metadata": {},
   "outputs": [],
   "source": []
  },
  {
   "cell_type": "code",
   "execution_count": null,
   "metadata": {},
   "outputs": [],
   "source": []
  }
 ],
 "metadata": {
  "kernelspec": {
   "display_name": "ai23",
   "language": "python",
   "name": "python3"
  },
  "language_info": {
   "codemirror_mode": {
    "name": "ipython",
    "version": 3
   },
   "file_extension": ".py",
   "mimetype": "text/x-python",
   "name": "python",
   "nbconvert_exporter": "python",
   "pygments_lexer": "ipython3",
   "version": "3.10.16"
  },
  "toc": {
   "base_numbering": 1,
   "nav_menu": {},
   "number_sections": true,
   "sideBar": true,
   "skip_h1_title": false,
   "title_cell": "Table of Contents",
   "title_sidebar": "Contents",
   "toc_cell": false,
   "toc_position": {},
   "toc_section_display": true,
   "toc_window_display": false
  }
 },
 "nbformat": 4,
 "nbformat_minor": 2
}
