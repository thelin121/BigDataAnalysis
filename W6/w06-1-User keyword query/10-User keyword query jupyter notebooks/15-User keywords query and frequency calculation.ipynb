{
 "cells": [
  {
   "attachments": {},
   "cell_type": "markdown",
   "metadata": {},
   "source": [
    "# User keyword query\n",
    "\n",
    "    Input 1: user query keywords\n",
    "    Input 2: condition--and, or\n",
    "\n",
    "    Output: frequency of the keywords\n",
    "    (1): How many times are the keywords mentioned? 這個關鍵字被提到多少次?\n",
    "    (2): How many pieces of news contain (mention) the keywords?  有幾篇新聞提到這個關鍵字?\n",
    "\n",
    "    First article: ['肺炎','疫情', '肺炎']\n",
    "    Second article:['陳時中','指揮中心','肺炎','陳時中']\n",
    "\n",
    "    肺炎: \n",
    "    (1) '肺炎' are mentioned three times.  ==> frequency is 3\n",
    "    (2) Two pieces of news mention '肺炎'. ==> occurrence is 2\n",
    "\n",
    "    陳時中: \n",
    "    (1) '陳時中' are mentioned two times.  ==> frequency is 2\n",
    "    (2) One pieces of news mention '陳時中'. ==> occurrence is 1\n",
    "    \n"
   ]
  },
  {
   "cell_type": "markdown",
   "metadata": {},
   "source": [
    "# Step 0: Load preprocessed news dataset"
   ]
  },
  {
   "cell_type": "code",
   "execution_count": 1,
   "metadata": {},
   "outputs": [],
   "source": [
    "import pandas as pd\n",
    "from datetime import datetime, timedelta"
   ]
  },
  {
   "cell_type": "code",
   "execution_count": 2,
   "metadata": {},
   "outputs": [],
   "source": [
    "df = pd.read_csv('./cna_news_preprocessed.csv',sep='|')"
   ]
  },
  {
   "cell_type": "code",
   "execution_count": 3,
   "metadata": {},
   "outputs": [
    {
     "data": {
      "text/html": [
       "<div>\n",
       "<style scoped>\n",
       "    .dataframe tbody tr th:only-of-type {\n",
       "        vertical-align: middle;\n",
       "    }\n",
       "\n",
       "    .dataframe tbody tr th {\n",
       "        vertical-align: top;\n",
       "    }\n",
       "\n",
       "    .dataframe thead th {\n",
       "        text-align: right;\n",
       "    }\n",
       "</style>\n",
       "<table border=\"1\" class=\"dataframe\">\n",
       "  <thead>\n",
       "    <tr style=\"text-align: right;\">\n",
       "      <th></th>\n",
       "      <th>item_id</th>\n",
       "      <th>date</th>\n",
       "      <th>category</th>\n",
       "      <th>title</th>\n",
       "      <th>content</th>\n",
       "      <th>sentiment</th>\n",
       "      <th>summary</th>\n",
       "      <th>top_key_freq</th>\n",
       "      <th>tokens</th>\n",
       "      <th>tokens_v2</th>\n",
       "      <th>entities</th>\n",
       "      <th>token_pos</th>\n",
       "      <th>link</th>\n",
       "      <th>photo_link</th>\n",
       "    </tr>\n",
       "  </thead>\n",
       "  <tbody>\n",
       "    <tr>\n",
       "      <th>0</th>\n",
       "      <td>aipl_20220314_1</td>\n",
       "      <td>2022-03-14</td>\n",
       "      <td>政治</td>\n",
       "      <td>外交部援烏物資已募4000箱 吳釗燮感謝捐贈民眾</td>\n",
       "      <td>民眾捐贈烏克蘭的愛心物資持續湧入外交部，截至今天傍晚累計已收到約4000箱，外交部長吳釗燮中...</td>\n",
       "      <td>0.01</td>\n",
       "      <td>['外交部除感謝熱心民眾踴躍捐贈援助烏克蘭人道物資外', '親赴外交部捐贈物資的民眾約173...</td>\n",
       "      <td>[('外交部', 14), ('民眾', 7), ('物資', 7), ('烏克蘭', 5)...</td>\n",
       "      <td>['民眾', '捐贈', '烏克蘭', '的', '愛心', '物資', '持續', '湧入...</td>\n",
       "      <td>['民眾', '烏克蘭', '愛心', '物資', '外交部', '收到', '外交部長',...</td>\n",
       "      <td>[NerToken(word='烏克蘭', ner='GPE', idx=(4, 7)), ...</td>\n",
       "      <td>[('民眾', 'Na'), ('捐贈', 'VD'), ('烏克蘭', 'Nc'), ('...</td>\n",
       "      <td>https://www.cna.com.tw/news/aipl/202203140364....</td>\n",
       "      <td>https://imgcdn.cna.com.tw/www/WebPhotos/200/20...</td>\n",
       "    </tr>\n",
       "  </tbody>\n",
       "</table>\n",
       "</div>"
      ],
      "text/plain": [
       "           item_id        date category                     title  \\\n",
       "0  aipl_20220314_1  2022-03-14       政治  外交部援烏物資已募4000箱 吳釗燮感謝捐贈民眾   \n",
       "\n",
       "                                             content  sentiment  \\\n",
       "0  民眾捐贈烏克蘭的愛心物資持續湧入外交部，截至今天傍晚累計已收到約4000箱，外交部長吳釗燮中...       0.01   \n",
       "\n",
       "                                             summary  \\\n",
       "0  ['外交部除感謝熱心民眾踴躍捐贈援助烏克蘭人道物資外', '親赴外交部捐贈物資的民眾約173...   \n",
       "\n",
       "                                        top_key_freq  \\\n",
       "0  [('外交部', 14), ('民眾', 7), ('物資', 7), ('烏克蘭', 5)...   \n",
       "\n",
       "                                              tokens  \\\n",
       "0  ['民眾', '捐贈', '烏克蘭', '的', '愛心', '物資', '持續', '湧入...   \n",
       "\n",
       "                                           tokens_v2  \\\n",
       "0  ['民眾', '烏克蘭', '愛心', '物資', '外交部', '收到', '外交部長',...   \n",
       "\n",
       "                                            entities  \\\n",
       "0  [NerToken(word='烏克蘭', ner='GPE', idx=(4, 7)), ...   \n",
       "\n",
       "                                           token_pos  \\\n",
       "0  [('民眾', 'Na'), ('捐贈', 'VD'), ('烏克蘭', 'Nc'), ('...   \n",
       "\n",
       "                                                link  \\\n",
       "0  https://www.cna.com.tw/news/aipl/202203140364....   \n",
       "\n",
       "                                          photo_link  \n",
       "0  https://imgcdn.cna.com.tw/www/WebPhotos/200/20...  "
      ]
     },
     "execution_count": 3,
     "metadata": {},
     "output_type": "execute_result"
    }
   ],
   "source": [
    "df.head(1)"
   ]
  },
  {
   "cell_type": "markdown",
   "metadata": {},
   "source": [
    "# Step 1: Select news with user input keywords, category, duration"
   ]
  },
  {
   "cell_type": "markdown",
   "metadata": {},
   "source": [
    "## (1)Improved Search from \"content\" column"
   ]
  },
  {
   "cell_type": "code",
   "execution_count": 4,
   "metadata": {},
   "outputs": [],
   "source": [
    "from datetime import datetime, timedelta\n",
    "# Searching keywords from \"content\" column\n",
    "# Here this function uses df.content column, while filter_dataFrame() uses df.tokens_v2\n",
    "def filter_dataFrame(user_keywords, cond, cate, weeks):\n",
    "\n",
    "    # end date: the date of the latest record of news\n",
    "    end_date = df.date.max()\n",
    "    \n",
    "    # start date\n",
    "    start_date = (datetime.strptime(end_date, '%Y-%m-%d').date() - timedelta(weeks=weeks)).strftime('%Y-%m-%d')\n",
    "\n",
    "    # (1) proceed filtering: a duration of a period of time\n",
    "    # 期間條件\n",
    "    period_condition = (df.date >= start_date) & (df.date <= end_date)  # [True, Fase, .....] \n",
    "    \n",
    "    # (2) proceed filtering: news category\n",
    "    # 新聞類別條件\n",
    "    if (cate == \"全部\"):\n",
    "        condition = period_condition  # \"全部\"類別不必過濾新聞種類\n",
    "    else:\n",
    "        # category新聞類別條件\n",
    "        condition = period_condition & (df.category == cate)  # [False, Fase, .....] \n",
    "\n",
    "    # (3) proceed filtering: keywords \n",
    "    # and or 條件\n",
    "    if (cond == 'and'):\n",
    "        # query keywords condition使用者輸入關鍵字條件and\n",
    "        condition = condition & df.content.apply(  lambda content: all(    (qk in content) for qk in user_keywords   )   ) #寫法:all()     (qk in text) for qk in user_keywords\n",
    "    elif (cond == 'or'):\n",
    "        # query keywords condition使用者輸入關鍵字條件\n",
    "        condition = condition & df.content.apply(lambda text: any((qk in text) for qk in user_keywords)) #寫法:any()\n",
    "    # condiction is a list of True or False boolean value\n",
    "    df_query = df[condition]\n",
    "\n",
    "    return df_query\n"
   ]
  },
  {
   "cell_type": "markdown",
   "metadata": {},
   "source": [
    "## (2)Search keywords from \"content\" column (Another way)"
   ]
  },
  {
   "cell_type": "code",
   "execution_count": 5,
   "metadata": {},
   "outputs": [],
   "source": [
    "# Searching keywords from \"content\" column\n",
    "# Here this function uses df.content column, while filter_dataFrame() uses df.tokens_v2\n",
    "def filter_dataFrame_v0(user_keywords, cond, cate, weeks):\n",
    "\n",
    "    # end date: the date of the latest record of news\n",
    "    end_date = df.date.max()\n",
    "    \n",
    "    # start date\n",
    "    start_date = (datetime.strptime(end_date, '%Y-%m-%d').date() - timedelta(weeks=weeks)).strftime('%Y-%m-%d')\n",
    "\n",
    "    # proceed filtering\n",
    "    if (cate == \"全部\") & (cond == 'and'):\n",
    "        df_query = df[(df.date >= start_date) & (df.date <= end_date) \n",
    "            & df.content.apply(lambda text: all((qk in text) for qk in user_keywords))]\n",
    "    elif (cate == \"全部\") & (cond == 'or'):\n",
    "        df_query = df[(df['date'] >= start_date) & (df['date'] <= end_date) \n",
    "            & df.content.apply(lambda text: any((qk in text) for qk in user_keywords))]\n",
    "    elif (cond == 'and'):\n",
    "        df_query = df[(df.category == cate) \n",
    "            & (df.date >= start_date) & (df.date <= end_date) \n",
    "            & df.content.apply(lambda text: all((qk in text) for qk in user_keywords))]\n",
    "    elif (cond == 'or'):\n",
    "        df_query = df[(df.category == cate) \n",
    "            & (df['date'] >= start_date) & (df['date'] <= end_date) \n",
    "            & df.content.apply(lambda text: any((qk in text) for qk in user_keywords))]\n",
    "\n",
    "    return df_query"
   ]
  },
  {
   "cell_type": "code",
   "execution_count": 6,
   "metadata": {},
   "outputs": [
    {
     "data": {
      "text/plain": [
       "17"
      ]
     },
     "execution_count": 6,
     "metadata": {},
     "output_type": "execute_result"
    }
   ],
   "source": [
    "user_keywords=['烏克蘭','俄羅斯']\n",
    "cond='and'\n",
    "cate='全部'\n",
    "weeks=4\n",
    "df_query = filter_dataFrame(user_keywords, cond, cate, weeks)\n",
    "len(df_query)"
   ]
  },
  {
   "cell_type": "code",
   "execution_count": 7,
   "metadata": {},
   "outputs": [
    {
     "data": {
      "text/plain": [
       "26"
      ]
     },
     "execution_count": 7,
     "metadata": {},
     "output_type": "execute_result"
    }
   ],
   "source": [
    "user_keywords=['烏克蘭','俄羅斯']\n",
    "cond='or'\n",
    "cate='全部'\n",
    "weeks=4\n",
    "df_query = filter_dataFrame(user_keywords, cond, cate, weeks)\n",
    "len(df_query)"
   ]
  },
  {
   "cell_type": "code",
   "execution_count": 8,
   "metadata": {},
   "outputs": [
    {
     "data": {
      "text/plain": [
       "8"
      ]
     },
     "execution_count": 8,
     "metadata": {},
     "output_type": "execute_result"
    }
   ],
   "source": [
    "user_keywords=['烏克蘭','俄羅斯']\n",
    "cond='and'\n",
    "cate='國際'\n",
    "weeks=4\n",
    "df_query = filter_dataFrame(user_keywords, cond, cate, weeks)\n",
    "len(df_query)"
   ]
  },
  {
   "cell_type": "code",
   "execution_count": 9,
   "metadata": {},
   "outputs": [
    {
     "data": {
      "text/html": [
       "<div>\n",
       "<style scoped>\n",
       "    .dataframe tbody tr th:only-of-type {\n",
       "        vertical-align: middle;\n",
       "    }\n",
       "\n",
       "    .dataframe tbody tr th {\n",
       "        vertical-align: top;\n",
       "    }\n",
       "\n",
       "    .dataframe thead th {\n",
       "        text-align: right;\n",
       "    }\n",
       "</style>\n",
       "<table border=\"1\" class=\"dataframe\">\n",
       "  <thead>\n",
       "    <tr style=\"text-align: right;\">\n",
       "      <th></th>\n",
       "      <th>item_id</th>\n",
       "      <th>date</th>\n",
       "      <th>category</th>\n",
       "      <th>title</th>\n",
       "      <th>content</th>\n",
       "      <th>sentiment</th>\n",
       "      <th>summary</th>\n",
       "      <th>top_key_freq</th>\n",
       "      <th>tokens</th>\n",
       "      <th>tokens_v2</th>\n",
       "      <th>entities</th>\n",
       "      <th>token_pos</th>\n",
       "      <th>link</th>\n",
       "      <th>photo_link</th>\n",
       "    </tr>\n",
       "  </thead>\n",
       "  <tbody>\n",
       "    <tr>\n",
       "      <th>140</th>\n",
       "      <td>aopl_20220314_1</td>\n",
       "      <td>2022-03-14</td>\n",
       "      <td>國際</td>\n",
       "      <td>澳洲擴大制裁俄羅斯 歐盟要凍結切爾西老闆資產</td>\n",
       "      <td>（中央社雪梨/布魯塞爾14日綜合外電報導）澳洲為懲罰俄羅斯侵略烏克蘭，今天再將33名俄國寡頭...</td>\n",
       "      <td>0.00</td>\n",
       "      <td>['將阿布拉莫維奇加入制裁的俄羅斯富豪名單', '而歐盟各國代表將在今天開會通過這項措施',...</td>\n",
       "      <td>[('制裁', 8), ('俄羅斯', 7), ('俄國', 7), ('歐盟', 5), ...</td>\n",
       "      <td>['（', '中央社', '雪梨', '/', '布魯塞爾', '14日', '綜合', '...</td>\n",
       "      <td>['中央社', '雪梨', '布魯塞爾', '綜合', '外電', '澳洲', '懲罰', ...</td>\n",
       "      <td>[NerToken(word='中央社', ner='ORG', idx=(1, 4)), ...</td>\n",
       "      <td>[('（', 'PARENTHESISCATEGORY'), ('中央社', 'Nc'), ...</td>\n",
       "      <td>https://www.cna.com.tw/news/aopl/202203140376....</td>\n",
       "      <td>NaN</td>\n",
       "    </tr>\n",
       "    <tr>\n",
       "      <th>141</th>\n",
       "      <td>aopl_20220314_2</td>\n",
       "      <td>2022-03-14</td>\n",
       "      <td>國際</td>\n",
       "      <td>俄羅斯提核協議新要求 伊朗外長將赴莫斯科討論</td>\n",
       "      <td>關於伊朗核子協議的談判，數天前因為俄羅斯提出新要求而觸礁，伊朗外交部長阿布杜拉希安15日將赴...</td>\n",
       "      <td>0.00</td>\n",
       "      <td>['他已與俄羅斯外長拉夫羅夫（Sergei Lavrov）討論了正在奧地利維也納進行的伊朗核...</td>\n",
       "      <td>[('伊朗', 11), ('協議', 9), ('談判', 6), ('外長', 6), ...</td>\n",
       "      <td>['關於', '伊朗', '核子', '協議', '的', '談判', '，', '數', ...</td>\n",
       "      <td>['伊朗', '核子', '協議', '談判', '俄羅斯', '提出', '要求', '伊...</td>\n",
       "      <td>[NerToken(word='伊朗', ner='GPE', idx=(2, 4)), N...</td>\n",
       "      <td>[('關於', 'P'), ('伊朗', 'Nc'), ('核子', 'Na'), ('協議...</td>\n",
       "      <td>https://www.cna.com.tw/news/aopl/202203140361....</td>\n",
       "      <td>NaN</td>\n",
       "    </tr>\n",
       "    <tr>\n",
       "      <th>142</th>\n",
       "      <td>aopl_20220314_3</td>\n",
       "      <td>2022-03-14</td>\n",
       "      <td>國際</td>\n",
       "      <td>2022酷寒演習展開 3萬北約兵力集結挪威</td>\n",
       "      <td>北大西洋公約組織（NATO）及夥伴國約3萬名軍人今天於挪威展開大規模演習，與此同時，西方與俄...</td>\n",
       "      <td>0.93</td>\n",
       "      <td>['俄國駐挪威大使館上週告訴法新社：「北約在俄羅斯邊境附近的任何軍力集結', '負責「酷寒演...</td>\n",
       "      <td>[('挪威', 7), ('俄羅斯', 4), ('北約', 4), ('邊境', 3), ...</td>\n",
       "      <td>['北大西洋', '公約', '組織', '（', 'NATO', '）', '及', '夥...</td>\n",
       "      <td>['北大西洋', '公約', '組織', '夥伴國', '軍人', '挪威', '展開', ...</td>\n",
       "      <td>[NerToken(word='NATO', ner='ORG', idx=(9, 13))...</td>\n",
       "      <td>[('北大西洋', 'Nc'), ('公約', 'Na'), ('組織', 'Na'), (...</td>\n",
       "      <td>https://www.cna.com.tw/news/aopl/202203140357....</td>\n",
       "      <td>https://imgcdn.cna.com.tw/www/webphotos/WebCov...</td>\n",
       "    </tr>\n",
       "    <tr>\n",
       "      <th>143</th>\n",
       "      <td>aopl_20220314_4</td>\n",
       "      <td>2022-03-14</td>\n",
       "      <td>國際</td>\n",
       "      <td>俄國遭制裁降價求售石油和商品 印度考慮採購</td>\n",
       "      <td>俄羅斯入侵烏克蘭遭西方制裁，莫斯科亟欲尋找出口管道。印度官員表示，印度考慮莫斯科提出的打折價...</td>\n",
       "      <td>0.00</td>\n",
       "      <td>['印度1名官員表示：「俄國提出的原油和商品價格折扣大', '這名要求匿名的官員並未透露俄國...</td>\n",
       "      <td>[('印度', 13), ('俄國', 9), ('官員', 7), ('原油', 7), ...</td>\n",
       "      <td>['俄羅斯', '入侵', '烏克蘭', '遭', '西方', '制裁', '，', '莫斯...</td>\n",
       "      <td>['俄羅斯', '烏克蘭', '制裁', '莫斯科', '尋找', '出口', '管道', ...</td>\n",
       "      <td>[NerToken(word='俄羅斯', ner='GPE', idx=(0, 3)), ...</td>\n",
       "      <td>[('俄羅斯', 'Nc'), ('入侵', 'VCL'), ('烏克蘭', 'Nc'), ...</td>\n",
       "      <td>https://www.cna.com.tw/news/aopl/202203140348....</td>\n",
       "      <td>NaN</td>\n",
       "    </tr>\n",
       "    <tr>\n",
       "      <th>144</th>\n",
       "      <td>aopl_20220314_5</td>\n",
       "      <td>2022-03-14</td>\n",
       "      <td>國際</td>\n",
       "      <td>烏克蘭戰事中國疫情添不安 亞股多數收黑</td>\n",
       "      <td>投資人持續追蹤烏克蘭戰事發展及為化解危機所做的最新外交努力，同時焦慮等待美國央行本週可能宣布...</td>\n",
       "      <td>0.00</td>\n",
       "      <td>['由於美國股市上週收盤再度挫跌', '香港股市今天收盤重挫達5.0%', '尤其全球最大經...</td>\n",
       "      <td>[('股市', 10), ('美國', 7), ('烏克蘭', 3), ('重挫', 3),...</td>\n",
       "      <td>['投資人', '持續', '追蹤', '烏克蘭', '戰事', '發展', '及', '為...</td>\n",
       "      <td>['投資人', '追蹤', '烏克蘭', '戰事', '發展', '化解', '危機', '...</td>\n",
       "      <td>[NerToken(word='美國央行', ner='ORG', idx=(36, 40)...</td>\n",
       "      <td>[('投資人', 'Na'), ('持續', 'VL'), ('追蹤', 'VC'), ('...</td>\n",
       "      <td>https://www.cna.com.tw/news/aopl/202203140338....</td>\n",
       "      <td>NaN</td>\n",
       "    </tr>\n",
       "  </tbody>\n",
       "</table>\n",
       "</div>"
      ],
      "text/plain": [
       "             item_id        date category                   title  \\\n",
       "140  aopl_20220314_1  2022-03-14       國際  澳洲擴大制裁俄羅斯 歐盟要凍結切爾西老闆資產   \n",
       "141  aopl_20220314_2  2022-03-14       國際  俄羅斯提核協議新要求 伊朗外長將赴莫斯科討論   \n",
       "142  aopl_20220314_3  2022-03-14       國際   2022酷寒演習展開 3萬北約兵力集結挪威   \n",
       "143  aopl_20220314_4  2022-03-14       國際   俄國遭制裁降價求售石油和商品 印度考慮採購   \n",
       "144  aopl_20220314_5  2022-03-14       國際     烏克蘭戰事中國疫情添不安 亞股多數收黑   \n",
       "\n",
       "                                               content  sentiment  \\\n",
       "140  （中央社雪梨/布魯塞爾14日綜合外電報導）澳洲為懲罰俄羅斯侵略烏克蘭，今天再將33名俄國寡頭...       0.00   \n",
       "141  關於伊朗核子協議的談判，數天前因為俄羅斯提出新要求而觸礁，伊朗外交部長阿布杜拉希安15日將赴...       0.00   \n",
       "142  北大西洋公約組織（NATO）及夥伴國約3萬名軍人今天於挪威展開大規模演習，與此同時，西方與俄...       0.93   \n",
       "143  俄羅斯入侵烏克蘭遭西方制裁，莫斯科亟欲尋找出口管道。印度官員表示，印度考慮莫斯科提出的打折價...       0.00   \n",
       "144  投資人持續追蹤烏克蘭戰事發展及為化解危機所做的最新外交努力，同時焦慮等待美國央行本週可能宣布...       0.00   \n",
       "\n",
       "                                               summary  \\\n",
       "140  ['將阿布拉莫維奇加入制裁的俄羅斯富豪名單', '而歐盟各國代表將在今天開會通過這項措施',...   \n",
       "141  ['他已與俄羅斯外長拉夫羅夫（Sergei Lavrov）討論了正在奧地利維也納進行的伊朗核...   \n",
       "142  ['俄國駐挪威大使館上週告訴法新社：「北約在俄羅斯邊境附近的任何軍力集結', '負責「酷寒演...   \n",
       "143  ['印度1名官員表示：「俄國提出的原油和商品價格折扣大', '這名要求匿名的官員並未透露俄國...   \n",
       "144  ['由於美國股市上週收盤再度挫跌', '香港股市今天收盤重挫達5.0%', '尤其全球最大經...   \n",
       "\n",
       "                                          top_key_freq  \\\n",
       "140  [('制裁', 8), ('俄羅斯', 7), ('俄國', 7), ('歐盟', 5), ...   \n",
       "141  [('伊朗', 11), ('協議', 9), ('談判', 6), ('外長', 6), ...   \n",
       "142  [('挪威', 7), ('俄羅斯', 4), ('北約', 4), ('邊境', 3), ...   \n",
       "143  [('印度', 13), ('俄國', 9), ('官員', 7), ('原油', 7), ...   \n",
       "144  [('股市', 10), ('美國', 7), ('烏克蘭', 3), ('重挫', 3),...   \n",
       "\n",
       "                                                tokens  \\\n",
       "140  ['（', '中央社', '雪梨', '/', '布魯塞爾', '14日', '綜合', '...   \n",
       "141  ['關於', '伊朗', '核子', '協議', '的', '談判', '，', '數', ...   \n",
       "142  ['北大西洋', '公約', '組織', '（', 'NATO', '）', '及', '夥...   \n",
       "143  ['俄羅斯', '入侵', '烏克蘭', '遭', '西方', '制裁', '，', '莫斯...   \n",
       "144  ['投資人', '持續', '追蹤', '烏克蘭', '戰事', '發展', '及', '為...   \n",
       "\n",
       "                                             tokens_v2  \\\n",
       "140  ['中央社', '雪梨', '布魯塞爾', '綜合', '外電', '澳洲', '懲罰', ...   \n",
       "141  ['伊朗', '核子', '協議', '談判', '俄羅斯', '提出', '要求', '伊...   \n",
       "142  ['北大西洋', '公約', '組織', '夥伴國', '軍人', '挪威', '展開', ...   \n",
       "143  ['俄羅斯', '烏克蘭', '制裁', '莫斯科', '尋找', '出口', '管道', ...   \n",
       "144  ['投資人', '追蹤', '烏克蘭', '戰事', '發展', '化解', '危機', '...   \n",
       "\n",
       "                                              entities  \\\n",
       "140  [NerToken(word='中央社', ner='ORG', idx=(1, 4)), ...   \n",
       "141  [NerToken(word='伊朗', ner='GPE', idx=(2, 4)), N...   \n",
       "142  [NerToken(word='NATO', ner='ORG', idx=(9, 13))...   \n",
       "143  [NerToken(word='俄羅斯', ner='GPE', idx=(0, 3)), ...   \n",
       "144  [NerToken(word='美國央行', ner='ORG', idx=(36, 40)...   \n",
       "\n",
       "                                             token_pos  \\\n",
       "140  [('（', 'PARENTHESISCATEGORY'), ('中央社', 'Nc'), ...   \n",
       "141  [('關於', 'P'), ('伊朗', 'Nc'), ('核子', 'Na'), ('協議...   \n",
       "142  [('北大西洋', 'Nc'), ('公約', 'Na'), ('組織', 'Na'), (...   \n",
       "143  [('俄羅斯', 'Nc'), ('入侵', 'VCL'), ('烏克蘭', 'Nc'), ...   \n",
       "144  [('投資人', 'Na'), ('持續', 'VL'), ('追蹤', 'VC'), ('...   \n",
       "\n",
       "                                                  link  \\\n",
       "140  https://www.cna.com.tw/news/aopl/202203140376....   \n",
       "141  https://www.cna.com.tw/news/aopl/202203140361....   \n",
       "142  https://www.cna.com.tw/news/aopl/202203140357....   \n",
       "143  https://www.cna.com.tw/news/aopl/202203140348....   \n",
       "144  https://www.cna.com.tw/news/aopl/202203140338....   \n",
       "\n",
       "                                            photo_link  \n",
       "140                                                NaN  \n",
       "141                                                NaN  \n",
       "142  https://imgcdn.cna.com.tw/www/webphotos/WebCov...  \n",
       "143                                                NaN  \n",
       "144                                                NaN  "
      ]
     },
     "execution_count": 9,
     "metadata": {},
     "output_type": "execute_result"
    }
   ],
   "source": [
    "df_query.head()"
   ]
  },
  {
   "cell_type": "markdown",
   "metadata": {},
   "source": [
    "# Step 2: calculate frequency and occurence\n",
    "\n",
    "* How many pieces of news were the keyword(s) mentioned in?\n",
    "\n",
    "被多少篇新聞報導 How many pieces of news contain the keywords.\n",
    "\n",
    "* How many times were the keyword(s) mentioned?\n",
    "\n",
    "被提到多少次? How many times are the keywords mentioned"
   ]
  },
  {
   "cell_type": "code",
   "execution_count": 10,
   "metadata": {},
   "outputs": [],
   "source": [
    "import re"
   ]
  },
  {
   "cell_type": "code",
   "execution_count": 11,
   "metadata": {},
   "outputs": [],
   "source": [
    "# For the query_df, count the occurence and frequency for each category.\n",
    "\n",
    "# (1) cate_occurence={}  被多少篇新聞報導 How many pieces of news contain the keywords.\n",
    "# (2) cate_freq={}       被提到多少次? How many times are the keywords mentioned\n",
    "\n",
    "news_categories = ['政治', '科技', '運動', '證卷', '產經', '娛樂', '生活', '國際', '社會', '文化', '兩岸', '全部']\n",
    "\n",
    "def count_keyword(df_query, query_keywords):\n",
    "\n",
    "    cate_occurrence = {}\n",
    "    cate_freq = {}\n",
    "    \n",
    "    # 字典初始化\n",
    "    for cate in news_categories:\n",
    "        cate_occurrence[cate] = 0   # {'政治':0, '科技':0}\n",
    "        cate_freq[cate] = 0         # {'政治':0, '科技':0}\n",
    "        \n",
    "\n",
    "    for idx, row in df_query.iterrows():\n",
    "        # count the number of articles各類別篇數統計\n",
    "        cate_occurrence[row.category] += 1  #   {'政治':+1, '科技':0}\n",
    "        cate_occurrence['全部'] += 1\n",
    "        \n",
    "        # count the keyword frequency各類別次數統計\n",
    "        # 計算這一篇文章的content中重複含有多少個這些關鍵字(頻率)\n",
    "        freq = sum([ len(re.findall(keyword, row.content, re.I)) for keyword in query_keywords] ) # 計算這篇文章中關鍵字的頻率\n",
    "        cate_freq[row.category] += freq # 在該新聞類別中累計頻率\n",
    "        cate_freq['全部'] += freq  # 在\"全部\"類別中累計頻率\n",
    "\n",
    "    return cate_freq, cate_occurrence\n"
   ]
  },
  {
   "cell_type": "code",
   "execution_count": 12,
   "metadata": {},
   "outputs": [
    {
     "data": {
      "text/plain": [
       "({'政治': 13,\n",
       "  '科技': 21,\n",
       "  '運動': 4,\n",
       "  '證卷': 2,\n",
       "  '產經': 15,\n",
       "  '娛樂': 5,\n",
       "  '生活': 0,\n",
       "  '國際': 47,\n",
       "  '社會': 0,\n",
       "  '文化': 14,\n",
       "  '兩岸': 24,\n",
       "  '全部': 145},\n",
       " {'政治': 3,\n",
       "  '科技': 2,\n",
       "  '運動': 1,\n",
       "  '證卷': 2,\n",
       "  '產經': 3,\n",
       "  '娛樂': 2,\n",
       "  '生活': 0,\n",
       "  '國際': 8,\n",
       "  '社會': 0,\n",
       "  '文化': 3,\n",
       "  '兩岸': 2,\n",
       "  '全部': 26})"
      ]
     },
     "execution_count": 12,
     "metadata": {},
     "output_type": "execute_result"
    }
   ],
   "source": [
    "user_keywords=['烏克蘭','俄羅斯']\n",
    "cond='or'\n",
    "cate='全部'\n",
    "weeks=4\n",
    "# Step 1 fitering data\n",
    "df_query = filter_dataFrame(user_keywords, cond, cate, weeks)\n",
    "len(df_query)\n",
    "\n",
    "# Step 2: calculating frequency and occurence\n",
    "count_keyword(df_query, user_keywords)"
   ]
  },
  {
   "cell_type": "code",
   "execution_count": 13,
   "metadata": {},
   "outputs": [
    {
     "data": {
      "text/plain": [
       "({'政治': 3,\n",
       "  '科技': 1,\n",
       "  '運動': 0,\n",
       "  '證卷': 0,\n",
       "  '產經': 0,\n",
       "  '娛樂': 0,\n",
       "  '生活': 1,\n",
       "  '國際': 0,\n",
       "  '社會': 0,\n",
       "  '文化': 0,\n",
       "  '兩岸': 0,\n",
       "  '全部': 5},\n",
       " {'政治': 1,\n",
       "  '科技': 1,\n",
       "  '運動': 0,\n",
       "  '證卷': 0,\n",
       "  '產經': 0,\n",
       "  '娛樂': 0,\n",
       "  '生活': 1,\n",
       "  '國際': 0,\n",
       "  '社會': 0,\n",
       "  '文化': 0,\n",
       "  '兩岸': 0,\n",
       "  '全部': 3})"
      ]
     },
     "execution_count": 13,
     "metadata": {},
     "output_type": "execute_result"
    }
   ],
   "source": [
    "user_keywords=['柯文哲','阿伯',\"柯P\",\"柯p\"]\n",
    "cond='or'\n",
    "cate='全部'\n",
    "weeks=4\n",
    "# Step 1 fitering data\n",
    "df_query = filter_dataFrame(user_keywords, cond, cate, weeks)\n",
    "len(df_query)\n",
    "\n",
    "# Step 2: calculating frequency and occurence\n",
    "count_keyword(df_query, user_keywords)"
   ]
  },
  {
   "cell_type": "code",
   "execution_count": 14,
   "metadata": {},
   "outputs": [
    {
     "data": {
      "text/plain": [
       "3"
      ]
     },
     "execution_count": 14,
     "metadata": {},
     "output_type": "execute_result"
    }
   ],
   "source": [
    "len(df_query)"
   ]
  },
  {
   "cell_type": "markdown",
   "metadata": {
    "_cell_guid": "f338bfd0-8985-6edf-95c0-ac529ce73d69"
   },
   "source": [
    "# Demonstrate step by step\n",
    "\n",
    "How many news are related to \"烏克蘭\" ?\n",
    "\n",
    "    How many pieces of news mentioned \"烏克蘭\"\n",
    "    How many pieces of news are related to \"烏克蘭\"?\n",
    "\n",
    "    You can calculate and get the answer from the following fields: tokens, tokens_v2, or content. (Get very similar results)\n",
    "\n",
    "    We use \"tokens_v2\" because it contains only some important keywords which were selected in the pre-process step.\n",
    "\n",
    "    \n",
    "A flexible appraoch for And OR condiction\n",
    "\n",
    "        User all()  any()\n",
    "        df = pd.DataFrame({'col': [\"apple is delicious\",\n",
    "                                \"banana is delicious\",\n",
    "                                \"apple and banana both are delicious\"]})\n",
    "\n",
    "        targets = ['apple', 'banana']\n",
    "\n",
    "        # Any word from `targets` are present in sentence.\n",
    "        >>> df.col.apply(lambda sentence: any(word in sentence for word in targets))\n",
    "        0    True\n",
    "        1    True\n",
    "        2    True\n",
    "        Name: col, dtype: bool\n",
    "\n",
    "        # All words from `targets` are present in sentence.\n",
    "        >>> df.col.apply(lambda sentence: all(word in sentence for word in targets))\n",
    "        0    False\n",
    "        1    False\n",
    "        2     True\n",
    "        Name: col, dtype: bool"
   ]
  },
  {
   "cell_type": "code",
   "execution_count": null,
   "metadata": {},
   "outputs": [],
   "source": []
  },
  {
   "cell_type": "markdown",
   "metadata": {},
   "source": [
    "## re.findall\n",
    "\n",
    "從文章中找出所有的特定文字\n",
    "\n",
    "re.I表示英文大小寫皆可"
   ]
  },
  {
   "cell_type": "code",
   "execution_count": 15,
   "metadata": {},
   "outputs": [
    {
     "data": {
      "text/plain": [
       "['烏克蘭', '烏克蘭']"
      ]
     },
     "execution_count": 15,
     "metadata": {},
     "output_type": "execute_result"
    }
   ],
   "source": [
    "content = \"民眾捐贈烏克蘭的愛心物資持續湧入外交部，截至今天傍晚累計已收到約4000箱，外交部長吳釗燮中午表示，這些物資會在明天運送到烏克蘭，並感謝民眾的愛心。\"\n",
    "keyword = '烏克蘭' \n",
    "\n",
    "re.findall(keyword, content, re.I)"
   ]
  },
  {
   "cell_type": "code",
   "execution_count": 16,
   "metadata": {},
   "outputs": [
    {
     "data": {
      "text/plain": [
       "['吳釗燮']"
      ]
     },
     "execution_count": 16,
     "metadata": {},
     "output_type": "execute_result"
    }
   ],
   "source": [
    "keyword = '吳釗燮' \n",
    "\n",
    "re.findall(keyword, content, re.I)"
   ]
  },
  {
   "cell_type": "code",
   "execution_count": 17,
   "metadata": {},
   "outputs": [
    {
     "data": {
      "text/plain": [
       "['外交部', '外交部']"
      ]
     },
     "execution_count": 17,
     "metadata": {},
     "output_type": "execute_result"
    }
   ],
   "source": [
    "keyword = '外交部' \n",
    "\n",
    "re.findall(keyword, content, re.I)"
   ]
  },
  {
   "cell_type": "code",
   "execution_count": 18,
   "metadata": {},
   "outputs": [
    {
     "data": {
      "text/plain": [
       "['外交部長吳釗燮']"
      ]
     },
     "execution_count": 18,
     "metadata": {},
     "output_type": "execute_result"
    }
   ],
   "source": [
    "keyword = '外交部長吳釗燮' \n",
    "\n",
    "re.findall(keyword, content, re.I)"
   ]
  },
  {
   "cell_type": "code",
   "execution_count": 19,
   "metadata": {},
   "outputs": [
    {
     "data": {
      "text/plain": [
       "[]"
      ]
     },
     "execution_count": 19,
     "metadata": {},
     "output_type": "execute_result"
    }
   ],
   "source": [
    "keyword = '俄羅斯' \n",
    "\n",
    "re.findall(keyword, content, re.I)"
   ]
  },
  {
   "cell_type": "code",
   "execution_count": 20,
   "metadata": {},
   "outputs": [
    {
     "data": {
      "text/plain": [
       "['Ukraine']"
      ]
     },
     "execution_count": 20,
     "metadata": {},
     "output_type": "execute_result"
    }
   ],
   "source": [
    "content = \"This is a test content with some keywords like Ukraine and Russia.\"\n",
    "keyword = 'Ukraine' \n",
    "\n",
    "re.findall(keyword, content, re.I)"
   ]
  },
  {
   "cell_type": "code",
   "execution_count": 21,
   "metadata": {},
   "outputs": [
    {
     "data": {
      "text/plain": [
       "['Ukraine']"
      ]
     },
     "execution_count": 21,
     "metadata": {},
     "output_type": "execute_result"
    }
   ],
   "source": [
    "content = \"This is a test content with some keywords like Ukraine and Russia.\"\n",
    "keyword = 'ukraine' \n",
    "\n",
    "re.findall(keyword, content, re.I)"
   ]
  },
  {
   "cell_type": "code",
   "execution_count": null,
   "metadata": {},
   "outputs": [],
   "source": []
  },
  {
   "cell_type": "markdown",
   "metadata": {},
   "source": [
    "## and &, or | "
   ]
  },
  {
   "cell_type": "code",
   "execution_count": 22,
   "metadata": {},
   "outputs": [
    {
     "data": {
      "text/plain": [
       "True"
      ]
     },
     "execution_count": 22,
     "metadata": {},
     "output_type": "execute_result"
    }
   ],
   "source": [
    "True & True"
   ]
  },
  {
   "cell_type": "code",
   "execution_count": 23,
   "metadata": {},
   "outputs": [
    {
     "data": {
      "text/plain": [
       "False"
      ]
     },
     "execution_count": 23,
     "metadata": {},
     "output_type": "execute_result"
    }
   ],
   "source": [
    "True & False"
   ]
  },
  {
   "cell_type": "code",
   "execution_count": 24,
   "metadata": {},
   "outputs": [
    {
     "data": {
      "text/plain": [
       "True"
      ]
     },
     "execution_count": 24,
     "metadata": {},
     "output_type": "execute_result"
    }
   ],
   "source": [
    "True | True"
   ]
  },
  {
   "cell_type": "code",
   "execution_count": 25,
   "metadata": {},
   "outputs": [
    {
     "data": {
      "text/plain": [
       "True"
      ]
     },
     "execution_count": 25,
     "metadata": {},
     "output_type": "execute_result"
    }
   ],
   "source": [
    "True | False"
   ]
  },
  {
   "cell_type": "markdown",
   "metadata": {},
   "source": [
    "## \"in\" is very powerful in Python!"
   ]
  },
  {
   "cell_type": "markdown",
   "metadata": {},
   "source": [
    "#### in a string"
   ]
  },
  {
   "cell_type": "code",
   "execution_count": 26,
   "metadata": {},
   "outputs": [],
   "source": [
    "text = '武漢烏克蘭疫情全球延燒，國防部2月針對29個疫情高風險國家地區勸阻官兵前往（包括過境）。'"
   ]
  },
  {
   "cell_type": "code",
   "execution_count": 27,
   "metadata": {},
   "outputs": [
    {
     "data": {
      "text/plain": [
       "True"
      ]
     },
     "execution_count": 27,
     "metadata": {},
     "output_type": "execute_result"
    }
   ],
   "source": [
    "'勸阻官兵' in text"
   ]
  },
  {
   "cell_type": "code",
   "execution_count": 28,
   "metadata": {},
   "outputs": [
    {
     "data": {
      "text/plain": [
       "True"
      ]
     },
     "execution_count": 28,
     "metadata": {},
     "output_type": "execute_result"
    }
   ],
   "source": [
    "'延燒，國防部' in text"
   ]
  },
  {
   "cell_type": "code",
   "execution_count": 29,
   "metadata": {},
   "outputs": [
    {
     "data": {
      "text/plain": [
       "False"
      ]
     },
     "execution_count": 29,
     "metadata": {},
     "output_type": "execute_result"
    }
   ],
   "source": [
    "'台灣' in text"
   ]
  },
  {
   "cell_type": "code",
   "execution_count": 30,
   "metadata": {},
   "outputs": [
    {
     "data": {
      "text/plain": [
       "True"
      ]
     },
     "execution_count": 30,
     "metadata": {},
     "output_type": "execute_result"
    }
   ],
   "source": [
    "'烏克蘭' in text"
   ]
  },
  {
   "cell_type": "code",
   "execution_count": 31,
   "metadata": {
    "scrolled": true
   },
   "outputs": [
    {
     "data": {
      "text/plain": [
       "False"
      ]
     },
     "execution_count": 31,
     "metadata": {},
     "output_type": "execute_result"
    }
   ],
   "source": [
    "# & and\n",
    "('台灣' in text)  & ('烏克蘭' in text)"
   ]
  },
  {
   "cell_type": "code",
   "execution_count": 32,
   "metadata": {
    "scrolled": true
   },
   "outputs": [
    {
     "data": {
      "text/plain": [
       "False"
      ]
     },
     "execution_count": 32,
     "metadata": {},
     "output_type": "execute_result"
    }
   ],
   "source": [
    "# & and\n",
    "('台灣' in text) and ('烏克蘭' in text)"
   ]
  },
  {
   "cell_type": "code",
   "execution_count": 33,
   "metadata": {},
   "outputs": [
    {
     "data": {
      "text/plain": [
       "True"
      ]
     },
     "execution_count": 33,
     "metadata": {},
     "output_type": "execute_result"
    }
   ],
   "source": [
    "('台灣' in text)  | ('烏克蘭' in text)"
   ]
  },
  {
   "cell_type": "code",
   "execution_count": 34,
   "metadata": {},
   "outputs": [
    {
     "data": {
      "text/plain": [
       "True"
      ]
     },
     "execution_count": 34,
     "metadata": {},
     "output_type": "execute_result"
    }
   ],
   "source": [
    "('台灣' in text)  or ('烏克蘭' in text)"
   ]
  },
  {
   "cell_type": "code",
   "execution_count": 35,
   "metadata": {},
   "outputs": [],
   "source": [
    "# This is also a string.\n",
    "text = \"['武漢', '烏克蘭', '疫情', '全球', '延燒', '國防部', '疫情', '高風險', '國家', '地區', '官兵', '過境', '國防部', '政策', '全球', '國家', '地區', '轄下', '單位']\""
   ]
  },
  {
   "cell_type": "code",
   "execution_count": 36,
   "metadata": {},
   "outputs": [
    {
     "data": {
      "text/plain": [
       "True"
      ]
     },
     "execution_count": 36,
     "metadata": {},
     "output_type": "execute_result"
    }
   ],
   "source": [
    "'烏克蘭' in text"
   ]
  },
  {
   "cell_type": "code",
   "execution_count": 37,
   "metadata": {},
   "outputs": [
    {
     "data": {
      "text/plain": [
       "False"
      ]
     },
     "execution_count": 37,
     "metadata": {},
     "output_type": "execute_result"
    }
   ],
   "source": [
    "'台灣' in text"
   ]
  },
  {
   "cell_type": "code",
   "execution_count": 38,
   "metadata": {
    "scrolled": true
   },
   "outputs": [
    {
     "data": {
      "text/plain": [
       "False"
      ]
     },
     "execution_count": 38,
     "metadata": {},
     "output_type": "execute_result"
    }
   ],
   "source": [
    "('台灣' in text)  & ('烏克蘭' in text)"
   ]
  },
  {
   "cell_type": "code",
   "execution_count": 39,
   "metadata": {},
   "outputs": [
    {
     "data": {
      "text/plain": [
       "True"
      ]
     },
     "execution_count": 39,
     "metadata": {},
     "output_type": "execute_result"
    }
   ],
   "source": [
    "('台灣' in text)  | ('烏克蘭' in text)"
   ]
  },
  {
   "cell_type": "markdown",
   "metadata": {},
   "source": [
    "#### in a list"
   ]
  },
  {
   "cell_type": "code",
   "execution_count": 40,
   "metadata": {},
   "outputs": [
    {
     "data": {
      "text/plain": [
       "True"
      ]
     },
     "execution_count": 40,
     "metadata": {},
     "output_type": "execute_result"
    }
   ],
   "source": [
    "user_keyword=['烏克蘭','台灣']\n",
    "'烏克蘭' in user_keyword"
   ]
  },
  {
   "cell_type": "code",
   "execution_count": null,
   "metadata": {},
   "outputs": [],
   "source": []
  },
  {
   "cell_type": "code",
   "execution_count": 41,
   "metadata": {},
   "outputs": [
    {
     "data": {
      "text/plain": [
       "'民眾捐贈烏克蘭的愛心物資持續湧入外交部，截至今天傍晚累計已收到約4000箱，外交部長吳釗燮中午親自到現場為協助整理物資的志工加油，並對捐贈民眾表達感謝。外交部晚間發布新聞稿指出，外交部從7日開始向民間募集捐贈烏克蘭難民的物資，獲得熱烈響應，親赴外交部捐贈物資的民眾約1730人，加上郵寄包裹，目前約已收到4000箱物資，品項以醫療口罩、毛毯、女性衛生用品、尿片、餅乾等為主，募集活動將持續到18日。外交部表示，為了感謝捐贈民眾，與在現場辛苦分類整理的志工、外交部人員，吳釗燮今天中午特別前往外交部西側門地下停車場視察，吳釗燮與在場的慈濟等民間慈善組織志工，以及其他自發到場幫忙的善心人士親切互動，對於也有烏克蘭旅台人士自願擔任義工在現場協助，吳釗燮特別致意慰問。根據外交部提供的照片，到場幫忙的烏克蘭志工是極為關心家鄉情勢的網紅佳娜。外交部再度提醒有意捐贈物資的民眾，捐贈物品請依照外交部網站所公布的清單為限，切勿捐贈或郵寄二手物品或衣物。送到外交部的捐贈物品務必為全新物品、未拆封包裝、有效期至少6個月以上，以免造成整理及後續轉運捐贈的困擾。募集截止時間是3月18日下午5時以前，民眾可以用面送或郵寄清單所列的20類物品及 14 類藥品至外交部。外交部除感謝熱心民眾踴躍捐贈援助烏克蘭人道物資外，也感謝許多志工義務幫忙、貢獻己力。外交部對各界人士奉獻時間與精神投入國際人道援助，表達最高的敬意。'"
      ]
     },
     "execution_count": 41,
     "metadata": {},
     "output_type": "execute_result"
    }
   ],
   "source": [
    "# Check out the first news\n",
    "df.content[0]"
   ]
  },
  {
   "cell_type": "code",
   "execution_count": 42,
   "metadata": {},
   "outputs": [
    {
     "data": {
      "text/plain": [
       "True"
      ]
     },
     "execution_count": 42,
     "metadata": {},
     "output_type": "execute_result"
    }
   ],
   "source": [
    "qk = '烏克蘭'\n",
    "text = df.content[0]\n",
    "qk in text"
   ]
  },
  {
   "cell_type": "code",
   "execution_count": 43,
   "metadata": {},
   "outputs": [
    {
     "data": {
      "text/plain": [
       "True"
      ]
     },
     "execution_count": 43,
     "metadata": {},
     "output_type": "execute_result"
    }
   ],
   "source": [
    "qk = '外交部'\n",
    "text = df.content[0]\n",
    "qk in text"
   ]
  },
  {
   "cell_type": "code",
   "execution_count": 44,
   "metadata": {},
   "outputs": [
    {
     "data": {
      "text/plain": [
       "False"
      ]
     },
     "execution_count": 44,
     "metadata": {},
     "output_type": "execute_result"
    }
   ],
   "source": [
    "qk = '台灣'\n",
    "text = df.content[0]\n",
    "qk in text"
   ]
  },
  {
   "cell_type": "code",
   "execution_count": 45,
   "metadata": {},
   "outputs": [
    {
     "data": {
      "text/plain": [
       "True"
      ]
     },
     "execution_count": 45,
     "metadata": {},
     "output_type": "execute_result"
    }
   ],
   "source": [
    "text = df.content[0]\n",
    "('烏克蘭' in text) & ('外交部' in text )"
   ]
  },
  {
   "cell_type": "markdown",
   "metadata": {},
   "source": [
    "### Another \"in\" in Python. It is used for \"for\" loop."
   ]
  },
  {
   "cell_type": "code",
   "execution_count": 46,
   "metadata": {},
   "outputs": [
    {
     "data": {
      "text/plain": [
       "[True, True]"
      ]
     },
     "execution_count": 46,
     "metadata": {},
     "output_type": "execute_result"
    }
   ],
   "source": [
    "user_keywords = ['烏克蘭','外交部']\n",
    "text = df.content[0]\n",
    "[(qk in text) for qk in user_keywords]"
   ]
  },
  {
   "cell_type": "code",
   "execution_count": 47,
   "metadata": {},
   "outputs": [
    {
     "data": {
      "text/plain": [
       "[True, False]"
      ]
     },
     "execution_count": 47,
     "metadata": {},
     "output_type": "execute_result"
    }
   ],
   "source": [
    "user_keywords = ['烏克蘭','台灣']\n",
    "text = df.content[0]\n",
    "[(qk in text) for qk in user_keywords]"
   ]
  },
  {
   "cell_type": "code",
   "execution_count": null,
   "metadata": {},
   "outputs": [],
   "source": []
  },
  {
   "cell_type": "markdown",
   "metadata": {},
   "source": [
    "### all() any() \n",
    "\n",
    "    How to perform logical opertion with several conditions? 如何針對很多項去做邏輯運算?\n",
    "\n",
    "    all(): perform \"and\" logical opertion \n",
    "    any(): perform \"or\" logical opertion"
   ]
  },
  {
   "cell_type": "code",
   "execution_count": 48,
   "metadata": {},
   "outputs": [
    {
     "data": {
      "text/plain": [
       "True"
      ]
     },
     "execution_count": 48,
     "metadata": {},
     "output_type": "execute_result"
    }
   ],
   "source": [
    "all( [True, True, True] ) #　True & True"
   ]
  },
  {
   "cell_type": "code",
   "execution_count": 49,
   "metadata": {},
   "outputs": [
    {
     "data": {
      "text/plain": [
       "True"
      ]
     },
     "execution_count": 49,
     "metadata": {},
     "output_type": "execute_result"
    }
   ],
   "source": [
    "any( [True, True] )"
   ]
  },
  {
   "cell_type": "code",
   "execution_count": 50,
   "metadata": {},
   "outputs": [
    {
     "data": {
      "text/plain": [
       "False"
      ]
     },
     "execution_count": 50,
     "metadata": {},
     "output_type": "execute_result"
    }
   ],
   "source": [
    "all( [True, False] )"
   ]
  },
  {
   "cell_type": "code",
   "execution_count": 51,
   "metadata": {},
   "outputs": [
    {
     "data": {
      "text/plain": [
       "True"
      ]
     },
     "execution_count": 51,
     "metadata": {},
     "output_type": "execute_result"
    }
   ],
   "source": [
    "any( [True, False] )"
   ]
  },
  {
   "cell_type": "code",
   "execution_count": null,
   "metadata": {},
   "outputs": [],
   "source": []
  },
  {
   "cell_type": "code",
   "execution_count": 52,
   "metadata": {},
   "outputs": [
    {
     "data": {
      "text/plain": [
       "['烏克蘭', '國防部']"
      ]
     },
     "execution_count": 52,
     "metadata": {},
     "output_type": "execute_result"
    }
   ],
   "source": [
    "user_keywords = ['烏克蘭','國防部']\n",
    "[word for word in user_keywords]"
   ]
  },
  {
   "cell_type": "code",
   "execution_count": 53,
   "metadata": {},
   "outputs": [
    {
     "data": {
      "text/plain": [
       "[True, True]"
      ]
     },
     "execution_count": 53,
     "metadata": {},
     "output_type": "execute_result"
    }
   ],
   "source": [
    "user_keywords=['烏克蘭','國防部']\n",
    "text = '武漢烏克蘭疫情全球延燒，國防部2月針對29個疫情高風險國家地區勸阻官兵前往（包括過境）。'\n",
    "[(word in text) for word in user_keywords]"
   ]
  },
  {
   "cell_type": "code",
   "execution_count": 54,
   "metadata": {},
   "outputs": [
    {
     "data": {
      "text/plain": [
       "[True, True]"
      ]
     },
     "execution_count": 54,
     "metadata": {},
     "output_type": "execute_result"
    }
   ],
   "source": [
    "user_keywords=['烏克蘭','國防部']\n",
    "text = '武漢烏克蘭疫情全球延燒，國防部2月針對29個疫情高風險國家地區勸阻官兵前往（包括過境）。'\n",
    "[word in text for word in user_keywords] # () can be removed"
   ]
  },
  {
   "cell_type": "code",
   "execution_count": 55,
   "metadata": {},
   "outputs": [
    {
     "data": {
      "text/plain": [
       "True"
      ]
     },
     "execution_count": 55,
     "metadata": {},
     "output_type": "execute_result"
    }
   ],
   "source": [
    "user_keywords=['烏克蘭','國防部']\n",
    "text = '武漢烏克蘭疫情全球延燒，國防部2月針對29個疫情高風險國家地區勸阻官兵前往（包括過境）。'\n",
    "all([word in text for word in user_keywords])"
   ]
  },
  {
   "cell_type": "code",
   "execution_count": 56,
   "metadata": {},
   "outputs": [
    {
     "data": {
      "text/plain": [
       "True"
      ]
     },
     "execution_count": 56,
     "metadata": {},
     "output_type": "execute_result"
    }
   ],
   "source": [
    "user_keywords=['烏克蘭','國防部']\n",
    "text = '武漢烏克蘭疫情全球延燒，國防部2月針對29個疫情高風險國家地區勸阻官兵前往（包括過境）。'\n",
    "all(word in text for word in user_keywords) # square brackets [] can be removed"
   ]
  },
  {
   "cell_type": "code",
   "execution_count": null,
   "metadata": {},
   "outputs": [],
   "source": []
  },
  {
   "cell_type": "code",
   "execution_count": 57,
   "metadata": {},
   "outputs": [
    {
     "name": "stdout",
     "output_type": "stream",
     "text": [
      "[True, True]\n"
     ]
    },
    {
     "data": {
      "text/plain": [
       "True"
      ]
     },
     "execution_count": 57,
     "metadata": {},
     "output_type": "execute_result"
    }
   ],
   "source": [
    "# Check out the first news\n",
    "user_keywords = ['烏克蘭','外交部']\n",
    "text = df.content[0]\n",
    "print([(qk in text) for qk in user_keywords])\n",
    "all((qk in text) for qk in user_keywords)"
   ]
  },
  {
   "cell_type": "code",
   "execution_count": 58,
   "metadata": {},
   "outputs": [
    {
     "data": {
      "text/plain": [
       "True"
      ]
     },
     "execution_count": 58,
     "metadata": {},
     "output_type": "execute_result"
    }
   ],
   "source": [
    "user_keywords = ['烏克蘭','外交部']\n",
    "text = df.content[0]\n",
    "any((qk in text) for qk in user_keywords)"
   ]
  },
  {
   "cell_type": "code",
   "execution_count": 59,
   "metadata": {},
   "outputs": [
    {
     "data": {
      "text/plain": [
       "[True, False]"
      ]
     },
     "execution_count": 59,
     "metadata": {},
     "output_type": "execute_result"
    }
   ],
   "source": [
    "user_keywords = ['烏克蘭','台灣']\n",
    "text = df.content[0]\n",
    "[(qk in text) for qk in user_keywords]"
   ]
  },
  {
   "cell_type": "code",
   "execution_count": 60,
   "metadata": {},
   "outputs": [
    {
     "data": {
      "text/plain": [
       "False"
      ]
     },
     "execution_count": 60,
     "metadata": {},
     "output_type": "execute_result"
    }
   ],
   "source": [
    "user_keywords = ['烏克蘭','台灣']\n",
    "text = df.content[0]\n",
    "all((qk in text) for qk in user_keywords)"
   ]
  },
  {
   "cell_type": "code",
   "execution_count": 61,
   "metadata": {},
   "outputs": [
    {
     "data": {
      "text/plain": [
       "True"
      ]
     },
     "execution_count": 61,
     "metadata": {},
     "output_type": "execute_result"
    }
   ],
   "source": [
    "user_keywords = ['烏克蘭','台灣']\n",
    "text = df.content[0]\n",
    "any((qk in text) for qk in user_keywords)"
   ]
  },
  {
   "cell_type": "markdown",
   "metadata": {},
   "source": [
    "## Using apply() and lambda function\n",
    "\n",
    "How to check out keyword occurency for every news?"
   ]
  },
  {
   "cell_type": "code",
   "execution_count": 62,
   "metadata": {},
   "outputs": [
    {
     "data": {
      "text/plain": [
       "0       True\n",
       "1      False\n",
       "2      False\n",
       "3      False\n",
       "4      False\n",
       "       ...  \n",
       "208    False\n",
       "209    False\n",
       "210    False\n",
       "211    False\n",
       "212    False\n",
       "Name: content, Length: 213, dtype: bool"
      ]
     },
     "execution_count": 62,
     "metadata": {},
     "output_type": "execute_result"
    }
   ],
   "source": [
    "# Use apply() and lambda function\n",
    "user_keywords = ['烏克蘭','俄羅斯']\n",
    "user_keywords = ['烏克蘭','外交部']\n",
    "df.content.apply(   lambda text: all([(qk in text) for qk in user_keywords])  )\n",
    "#df.content.apply(lambda text: any([(qk in text) for qk in user_keywords]))"
   ]
  },
  {
   "cell_type": "code",
   "execution_count": 63,
   "metadata": {},
   "outputs": [],
   "source": [
    "user_keywords = ['烏克蘭','外交部']"
   ]
  },
  {
   "cell_type": "code",
   "execution_count": 64,
   "metadata": {},
   "outputs": [
    {
     "data": {
      "text/plain": [
       "['烏克蘭', '外交部']"
      ]
     },
     "execution_count": 64,
     "metadata": {},
     "output_type": "execute_result"
    }
   ],
   "source": [
    "[qk for qk in user_keywords]"
   ]
  },
  {
   "cell_type": "code",
   "execution_count": 65,
   "metadata": {},
   "outputs": [
    {
     "data": {
      "text/plain": [
       "'民眾捐贈烏克蘭的愛心物資持續湧入外交部，截至今天傍晚累計已收到約4000箱，外交部長吳釗燮中午親自到現場為協助整理物資的志工加油，並對捐贈民眾表達感謝。外交部晚間發布新聞稿指出，外交部從7日開始向民間募集捐贈烏克蘭難民的物資，獲得熱烈響應，親赴外交部捐贈物資的民眾約1730人，加上郵寄包裹，目前約已收到4000箱物資，品項以醫療口罩、毛毯、女性衛生用品、尿片、餅乾等為主，募集活動將持續到18日。外交部表示，為了感謝捐贈民眾，與在現場辛苦分類整理的志工、外交部人員，吳釗燮今天中午特別前往外交部西側門地下停車場視察，吳釗燮與在場的慈濟等民間慈善組織志工，以及其他自發到場幫忙的善心人士親切互動，對於也有烏克蘭旅台人士自願擔任義工在現場協助，吳釗燮特別致意慰問。根據外交部提供的照片，到場幫忙的烏克蘭志工是極為關心家鄉情勢的網紅佳娜。外交部再度提醒有意捐贈物資的民眾，捐贈物品請依照外交部網站所公布的清單為限，切勿捐贈或郵寄二手物品或衣物。送到外交部的捐贈物品務必為全新物品、未拆封包裝、有效期至少6個月以上，以免造成整理及後續轉運捐贈的困擾。募集截止時間是3月18日下午5時以前，民眾可以用面送或郵寄清單所列的20類物品及 14 類藥品至外交部。外交部除感謝熱心民眾踴躍捐贈援助烏克蘭人道物資外，也感謝許多志工義務幫忙、貢獻己力。外交部對各界人士奉獻時間與精神投入國際人道援助，表達最高的敬意。'"
      ]
     },
     "execution_count": 65,
     "metadata": {},
     "output_type": "execute_result"
    }
   ],
   "source": [
    "text = df.content[0]\n",
    "text"
   ]
  },
  {
   "cell_type": "code",
   "execution_count": 66,
   "metadata": {},
   "outputs": [
    {
     "data": {
      "text/plain": [
       "[True, True]"
      ]
     },
     "execution_count": 66,
     "metadata": {},
     "output_type": "execute_result"
    }
   ],
   "source": [
    "[(qk in text) for qk in user_keywords]"
   ]
  },
  {
   "cell_type": "code",
   "execution_count": 67,
   "metadata": {},
   "outputs": [
    {
     "data": {
      "text/plain": [
       "True"
      ]
     },
     "execution_count": 67,
     "metadata": {},
     "output_type": "execute_result"
    }
   ],
   "source": [
    "# \n",
    "all([(qk in text) for qk in user_keywords])"
   ]
  },
  {
   "cell_type": "code",
   "execution_count": 68,
   "metadata": {},
   "outputs": [
    {
     "data": {
      "text/plain": [
       "True"
      ]
     },
     "execution_count": 68,
     "metadata": {},
     "output_type": "execute_result"
    }
   ],
   "source": [
    "# Square brackets can be removed\n",
    "all((qk in text) for qk in user_keywords)"
   ]
  },
  {
   "cell_type": "markdown",
   "metadata": {},
   "source": [
    "## Usage of apply, map (For reference)"
   ]
  },
  {
   "cell_type": "code",
   "execution_count": 69,
   "metadata": {},
   "outputs": [
    {
     "data": {
      "text/html": [
       "<div>\n",
       "<style scoped>\n",
       "    .dataframe tbody tr th:only-of-type {\n",
       "        vertical-align: middle;\n",
       "    }\n",
       "\n",
       "    .dataframe tbody tr th {\n",
       "        vertical-align: top;\n",
       "    }\n",
       "\n",
       "    .dataframe thead th {\n",
       "        text-align: right;\n",
       "    }\n",
       "</style>\n",
       "<table border=\"1\" class=\"dataframe\">\n",
       "  <thead>\n",
       "    <tr style=\"text-align: right;\">\n",
       "      <th></th>\n",
       "      <th>Col 1</th>\n",
       "      <th>Col 2</th>\n",
       "      <th>Col 3</th>\n",
       "    </tr>\n",
       "  </thead>\n",
       "  <tbody>\n",
       "    <tr>\n",
       "      <th>A</th>\n",
       "      <td>3</td>\n",
       "      <td>2</td>\n",
       "      <td>8</td>\n",
       "    </tr>\n",
       "    <tr>\n",
       "      <th>B</th>\n",
       "      <td>4</td>\n",
       "      <td>3</td>\n",
       "      <td>8</td>\n",
       "    </tr>\n",
       "    <tr>\n",
       "      <th>C</th>\n",
       "      <td>5</td>\n",
       "      <td>6</td>\n",
       "      <td>9</td>\n",
       "    </tr>\n",
       "    <tr>\n",
       "      <th>D</th>\n",
       "      <td>6</td>\n",
       "      <td>4</td>\n",
       "      <td>8</td>\n",
       "    </tr>\n",
       "  </tbody>\n",
       "</table>\n",
       "</div>"
      ],
      "text/plain": [
       "   Col 1  Col 2  Col 3\n",
       "A      3      2      8\n",
       "B      4      3      8\n",
       "C      5      6      9\n",
       "D      6      4      8"
      ]
     },
     "execution_count": 69,
     "metadata": {},
     "output_type": "execute_result"
    }
   ],
   "source": [
    "# apply usage\n",
    "import pandas as pd\n",
    "\n",
    "sample_df = pd.DataFrame({\n",
    "    'Col 1': [3,4,5,6],\n",
    "    'Col 2': [2,3,6,4],\n",
    "    'Col 3': [8,8,9,8],\n",
    "\n",
    "},index=[\"A\",\"B\",\"C\",\"D\"])\n",
    "sample_df"
   ]
  },
  {
   "cell_type": "code",
   "execution_count": 70,
   "metadata": {},
   "outputs": [
    {
     "data": {
      "text/html": [
       "<div>\n",
       "<style scoped>\n",
       "    .dataframe tbody tr th:only-of-type {\n",
       "        vertical-align: middle;\n",
       "    }\n",
       "\n",
       "    .dataframe tbody tr th {\n",
       "        vertical-align: top;\n",
       "    }\n",
       "\n",
       "    .dataframe thead th {\n",
       "        text-align: right;\n",
       "    }\n",
       "</style>\n",
       "<table border=\"1\" class=\"dataframe\">\n",
       "  <thead>\n",
       "    <tr style=\"text-align: right;\">\n",
       "      <th></th>\n",
       "      <th>Col 1</th>\n",
       "      <th>Col 2</th>\n",
       "      <th>Col 3</th>\n",
       "    </tr>\n",
       "  </thead>\n",
       "  <tbody>\n",
       "    <tr>\n",
       "      <th>A</th>\n",
       "      <td>13</td>\n",
       "      <td>12</td>\n",
       "      <td>18</td>\n",
       "    </tr>\n",
       "    <tr>\n",
       "      <th>B</th>\n",
       "      <td>14</td>\n",
       "      <td>13</td>\n",
       "      <td>18</td>\n",
       "    </tr>\n",
       "    <tr>\n",
       "      <th>C</th>\n",
       "      <td>15</td>\n",
       "      <td>16</td>\n",
       "      <td>19</td>\n",
       "    </tr>\n",
       "    <tr>\n",
       "      <th>D</th>\n",
       "      <td>16</td>\n",
       "      <td>14</td>\n",
       "      <td>18</td>\n",
       "    </tr>\n",
       "  </tbody>\n",
       "</table>\n",
       "</div>"
      ],
      "text/plain": [
       "   Col 1  Col 2  Col 3\n",
       "A     13     12     18\n",
       "B     14     13     18\n",
       "C     15     16     19\n",
       "D     16     14     18"
      ]
     },
     "execution_count": 70,
     "metadata": {},
     "output_type": "execute_result"
    }
   ],
   "source": [
    "sample_df=sample_df.apply(lambda x: x+10)\n",
    "sample_df"
   ]
  },
  {
   "cell_type": "code",
   "execution_count": 71,
   "metadata": {},
   "outputs": [
    {
     "data": {
      "text/html": [
       "<div>\n",
       "<style scoped>\n",
       "    .dataframe tbody tr th:only-of-type {\n",
       "        vertical-align: middle;\n",
       "    }\n",
       "\n",
       "    .dataframe tbody tr th {\n",
       "        vertical-align: top;\n",
       "    }\n",
       "\n",
       "    .dataframe thead th {\n",
       "        text-align: right;\n",
       "    }\n",
       "</style>\n",
       "<table border=\"1\" class=\"dataframe\">\n",
       "  <thead>\n",
       "    <tr style=\"text-align: right;\">\n",
       "      <th></th>\n",
       "      <th>Col 1</th>\n",
       "      <th>Col 2</th>\n",
       "      <th>Col 3</th>\n",
       "    </tr>\n",
       "  </thead>\n",
       "  <tbody>\n",
       "    <tr>\n",
       "      <th>A</th>\n",
       "      <td>3</td>\n",
       "      <td>12</td>\n",
       "      <td>18</td>\n",
       "    </tr>\n",
       "    <tr>\n",
       "      <th>B</th>\n",
       "      <td>4</td>\n",
       "      <td>13</td>\n",
       "      <td>18</td>\n",
       "    </tr>\n",
       "    <tr>\n",
       "      <th>C</th>\n",
       "      <td>5</td>\n",
       "      <td>16</td>\n",
       "      <td>19</td>\n",
       "    </tr>\n",
       "    <tr>\n",
       "      <th>D</th>\n",
       "      <td>6</td>\n",
       "      <td>14</td>\n",
       "      <td>18</td>\n",
       "    </tr>\n",
       "  </tbody>\n",
       "</table>\n",
       "</div>"
      ],
      "text/plain": [
       "   Col 1  Col 2  Col 3\n",
       "A      3     12     18\n",
       "B      4     13     18\n",
       "C      5     16     19\n",
       "D      6     14     18"
      ]
     },
     "execution_count": 71,
     "metadata": {},
     "output_type": "execute_result"
    }
   ],
   "source": [
    "sample_df[\"Col 1\"]=sample_df[\"Col 1\"].apply(lambda x: x-10)\n",
    "sample_df"
   ]
  },
  {
   "cell_type": "code",
   "execution_count": null,
   "metadata": {},
   "outputs": [],
   "source": []
  },
  {
   "cell_type": "code",
   "execution_count": null,
   "metadata": {},
   "outputs": [],
   "source": []
  },
  {
   "cell_type": "code",
   "execution_count": null,
   "metadata": {},
   "outputs": [],
   "source": []
  }
 ],
 "metadata": {
  "kernelspec": {
   "display_name": "ai23",
   "language": "python",
   "name": "python3"
  },
  "language_info": {
   "codemirror_mode": {
    "name": "ipython",
    "version": 3
   },
   "file_extension": ".py",
   "mimetype": "text/x-python",
   "name": "python",
   "nbconvert_exporter": "python",
   "pygments_lexer": "ipython3",
   "version": "3.10.16"
  },
  "toc": {
   "base_numbering": 1,
   "nav_menu": {},
   "number_sections": true,
   "sideBar": true,
   "skip_h1_title": false,
   "title_cell": "Table of Contents",
   "title_sidebar": "Contents",
   "toc_cell": false,
   "toc_position": {},
   "toc_section_display": true,
   "toc_window_display": true
  }
 },
 "nbformat": 4,
 "nbformat_minor": 2
}
