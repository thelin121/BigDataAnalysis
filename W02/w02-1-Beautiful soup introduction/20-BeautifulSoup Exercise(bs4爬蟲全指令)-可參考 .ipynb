{
 "cells": [
  {
   "cell_type": "markdown",
   "metadata": {
    "collapsed": true
   },
   "source": [
    "# Beautiful Soup Exercise"
   ]
  },
  {
   "cell_type": "raw",
   "metadata": {},
   "source": [
    "Beautiful Soup is a HTML/XML parser with Python\n",
    "Beautiful Soup是用Python寫的一個HTML/XML的解析器\n",
    "\n",
    "find specified tag with the following appraoches:\n",
    "尋找特定標籤或有著特定屬性的標籤Tag，有以下兩種方法\n",
    "\n",
    "(1)findAll\n",
    "findAll(name=None, attrs={}, recursive=True, text=None, limit=None,**kwargs)\n",
    "find()\n",
    "\n",
    "(2)select \n",
    "select()\n",
    "select_one()\n",
    "\n",
    "\n",
    "Reference參考資料\n",
    "https://www.crummy.com/software/BeautifulSoup/bs3/documentation.html"
   ]
  },
  {
   "cell_type": "code",
   "execution_count": null,
   "metadata": {},
   "outputs": [],
   "source": []
  },
  {
   "cell_type": "code",
   "execution_count": 1,
   "metadata": {},
   "outputs": [],
   "source": [
    "from bs4 import BeautifulSoup\n",
    "import re"
   ]
  },
  {
   "cell_type": "code",
   "execution_count": 118,
   "metadata": {},
   "outputs": [],
   "source": [
    "page = \\\n",
    "'''<html>\n",
    "     <head>\n",
    "      <title>\n",
    "       網頁標題\n",
    "      </title>\n",
    "     </head>\n",
    "     <body>\n",
    "      <p align=\"center\" id=\"firstpara\">\n",
    "       第1段文字\n",
    "       <b>one-1 </b>\n",
    "       <b> one-2 </b>\n",
    "      </p>\n",
    "      <p align=\"right\" id=\"secondpara\">\n",
    "       第2段文字\n",
    "       <b>two </b>\n",
    "      </p>\n",
    "      <div class = 'content'>\n",
    "      <b class=\"message1\"> 最新消息 </b>\n",
    "      <b class=\"message2\"> 訊息區  </b>\n",
    "      </div>\n",
    "     </body>\n",
    "</html>'''"
   ]
  },
  {
   "cell_type": "code",
   "execution_count": null,
   "metadata": {},
   "outputs": [],
   "source": []
  },
  {
   "cell_type": "code",
   "execution_count": 119,
   "metadata": {},
   "outputs": [
    {
     "name": "stdout",
     "output_type": "stream",
     "text": [
      "<html>\n",
      " <head>\n",
      "  <title>\n",
      "   網頁標題\n",
      "  </title>\n",
      " </head>\n",
      " <body>\n",
      "  <p align=\"center\" id=\"firstpara\">\n",
      "   第1段文字\n",
      "   <b>\n",
      "    one-1\n",
      "   </b>\n",
      "   <b>\n",
      "    one-2\n",
      "   </b>\n",
      "  </p>\n",
      "  <p align=\"right\" id=\"secondpara\">\n",
      "   第2段文字\n",
      "   <b>\n",
      "    two\n",
      "   </b>\n",
      "  </p>\n",
      "  <div class=\"content\">\n",
      "   <b class=\"message1\">\n",
      "    最新消息\n",
      "   </b>\n",
      "   <b class=\"message2\">\n",
      "    訊息區\n",
      "   </b>\n",
      "  </div>\n",
      " </body>\n",
      "</html>\n"
     ]
    }
   ],
   "source": [
    "soup = BeautifulSoup(page, \"lxml\")\n",
    "# soup = BeautifulSoup(page, \"html.parser\")\n",
    "print(soup.prettify())"
   ]
  },
  {
   "cell_type": "markdown",
   "metadata": {},
   "source": [
    "# find() and findAll()\n",
    "\n",
    "* findAll():  find all 找到全部\n",
    "\n",
    "* find():    find one 找到一個就停止"
   ]
  },
  {
   "cell_type": "code",
   "execution_count": 120,
   "metadata": {},
   "outputs": [
    {
     "data": {
      "text/plain": [
       "<p align=\"center\" id=\"firstpara\">\n",
       "       第1段文字\n",
       "       <b>one-1 </b>\n",
       "<b> one-2 </b>\n",
       "</p>"
      ]
     },
     "execution_count": 120,
     "metadata": {},
     "output_type": "execute_result"
    }
   ],
   "source": [
    "soup.find('p') #find or filter with only one tag 'p' 單一個過濾或搜尋條件"
   ]
  },
  {
   "cell_type": "code",
   "execution_count": 5,
   "metadata": {},
   "outputs": [
    {
     "data": {
      "text/plain": [
       "[<p align=\"center\" id=\"firstpara\">\n",
       "        第1段文字\n",
       "        <b>one-1 </b>\n",
       " <b> one-2 </b>\n",
       " </p>, <p align=\"right\" id=\"secondpara\">\n",
       "        第2段文字\n",
       "        <b>two </b>\n",
       " </p>]"
      ]
     },
     "execution_count": 5,
     "metadata": {},
     "output_type": "execute_result"
    }
   ],
   "source": [
    "soup.findAll('p')"
   ]
  },
  {
   "cell_type": "code",
   "execution_count": 6,
   "metadata": {},
   "outputs": [
    {
     "data": {
      "text/plain": [
       "<p align=\"center\" id=\"firstpara\">\n",
       "       第1段文字\n",
       "       <b>one-1 </b>\n",
       "<b> one-2 </b>\n",
       "</p>"
      ]
     },
     "execution_count": 6,
     "metadata": {},
     "output_type": "execute_result"
    }
   ],
   "source": [
    "soup.findAll('p')[0]"
   ]
  },
  {
   "cell_type": "code",
   "execution_count": null,
   "metadata": {},
   "outputs": [],
   "source": []
  },
  {
   "cell_type": "code",
   "execution_count": 7,
   "metadata": {},
   "outputs": [
    {
     "data": {
      "text/plain": [
       "[<b>one-1 </b>,\n",
       " <b> one-2 </b>,\n",
       " <b>two </b>,\n",
       " <b class=\"message1\"> 最新消息 </b>,\n",
       " <b class=\"message2\"> 訊息區  </b>]"
      ]
     },
     "execution_count": 7,
     "metadata": {},
     "output_type": "execute_result"
    }
   ],
   "source": [
    "soup.findAll('b')"
   ]
  },
  {
   "cell_type": "code",
   "execution_count": null,
   "metadata": {},
   "outputs": [],
   "source": []
  },
  {
   "cell_type": "code",
   "execution_count": null,
   "metadata": {},
   "outputs": [],
   "source": []
  },
  {
   "cell_type": "code",
   "execution_count": 8,
   "metadata": {},
   "outputs": [
    {
     "data": {
      "text/plain": [
       "<p align=\"center\" id=\"firstpara\">\n",
       "       第1段文字\n",
       "       <b>one-1 </b>\n",
       "<b> one-2 </b>\n",
       "</p>"
      ]
     },
     "execution_count": 8,
     "metadata": {},
     "output_type": "execute_result"
    }
   ],
   "source": [
    "soup.find('p', align='center') # find 'p' tag and attribute 'center' 多個過濾或搜尋條件"
   ]
  },
  {
   "cell_type": "code",
   "execution_count": null,
   "metadata": {},
   "outputs": [],
   "source": []
  },
  {
   "cell_type": "code",
   "execution_count": 9,
   "metadata": {},
   "outputs": [
    {
     "data": {
      "text/plain": [
       "<p align=\"right\" id=\"secondpara\">\n",
       "       第2段文字\n",
       "       <b>two </b>\n",
       "</p>"
      ]
     },
     "execution_count": 9,
     "metadata": {},
     "output_type": "execute_result"
    }
   ],
   "source": [
    "soup.find('p', align='right')"
   ]
  },
  {
   "cell_type": "code",
   "execution_count": null,
   "metadata": {},
   "outputs": [],
   "source": []
  },
  {
   "cell_type": "code",
   "execution_count": 10,
   "metadata": {},
   "outputs": [
    {
     "data": {
      "text/plain": [
       "[<p align=\"right\" id=\"secondpara\">\n",
       "        第2段文字\n",
       "        <b>two </b>\n",
       " </p>]"
      ]
     },
     "execution_count": 10,
     "metadata": {},
     "output_type": "execute_result"
    }
   ],
   "source": [
    "soup.findAll(name = 'p', align='right')"
   ]
  },
  {
   "cell_type": "code",
   "execution_count": null,
   "metadata": {},
   "outputs": [],
   "source": []
  },
  {
   "cell_type": "code",
   "execution_count": 11,
   "metadata": {},
   "outputs": [
    {
     "data": {
      "text/plain": [
       "[<p align=\"right\" id=\"secondpara\">\n",
       "        第2段文字\n",
       "        <b>two </b>\n",
       " </p>]"
      ]
     },
     "execution_count": 11,
     "metadata": {},
     "output_type": "execute_result"
    }
   ],
   "source": [
    "# CSS style: It's better.\n",
    "soup.findAll(name = 'p',  attrs = {'align': 'right'})"
   ]
  },
  {
   "cell_type": "code",
   "execution_count": null,
   "metadata": {},
   "outputs": [],
   "source": []
  },
  {
   "cell_type": "markdown",
   "metadata": {},
   "source": [
    "# Using CSS\n",
    "\n",
    "soup.find(\"tagName\", { \"class\" : \"cssClass\" })\n",
    "\n",
    "使用CSS查找比較好，因為有些標籤與保留字衝突，用CSS attrs参數寫法不會衝突!"
   ]
  },
  {
   "cell_type": "raw",
   "metadata": {},
   "source": [
    "Python保留字的属性:\n",
    "例如class, for, 以及import \n",
    "\n",
    "Beautiful Soup搜索方法使用的参数名的属性:\n",
    "例如name, recursive, limit, text, 以及attrs"
   ]
  },
  {
   "cell_type": "code",
   "execution_count": null,
   "metadata": {},
   "outputs": [],
   "source": []
  },
  {
   "cell_type": "markdown",
   "metadata": {},
   "source": [
    "### class屬性值 該如何爬取?"
   ]
  },
  {
   "cell_type": "markdown",
   "metadata": {},
   "source": [
    "### Using CSS attributes (better)\n",
    "\n",
    "以下這種寫法較容易理解"
   ]
  },
  {
   "cell_type": "code",
   "execution_count": 12,
   "metadata": {},
   "outputs": [
    {
     "data": {
      "text/plain": [
       "[<b>one-1 </b>,\n",
       " <b> one-2 </b>,\n",
       " <b>two </b>,\n",
       " <b class=\"message1\"> 最新消息 </b>,\n",
       " <b class=\"message2\"> 訊息區  </b>]"
      ]
     },
     "execution_count": 12,
     "metadata": {},
     "output_type": "execute_result"
    }
   ],
   "source": [
    "soup.findAll(\"b\")"
   ]
  },
  {
   "cell_type": "code",
   "execution_count": 13,
   "metadata": {},
   "outputs": [
    {
     "data": {
      "text/plain": [
       "<b class=\"message2\"> 訊息區  </b>"
      ]
     },
     "execution_count": 13,
     "metadata": {},
     "output_type": "execute_result"
    }
   ],
   "source": [
    "soup.find(\"b\", {'class' : \"message2\"})"
   ]
  },
  {
   "cell_type": "code",
   "execution_count": 14,
   "metadata": {},
   "outputs": [
    {
     "data": {
      "text/plain": [
       "<b class=\"message2\"> 訊息區  </b>"
      ]
     },
     "execution_count": 14,
     "metadata": {},
     "output_type": "execute_result"
    }
   ],
   "source": [
    "soup.find(name = \"b\", attrs = {'class' : \"message2\"})"
   ]
  },
  {
   "cell_type": "code",
   "execution_count": null,
   "metadata": {},
   "outputs": [],
   "source": []
  },
  {
   "cell_type": "markdown",
   "metadata": {},
   "source": [
    "### Not recommended\n",
    "\n",
    "以下寫法較不容易理解"
   ]
  },
  {
   "cell_type": "code",
   "execution_count": 15,
   "metadata": {},
   "outputs": [
    {
     "data": {
      "text/plain": [
       "[<b class=\"message1\"> 最新消息 </b>]"
      ]
     },
     "execution_count": 15,
     "metadata": {},
     "output_type": "execute_result"
    }
   ],
   "source": [
    "# 後面直接寫  \"message1\" 表示 class= message1的意思\n",
    "soup.findAll(\"b\", \"message1\")"
   ]
  },
  {
   "cell_type": "code",
   "execution_count": 16,
   "metadata": {},
   "outputs": [
    {
     "data": {
      "text/plain": [
       "[<b class=\"message2\"> 訊息區  </b>]"
      ]
     },
     "execution_count": 16,
     "metadata": {},
     "output_type": "execute_result"
    }
   ],
   "source": [
    "soup.findAll(\"b\", class_ = \"message2\") # do not use: class="
   ]
  },
  {
   "cell_type": "code",
   "execution_count": 17,
   "metadata": {},
   "outputs": [
    {
     "data": {
      "text/plain": [
       "[<b class=\"message2\"> 訊息區  </b>]"
      ]
     },
     "execution_count": 17,
     "metadata": {},
     "output_type": "execute_result"
    }
   ],
   "source": [
    "soup.findAll(\"b\", class_ = \"message2\")"
   ]
  },
  {
   "cell_type": "code",
   "execution_count": null,
   "metadata": {},
   "outputs": [],
   "source": []
  },
  {
   "cell_type": "markdown",
   "metadata": {},
   "source": [
    "# CSS select() "
   ]
  },
  {
   "cell_type": "raw",
   "metadata": {},
   "source": [
    "select()與findAll()  目的一樣  \n",
    "\n",
    "select_one()與find() 目的一樣\n",
    "\n",
    "用法1:\n",
    "soup.select(div...)\n",
    "\n",
    "用法2:\n",
    "soup.select(\"div[id=foo] > div > div > div[class=fee] > span > span > a\")"
   ]
  },
  {
   "cell_type": "code",
   "execution_count": 18,
   "metadata": {},
   "outputs": [
    {
     "data": {
      "text/plain": [
       "[<p align=\"center\" id=\"firstpara\">\n",
       "        第1段文字\n",
       "        <b>one-1 </b>\n",
       " <b> one-2 </b>\n",
       " </p>, <p align=\"right\" id=\"secondpara\">\n",
       "        第2段文字\n",
       "        <b>two </b>\n",
       " </p>]"
      ]
     },
     "execution_count": 18,
     "metadata": {},
     "output_type": "execute_result"
    }
   ],
   "source": [
    "soup.select('p')"
   ]
  },
  {
   "cell_type": "code",
   "execution_count": 19,
   "metadata": {},
   "outputs": [
    {
     "data": {
      "text/plain": [
       "[<div class=\"content\">\n",
       " <b class=\"message1\"> 最新消息 </b>\n",
       " <b class=\"message2\"> 訊息區  </b>\n",
       " </div>]"
      ]
     },
     "execution_count": 19,
     "metadata": {},
     "output_type": "execute_result"
    }
   ],
   "source": [
    "soup.select('div')"
   ]
  },
  {
   "cell_type": "code",
   "execution_count": 20,
   "metadata": {},
   "outputs": [
    {
     "data": {
      "text/plain": [
       "[<div class=\"content\">\n",
       " <b class=\"message1\"> 最新消息 </b>\n",
       " <b class=\"message2\"> 訊息區  </b>\n",
       " </div>]"
      ]
     },
     "execution_count": 20,
     "metadata": {},
     "output_type": "execute_result"
    }
   ],
   "source": [
    "soup.select('div.content')"
   ]
  },
  {
   "cell_type": "code",
   "execution_count": 21,
   "metadata": {},
   "outputs": [
    {
     "data": {
      "text/plain": [
       "[<b class=\"message1\"> 最新消息 </b>]"
      ]
     },
     "execution_count": 21,
     "metadata": {},
     "output_type": "execute_result"
    }
   ],
   "source": [
    "soup.select(\".message1\")"
   ]
  },
  {
   "cell_type": "code",
   "execution_count": 22,
   "metadata": {},
   "outputs": [
    {
     "data": {
      "text/plain": [
       "[<b class=\"message1\"> 最新消息 </b>, <b class=\"message2\"> 訊息區  </b>]"
      ]
     },
     "execution_count": 22,
     "metadata": {},
     "output_type": "execute_result"
    }
   ],
   "source": [
    "soup.select(\"div.content > b\") # > 表示在這個tag之內的tag"
   ]
  },
  {
   "cell_type": "code",
   "execution_count": 23,
   "metadata": {},
   "outputs": [
    {
     "data": {
      "text/plain": [
       "[<b class=\"message1\"> 最新消息 </b>]"
      ]
     },
     "execution_count": 23,
     "metadata": {},
     "output_type": "execute_result"
    }
   ],
   "source": [
    "soup.select(\"div.content > b.message1\")"
   ]
  },
  {
   "cell_type": "code",
   "execution_count": 24,
   "metadata": {},
   "outputs": [
    {
     "data": {
      "text/plain": [
       "[<b>one-1 </b>,\n",
       " <b> one-2 </b>,\n",
       " <b>two </b>,\n",
       " <b class=\"message1\"> 最新消息 </b>,\n",
       " <b class=\"message2\"> 訊息區  </b>]"
      ]
     },
     "execution_count": 24,
     "metadata": {},
     "output_type": "execute_result"
    }
   ],
   "source": [
    "soup.select(\"b\")"
   ]
  },
  {
   "cell_type": "code",
   "execution_count": 25,
   "metadata": {},
   "outputs": [
    {
     "data": {
      "text/plain": [
       "[<b class=\"message1\"> 最新消息 </b>]"
      ]
     },
     "execution_count": 25,
     "metadata": {},
     "output_type": "execute_result"
    }
   ],
   "source": [
    "soup.select(\"b.message1\")"
   ]
  },
  {
   "cell_type": "code",
   "execution_count": null,
   "metadata": {},
   "outputs": [],
   "source": []
  },
  {
   "cell_type": "markdown",
   "metadata": {},
   "source": [
    "## getText() or text\n",
    "\n",
    "找到之後 抓文字的部分"
   ]
  },
  {
   "cell_type": "code",
   "execution_count": 26,
   "metadata": {},
   "outputs": [
    {
     "data": {
      "text/plain": [
       "<p align=\"center\" id=\"firstpara\">\n",
       "       第1段文字\n",
       "       <b>one-1 </b>\n",
       "<b> one-2 </b>\n",
       "</p>"
      ]
     },
     "execution_count": 26,
     "metadata": {},
     "output_type": "execute_result"
    }
   ],
   "source": [
    "soup.find('p', align='center')"
   ]
  },
  {
   "cell_type": "code",
   "execution_count": 27,
   "metadata": {},
   "outputs": [],
   "source": [
    "result = soup.find('p', align='center')"
   ]
  },
  {
   "cell_type": "code",
   "execution_count": 28,
   "metadata": {},
   "outputs": [
    {
     "data": {
      "text/plain": [
       "'\\n       第1段文字\\n       one-1 \\n one-2 \\n'"
      ]
     },
     "execution_count": 28,
     "metadata": {},
     "output_type": "execute_result"
    }
   ],
   "source": [
    "result.text"
   ]
  },
  {
   "cell_type": "code",
   "execution_count": 29,
   "metadata": {},
   "outputs": [
    {
     "data": {
      "text/plain": [
       "'\\n       第1段文字\\n       one-1 \\n one-2 \\n'"
      ]
     },
     "execution_count": 29,
     "metadata": {},
     "output_type": "execute_result"
    }
   ],
   "source": [
    "result.getText()"
   ]
  },
  {
   "cell_type": "code",
   "execution_count": null,
   "metadata": {},
   "outputs": [],
   "source": []
  },
  {
   "cell_type": "markdown",
   "metadata": {},
   "source": [
    "## How to get attribute value\n",
    "\n",
    "抓到之後，取得標籤Tag的屬性值"
   ]
  },
  {
   "cell_type": "raw",
   "metadata": {},
   "source": [
    "每個<P>標籤都有\"id\"屬性和\"align\"屬性。\n",
    "\n",
    "(1)將Tag看成字典來訪問標籤的屬性  例如:['id']\n",
    "\n",
    "(2)或使用get()  例如:get('id')\n",
    "    "
   ]
  },
  {
   "cell_type": "code",
   "execution_count": 30,
   "metadata": {},
   "outputs": [
    {
     "data": {
      "text/plain": [
       "<p align=\"center\" id=\"firstpara\">\n",
       "       第1段文字\n",
       "       <b>one-1 </b>\n",
       "<b> one-2 </b>\n",
       "</p>"
      ]
     },
     "execution_count": 30,
     "metadata": {},
     "output_type": "execute_result"
    }
   ],
   "source": [
    "soup.find('p', align='center')"
   ]
  },
  {
   "cell_type": "code",
   "execution_count": 31,
   "metadata": {},
   "outputs": [
    {
     "data": {
      "text/plain": [
       "'firstpara'"
      ]
     },
     "execution_count": 31,
     "metadata": {},
     "output_type": "execute_result"
    }
   ],
   "source": [
    "soup.find('p', align='center')['id']"
   ]
  },
  {
   "cell_type": "code",
   "execution_count": null,
   "metadata": {},
   "outputs": [],
   "source": []
  },
  {
   "cell_type": "code",
   "execution_count": 32,
   "metadata": {},
   "outputs": [
    {
     "data": {
      "text/plain": [
       "[<p align=\"center\" id=\"firstpara\">\n",
       "        第1段文字\n",
       "        <b>one-1 </b>\n",
       " <b> one-2 </b>\n",
       " </p>, <p align=\"right\" id=\"secondpara\">\n",
       "        第2段文字\n",
       "        <b>two </b>\n",
       " </p>]"
      ]
     },
     "execution_count": 32,
     "metadata": {},
     "output_type": "execute_result"
    }
   ],
   "source": [
    "soup.findAll('p')"
   ]
  },
  {
   "cell_type": "code",
   "execution_count": 33,
   "metadata": {},
   "outputs": [
    {
     "data": {
      "text/plain": [
       "'firstpara'"
      ]
     },
     "execution_count": 33,
     "metadata": {},
     "output_type": "execute_result"
    }
   ],
   "source": [
    "soup.findAll('p')[0].get('id')"
   ]
  },
  {
   "cell_type": "code",
   "execution_count": 34,
   "metadata": {},
   "outputs": [
    {
     "data": {
      "text/plain": [
       "'secondpara'"
      ]
     },
     "execution_count": 34,
     "metadata": {},
     "output_type": "execute_result"
    }
   ],
   "source": [
    "soup.findAll('p')[1]['id']"
   ]
  },
  {
   "cell_type": "code",
   "execution_count": null,
   "metadata": {},
   "outputs": [],
   "source": []
  },
  {
   "cell_type": "markdown",
   "metadata": {},
   "source": [
    "# Using regular regression\n",
    "\n",
    "正規表達式"
   ]
  },
  {
   "cell_type": "code",
   "execution_count": 35,
   "metadata": {},
   "outputs": [
    {
     "data": {
      "text/plain": [
       "[<p align=\"right\" id=\"secondpara\">\n",
       "        第2段文字\n",
       "        <b>two </b>\n",
       " </p>]"
      ]
     },
     "execution_count": 35,
     "metadata": {},
     "output_type": "execute_result"
    }
   ],
   "source": [
    "# 尋找所有以r開頭的標籤\n",
    "soup.findAll('p', align = re.compile('^r.*') )"
   ]
  },
  {
   "cell_type": "code",
   "execution_count": 36,
   "metadata": {},
   "outputs": [
    {
     "data": {
      "text/plain": [
       "[<p align=\"right\" id=\"secondpara\">\n",
       "        第2段文字\n",
       "        <b>two </b>\n",
       " </p>]"
      ]
     },
     "execution_count": 36,
     "metadata": {},
     "output_type": "execute_result"
    }
   ],
   "source": [
    "# 尋找所有以r開頭的標籤\n",
    "soup.findAll('p', attrs = {'align' : re.compile('^r.*') })"
   ]
  },
  {
   "cell_type": "code",
   "execution_count": null,
   "metadata": {},
   "outputs": [],
   "source": []
  },
  {
   "cell_type": "code",
   "execution_count": 37,
   "metadata": {},
   "outputs": [
    {
     "data": {
      "text/plain": [
       "[<p align=\"center\" id=\"firstpara\">\n",
       "        第1段文字\n",
       "        <b>one-1 </b>\n",
       " <b> one-2 </b>\n",
       " </p>, <p align=\"right\" id=\"secondpara\">\n",
       "        第2段文字\n",
       "        <b>two </b>\n",
       " </p>]"
      ]
     },
     "execution_count": 37,
     "metadata": {},
     "output_type": "execute_result"
    }
   ],
   "source": [
    "# 找出 id標籤名稱為 para結尾的標籤  只要是標籤都可以這樣找!\n",
    "soup.findAll(id=re.compile(\"para$\"))"
   ]
  },
  {
   "cell_type": "code",
   "execution_count": null,
   "metadata": {},
   "outputs": [],
   "source": []
  },
  {
   "cell_type": "code",
   "execution_count": null,
   "metadata": {},
   "outputs": [],
   "source": []
  },
  {
   "cell_type": "markdown",
   "metadata": {},
   "source": [
    "# Multiple condition\n",
    "\n",
    "多個條件"
   ]
  },
  {
   "cell_type": "raw",
   "metadata": {},
   "source": [
    "How to use?\n",
    "\n",
    "findAll(name = ['title', 'b'])\n",
    "findAll({'title' : True, 'p' : True})"
   ]
  },
  {
   "cell_type": "code",
   "execution_count": 38,
   "metadata": {
    "scrolled": true
   },
   "outputs": [
    {
     "data": {
      "text/plain": [
       "[<title>\n",
       "        網頁標題\n",
       "       </title>,\n",
       " <b>one-1 </b>,\n",
       " <b> one-2 </b>,\n",
       " <b>two </b>,\n",
       " <b class=\"message1\"> 最新消息 </b>,\n",
       " <b class=\"message2\"> 訊息區  </b>]"
      ]
     },
     "execution_count": 38,
     "metadata": {},
     "output_type": "execute_result"
    }
   ],
   "source": [
    "# 尋找所有 title標籤 b標籤\n",
    "soup.findAll(['title', 'b'])"
   ]
  },
  {
   "cell_type": "code",
   "execution_count": 39,
   "metadata": {
    "scrolled": true
   },
   "outputs": [
    {
     "data": {
      "text/plain": [
       "[<title>\n",
       "        網頁標題\n",
       "       </title>,\n",
       " <b>one-1 </b>,\n",
       " <b> one-2 </b>,\n",
       " <b>two </b>,\n",
       " <b class=\"message1\"> 最新消息 </b>,\n",
       " <b class=\"message2\"> 訊息區  </b>]"
      ]
     },
     "execution_count": 39,
     "metadata": {},
     "output_type": "execute_result"
    }
   ],
   "source": [
    "# 尋找所有 title標籤 b標籤\n",
    "soup.findAll(name = ['title', 'b'])"
   ]
  },
  {
   "cell_type": "code",
   "execution_count": 40,
   "metadata": {},
   "outputs": [
    {
     "data": {
      "text/plain": [
       "[<title>\n",
       "        網頁標題\n",
       "       </title>, <p align=\"center\" id=\"firstpara\">\n",
       "        第1段文字\n",
       "        <b>one-1 </b>\n",
       " <b> one-2 </b>\n",
       " </p>, <p align=\"right\" id=\"secondpara\">\n",
       "        第2段文字\n",
       "        <b>two </b>\n",
       " </p>]"
      ]
     },
     "execution_count": 40,
     "metadata": {},
     "output_type": "execute_result"
    }
   ],
   "source": [
    "soup.findAll({'title' : True, 'p' : True})"
   ]
  },
  {
   "cell_type": "code",
   "execution_count": 41,
   "metadata": {},
   "outputs": [
    {
     "data": {
      "text/plain": [
       "[<title>\n",
       "        網頁標題\n",
       "       </title>, <p align=\"center\" id=\"firstpara\">\n",
       "        第1段文字\n",
       "        <b>one-1 </b>\n",
       " <b> one-2 </b>\n",
       " </p>, <p align=\"right\" id=\"secondpara\">\n",
       "        第2段文字\n",
       "        <b>two </b>\n",
       " </p>]"
      ]
     },
     "execution_count": 41,
     "metadata": {},
     "output_type": "execute_result"
    }
   ],
   "source": [
    "soup.findAll(name = {'title' : True, 'p' : True})"
   ]
  },
  {
   "cell_type": "code",
   "execution_count": null,
   "metadata": {},
   "outputs": [],
   "source": []
  },
  {
   "cell_type": "code",
   "execution_count": 42,
   "metadata": {},
   "outputs": [
    {
     "data": {
      "text/plain": [
       "[<p align=\"center\" id=\"firstpara\">\n",
       "        第1段文字\n",
       "        <b>one-1 </b>\n",
       " <b> one-2 </b>\n",
       " </p>, <p align=\"right\" id=\"secondpara\">\n",
       "        第2段文字\n",
       "        <b>two </b>\n",
       " </p>]"
      ]
     },
     "execution_count": 42,
     "metadata": {},
     "output_type": "execute_result"
    }
   ],
   "source": [
    "soup.findAll(id=True)"
   ]
  },
  {
   "cell_type": "code",
   "execution_count": 43,
   "metadata": {},
   "outputs": [
    {
     "data": {
      "text/plain": [
       "[<p align=\"center\" id=\"firstpara\">\n",
       "        第1段文字\n",
       "        <b>one-1 </b>\n",
       " <b> one-2 </b>\n",
       " </p>, <p align=\"right\" id=\"secondpara\">\n",
       "        第2段文字\n",
       "        <b>two </b>\n",
       " </p>]"
      ]
     },
     "execution_count": 43,
     "metadata": {},
     "output_type": "execute_result"
    }
   ],
   "source": [
    "soup.findAll(align=True)"
   ]
  },
  {
   "cell_type": "code",
   "execution_count": null,
   "metadata": {},
   "outputs": [],
   "source": []
  },
  {
   "cell_type": "code",
   "execution_count": 44,
   "metadata": {},
   "outputs": [
    {
     "data": {
      "text/plain": [
       "[<p align=\"center\" id=\"firstpara\">\n",
       "        第1段文字\n",
       "        <b>one-1 </b>\n",
       " <b> one-2 </b>\n",
       " </p>, <p align=\"right\" id=\"secondpara\">\n",
       "        第2段文字\n",
       "        <b>two </b>\n",
       " </p>]"
      ]
     },
     "execution_count": 44,
     "metadata": {},
     "output_type": "execute_result"
    }
   ],
   "source": [
    "soup.findAll(attrs={'id' : re.compile(\"para$\")})"
   ]
  },
  {
   "cell_type": "code",
   "execution_count": null,
   "metadata": {},
   "outputs": [],
   "source": []
  },
  {
   "cell_type": "code",
   "execution_count": 45,
   "metadata": {},
   "outputs": [
    {
     "data": {
      "text/plain": [
       "[<html>\n",
       " <head>\n",
       " <title>\n",
       "        網頁標題\n",
       "       </title>\n",
       " </head>\n",
       " <body>\n",
       " <p align=\"center\" id=\"firstpara\">\n",
       "        第1段文字\n",
       "        <b>one-1 </b>\n",
       " <b> one-2 </b>\n",
       " </p>\n",
       " <p align=\"right\" id=\"secondpara\">\n",
       "        第2段文字\n",
       "        <b>two </b>\n",
       " </p>\n",
       " <div class=\"content\">\n",
       " <b class=\"message1\"> 最新消息 </b>\n",
       " <b class=\"message2\"> 訊息區  </b>\n",
       " </div>\n",
       " </body>\n",
       " </html>, <head>\n",
       " <title>\n",
       "        網頁標題\n",
       "       </title>\n",
       " </head>, <title>\n",
       "        網頁標題\n",
       "       </title>, <body>\n",
       " <p align=\"center\" id=\"firstpara\">\n",
       "        第1段文字\n",
       "        <b>one-1 </b>\n",
       " <b> one-2 </b>\n",
       " </p>\n",
       " <p align=\"right\" id=\"secondpara\">\n",
       "        第2段文字\n",
       "        <b>two </b>\n",
       " </p>\n",
       " <div class=\"content\">\n",
       " <b class=\"message1\"> 最新消息 </b>\n",
       " <b class=\"message2\"> 訊息區  </b>\n",
       " </div>\n",
       " </body>, <p align=\"center\" id=\"firstpara\">\n",
       "        第1段文字\n",
       "        <b>one-1 </b>\n",
       " <b> one-2 </b>\n",
       " </p>, <b>one-1 </b>, <b> one-2 </b>, <p align=\"right\" id=\"secondpara\">\n",
       "        第2段文字\n",
       "        <b>two </b>\n",
       " </p>, <b>two </b>, <div class=\"content\">\n",
       " <b class=\"message1\"> 最新消息 </b>\n",
       " <b class=\"message2\"> 訊息區  </b>\n",
       " </div>, <b class=\"message1\"> 最新消息 </b>, <b class=\"message2\"> 訊息區  </b>]"
      ]
     },
     "execution_count": 45,
     "metadata": {},
     "output_type": "execute_result"
    }
   ],
   "source": [
    "# 找出所有的標籤\n",
    "soup.findAll(True)"
   ]
  },
  {
   "cell_type": "code",
   "execution_count": 46,
   "metadata": {},
   "outputs": [
    {
     "data": {
      "text/plain": [
       "['html', 'head', 'title', 'body', 'p', 'b', 'b', 'p', 'b', 'div', 'b', 'b']"
      ]
     },
     "execution_count": 46,
     "metadata": {},
     "output_type": "execute_result"
    }
   ],
   "source": [
    "allTags = soup.findAll(True)\n",
    "[tag.name for tag in allTags]"
   ]
  },
  {
   "cell_type": "code",
   "execution_count": null,
   "metadata": {},
   "outputs": [],
   "source": []
  },
  {
   "cell_type": "markdown",
   "metadata": {},
   "source": [
    "# Delete tag (刪除標籤物件)"
   ]
  },
  {
   "cell_type": "code",
   "execution_count": null,
   "metadata": {},
   "outputs": [],
   "source": []
  },
  {
   "cell_type": "code",
   "execution_count": 47,
   "metadata": {},
   "outputs": [],
   "source": [
    "doc_ = ['<html><head><title>網頁標題</title></head>',\n",
    "       '<body><p id=\"firstpara\" align=\"center\">第1段文字<b>one-1</b><b>one-2</b>.</p>',\n",
    "       '<p id=\"secondpara\" align=\"right\">第2段文字<b>two</b>.</p></body>',\n",
    "       '</html>']\n",
    "doc = ''.join(doc_)"
   ]
  },
  {
   "cell_type": "code",
   "execution_count": 48,
   "metadata": {},
   "outputs": [
    {
     "name": "stdout",
     "output_type": "stream",
     "text": [
      "<html>\n",
      " <head>\n",
      "  <title>\n",
      "   網頁標題\n",
      "  </title>\n",
      " </head>\n",
      " <body>\n",
      "  <p align=\"center\" id=\"firstpara\">\n",
      "   第1段文字\n",
      "   <b>\n",
      "    one-1\n",
      "   </b>\n",
      "   <b>\n",
      "    one-2\n",
      "   </b>\n",
      "   .\n",
      "  </p>\n",
      "  <p align=\"right\" id=\"secondpara\">\n",
      "   第2段文字\n",
      "   <b>\n",
      "    two\n",
      "   </b>\n",
      "   .\n",
      "  </p>\n",
      " </body>\n",
      "</html>\n"
     ]
    }
   ],
   "source": [
    "soup2 = BeautifulSoup(doc, \"lxml\")\n",
    "# soup = BeautifulSoup(soup, \"html.parser\")\n",
    "print (soup2.prettify())"
   ]
  },
  {
   "cell_type": "code",
   "execution_count": 49,
   "metadata": {},
   "outputs": [
    {
     "data": {
      "text/plain": [
       "[<p align=\"center\" id=\"firstpara\">第1段文字<b>one-1</b><b>one-2</b>.</p>,\n",
       " <p align=\"right\" id=\"secondpara\">第2段文字<b>two</b>.</p>]"
      ]
     },
     "execution_count": 49,
     "metadata": {},
     "output_type": "execute_result"
    }
   ],
   "source": [
    "soup2.findAll('p')"
   ]
  },
  {
   "cell_type": "code",
   "execution_count": 50,
   "metadata": {},
   "outputs": [],
   "source": [
    "#soup2.findAll('p')[1].extract()\n",
    "soup2.findAll('p')[1].decompose()"
   ]
  },
  {
   "cell_type": "code",
   "execution_count": 51,
   "metadata": {
    "scrolled": true
   },
   "outputs": [
    {
     "name": "stdout",
     "output_type": "stream",
     "text": [
      "<html>\n",
      " <head>\n",
      "  <title>\n",
      "   網頁標題\n",
      "  </title>\n",
      " </head>\n",
      " <body>\n",
      "  <p align=\"center\" id=\"firstpara\">\n",
      "   第1段文字\n",
      "   <b>\n",
      "    one-1\n",
      "   </b>\n",
      "   <b>\n",
      "    one-2\n",
      "   </b>\n",
      "   .\n",
      "  </p>\n",
      " </body>\n",
      "</html>\n"
     ]
    }
   ],
   "source": [
    "print(soup2.prettify())"
   ]
  },
  {
   "cell_type": "code",
   "execution_count": null,
   "metadata": {},
   "outputs": [],
   "source": []
  },
  {
   "cell_type": "markdown",
   "metadata": {},
   "source": [
    "# Find a specific string from text\n",
    "\n",
    "找出文字內容之片段"
   ]
  },
  {
   "cell_type": "raw",
   "metadata": {},
   "source": [
    "text 用于搜索NavigableString对象的参数\n",
    "\n",
    "它的值可以是字符串，一个正则表达式， 一个list或dictionary，True或None\n",
    "\n",
    "注意:字串後面是否有空白? 前面有空白會被去除，但是後面有空白不會被去除，因此，比對不符合。"
   ]
  },
  {
   "cell_type": "code",
   "execution_count": null,
   "metadata": {},
   "outputs": [],
   "source": []
  },
  {
   "cell_type": "code",
   "execution_count": 52,
   "metadata": {},
   "outputs": [
    {
     "data": {
      "text/plain": [
       "[]"
      ]
     },
     "execution_count": 52,
     "metadata": {},
     "output_type": "execute_result"
    }
   ],
   "source": [
    "soup.findAll(text=\"two\")"
   ]
  },
  {
   "cell_type": "code",
   "execution_count": 53,
   "metadata": {},
   "outputs": [
    {
     "data": {
      "text/plain": [
       "['one-1 ']"
      ]
     },
     "execution_count": 53,
     "metadata": {},
     "output_type": "execute_result"
    }
   ],
   "source": [
    "soup.findAll(text=[\"one-1 \", \"two\"])"
   ]
  },
  {
   "cell_type": "code",
   "execution_count": 54,
   "metadata": {},
   "outputs": [
    {
     "data": {
      "text/plain": [
       "['one-1 ', ' one-2 ']"
      ]
     },
     "execution_count": 54,
     "metadata": {},
     "output_type": "execute_result"
    }
   ],
   "source": [
    "soup.findAll(text=[re.compile(\"one-\\d*\"), \"two\"])"
   ]
  },
  {
   "cell_type": "code",
   "execution_count": 55,
   "metadata": {},
   "outputs": [
    {
     "data": {
      "text/plain": [
       "['\\n       第1段文字\\n       ', '\\n       第2段文字\\n       ']"
      ]
     },
     "execution_count": 55,
     "metadata": {},
     "output_type": "execute_result"
    }
   ],
   "source": [
    "soup.findAll(text=re.compile(\"文字\"))"
   ]
  },
  {
   "cell_type": "code",
   "execution_count": 56,
   "metadata": {},
   "outputs": [
    {
     "data": {
      "text/plain": [
       "['one-1 ', ' one-2 ']"
      ]
     },
     "execution_count": 56,
     "metadata": {},
     "output_type": "execute_result"
    }
   ],
   "source": [
    "soup.findAll(text=re.compile(\"one-\\d*\"))"
   ]
  },
  {
   "cell_type": "code",
   "execution_count": 57,
   "metadata": {},
   "outputs": [
    {
     "data": {
      "text/plain": [
       "['\\n       第1段文字\\n       ', 'one-1 ']"
      ]
     },
     "execution_count": 57,
     "metadata": {},
     "output_type": "execute_result"
    }
   ],
   "source": [
    "soup.findAll(text=re.compile(\"1\"))"
   ]
  },
  {
   "cell_type": "code",
   "execution_count": null,
   "metadata": {},
   "outputs": [],
   "source": []
  },
  {
   "cell_type": "code",
   "execution_count": 58,
   "metadata": {},
   "outputs": [
    {
     "data": {
      "text/plain": [
       "['\\n',\n",
       " '\\n',\n",
       " '\\n       網頁標題\\n      ',\n",
       " '\\n',\n",
       " '\\n',\n",
       " '\\n',\n",
       " '\\n       第1段文字\\n       ',\n",
       " 'one-1 ',\n",
       " '\\n',\n",
       " ' one-2 ',\n",
       " '\\n',\n",
       " '\\n',\n",
       " '\\n       第2段文字\\n       ',\n",
       " 'two ',\n",
       " '\\n',\n",
       " '\\n',\n",
       " '\\n',\n",
       " ' 最新消息 ',\n",
       " '\\n',\n",
       " ' 訊息區  ',\n",
       " '\\n',\n",
       " '\\n',\n",
       " '\\n']"
      ]
     },
     "execution_count": 58,
     "metadata": {},
     "output_type": "execute_result"
    }
   ],
   "source": [
    "soup.findAll(text=True)"
   ]
  },
  {
   "cell_type": "code",
   "execution_count": 59,
   "metadata": {},
   "outputs": [
    {
     "data": {
      "text/plain": [
       "['\\n       網頁標題\\n      ',\n",
       " '\\n       第1段文字\\n       ',\n",
       " 'one-1 ',\n",
       " ' one-2 ',\n",
       " '\\n       第2段文字\\n       ',\n",
       " 'two ',\n",
       " ' 最新消息 ',\n",
       " ' 訊息區  ']"
      ]
     },
     "execution_count": 59,
     "metadata": {},
     "output_type": "execute_result"
    }
   ],
   "source": [
    "soup.findAll(text= lambda x: len(x) > 3 )"
   ]
  },
  {
   "cell_type": "code",
   "execution_count": null,
   "metadata": {},
   "outputs": [],
   "source": []
  },
  {
   "cell_type": "code",
   "execution_count": null,
   "metadata": {},
   "outputs": [],
   "source": []
  },
  {
   "cell_type": "markdown",
   "metadata": {},
   "source": [
    "# Parse tree\n",
    "\n",
    "剖析樹"
   ]
  },
  {
   "cell_type": "raw",
   "metadata": {},
   "source": [
    "可以向上 向下 向左右查找標籤"
   ]
  },
  {
   "cell_type": "raw",
   "metadata": {},
   "source": [
    "contents\n",
    "使用parent向前遍歷樹。使用contents向後遍歷樹。 "
   ]
  },
  {
   "cell_type": "raw",
   "metadata": {},
   "source": [
    "string\n",
    "為了方便，如果一個標籤只有一個子節點且是字符串類型，這個自己可以這樣訪問 tag.string，等同於tag.contents[0]的形式。"
   ]
  },
  {
   "cell_type": "raw",
   "metadata": {},
   "source": [
    "nextSibling和previousSibling\n",
    "使用它們你可以跳往在剖析樹中同等層次的下一個元素。在上面的文檔中， <HEAD> Tag的nextSibling是<BODY> Tag，因為<BODY> Tag是在<html> Tag的下一層。<BODY>標籤的nextSibling為None,因為<HTML>下一層沒有標籤是直接的在它之後。"
   ]
  },
  {
   "cell_type": "raw",
   "metadata": {},
   "source": [
    "next和previous\n",
    "使用它们可以按照soup处理文档的次序遍历整个文档，而不是它们在剖析树中看到那种次序。 例如<HEAD> Tag的next是<TITLE>Tag, 而不是<BODY> Tag。"
   ]
  },
  {
   "cell_type": "raw",
   "metadata": {},
   "source": [
    "findNextSiblings(name, attrs, text, limit, **kwargs) and findNextSibling(name, attrs, text, **kwargs)\n",
    "这两个方法以nextSibling的成员为依据， 获得满足条件的Tag或NavigableText对象。"
   ]
  },
  {
   "cell_type": "code",
   "execution_count": null,
   "metadata": {},
   "outputs": [],
   "source": []
  },
  {
   "cell_type": "markdown",
   "metadata": {},
   "source": [
    "### 基本操作"
   ]
  },
  {
   "cell_type": "code",
   "execution_count": 60,
   "metadata": {},
   "outputs": [
    {
     "data": {
      "text/plain": [
       "<head>\n",
       "<title>\n",
       "       網頁標題\n",
       "      </title>\n",
       "</head>"
      ]
     },
     "execution_count": 60,
     "metadata": {},
     "output_type": "execute_result"
    }
   ],
   "source": [
    "soup.head"
   ]
  },
  {
   "cell_type": "code",
   "execution_count": 61,
   "metadata": {},
   "outputs": [
    {
     "data": {
      "text/plain": [
       "<title>\n",
       "       網頁標題\n",
       "      </title>"
      ]
     },
     "execution_count": 61,
     "metadata": {},
     "output_type": "execute_result"
    }
   ],
   "source": [
    "soup.title"
   ]
  },
  {
   "cell_type": "code",
   "execution_count": 62,
   "metadata": {},
   "outputs": [
    {
     "data": {
      "text/plain": [
       "<title>\n",
       "       網頁標題\n",
       "      </title>"
      ]
     },
     "execution_count": 62,
     "metadata": {},
     "output_type": "execute_result"
    }
   ],
   "source": [
    "soup.head.title"
   ]
  },
  {
   "cell_type": "code",
   "execution_count": 63,
   "metadata": {},
   "outputs": [
    {
     "data": {
      "text/plain": [
       "<title>\n",
       "       網頁標題\n",
       "      </title>"
      ]
     },
     "execution_count": 63,
     "metadata": {},
     "output_type": "execute_result"
    }
   ],
   "source": [
    "soup.html.head.title"
   ]
  },
  {
   "cell_type": "code",
   "execution_count": 64,
   "metadata": {},
   "outputs": [
    {
     "data": {
      "text/plain": [
       "'\\n       網頁標題\\n      '"
      ]
     },
     "execution_count": 64,
     "metadata": {},
     "output_type": "execute_result"
    }
   ],
   "source": [
    "soup.head.title.string"
   ]
  },
  {
   "cell_type": "code",
   "execution_count": 65,
   "metadata": {},
   "outputs": [
    {
     "data": {
      "text/plain": [
       "'\\n'"
      ]
     },
     "execution_count": 65,
     "metadata": {},
     "output_type": "execute_result"
    }
   ],
   "source": [
    "soup.head.nextSibling"
   ]
  },
  {
   "cell_type": "code",
   "execution_count": 66,
   "metadata": {},
   "outputs": [],
   "source": [
    "soup.head.nextSibling.name"
   ]
  },
  {
   "cell_type": "code",
   "execution_count": 67,
   "metadata": {},
   "outputs": [
    {
     "data": {
      "text/plain": [
       "'\\n'"
      ]
     },
     "execution_count": 67,
     "metadata": {},
     "output_type": "execute_result"
    }
   ],
   "source": [
    "soup.body.next"
   ]
  },
  {
   "cell_type": "code",
   "execution_count": 68,
   "metadata": {},
   "outputs": [
    {
     "data": {
      "text/plain": [
       "<p align=\"center\" id=\"firstpara\">\n",
       "       第1段文字\n",
       "       <b>one-1 </b>\n",
       "<b> one-2 </b>\n",
       "</p>"
      ]
     },
     "execution_count": 68,
     "metadata": {},
     "output_type": "execute_result"
    }
   ],
   "source": [
    "soup.body.next.next"
   ]
  },
  {
   "cell_type": "code",
   "execution_count": 69,
   "metadata": {},
   "outputs": [
    {
     "data": {
      "text/plain": [
       "<p align=\"center\" id=\"firstpara\">\n",
       "       第1段文字\n",
       "       <b>one-1 </b>\n",
       "<b> one-2 </b>\n",
       "</p>"
      ]
     },
     "execution_count": 69,
     "metadata": {},
     "output_type": "execute_result"
    }
   ],
   "source": [
    "soup.p"
   ]
  },
  {
   "cell_type": "code",
   "execution_count": 70,
   "metadata": {},
   "outputs": [
    {
     "data": {
      "text/plain": [
       "'\\n       第1段文字\\n       '"
      ]
     },
     "execution_count": 70,
     "metadata": {},
     "output_type": "execute_result"
    }
   ],
   "source": [
    "soup.p.next"
   ]
  },
  {
   "cell_type": "code",
   "execution_count": 71,
   "metadata": {},
   "outputs": [
    {
     "data": {
      "text/plain": [
       "<body>\n",
       "<p align=\"center\" id=\"firstpara\">\n",
       "       第1段文字\n",
       "       <b>one-1 </b>\n",
       "<b> one-2 </b>\n",
       "</p>\n",
       "<p align=\"right\" id=\"secondpara\">\n",
       "       第2段文字\n",
       "       <b>two </b>\n",
       "</p>\n",
       "<div class=\"content\">\n",
       "<b class=\"message1\"> 最新消息 </b>\n",
       "<b class=\"message2\"> 訊息區  </b>\n",
       "</div>\n",
       "</body>"
      ]
     },
     "execution_count": 71,
     "metadata": {},
     "output_type": "execute_result"
    }
   ],
   "source": [
    "soup.p.parent"
   ]
  },
  {
   "cell_type": "code",
   "execution_count": 72,
   "metadata": {},
   "outputs": [
    {
     "data": {
      "text/plain": [
       "<p align=\"center\" id=\"firstpara\">\n",
       "       第1段文字\n",
       "       <b>one-1 </b>\n",
       "<b> one-2 </b>\n",
       "</p>"
      ]
     },
     "execution_count": 72,
     "metadata": {},
     "output_type": "execute_result"
    }
   ],
   "source": [
    "soup.p"
   ]
  },
  {
   "cell_type": "code",
   "execution_count": 73,
   "metadata": {},
   "outputs": [
    {
     "data": {
      "text/plain": [
       "<b>one-1 </b>"
      ]
     },
     "execution_count": 73,
     "metadata": {},
     "output_type": "execute_result"
    }
   ],
   "source": [
    "soup.p.b"
   ]
  },
  {
   "cell_type": "code",
   "execution_count": 74,
   "metadata": {},
   "outputs": [
    {
     "data": {
      "text/plain": [
       "'\\n'"
      ]
     },
     "execution_count": 74,
     "metadata": {},
     "output_type": "execute_result"
    }
   ],
   "source": [
    "soup.p.b.nextSibling"
   ]
  },
  {
   "cell_type": "code",
   "execution_count": null,
   "metadata": {},
   "outputs": [],
   "source": []
  },
  {
   "cell_type": "code",
   "execution_count": 75,
   "metadata": {},
   "outputs": [
    {
     "data": {
      "text/plain": [
       "'\\n'"
      ]
     },
     "execution_count": 75,
     "metadata": {},
     "output_type": "execute_result"
    }
   ],
   "source": [
    "soup.p.nextSibling"
   ]
  },
  {
   "cell_type": "code",
   "execution_count": null,
   "metadata": {},
   "outputs": [],
   "source": []
  },
  {
   "cell_type": "code",
   "execution_count": 76,
   "metadata": {},
   "outputs": [
    {
     "data": {
      "text/plain": [
       "<p align=\"center\" id=\"firstpara\">\n",
       "       第1段文字\n",
       "       <b>one-1 </b>\n",
       "<b> one-2 </b>\n",
       "</p>"
      ]
     },
     "execution_count": 76,
     "metadata": {},
     "output_type": "execute_result"
    }
   ],
   "source": [
    "soup.p"
   ]
  },
  {
   "cell_type": "code",
   "execution_count": null,
   "metadata": {},
   "outputs": [],
   "source": []
  },
  {
   "cell_type": "code",
   "execution_count": 77,
   "metadata": {},
   "outputs": [
    {
     "data": {
      "text/plain": [
       "'two '"
      ]
     },
     "execution_count": 77,
     "metadata": {},
     "output_type": "execute_result"
    }
   ],
   "source": [
    "soup.findAll('p')[1].b.string"
   ]
  },
  {
   "cell_type": "code",
   "execution_count": 78,
   "metadata": {},
   "outputs": [
    {
     "data": {
      "text/plain": [
       "'one-1 '"
      ]
     },
     "execution_count": 78,
     "metadata": {},
     "output_type": "execute_result"
    }
   ],
   "source": [
    "soup.find('p').b.string"
   ]
  },
  {
   "cell_type": "code",
   "execution_count": null,
   "metadata": {},
   "outputs": [],
   "source": []
  },
  {
   "cell_type": "markdown",
   "metadata": {},
   "source": [
    "### contents用法"
   ]
  },
  {
   "cell_type": "code",
   "execution_count": 79,
   "metadata": {},
   "outputs": [
    {
     "data": {
      "text/plain": [
       "[<html>\n",
       " <head>\n",
       " <title>\n",
       "        網頁標題\n",
       "       </title>\n",
       " </head>\n",
       " <body>\n",
       " <p align=\"center\" id=\"firstpara\">\n",
       "        第1段文字\n",
       "        <b>one-1 </b>\n",
       " <b> one-2 </b>\n",
       " </p>\n",
       " <p align=\"right\" id=\"secondpara\">\n",
       "        第2段文字\n",
       "        <b>two </b>\n",
       " </p>\n",
       " <div class=\"content\">\n",
       " <b class=\"message1\"> 最新消息 </b>\n",
       " <b class=\"message2\"> 訊息區  </b>\n",
       " </div>\n",
       " </body>\n",
       " </html>]"
      ]
     },
     "execution_count": 79,
     "metadata": {},
     "output_type": "execute_result"
    }
   ],
   "source": [
    "soup.contents"
   ]
  },
  {
   "cell_type": "code",
   "execution_count": 80,
   "metadata": {},
   "outputs": [
    {
     "data": {
      "text/plain": [
       "<html>\n",
       "<head>\n",
       "<title>\n",
       "       網頁標題\n",
       "      </title>\n",
       "</head>\n",
       "<body>\n",
       "<p align=\"center\" id=\"firstpara\">\n",
       "       第1段文字\n",
       "       <b>one-1 </b>\n",
       "<b> one-2 </b>\n",
       "</p>\n",
       "<p align=\"right\" id=\"secondpara\">\n",
       "       第2段文字\n",
       "       <b>two </b>\n",
       "</p>\n",
       "<div class=\"content\">\n",
       "<b class=\"message1\"> 最新消息 </b>\n",
       "<b class=\"message2\"> 訊息區  </b>\n",
       "</div>\n",
       "</body>\n",
       "</html>"
      ]
     },
     "execution_count": 80,
     "metadata": {},
     "output_type": "execute_result"
    }
   ],
   "source": [
    "soup.contents[0]"
   ]
  },
  {
   "cell_type": "code",
   "execution_count": 81,
   "metadata": {},
   "outputs": [
    {
     "data": {
      "text/plain": [
       "['\\n', <head>\n",
       " <title>\n",
       "        網頁標題\n",
       "       </title>\n",
       " </head>, '\\n', <body>\n",
       " <p align=\"center\" id=\"firstpara\">\n",
       "        第1段文字\n",
       "        <b>one-1 </b>\n",
       " <b> one-2 </b>\n",
       " </p>\n",
       " <p align=\"right\" id=\"secondpara\">\n",
       "        第2段文字\n",
       "        <b>two </b>\n",
       " </p>\n",
       " <div class=\"content\">\n",
       " <b class=\"message1\"> 最新消息 </b>\n",
       " <b class=\"message2\"> 訊息區  </b>\n",
       " </div>\n",
       " </body>, '\\n']"
      ]
     },
     "execution_count": 81,
     "metadata": {},
     "output_type": "execute_result"
    }
   ],
   "source": [
    "soup.contents[0].contents"
   ]
  },
  {
   "cell_type": "code",
   "execution_count": 82,
   "metadata": {},
   "outputs": [
    {
     "data": {
      "text/plain": [
       "'head'"
      ]
     },
     "execution_count": 82,
     "metadata": {},
     "output_type": "execute_result"
    }
   ],
   "source": [
    "soup.contents[0].contents[1].name"
   ]
  },
  {
   "cell_type": "code",
   "execution_count": null,
   "metadata": {},
   "outputs": [],
   "source": []
  },
  {
   "cell_type": "code",
   "execution_count": null,
   "metadata": {},
   "outputs": [],
   "source": []
  },
  {
   "cell_type": "markdown",
   "metadata": {},
   "source": [
    "# select(), select_one()"
   ]
  },
  {
   "cell_type": "raw",
   "metadata": {},
   "source": [
    "css的方式 select 與findAll 結果一樣  select_one與find結果一樣\n",
    "\n",
    "用法1:\n",
    "soup.select(div...)\n",
    "\n",
    "用法2:\n",
    "soup.select(\"div[id=foo] > div > div > div[class=fee] > span > span > a\")"
   ]
  },
  {
   "cell_type": "raw",
   "metadata": {},
   "source": [
    "I almost always use css selectors when chaining tags or using tag.classname, if looking for a single element without a class I use find. Essentially it comes down to the use case and personal preference."
   ]
  },
  {
   "cell_type": "code",
   "execution_count": 83,
   "metadata": {},
   "outputs": [],
   "source": [
    "import requests\n",
    "from bs4 import BeautifulSoup\n",
    "\n",
    "html_sample = '\\\n",
    "<html>\\\n",
    "<head>\\\n",
    "    <meta charset=\"UTF-8\">\\\n",
    "    <title></title>\\\n",
    "</head>\\\n",
    "<body>\\\n",
    "<h1 id=''title''>This is a test!</h1>\\\n",
    "<a href=''1'' class=''link1''>This is link1!</a>\\\n",
    "<a href=''2'' class=''link2''>This is link2!</a>\\\n",
    "<a href=''3'' class=''link3''>This is link3!</a>\\\n",
    "<a href=''3'' class=''link3''>This is link4!</a>\\\n",
    "hello world!<br>hello python!\\\n",
    "</body>\\\n",
    "</html>'"
   ]
  },
  {
   "cell_type": "code",
   "execution_count": 84,
   "metadata": {},
   "outputs": [],
   "source": [
    "soup = BeautifulSoup(html_sample, 'html.parser')"
   ]
  },
  {
   "cell_type": "code",
   "execution_count": 85,
   "metadata": {},
   "outputs": [
    {
     "name": "stdout",
     "output_type": "stream",
     "text": [
      "[<h1 id=\"title\">This is a test!</h1>]\n"
     ]
    }
   ],
   "source": [
    "#使用select()函数找出所有id为title的元素（id前面需加＃）\n",
    "\n",
    "alink = soup.select('#title')\n",
    "print(alink)"
   ]
  },
  {
   "cell_type": "code",
   "execution_count": 86,
   "metadata": {},
   "outputs": [
    {
     "name": "stdout",
     "output_type": "stream",
     "text": [
      "[<a class=\"link3\" href=\"3\">This is link3!</a>, <a class=\"link3\" href=\"3\">This is link4!</a>]\n"
     ]
    }
   ],
   "source": [
    "#使用select()函数找出所有class为link的元素（class前面需加 .）\n",
    "alink = soup.select('.link3')\n",
    "print(alink)"
   ]
  },
  {
   "cell_type": "code",
   "execution_count": 87,
   "metadata": {},
   "outputs": [
    {
     "data": {
      "text/plain": [
       "[<a class=\"link1\" href=\"1\">This is link1!</a>]"
      ]
     },
     "execution_count": 87,
     "metadata": {},
     "output_type": "execute_result"
    }
   ],
   "source": [
    "soup.select('a.link1')"
   ]
  },
  {
   "cell_type": "code",
   "execution_count": null,
   "metadata": {},
   "outputs": [],
   "source": []
  },
  {
   "cell_type": "code",
   "execution_count": 88,
   "metadata": {},
   "outputs": [
    {
     "data": {
      "text/plain": [
       "'1'"
      ]
     },
     "execution_count": 88,
     "metadata": {},
     "output_type": "execute_result"
    }
   ],
   "source": [
    "soup.select('a.link1')[0]['href']"
   ]
  },
  {
   "cell_type": "code",
   "execution_count": 89,
   "metadata": {},
   "outputs": [
    {
     "data": {
      "text/plain": [
       "'1'"
      ]
     },
     "execution_count": 89,
     "metadata": {},
     "output_type": "execute_result"
    }
   ],
   "source": [
    "soup.select('a.link1')[0].get('href')"
   ]
  },
  {
   "cell_type": "code",
   "execution_count": 90,
   "metadata": {},
   "outputs": [
    {
     "data": {
      "text/plain": [
       "'This is link1!'"
      ]
     },
     "execution_count": 90,
     "metadata": {},
     "output_type": "execute_result"
    }
   ],
   "source": [
    "soup.select('a.link1')[0].text"
   ]
  },
  {
   "cell_type": "code",
   "execution_count": 91,
   "metadata": {},
   "outputs": [
    {
     "data": {
      "text/plain": [
       "'This is link1!'"
      ]
     },
     "execution_count": 91,
     "metadata": {},
     "output_type": "execute_result"
    }
   ],
   "source": [
    "soup.select('a.link1')[0].string"
   ]
  },
  {
   "cell_type": "code",
   "execution_count": null,
   "metadata": {},
   "outputs": [],
   "source": []
  },
  {
   "cell_type": "code",
   "execution_count": 92,
   "metadata": {},
   "outputs": [
    {
     "data": {
      "text/plain": [
       "[<a class=\"link1\" href=\"1\">This is link1!</a>]"
      ]
     },
     "execution_count": 92,
     "metadata": {},
     "output_type": "execute_result"
    }
   ],
   "source": [
    "# 子標籤\n",
    "soup.select('body > a[class=link1]')"
   ]
  },
  {
   "cell_type": "code",
   "execution_count": null,
   "metadata": {},
   "outputs": [],
   "source": []
  },
  {
   "cell_type": "code",
   "execution_count": 93,
   "metadata": {},
   "outputs": [],
   "source": [
    "#另一個實例"
   ]
  },
  {
   "cell_type": "code",
   "execution_count": 94,
   "metadata": {},
   "outputs": [],
   "source": [
    "xml = '<person name=\"Bob\"><parent rel=\"mother\" name=\"Alice\">'\n",
    "xmlSoup = BeautifulSoup(xml,\"lxml\")"
   ]
  },
  {
   "cell_type": "code",
   "execution_count": 95,
   "metadata": {},
   "outputs": [
    {
     "data": {
      "text/plain": [
       "[]"
      ]
     },
     "execution_count": 95,
     "metadata": {},
     "output_type": "execute_result"
    }
   ],
   "source": [
    "# name 錯誤寫法!!\n",
    "xmlSoup.findAll(name=\"Alice\")"
   ]
  },
  {
   "cell_type": "code",
   "execution_count": 96,
   "metadata": {
    "scrolled": true
   },
   "outputs": [
    {
     "data": {
      "text/plain": [
       "[]"
      ]
     },
     "execution_count": 96,
     "metadata": {},
     "output_type": "execute_result"
    }
   ],
   "source": [
    "# 這樣寫也不對，因為被誤認為是 name = {\"name\" : \"Alice\"}\n",
    "xmlSoup.findAll({\"name\" : \"Alice\"})"
   ]
  },
  {
   "cell_type": "code",
   "execution_count": 97,
   "metadata": {
    "scrolled": true
   },
   "outputs": [
    {
     "data": {
      "text/plain": [
       "[<parent name=\"Alice\" rel=\"mother\"></parent>]"
      ]
     },
     "execution_count": 97,
     "metadata": {},
     "output_type": "execute_result"
    }
   ],
   "source": [
    "xmlSoup.findAll(attrs={\"name\" : \"Alice\"})"
   ]
  },
  {
   "cell_type": "code",
   "execution_count": null,
   "metadata": {},
   "outputs": [],
   "source": []
  },
  {
   "cell_type": "code",
   "execution_count": 98,
   "metadata": {
    "scrolled": true
   },
   "outputs": [
    {
     "data": {
      "text/plain": [
       "[<parent name=\"Alice\" rel=\"mother\"></parent>]"
      ]
     },
     "execution_count": 98,
     "metadata": {},
     "output_type": "execute_result"
    }
   ],
   "source": [
    "xmlSoup.findAll('parent', {\"name\" : \"Alice\"})"
   ]
  },
  {
   "cell_type": "code",
   "execution_count": null,
   "metadata": {},
   "outputs": [],
   "source": []
  },
  {
   "cell_type": "code",
   "execution_count": 99,
   "metadata": {},
   "outputs": [
    {
     "data": {
      "text/plain": [
       "[<parent name=\"Alice\" rel=\"mother\"></parent>]"
      ]
     },
     "execution_count": 99,
     "metadata": {},
     "output_type": "execute_result"
    }
   ],
   "source": [
    "xmlSoup.select('parent')"
   ]
  },
  {
   "cell_type": "code",
   "execution_count": 100,
   "metadata": {},
   "outputs": [
    {
     "data": {
      "text/plain": [
       "[<parent name=\"Alice\" rel=\"mother\"></parent>]"
      ]
     },
     "execution_count": 100,
     "metadata": {},
     "output_type": "execute_result"
    }
   ],
   "source": [
    "xmlSoup.select('parent[name=Alice]')"
   ]
  },
  {
   "cell_type": "code",
   "execution_count": 101,
   "metadata": {},
   "outputs": [
    {
     "data": {
      "text/plain": [
       "'Alice'"
      ]
     },
     "execution_count": 101,
     "metadata": {},
     "output_type": "execute_result"
    }
   ],
   "source": [
    "xmlSoup.select('parent')[0]['name']"
   ]
  },
  {
   "cell_type": "code",
   "execution_count": null,
   "metadata": {},
   "outputs": [],
   "source": []
  },
  {
   "cell_type": "code",
   "execution_count": null,
   "metadata": {},
   "outputs": [],
   "source": []
  },
  {
   "cell_type": "code",
   "execution_count": 102,
   "metadata": {},
   "outputs": [],
   "source": [
    "#另一個實例"
   ]
  },
  {
   "cell_type": "code",
   "execution_count": 103,
   "metadata": {},
   "outputs": [],
   "source": [
    "doc = \"\"\"Bob's <b>Bold</b> Barbeque Sauce now available in \n",
    "                        <b class=\"hickory\">Hickory</b> and <b class=\"lime\">Lime</a>\"\"\"\n",
    "soup = BeautifulSoup(doc,\"lxml\")"
   ]
  },
  {
   "cell_type": "code",
   "execution_count": 104,
   "metadata": {},
   "outputs": [
    {
     "name": "stdout",
     "output_type": "stream",
     "text": [
      "<html>\n",
      " <body>\n",
      "  <p>\n",
      "   Bob's\n",
      "   <b>\n",
      "    Bold\n",
      "   </b>\n",
      "   Barbeque Sauce now available in\n",
      "   <b class=\"hickory\">\n",
      "    Hickory\n",
      "   </b>\n",
      "   and\n",
      "   <b class=\"lime\">\n",
      "    Lime\n",
      "   </b>\n",
      "  </p>\n",
      " </body>\n",
      "</html>\n"
     ]
    }
   ],
   "source": [
    "print(soup.prettify())"
   ]
  },
  {
   "cell_type": "code",
   "execution_count": null,
   "metadata": {},
   "outputs": [],
   "source": []
  },
  {
   "cell_type": "code",
   "execution_count": 105,
   "metadata": {},
   "outputs": [
    {
     "data": {
      "text/plain": [
       "<b class=\"lime\">Lime</b>"
      ]
     },
     "execution_count": 105,
     "metadata": {},
     "output_type": "execute_result"
    }
   ],
   "source": [
    "soup.find(\"b\", { \"class\" : \"lime\" })\n",
    "# <b class=\"lime\">Lime</b>"
   ]
  },
  {
   "cell_type": "code",
   "execution_count": 106,
   "metadata": {},
   "outputs": [
    {
     "data": {
      "text/plain": [
       "<b class=\"lime\">Lime</b>"
      ]
     },
     "execution_count": 106,
     "metadata": {},
     "output_type": "execute_result"
    }
   ],
   "source": [
    "soup.find(\"b\", attrs = { \"class\" : \"lime\" })\n",
    "# <b class=\"lime\">Lime</b>"
   ]
  },
  {
   "cell_type": "code",
   "execution_count": 107,
   "metadata": {},
   "outputs": [],
   "source": [
    "# class是保留字 因此用 class_ 代替\n",
    "# soup.find(\"b\", class = \"lime\" )"
   ]
  },
  {
   "cell_type": "code",
   "execution_count": 108,
   "metadata": {},
   "outputs": [
    {
     "data": {
      "text/plain": [
       "<b class=\"lime\">Lime</b>"
      ]
     },
     "execution_count": 108,
     "metadata": {},
     "output_type": "execute_result"
    }
   ],
   "source": [
    "# class是保留字 因此用 class_ 代替\n",
    "soup.find(\"b\", class_ = \"lime\" )"
   ]
  },
  {
   "cell_type": "code",
   "execution_count": 109,
   "metadata": {},
   "outputs": [
    {
     "data": {
      "text/plain": [
       "<b class=\"lime\">Lime</b>"
      ]
     },
     "execution_count": 109,
     "metadata": {},
     "output_type": "execute_result"
    }
   ],
   "source": [
    "soup.find(\"b\", \"lime\" )"
   ]
  },
  {
   "cell_type": "code",
   "execution_count": null,
   "metadata": {},
   "outputs": [],
   "source": []
  },
  {
   "cell_type": "code",
   "execution_count": 110,
   "metadata": {},
   "outputs": [
    {
     "data": {
      "text/plain": [
       "<b class=\"hickory\">Hickory</b>"
      ]
     },
     "execution_count": 110,
     "metadata": {},
     "output_type": "execute_result"
    }
   ],
   "source": [
    "soup.find(\"b\", \"hickory\")"
   ]
  },
  {
   "cell_type": "code",
   "execution_count": null,
   "metadata": {},
   "outputs": [],
   "source": []
  },
  {
   "cell_type": "markdown",
   "metadata": {},
   "source": [
    "### How to use join()?"
   ]
  },
  {
   "cell_type": "code",
   "execution_count": 111,
   "metadata": {},
   "outputs": [],
   "source": [
    "doc_ = ['<html><head><title>網頁標題</title></head>',\n",
    "       '<body><p id=\"firstpara\" align=\"center\">第1段文字<b>one-1</b><b>one-2</b>.</p>',\n",
    "       '<p id=\"secondpara\" align=\"right\">第2段文字<b>two</b>.</p>',\n",
    "       '<b class=\"hickory\"> Hickory </b>',\n",
    "       '<b class=\"lime\">Lime </b>',\n",
    "       '</body></html>']\n",
    "doc = ''.join(doc_)"
   ]
  },
  {
   "cell_type": "code",
   "execution_count": 112,
   "metadata": {},
   "outputs": [
    {
     "data": {
      "text/plain": [
       "'<html><head><title>網頁標題</title></head><body><p id=\"firstpara\" align=\"center\">第1段文字<b>one-1</b><b>one-2</b>.</p><p id=\"secondpara\" align=\"right\">第2段文字<b>two</b>.</p><b class=\"hickory\"> Hickory </b><b class=\"lime\">Lime </b></body></html>'"
      ]
     },
     "execution_count": 112,
     "metadata": {},
     "output_type": "execute_result"
    }
   ],
   "source": [
    "doc"
   ]
  },
  {
   "cell_type": "code",
   "execution_count": null,
   "metadata": {},
   "outputs": [],
   "source": []
  },
  {
   "cell_type": "markdown",
   "metadata": {},
   "source": [
    "## 以下寫法等同於findAll() 不建議使用"
   ]
  },
  {
   "cell_type": "code",
   "execution_count": 113,
   "metadata": {},
   "outputs": [
    {
     "data": {
      "text/plain": [
       "[<p>Bob's <b>Bold</b> Barbeque Sauce now available in \n",
       "                         <b class=\"hickory\">Hickory</b> and <b class=\"lime\">Lime</b></p>]"
      ]
     },
     "execution_count": 113,
     "metadata": {},
     "output_type": "execute_result"
    }
   ],
   "source": [
    "soup('p')"
   ]
  },
  {
   "cell_type": "code",
   "execution_count": 114,
   "metadata": {},
   "outputs": [
    {
     "data": {
      "text/plain": [
       "[<b>Bold</b>, <b class=\"hickory\">Hickory</b>, <b class=\"lime\">Lime</b>]"
      ]
     },
     "execution_count": 114,
     "metadata": {},
     "output_type": "execute_result"
    }
   ],
   "source": [
    "soup('b')"
   ]
  },
  {
   "cell_type": "code",
   "execution_count": 115,
   "metadata": {},
   "outputs": [
    {
     "data": {
      "text/plain": [
       "[]"
      ]
     },
     "execution_count": 115,
     "metadata": {},
     "output_type": "execute_result"
    }
   ],
   "source": [
    "soup('p', {'align':\"center\"})"
   ]
  },
  {
   "cell_type": "code",
   "execution_count": 116,
   "metadata": {
    "scrolled": true
   },
   "outputs": [
    {
     "data": {
      "text/plain": [
       "[]"
      ]
     },
     "execution_count": 116,
     "metadata": {},
     "output_type": "execute_result"
    }
   ],
   "source": [
    "soup(name = 'p', attrs = {'align':\"right\"})"
   ]
  },
  {
   "cell_type": "code",
   "execution_count": null,
   "metadata": {},
   "outputs": [],
   "source": []
  }
 ],
 "metadata": {
  "kernelspec": {
   "display_name": "Python 3",
   "language": "python",
   "name": "python3"
  },
  "language_info": {
   "codemirror_mode": {
    "name": "ipython",
    "version": 3
   },
   "file_extension": ".py",
   "mimetype": "text/x-python",
   "name": "python",
   "nbconvert_exporter": "python",
   "pygments_lexer": "ipython3",
   "version": "3.7.9"
  }
 },
 "nbformat": 4,
 "nbformat_minor": 2
}
