{
 "cells": [
  {
   "cell_type": "markdown",
   "metadata": {
    "collapsed": true
   },
   "source": [
    "# Beautiful Soup Exercise"
   ]
  },
  {
   "cell_type": "markdown",
   "metadata": {},
   "source": [
    "Beautiful Soup is a HTML/XML parser with Python\n",
    "Beautiful Soup是用Python寫的一個HTML/XML的解析器\n",
    "\n",
    "    find specified tag with the following appraoches:\n",
    "    尋找特定標籤或有著特定屬性的標籤Tag，有以下兩種方法\n",
    "\n",
    "    (1)find\n",
    "    find('article', {'class':\"article\"})\n",
    "    findAll('' , {})\n",
    "\n",
    "\n",
    "\n",
    "    (2)select \n",
    "    select_one()\n",
    "    select()\n",
    "\n",
    "\n",
    "    findAll():  find all 找到全部\n",
    "    find():    find one 找到一個就停止\n",
    "\n",
    "    連續查找:\n",
    "    find().find()\n",
    "\n",
    "Reference參考資料\n",
    "https://www.crummy.com/software/BeautifulSoup/bs3/documentation.html"
   ]
  },
  {
   "cell_type": "code",
   "execution_count": null,
   "metadata": {},
   "outputs": [],
   "source": []
  },
  {
   "cell_type": "code",
   "execution_count": 1,
   "metadata": {},
   "outputs": [],
   "source": [
    "from bs4 import BeautifulSoup\n",
    "import re"
   ]
  },
  {
   "cell_type": "code",
   "execution_count": 2,
   "metadata": {},
   "outputs": [],
   "source": [
    "page = \\\n",
    "'''<html>\n",
    "     <head>\n",
    "      <title>\n",
    "       網頁標題\n",
    "      </title>\n",
    "     </head>\n",
    "     <body>\n",
    "      <p align=\"center\" id=\"firstpara\">\n",
    "       第1段文字\n",
    "       <b>one-1 </b>\n",
    "       <b> one-2 </b>\n",
    "      </p>\n",
    "      <p align=\"right\" id=\"secondpara\">\n",
    "       第2段文字\n",
    "       <b>two </b>\n",
    "      </p>\n",
    "      <div class = 'content'>\n",
    "      <b class=\"message1\"> 最新消息 </b>\n",
    "      <b class=\"message2\"> 訊息區  </b>\n",
    "      </div>\n",
    "     </body>\n",
    "</html>'''"
   ]
  },
  {
   "cell_type": "code",
   "execution_count": 3,
   "metadata": {},
   "outputs": [
    {
     "data": {
      "text/plain": [
       "'<html>\\n     <head>\\n      <title>\\n       網頁標題\\n      </title>\\n     </head>\\n     <body>\\n      <p align=\"center\" id=\"firstpara\">\\n       第1段文字\\n       <b>one-1 </b>\\n       <b> one-2 </b>\\n      </p>\\n      <p align=\"right\" id=\"secondpara\">\\n       第2段文字\\n       <b>two </b>\\n      </p>\\n      <div class = \\'content\\'>\\n      <b class=\"message1\"> 最新消息 </b>\\n      <b class=\"message2\"> 訊息區  </b>\\n      </div>\\n     </body>\\n</html>'"
      ]
     },
     "execution_count": 3,
     "metadata": {},
     "output_type": "execute_result"
    }
   ],
   "source": [
    "page"
   ]
  },
  {
   "cell_type": "code",
   "execution_count": 4,
   "metadata": {},
   "outputs": [
    {
     "name": "stdout",
     "output_type": "stream",
     "text": [
      "<html>\n",
      " <head>\n",
      "  <title>\n",
      "   網頁標題\n",
      "  </title>\n",
      " </head>\n",
      " <body>\n",
      "  <p align=\"center\" id=\"firstpara\">\n",
      "   第1段文字\n",
      "   <b>\n",
      "    one-1\n",
      "   </b>\n",
      "   <b>\n",
      "    one-2\n",
      "   </b>\n",
      "  </p>\n",
      "  <p align=\"right\" id=\"secondpara\">\n",
      "   第2段文字\n",
      "   <b>\n",
      "    two\n",
      "   </b>\n",
      "  </p>\n",
      "  <div class=\"content\">\n",
      "   <b class=\"message1\">\n",
      "    最新消息\n",
      "   </b>\n",
      "   <b class=\"message2\">\n",
      "    訊息區\n",
      "   </b>\n",
      "  </div>\n",
      " </body>\n",
      "</html>\n",
      "\n"
     ]
    }
   ],
   "source": [
    "soup = BeautifulSoup(page, \"lxml\")\n",
    "# soup = BeautifulSoup(page, \"html.parser\")\n",
    "print(soup.prettify())"
   ]
  },
  {
   "cell_type": "markdown",
   "metadata": {},
   "source": [
    "# find() and findAll()\n",
    "\n",
    "* findAll():  find all 找到全部\n",
    "\n",
    "* find():    find one 找到一個就停止"
   ]
  },
  {
   "cell_type": "code",
   "execution_count": 5,
   "metadata": {},
   "outputs": [
    {
     "data": {
      "text/plain": [
       "<p align=\"center\" id=\"firstpara\">\n",
       "       第1段文字\n",
       "       <b>one-1 </b>\n",
       "<b> one-2 </b>\n",
       "</p>"
      ]
     },
     "execution_count": 5,
     "metadata": {},
     "output_type": "execute_result"
    }
   ],
   "source": [
    "soup.find('p') #find or filter with only one tag 'p' 單一個過濾或搜尋條件"
   ]
  },
  {
   "cell_type": "code",
   "execution_count": 6,
   "metadata": {},
   "outputs": [
    {
     "data": {
      "text/plain": [
       "[<p align=\"center\" id=\"firstpara\">\n",
       "        第1段文字\n",
       "        <b>one-1 </b>\n",
       " <b> one-2 </b>\n",
       " </p>,\n",
       " <p align=\"right\" id=\"secondpara\">\n",
       "        第2段文字\n",
       "        <b>two </b>\n",
       " </p>]"
      ]
     },
     "execution_count": 6,
     "metadata": {},
     "output_type": "execute_result"
    }
   ],
   "source": [
    "soup.findAll('p')"
   ]
  },
  {
   "cell_type": "code",
   "execution_count": 7,
   "metadata": {},
   "outputs": [
    {
     "data": {
      "text/plain": [
       "<p align=\"center\" id=\"firstpara\">\n",
       "       第1段文字\n",
       "       <b>one-1 </b>\n",
       "<b> one-2 </b>\n",
       "</p>"
      ]
     },
     "execution_count": 7,
     "metadata": {},
     "output_type": "execute_result"
    }
   ],
   "source": [
    "soup.findAll('p')[0]"
   ]
  },
  {
   "cell_type": "code",
   "execution_count": 8,
   "metadata": {},
   "outputs": [
    {
     "data": {
      "text/plain": [
       "[<b>one-1 </b>,\n",
       " <b> one-2 </b>,\n",
       " <b>two </b>,\n",
       " <b class=\"message1\"> 最新消息 </b>,\n",
       " <b class=\"message2\"> 訊息區  </b>]"
      ]
     },
     "execution_count": 8,
     "metadata": {},
     "output_type": "execute_result"
    }
   ],
   "source": [
    "soup.findAll('b')"
   ]
  },
  {
   "cell_type": "code",
   "execution_count": 9,
   "metadata": {},
   "outputs": [
    {
     "data": {
      "text/plain": [
       "<p align=\"center\" id=\"firstpara\">\n",
       "       第1段文字\n",
       "       <b>one-1 </b>\n",
       "<b> one-2 </b>\n",
       "</p>"
      ]
     },
     "execution_count": 9,
     "metadata": {},
     "output_type": "execute_result"
    }
   ],
   "source": [
    "soup.find('p', align='center') # find 'p' tag and attribute 'center' 多個過濾或搜尋條件"
   ]
  },
  {
   "cell_type": "code",
   "execution_count": 10,
   "metadata": {},
   "outputs": [
    {
     "data": {
      "text/plain": [
       "<p align=\"right\" id=\"secondpara\">\n",
       "       第2段文字\n",
       "       <b>two </b>\n",
       "</p>"
      ]
     },
     "execution_count": 10,
     "metadata": {},
     "output_type": "execute_result"
    }
   ],
   "source": [
    "soup.find('p', align='right')"
   ]
  },
  {
   "cell_type": "code",
   "execution_count": 11,
   "metadata": {},
   "outputs": [
    {
     "data": {
      "text/plain": [
       "[<p align=\"right\" id=\"secondpara\">\n",
       "        第2段文字\n",
       "        <b>two </b>\n",
       " </p>]"
      ]
     },
     "execution_count": 11,
     "metadata": {},
     "output_type": "execute_result"
    }
   ],
   "source": [
    "soup.findAll(name = 'p', align='right')"
   ]
  },
  {
   "cell_type": "markdown",
   "metadata": {},
   "source": [
    "# Find using CSS attributes\n",
    "\n",
    "soup.find(\"tagName\", { \"class\" : \"cssClass\" })\n",
    "\n",
    "使用CSS查找比較好，因為有些標籤與保留字衝突，用CSS attrs参數寫法不會衝突!"
   ]
  },
  {
   "cell_type": "raw",
   "metadata": {},
   "source": [
    "Python保留字的属性:\n",
    "例如class, for, 以及import \n",
    "\n",
    "Beautiful Soup搜索方法使用的参数名的属性:\n",
    "例如name, recursive, limit, text, 以及attrs"
   ]
  },
  {
   "cell_type": "code",
   "execution_count": null,
   "metadata": {},
   "outputs": [
    {
     "data": {
      "text/plain": [
       "[<p align=\"right\" id=\"secondpara\">\n",
       "        第2段文字\n",
       "        <b>two </b>\n",
       " </p>]"
      ]
     },
     "metadata": {},
     "output_type": "display_data"
    }
   ],
   "source": [
    "# CSS style: It's better.\n",
    "soup.findAll(name = 'p',  attrs = {'align': 'right'})"
   ]
  },
  {
   "cell_type": "markdown",
   "metadata": {},
   "source": [
    "### class屬性值 該如何爬取?"
   ]
  },
  {
   "cell_type": "markdown",
   "metadata": {},
   "source": [
    "### Using CSS attributes (better)"
   ]
  },
  {
   "cell_type": "code",
   "execution_count": 12,
   "metadata": {},
   "outputs": [
    {
     "data": {
      "text/plain": [
       "[<b>one-1 </b>,\n",
       " <b> one-2 </b>,\n",
       " <b>two </b>,\n",
       " <b class=\"message1\"> 最新消息 </b>,\n",
       " <b class=\"message2\"> 訊息區  </b>]"
      ]
     },
     "execution_count": 12,
     "metadata": {},
     "output_type": "execute_result"
    }
   ],
   "source": [
    "soup.findAll(\"b\")"
   ]
  },
  {
   "cell_type": "code",
   "execution_count": 13,
   "metadata": {},
   "outputs": [
    {
     "data": {
      "text/plain": [
       "<b class=\"message2\"> 訊息區  </b>"
      ]
     },
     "execution_count": 13,
     "metadata": {},
     "output_type": "execute_result"
    }
   ],
   "source": [
    "soup.find(\"b\", {'class' : \"message2\"})"
   ]
  },
  {
   "cell_type": "code",
   "execution_count": 14,
   "metadata": {},
   "outputs": [
    {
     "data": {
      "text/plain": [
       "<b class=\"message2\"> 訊息區  </b>"
      ]
     },
     "execution_count": 14,
     "metadata": {},
     "output_type": "execute_result"
    }
   ],
   "source": [
    "soup.find(name = \"b\", attrs = {'class' : \"message2\"})"
   ]
  },
  {
   "cell_type": "code",
   "execution_count": null,
   "metadata": {},
   "outputs": [],
   "source": []
  },
  {
   "cell_type": "markdown",
   "metadata": {},
   "source": [
    "# CSS select() "
   ]
  },
  {
   "cell_type": "raw",
   "metadata": {},
   "source": [
    "select()與findAll()  目的一樣  \n",
    "\n",
    "select_one()與find() 目的一樣\n",
    "\n",
    "用法1:\n",
    "soup.select(div...)\n",
    "\n",
    "用法2:\n",
    "soup.select(\"div[id=foo] > div > div > div[class=fee] > span > span > a\")"
   ]
  },
  {
   "cell_type": "code",
   "execution_count": 15,
   "metadata": {},
   "outputs": [
    {
     "data": {
      "text/plain": [
       "[<p align=\"center\" id=\"firstpara\">\n",
       "        第1段文字\n",
       "        <b>one-1 </b>\n",
       " <b> one-2 </b>\n",
       " </p>,\n",
       " <p align=\"right\" id=\"secondpara\">\n",
       "        第2段文字\n",
       "        <b>two </b>\n",
       " </p>]"
      ]
     },
     "execution_count": 15,
     "metadata": {},
     "output_type": "execute_result"
    }
   ],
   "source": [
    "soup.select('p')"
   ]
  },
  {
   "cell_type": "code",
   "execution_count": 16,
   "metadata": {},
   "outputs": [
    {
     "data": {
      "text/plain": [
       "[<div class=\"content\">\n",
       " <b class=\"message1\"> 最新消息 </b>\n",
       " <b class=\"message2\"> 訊息區  </b>\n",
       " </div>]"
      ]
     },
     "execution_count": 16,
     "metadata": {},
     "output_type": "execute_result"
    }
   ],
   "source": [
    "soup.select('div')"
   ]
  },
  {
   "cell_type": "code",
   "execution_count": 17,
   "metadata": {},
   "outputs": [
    {
     "data": {
      "text/plain": [
       "[<div class=\"content\">\n",
       " <b class=\"message1\"> 最新消息 </b>\n",
       " <b class=\"message2\"> 訊息區  </b>\n",
       " </div>]"
      ]
     },
     "execution_count": 17,
     "metadata": {},
     "output_type": "execute_result"
    }
   ],
   "source": [
    "soup.select('div.content')"
   ]
  },
  {
   "cell_type": "code",
   "execution_count": 18,
   "metadata": {},
   "outputs": [
    {
     "data": {
      "text/plain": [
       "[<b class=\"message1\"> 最新消息 </b>]"
      ]
     },
     "execution_count": 18,
     "metadata": {},
     "output_type": "execute_result"
    }
   ],
   "source": [
    "soup.select(\".message1\")"
   ]
  },
  {
   "cell_type": "code",
   "execution_count": 19,
   "metadata": {},
   "outputs": [
    {
     "data": {
      "text/plain": [
       "[<b class=\"message1\"> 最新消息 </b>, <b class=\"message2\"> 訊息區  </b>]"
      ]
     },
     "execution_count": 19,
     "metadata": {},
     "output_type": "execute_result"
    }
   ],
   "source": [
    "soup.select(\"div.content > b\") # > 表示在這個tag之內的tag"
   ]
  },
  {
   "cell_type": "code",
   "execution_count": 20,
   "metadata": {},
   "outputs": [
    {
     "data": {
      "text/plain": [
       "[<b class=\"message1\"> 最新消息 </b>]"
      ]
     },
     "execution_count": 20,
     "metadata": {},
     "output_type": "execute_result"
    }
   ],
   "source": [
    "soup.select(\"div.content > b.message1\")"
   ]
  },
  {
   "cell_type": "code",
   "execution_count": 21,
   "metadata": {},
   "outputs": [
    {
     "data": {
      "text/plain": [
       "[<b>one-1 </b>,\n",
       " <b> one-2 </b>,\n",
       " <b>two </b>,\n",
       " <b class=\"message1\"> 最新消息 </b>,\n",
       " <b class=\"message2\"> 訊息區  </b>]"
      ]
     },
     "execution_count": 21,
     "metadata": {},
     "output_type": "execute_result"
    }
   ],
   "source": [
    "soup.select(\"b\")"
   ]
  },
  {
   "cell_type": "code",
   "execution_count": 22,
   "metadata": {},
   "outputs": [
    {
     "data": {
      "text/plain": [
       "[<b class=\"message1\"> 最新消息 </b>]"
      ]
     },
     "execution_count": 22,
     "metadata": {},
     "output_type": "execute_result"
    }
   ],
   "source": [
    "soup.select(\"b.message1\")"
   ]
  },
  {
   "cell_type": "code",
   "execution_count": null,
   "metadata": {},
   "outputs": [],
   "source": []
  },
  {
   "cell_type": "markdown",
   "metadata": {},
   "source": [
    "## getText() or text\n",
    "\n",
    "找到之後 抓文字的部分"
   ]
  },
  {
   "cell_type": "code",
   "execution_count": 23,
   "metadata": {},
   "outputs": [
    {
     "data": {
      "text/plain": [
       "<p align=\"center\" id=\"firstpara\">\n",
       "       第1段文字\n",
       "       <b>one-1 </b>\n",
       "<b> one-2 </b>\n",
       "</p>"
      ]
     },
     "execution_count": 23,
     "metadata": {},
     "output_type": "execute_result"
    }
   ],
   "source": [
    "soup.find('p', align='center')"
   ]
  },
  {
   "cell_type": "code",
   "execution_count": 24,
   "metadata": {},
   "outputs": [],
   "source": [
    "result = soup.find('p', align='center')"
   ]
  },
  {
   "cell_type": "code",
   "execution_count": 25,
   "metadata": {},
   "outputs": [
    {
     "data": {
      "text/plain": [
       "'\\n       第1段文字\\n       one-1 \\n one-2 \\n'"
      ]
     },
     "execution_count": 25,
     "metadata": {},
     "output_type": "execute_result"
    }
   ],
   "source": [
    "result.text"
   ]
  },
  {
   "cell_type": "code",
   "execution_count": 26,
   "metadata": {},
   "outputs": [
    {
     "data": {
      "text/plain": [
       "'\\n       第1段文字\\n       one-1 \\n one-2 \\n'"
      ]
     },
     "execution_count": 26,
     "metadata": {},
     "output_type": "execute_result"
    }
   ],
   "source": [
    "result.getText()"
   ]
  },
  {
   "cell_type": "code",
   "execution_count": null,
   "metadata": {},
   "outputs": [],
   "source": []
  },
  {
   "cell_type": "markdown",
   "metadata": {},
   "source": [
    "## How to get attribute value\n",
    "\n",
    "抓到之後，取得標籤Tag的屬性值"
   ]
  },
  {
   "cell_type": "raw",
   "metadata": {},
   "source": [
    "每個<P>標籤都有\"id\"屬性和\"align\"屬性。\n",
    "\n",
    "(1)將Tag看成字典來訪問標籤的屬性  例如:['id']\n",
    "\n",
    "(2)或使用get()  例如:get('id')\n",
    "    "
   ]
  },
  {
   "cell_type": "code",
   "execution_count": 27,
   "metadata": {},
   "outputs": [
    {
     "data": {
      "text/plain": [
       "<p align=\"center\" id=\"firstpara\">\n",
       "       第1段文字\n",
       "       <b>one-1 </b>\n",
       "<b> one-2 </b>\n",
       "</p>"
      ]
     },
     "execution_count": 27,
     "metadata": {},
     "output_type": "execute_result"
    }
   ],
   "source": [
    "soup.find('p', align='center')"
   ]
  },
  {
   "cell_type": "code",
   "execution_count": 28,
   "metadata": {},
   "outputs": [
    {
     "data": {
      "text/plain": [
       "'firstpara'"
      ]
     },
     "execution_count": 28,
     "metadata": {},
     "output_type": "execute_result"
    }
   ],
   "source": [
    "soup.find('p', align='center')['id']"
   ]
  },
  {
   "cell_type": "code",
   "execution_count": null,
   "metadata": {},
   "outputs": [],
   "source": []
  },
  {
   "cell_type": "code",
   "execution_count": 29,
   "metadata": {},
   "outputs": [
    {
     "data": {
      "text/plain": [
       "[<p align=\"center\" id=\"firstpara\">\n",
       "        第1段文字\n",
       "        <b>one-1 </b>\n",
       " <b> one-2 </b>\n",
       " </p>,\n",
       " <p align=\"right\" id=\"secondpara\">\n",
       "        第2段文字\n",
       "        <b>two </b>\n",
       " </p>]"
      ]
     },
     "execution_count": 29,
     "metadata": {},
     "output_type": "execute_result"
    }
   ],
   "source": [
    "soup.findAll('p')"
   ]
  },
  {
   "cell_type": "code",
   "execution_count": 30,
   "metadata": {},
   "outputs": [
    {
     "data": {
      "text/plain": [
       "'firstpara'"
      ]
     },
     "execution_count": 30,
     "metadata": {},
     "output_type": "execute_result"
    }
   ],
   "source": [
    "soup.findAll('p')[0].get('id')"
   ]
  },
  {
   "cell_type": "code",
   "execution_count": 31,
   "metadata": {},
   "outputs": [
    {
     "data": {
      "text/plain": [
       "'secondpara'"
      ]
     },
     "execution_count": 31,
     "metadata": {},
     "output_type": "execute_result"
    }
   ],
   "source": [
    "soup.findAll('p')[1]['id']"
   ]
  },
  {
   "cell_type": "code",
   "execution_count": null,
   "metadata": {},
   "outputs": [],
   "source": []
  },
  {
   "cell_type": "markdown",
   "metadata": {},
   "source": [
    "# Multiple condition\n",
    "\n",
    "多個條件"
   ]
  },
  {
   "cell_type": "raw",
   "metadata": {},
   "source": [
    "How to use?\n",
    "\n",
    "findAll(name = ['title', 'b'])\n",
    "findAll({'title' : True, 'p' : True})"
   ]
  },
  {
   "cell_type": "code",
   "execution_count": 32,
   "metadata": {
    "scrolled": true
   },
   "outputs": [
    {
     "data": {
      "text/plain": [
       "[<title>\n",
       "        網頁標題\n",
       "       </title>,\n",
       " <b>one-1 </b>,\n",
       " <b> one-2 </b>,\n",
       " <b>two </b>,\n",
       " <b class=\"message1\"> 最新消息 </b>,\n",
       " <b class=\"message2\"> 訊息區  </b>]"
      ]
     },
     "execution_count": 32,
     "metadata": {},
     "output_type": "execute_result"
    }
   ],
   "source": [
    "# 尋找所有 title標籤 b標籤\n",
    "soup.findAll(['title', 'b'])"
   ]
  },
  {
   "cell_type": "code",
   "execution_count": 33,
   "metadata": {
    "scrolled": true
   },
   "outputs": [
    {
     "data": {
      "text/plain": [
       "[<title>\n",
       "        網頁標題\n",
       "       </title>,\n",
       " <b>one-1 </b>,\n",
       " <b> one-2 </b>,\n",
       " <b>two </b>,\n",
       " <b class=\"message1\"> 最新消息 </b>,\n",
       " <b class=\"message2\"> 訊息區  </b>]"
      ]
     },
     "execution_count": 33,
     "metadata": {},
     "output_type": "execute_result"
    }
   ],
   "source": [
    "# 尋找所有 title標籤 b標籤\n",
    "soup.findAll(name = ['title', 'b'])"
   ]
  },
  {
   "cell_type": "code",
   "execution_count": 34,
   "metadata": {},
   "outputs": [
    {
     "data": {
      "text/plain": [
       "[<title>\n",
       "        網頁標題\n",
       "       </title>,\n",
       " <p align=\"center\" id=\"firstpara\">\n",
       "        第1段文字\n",
       "        <b>one-1 </b>\n",
       " <b> one-2 </b>\n",
       " </p>,\n",
       " <p align=\"right\" id=\"secondpara\">\n",
       "        第2段文字\n",
       "        <b>two </b>\n",
       " </p>]"
      ]
     },
     "execution_count": 34,
     "metadata": {},
     "output_type": "execute_result"
    }
   ],
   "source": [
    "soup.findAll({'title' : True, 'p' : True})"
   ]
  },
  {
   "cell_type": "code",
   "execution_count": null,
   "metadata": {},
   "outputs": [],
   "source": []
  },
  {
   "cell_type": "markdown",
   "metadata": {},
   "source": [
    "# Delete tag (刪除標籤物件)"
   ]
  },
  {
   "cell_type": "code",
   "execution_count": null,
   "metadata": {},
   "outputs": [],
   "source": []
  },
  {
   "cell_type": "code",
   "execution_count": 35,
   "metadata": {},
   "outputs": [],
   "source": [
    "doc_ = ['<html><head><title>網頁標題</title></head>',\n",
    "       '<body><p id=\"firstpara\" align=\"center\">第1段文字<b>one-1</b><b>one-2</b>.</p>',\n",
    "       '<p id=\"secondpara\" align=\"right\">第2段文字<b>two</b>.</p></body>',\n",
    "       '</html>']\n",
    "doc = ''.join(doc_)"
   ]
  },
  {
   "cell_type": "code",
   "execution_count": 36,
   "metadata": {},
   "outputs": [
    {
     "name": "stdout",
     "output_type": "stream",
     "text": [
      "<html>\n",
      " <head>\n",
      "  <title>\n",
      "   網頁標題\n",
      "  </title>\n",
      " </head>\n",
      " <body>\n",
      "  <p align=\"center\" id=\"firstpara\">\n",
      "   第1段文字\n",
      "   <b>\n",
      "    one-1\n",
      "   </b>\n",
      "   <b>\n",
      "    one-2\n",
      "   </b>\n",
      "   .\n",
      "  </p>\n",
      "  <p align=\"right\" id=\"secondpara\">\n",
      "   第2段文字\n",
      "   <b>\n",
      "    two\n",
      "   </b>\n",
      "   .\n",
      "  </p>\n",
      " </body>\n",
      "</html>\n"
     ]
    }
   ],
   "source": [
    "soup2 = BeautifulSoup(doc, \"lxml\")\n",
    "# soup = BeautifulSoup(soup, \"html.parser\")\n",
    "print (soup2.prettify())"
   ]
  },
  {
   "cell_type": "code",
   "execution_count": 37,
   "metadata": {},
   "outputs": [
    {
     "data": {
      "text/plain": [
       "[<p align=\"center\" id=\"firstpara\">第1段文字<b>one-1</b><b>one-2</b>.</p>,\n",
       " <p align=\"right\" id=\"secondpara\">第2段文字<b>two</b>.</p>]"
      ]
     },
     "execution_count": 37,
     "metadata": {},
     "output_type": "execute_result"
    }
   ],
   "source": [
    "soup2.findAll('p')"
   ]
  },
  {
   "cell_type": "code",
   "execution_count": 38,
   "metadata": {},
   "outputs": [],
   "source": [
    "#soup2.findAll('p')[1].extract()\n",
    "soup2.findAll('p')[1].decompose()"
   ]
  },
  {
   "cell_type": "code",
   "execution_count": 39,
   "metadata": {
    "scrolled": true
   },
   "outputs": [
    {
     "name": "stdout",
     "output_type": "stream",
     "text": [
      "<html>\n",
      " <head>\n",
      "  <title>\n",
      "   網頁標題\n",
      "  </title>\n",
      " </head>\n",
      " <body>\n",
      "  <p align=\"center\" id=\"firstpara\">\n",
      "   第1段文字\n",
      "   <b>\n",
      "    one-1\n",
      "   </b>\n",
      "   <b>\n",
      "    one-2\n",
      "   </b>\n",
      "   .\n",
      "  </p>\n",
      " </body>\n",
      "</html>\n"
     ]
    }
   ],
   "source": [
    "print(soup2.prettify())"
   ]
  },
  {
   "cell_type": "code",
   "execution_count": null,
   "metadata": {},
   "outputs": [],
   "source": []
  },
  {
   "cell_type": "code",
   "execution_count": null,
   "metadata": {},
   "outputs": [],
   "source": []
  },
  {
   "cell_type": "code",
   "execution_count": null,
   "metadata": {},
   "outputs": [],
   "source": []
  }
 ],
 "metadata": {
  "kernelspec": {
   "display_name": "Python 3",
   "language": "python",
   "name": "python3"
  },
  "language_info": {
   "codemirror_mode": {
    "name": "ipython",
    "version": 3
   },
   "file_extension": ".py",
   "mimetype": "text/x-python",
   "name": "python",
   "nbconvert_exporter": "python",
   "pygments_lexer": "ipython3",
   "version": "3.10.6"
  }
 },
 "nbformat": 4,
 "nbformat_minor": 2
}
