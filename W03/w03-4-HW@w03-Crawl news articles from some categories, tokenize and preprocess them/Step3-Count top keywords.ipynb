{
 "cells": [
  {
   "cell_type": "code",
   "execution_count": 1,
   "metadata": {},
   "outputs": [],
   "source": [
    "import pandas as pd"
   ]
  },
  {
   "cell_type": "code",
   "execution_count": 2,
   "metadata": {},
   "outputs": [],
   "source": [
    "df = pd.read_csv('cna_news_preprocessed.csv',sep='|')"
   ]
  },
  {
   "cell_type": "code",
   "execution_count": 3,
   "metadata": {},
   "outputs": [
    {
     "data": {
      "text/html": [
       "<div>\n",
       "<style scoped>\n",
       "    .dataframe tbody tr th:only-of-type {\n",
       "        vertical-align: middle;\n",
       "    }\n",
       "\n",
       "    .dataframe tbody tr th {\n",
       "        vertical-align: top;\n",
       "    }\n",
       "\n",
       "    .dataframe thead th {\n",
       "        text-align: right;\n",
       "    }\n",
       "</style>\n",
       "<table border=\"1\" class=\"dataframe\">\n",
       "  <thead>\n",
       "    <tr style=\"text-align: right;\">\n",
       "      <th></th>\n",
       "      <th>item_id</th>\n",
       "      <th>date</th>\n",
       "      <th>category</th>\n",
       "      <th>title</th>\n",
       "      <th>content</th>\n",
       "      <th>sentiment</th>\n",
       "      <th>summary</th>\n",
       "      <th>top_key_freq</th>\n",
       "      <th>tokens</th>\n",
       "      <th>tokens_v2</th>\n",
       "      <th>entities</th>\n",
       "      <th>token_pos</th>\n",
       "      <th>link</th>\n",
       "      <th>photo_link</th>\n",
       "    </tr>\n",
       "  </thead>\n",
       "  <tbody>\n",
       "    <tr>\n",
       "      <th>0</th>\n",
       "      <td>ahel_20250312_1</td>\n",
       "      <td>2025-03-12</td>\n",
       "      <td>生活</td>\n",
       "      <td>健保砸逾42億解急診壅塞 護理加薪4提案通過拚5月上路</td>\n",
       "      <td>為解決急診壅塞，健保署提出增加急診及重症支付標準、給急診護理人員加薪、強化離島急救責任醫院等...</td>\n",
       "      <td>暫無</td>\n",
       "      <td>暫無</td>\n",
       "      <td>[('醫院', 24), ('離島', 7), ('石崇良', 7), ('護理', 5),...</td>\n",
       "      <td>['為', '解決', '急診', '壅塞', '，', '健保署', '提出', '增加'...</td>\n",
       "      <td>['健保署', '標準', '護理', '人員', '離島', '責任', '醫院', '醫...</td>\n",
       "      <td>[NerToken(word='今天', ner='DATE', idx=(58, 60))...</td>\n",
       "      <td>[('為', 'P'), ('解決', 'VC'), ('急診', 'VB'), ('壅塞'...</td>\n",
       "      <td>/news/ahel/202503120382.aspx</td>\n",
       "      <td>https://imgcdn.cna.com.tw/www/webphotos/WebCov...</td>\n",
       "    </tr>\n",
       "    <tr>\n",
       "      <th>1</th>\n",
       "      <td>ahel_20250312_2</td>\n",
       "      <td>2025-03-12</td>\n",
       "      <td>生活</td>\n",
       "      <td>今彩539第114064期 頭獎槓龜</td>\n",
       "      <td>今彩539第114064期開獎，中獎號碼06、14、27、30、33；派彩結果，頭獎槓龜。貳...</td>\n",
       "      <td>暫無</td>\n",
       "      <td>暫無</td>\n",
       "      <td>[('星彩', 4), ('號碼', 3), ('獎金', 3), ('派彩', 2), (...</td>\n",
       "      <td>['今彩', '539', '第114064', '期', '開獎', '，', '中獎',...</td>\n",
       "      <td>['號碼', '派彩', '結果', '頭獎', '貳獎', '獎金', '新台幣', '星...</td>\n",
       "      <td>[NerToken(word='539', ner='CARDINAL', idx=(2, ...</td>\n",
       "      <td>[('今彩', 'Nd'), ('539', 'FW'), ('第114064', 'Neu...</td>\n",
       "      <td>/news/ahel/202503120395.aspx</td>\n",
       "      <td>NaN</td>\n",
       "    </tr>\n",
       "  </tbody>\n",
       "</table>\n",
       "</div>"
      ],
      "text/plain": [
       "           item_id        date category                        title  \\\n",
       "0  ahel_20250312_1  2025-03-12       生活  健保砸逾42億解急診壅塞 護理加薪4提案通過拚5月上路   \n",
       "1  ahel_20250312_2  2025-03-12       生活           今彩539第114064期 頭獎槓龜   \n",
       "\n",
       "                                             content sentiment summary  \\\n",
       "0  為解決急診壅塞，健保署提出增加急診及重症支付標準、給急診護理人員加薪、強化離島急救責任醫院等...        暫無      暫無   \n",
       "1  今彩539第114064期開獎，中獎號碼06、14、27、30、33；派彩結果，頭獎槓龜。貳...        暫無      暫無   \n",
       "\n",
       "                                        top_key_freq  \\\n",
       "0  [('醫院', 24), ('離島', 7), ('石崇良', 7), ('護理', 5),...   \n",
       "1  [('星彩', 4), ('號碼', 3), ('獎金', 3), ('派彩', 2), (...   \n",
       "\n",
       "                                              tokens  \\\n",
       "0  ['為', '解決', '急診', '壅塞', '，', '健保署', '提出', '增加'...   \n",
       "1  ['今彩', '539', '第114064', '期', '開獎', '，', '中獎',...   \n",
       "\n",
       "                                           tokens_v2  \\\n",
       "0  ['健保署', '標準', '護理', '人員', '離島', '責任', '醫院', '醫...   \n",
       "1  ['號碼', '派彩', '結果', '頭獎', '貳獎', '獎金', '新台幣', '星...   \n",
       "\n",
       "                                            entities  \\\n",
       "0  [NerToken(word='今天', ner='DATE', idx=(58, 60))...   \n",
       "1  [NerToken(word='539', ner='CARDINAL', idx=(2, ...   \n",
       "\n",
       "                                           token_pos  \\\n",
       "0  [('為', 'P'), ('解決', 'VC'), ('急診', 'VB'), ('壅塞'...   \n",
       "1  [('今彩', 'Nd'), ('539', 'FW'), ('第114064', 'Neu...   \n",
       "\n",
       "                           link  \\\n",
       "0  /news/ahel/202503120382.aspx   \n",
       "1  /news/ahel/202503120395.aspx   \n",
       "\n",
       "                                          photo_link  \n",
       "0  https://imgcdn.cna.com.tw/www/webphotos/WebCov...  \n",
       "1                                                NaN  "
      ]
     },
     "execution_count": 3,
     "metadata": {},
     "output_type": "execute_result"
    }
   ],
   "source": [
    "df.head(2)"
   ]
  },
  {
   "cell_type": "code",
   "execution_count": 4,
   "metadata": {},
   "outputs": [
    {
     "data": {
      "text/plain": [
       "(20, 14)"
      ]
     },
     "execution_count": 4,
     "metadata": {},
     "output_type": "execute_result"
    }
   ],
   "source": [
    "df.shape"
   ]
  },
  {
   "cell_type": "code",
   "execution_count": 5,
   "metadata": {},
   "outputs": [
    {
     "data": {
      "text/html": [
       "<div>\n",
       "<style scoped>\n",
       "    .dataframe tbody tr th:only-of-type {\n",
       "        vertical-align: middle;\n",
       "    }\n",
       "\n",
       "    .dataframe tbody tr th {\n",
       "        vertical-align: top;\n",
       "    }\n",
       "\n",
       "    .dataframe thead th {\n",
       "        text-align: right;\n",
       "    }\n",
       "</style>\n",
       "<table border=\"1\" class=\"dataframe\">\n",
       "  <thead>\n",
       "    <tr style=\"text-align: right;\">\n",
       "      <th></th>\n",
       "      <th>item_id</th>\n",
       "      <th>date</th>\n",
       "      <th>title</th>\n",
       "      <th>content</th>\n",
       "      <th>sentiment</th>\n",
       "      <th>summary</th>\n",
       "      <th>top_key_freq</th>\n",
       "      <th>tokens</th>\n",
       "      <th>tokens_v2</th>\n",
       "      <th>entities</th>\n",
       "      <th>token_pos</th>\n",
       "      <th>link</th>\n",
       "      <th>photo_link</th>\n",
       "    </tr>\n",
       "    <tr>\n",
       "      <th>category</th>\n",
       "      <th></th>\n",
       "      <th></th>\n",
       "      <th></th>\n",
       "      <th></th>\n",
       "      <th></th>\n",
       "      <th></th>\n",
       "      <th></th>\n",
       "      <th></th>\n",
       "      <th></th>\n",
       "      <th></th>\n",
       "      <th></th>\n",
       "      <th></th>\n",
       "      <th></th>\n",
       "    </tr>\n",
       "  </thead>\n",
       "  <tbody>\n",
       "    <tr>\n",
       "      <th>兩岸</th>\n",
       "      <td>4</td>\n",
       "      <td>4</td>\n",
       "      <td>4</td>\n",
       "      <td>4</td>\n",
       "      <td>4</td>\n",
       "      <td>4</td>\n",
       "      <td>4</td>\n",
       "      <td>4</td>\n",
       "      <td>4</td>\n",
       "      <td>4</td>\n",
       "      <td>4</td>\n",
       "      <td>4</td>\n",
       "      <td>1</td>\n",
       "    </tr>\n",
       "    <tr>\n",
       "      <th>國際</th>\n",
       "      <td>4</td>\n",
       "      <td>4</td>\n",
       "      <td>4</td>\n",
       "      <td>4</td>\n",
       "      <td>4</td>\n",
       "      <td>4</td>\n",
       "      <td>4</td>\n",
       "      <td>4</td>\n",
       "      <td>4</td>\n",
       "      <td>4</td>\n",
       "      <td>4</td>\n",
       "      <td>4</td>\n",
       "      <td>1</td>\n",
       "    </tr>\n",
       "    <tr>\n",
       "      <th>文化</th>\n",
       "      <td>4</td>\n",
       "      <td>4</td>\n",
       "      <td>4</td>\n",
       "      <td>4</td>\n",
       "      <td>4</td>\n",
       "      <td>4</td>\n",
       "      <td>4</td>\n",
       "      <td>4</td>\n",
       "      <td>4</td>\n",
       "      <td>4</td>\n",
       "      <td>4</td>\n",
       "      <td>4</td>\n",
       "      <td>4</td>\n",
       "    </tr>\n",
       "    <tr>\n",
       "      <th>生活</th>\n",
       "      <td>4</td>\n",
       "      <td>4</td>\n",
       "      <td>4</td>\n",
       "      <td>4</td>\n",
       "      <td>4</td>\n",
       "      <td>4</td>\n",
       "      <td>4</td>\n",
       "      <td>4</td>\n",
       "      <td>4</td>\n",
       "      <td>4</td>\n",
       "      <td>4</td>\n",
       "      <td>4</td>\n",
       "      <td>2</td>\n",
       "    </tr>\n",
       "    <tr>\n",
       "      <th>社會</th>\n",
       "      <td>4</td>\n",
       "      <td>4</td>\n",
       "      <td>4</td>\n",
       "      <td>4</td>\n",
       "      <td>4</td>\n",
       "      <td>4</td>\n",
       "      <td>4</td>\n",
       "      <td>4</td>\n",
       "      <td>4</td>\n",
       "      <td>4</td>\n",
       "      <td>4</td>\n",
       "      <td>4</td>\n",
       "      <td>3</td>\n",
       "    </tr>\n",
       "  </tbody>\n",
       "</table>\n",
       "</div>"
      ],
      "text/plain": [
       "          item_id  date  title  content  sentiment  summary  top_key_freq  \\\n",
       "category                                                                    \n",
       "兩岸              4     4      4        4          4        4             4   \n",
       "國際              4     4      4        4          4        4             4   \n",
       "文化              4     4      4        4          4        4             4   \n",
       "生活              4     4      4        4          4        4             4   \n",
       "社會              4     4      4        4          4        4             4   \n",
       "\n",
       "          tokens  tokens_v2  entities  token_pos  link  photo_link  \n",
       "category                                                            \n",
       "兩岸             4          4         4          4     4           1  \n",
       "國際             4          4         4          4     4           1  \n",
       "文化             4          4         4          4     4           4  \n",
       "生活             4          4         4          4     4           2  \n",
       "社會             4          4         4          4     4           3  "
      ]
     },
     "execution_count": 5,
     "metadata": {},
     "output_type": "execute_result"
    }
   ],
   "source": [
    "df.groupby('category').count()"
   ]
  },
  {
   "cell_type": "code",
   "execution_count": 6,
   "metadata": {},
   "outputs": [],
   "source": [
    "# df_group = df[df.category == '政治']\n",
    "df_group = df.query('category == \"政治\"')"
   ]
  },
  {
   "cell_type": "code",
   "execution_count": 7,
   "metadata": {},
   "outputs": [
    {
     "data": {
      "text/html": [
       "<div>\n",
       "<style scoped>\n",
       "    .dataframe tbody tr th:only-of-type {\n",
       "        vertical-align: middle;\n",
       "    }\n",
       "\n",
       "    .dataframe tbody tr th {\n",
       "        vertical-align: top;\n",
       "    }\n",
       "\n",
       "    .dataframe thead th {\n",
       "        text-align: right;\n",
       "    }\n",
       "</style>\n",
       "<table border=\"1\" class=\"dataframe\">\n",
       "  <thead>\n",
       "    <tr style=\"text-align: right;\">\n",
       "      <th></th>\n",
       "      <th>item_id</th>\n",
       "      <th>date</th>\n",
       "      <th>category</th>\n",
       "      <th>title</th>\n",
       "      <th>content</th>\n",
       "      <th>sentiment</th>\n",
       "      <th>summary</th>\n",
       "      <th>top_key_freq</th>\n",
       "      <th>tokens</th>\n",
       "      <th>tokens_v2</th>\n",
       "      <th>entities</th>\n",
       "      <th>token_pos</th>\n",
       "      <th>link</th>\n",
       "      <th>photo_link</th>\n",
       "    </tr>\n",
       "  </thead>\n",
       "  <tbody>\n",
       "  </tbody>\n",
       "</table>\n",
       "</div>"
      ],
      "text/plain": [
       "Empty DataFrame\n",
       "Columns: [item_id, date, category, title, content, sentiment, summary, top_key_freq, tokens, tokens_v2, entities, token_pos, link, photo_link]\n",
       "Index: []"
      ]
     },
     "execution_count": 7,
     "metadata": {},
     "output_type": "execute_result"
    }
   ],
   "source": [
    "df_group"
   ]
  },
  {
   "cell_type": "code",
   "execution_count": 8,
   "metadata": {},
   "outputs": [
    {
     "data": {
      "text/plain": [
       "Series([], Name: token_pos, dtype: object)"
      ]
     },
     "execution_count": 8,
     "metadata": {},
     "output_type": "execute_result"
    }
   ],
   "source": [
    "df_group['token_pos']"
   ]
  },
  {
   "cell_type": "code",
   "execution_count": 9,
   "metadata": {},
   "outputs": [
    {
     "data": {
      "text/plain": [
       "0"
      ]
     },
     "execution_count": 9,
     "metadata": {},
     "output_type": "execute_result"
    }
   ],
   "source": [
    "len(df_group['token_pos'])"
   ]
  },
  {
   "cell_type": "code",
   "execution_count": 10,
   "metadata": {},
   "outputs": [],
   "source": [
    "from collections import Counter"
   ]
  },
  {
   "cell_type": "code",
   "execution_count": 11,
   "metadata": {},
   "outputs": [],
   "source": [
    "news_links =['ahel','aopl','asoc','acul','acn']\n",
    "news_categories=['生活','國際','社會','文化','兩岸']\n",
    "# news_links =['aipl', 'ait', 'aspt', 'asc', 'aie', 'amov','ahel','aopl','asoc','acul','acn']\n",
    "# news_categories=['政治','科技','運動','證卷','產經','娛樂','生活','國際','社會','文化','兩岸']"
   ]
  },
  {
   "cell_type": "code",
   "execution_count": 12,
   "metadata": {},
   "outputs": [],
   "source": [
    "# Filter condition: two words and specified POS\n",
    "# 過濾條件:兩個字以上 特定的詞性\n",
    "allowedPOS=['Na','Nb','Nc']"
   ]
  },
  {
   "cell_type": "code",
   "execution_count": 13,
   "metadata": {},
   "outputs": [],
   "source": [
    "top_cate_words={} # final result\n",
    "counter_all = Counter() # counter for category '全部'\n",
    "for category in news_categories:\n",
    "    \n",
    "    # df yesterday-->This is your homework\n",
    "    # df=df[(df.date >= start_date) & (df.date <= end_date)]\n",
    "    \n",
    "    # df category\n",
    "    df_group = df[df.category == category]\n",
    "    \n",
    "    # concatenate all filtered words in the same category\n",
    "    words_group = []\n",
    "    for row in df_group.token_pos:\n",
    "        \n",
    "        # filter words for each news\n",
    "        filtered_words =[]\n",
    "        for (word, pos) in eval(row):\n",
    "            if (len(word) >= 2) & (pos in allowedPOS):\n",
    "                filtered_words.append(word)\n",
    "                \n",
    "        # concatenate filtered words  \n",
    "        words_group += filtered_words\n",
    "\n",
    "    # now we can count word frequency\n",
    "    counter = Counter( words_group )\n",
    "    \n",
    "    # concatenate all counters \n",
    "    counter_all += counter\n",
    "    topwords = counter.most_common(10)\n",
    "\n",
    "    # store topwords\n",
    "    top_cate_words[category]= topwords\n",
    "\n",
    "# Process category '全部'\n",
    "top_cate_words['全部'] = counter_all.most_common(10)"
   ]
  },
  {
   "cell_type": "code",
   "execution_count": 14,
   "metadata": {},
   "outputs": [
    {
     "data": {
      "text/plain": [
       "['中國',\n",
       " '大陸',\n",
       " '國台辦',\n",
       " '藝人',\n",
       " '台灣',\n",
       " '統戰',\n",
       " '言論',\n",
       " '思想',\n",
       " '自由',\n",
       " '陸委會',\n",
       " '中共',\n",
       " '資格',\n",
       " '言論',\n",
       " '思想',\n",
       " '自由',\n",
       " '大陸',\n",
       " '委員會',\n",
       " '陸委會',\n",
       " '書面',\n",
       " '中共',\n",
       " '統戰',\n",
       " '經貿',\n",
       " '教育',\n",
       " '文化',\n",
       " '台灣',\n",
       " '社會',\n",
       " '中共',\n",
       " '思想',\n",
       " '輿論',\n",
       " '人權',\n",
       " '資格',\n",
       " '言論自由',\n",
       " '思想',\n",
       " '自由',\n",
       " '自由',\n",
       " '陸委會',\n",
       " '政府',\n",
       " '國家',\n",
       " '利益',\n",
       " '中共',\n",
       " '全民',\n",
       " '心防',\n",
       " '措施',\n",
       " '中國',\n",
       " '大陸',\n",
       " '國務院',\n",
       " '台灣',\n",
       " '事務',\n",
       " '辦公室',\n",
       " '國台辦',\n",
       " '記者會',\n",
       " '中國',\n",
       " '大陸國台辦',\n",
       " '發言人',\n",
       " '陳斌華',\n",
       " '陸委會',\n",
       " '央視',\n",
       " '台灣',\n",
       " '台灣',\n",
       " '藝人',\n",
       " '台灣',\n",
       " '民眾',\n",
       " '思想',\n",
       " '自由',\n",
       " '言論自由',\n",
       " '劉姓',\n",
       " '女子',\n",
       " '社群',\n",
       " '帳號',\n",
       " '亞在',\n",
       " '台灣',\n",
       " '武統言論',\n",
       " '內政部',\n",
       " '移民署',\n",
       " '台依',\n",
       " '陳斌華',\n",
       " '台灣',\n",
       " '立場',\n",
       " '聲音',\n",
       " '網紅八炯',\n",
       " '宵小之輩',\n",
       " '人大',\n",
       " '常委會',\n",
       " '委員長',\n",
       " '趙樂際',\n",
       " '中國',\n",
       " '官媒',\n",
       " '央視',\n",
       " '趙樂際',\n",
       " '報導',\n",
       " '會議',\n",
       " '新聞',\n",
       " '工作者',\n",
       " '謠言',\n",
       " '中國',\n",
       " '期間',\n",
       " '趙樂際',\n",
       " '呼吸道',\n",
       " '央視',\n",
       " '新聞',\n",
       " '聯播',\n",
       " '趙樂際',\n",
       " '活動',\n",
       " '新聞',\n",
       " '央視',\n",
       " '趙樂際',\n",
       " '鏡頭',\n",
       " '畫面',\n",
       " '傳言',\n",
       " '央視',\n",
       " '新聞',\n",
       " '趙樂際',\n",
       " '北京',\n",
       " '人民',\n",
       " '大會堂',\n",
       " '國人',\n",
       " '會議',\n",
       " '新聞',\n",
       " '中央',\n",
       " '新聞',\n",
       " '單位',\n",
       " '人員',\n",
       " '新聞',\n",
       " '工作者',\n",
       " '代表',\n",
       " '大會',\n",
       " '主席團',\n",
       " '常委會',\n",
       " '大會',\n",
       " '新聞',\n",
       " '全體',\n",
       " '新聞',\n",
       " '工作者',\n",
       " '趙樂際',\n",
       " '中共',\n",
       " '中央',\n",
       " '大會',\n",
       " '秘書處',\n",
       " '部門',\n",
       " '新聞',\n",
       " '單位',\n",
       " '中共',\n",
       " '中央',\n",
       " '政治',\n",
       " '任務',\n",
       " '報導',\n",
       " '中共',\n",
       " '書記',\n",
       " '習近平',\n",
       " '活動',\n",
       " '中國',\n",
       " '經濟',\n",
       " '光明論',\n",
       " '民主',\n",
       " '趙樂際',\n",
       " '各界',\n",
       " '人民',\n",
       " '代表',\n",
       " '大會',\n",
       " '制度',\n",
       " '人大',\n",
       " '代表',\n",
       " '新聞',\n",
       " '國家',\n",
       " '政治',\n",
       " '制度',\n",
       " '人心',\n",
       " '中國',\n",
       " '故事',\n",
       " '過程',\n",
       " '故事',\n",
       " '中共',\n",
       " '中央',\n",
       " '政治局',\n",
       " '委員',\n",
       " '中央',\n",
       " '宣傳部',\n",
       " '部長',\n",
       " '李書磊',\n",
       " '中共',\n",
       " '中央',\n",
       " '政治局',\n",
       " '委員',\n",
       " '常委會',\n",
       " '副委員長',\n",
       " '李鴻忠',\n",
       " '中國',\n",
       " '電商',\n",
       " '阿里巴巴',\n",
       " '集團',\n",
       " '主席',\n",
       " '蔡崇信',\n",
       " '新加坡',\n",
       " '論壇',\n",
       " '對話',\n",
       " '企業',\n",
       " '座談會',\n",
       " '訊號',\n",
       " '企業',\n",
       " '信心',\n",
       " '消費信心',\n",
       " '中國',\n",
       " '媒體',\n",
       " '新聞',\n",
       " '蔡崇信',\n",
       " '座談會',\n",
       " '阿里巴巴',\n",
       " '基礎',\n",
       " '設施',\n",
       " '硬體',\n",
       " '收入',\n",
       " '基礎',\n",
       " '設施',\n",
       " '建設',\n",
       " '企業',\n",
       " '信心',\n",
       " '行動',\n",
       " '蔡崇信',\n",
       " '看法',\n",
       " '力量',\n",
       " '低成本',\n",
       " '技術',\n",
       " '意義',\n",
       " '中國',\n",
       " '美國',\n",
       " '力量',\n",
       " '企業',\n",
       " '遊戲',\n",
       " '中小企業',\n",
       " '結果',\n",
       " '蔡崇信',\n",
       " '論壇',\n",
       " '人工',\n",
       " '智慧',\n",
       " '市場',\n",
       " '規模',\n",
       " '規模',\n",
       " '交通',\n",
       " '保險',\n",
       " '行業',\n",
       " '人工',\n",
       " '智慧',\n",
       " '企業',\n",
       " '座談會',\n",
       " '北京',\n",
       " '阿里巴巴',\n",
       " '馬雲等多名',\n",
       " '民企',\n",
       " '負責人',\n",
       " '座談會',\n",
       " '企業',\n",
       " '負責人',\n",
       " '代表',\n",
       " '經濟',\n",
       " '意見',\n",
       " '建議',\n",
       " '香港',\n",
       " '運動',\n",
       " '港府',\n",
       " '中學生',\n",
       " '中國',\n",
       " '大陸',\n",
       " '國情',\n",
       " '師生',\n",
       " '腸胃炎',\n",
       " '港方',\n",
       " '官方',\n",
       " '香港',\n",
       " '電台',\n",
       " '中學',\n",
       " '交流團',\n",
       " '廣東',\n",
       " '韶關',\n",
       " '師生',\n",
       " '腸胃炎',\n",
       " '教育界',\n",
       " '議員',\n",
       " '朱國強',\n",
       " '交流團',\n",
       " '教育局',\n",
       " '旅行社',\n",
       " '機構',\n",
       " '程序',\n",
       " '過往',\n",
       " '情況',\n",
       " '事件',\n",
       " '學校',\n",
       " '人數',\n",
       " '情況',\n",
       " '教育局',\n",
       " '單位',\n",
       " '衛生',\n",
       " '環境',\n",
       " '餐廳',\n",
       " '學校',\n",
       " '計畫',\n",
       " '韶關',\n",
       " '教育局',\n",
       " '學校',\n",
       " '地點',\n",
       " '港府',\n",
       " '學年度',\n",
       " '公民',\n",
       " '社會',\n",
       " '展科',\n",
       " '公民科',\n",
       " '教育科',\n",
       " '公民科',\n",
       " '內容',\n",
       " '高中生',\n",
       " '大陸',\n",
       " '機會',\n",
       " '學生',\n",
       " '國民',\n",
       " '身分']"
      ]
     },
     "execution_count": 14,
     "metadata": {},
     "output_type": "execute_result"
    }
   ],
   "source": [
    "words_group\n"
   ]
  },
  {
   "cell_type": "code",
   "execution_count": 15,
   "metadata": {},
   "outputs": [
    {
     "data": {
      "text/plain": [
       "{'生活': [('醫院', 26),\n",
       "  ('護理', 8),\n",
       "  ('星彩', 8),\n",
       "  ('工會', 8),\n",
       "  ('離島', 7),\n",
       "  ('石崇良', 7),\n",
       "  ('衛福部', 7),\n",
       "  ('人員', 6),\n",
       "  ('護理費', 6),\n",
       "  ('號碼', 6)],\n",
       " '國際': [('英國', 40),\n",
       "  ('關稅', 28),\n",
       "  ('中國', 21),\n",
       "  ('美方', 19),\n",
       "  ('城市', 19),\n",
       "  ('美國', 18),\n",
       "  ('全球', 13),\n",
       "  ('智慧', 13),\n",
       "  ('措施', 11),\n",
       "  ('川普', 10)],\n",
       " '社會': [('澎湖', 8),\n",
       "  ('蘇男', 7),\n",
       "  ('沈慶京', 6),\n",
       "  ('車輛', 5),\n",
       "  ('人員', 5),\n",
       "  ('董桂珠', 5),\n",
       "  ('男子', 4),\n",
       "  ('許女', 4),\n",
       "  ('地檢署', 4),\n",
       "  ('收容人', 4)],\n",
       " '文化': [('台灣', 16),\n",
       "  ('攝影', 14),\n",
       "  ('國父', 14),\n",
       "  ('作品', 12),\n",
       "  ('博物館', 12),\n",
       "  ('日本', 11),\n",
       "  ('漫畫', 11),\n",
       "  ('大都會', 11),\n",
       "  ('左萱', 9),\n",
       "  ('文化', 8)],\n",
       " '兩岸': [('新聞', 12),\n",
       "  ('中國', 11),\n",
       "  ('中共', 9),\n",
       "  ('台灣', 8),\n",
       "  ('趙樂際', 8),\n",
       "  ('中央', 6),\n",
       "  ('企業', 6),\n",
       "  ('大陸', 5),\n",
       "  ('思想', 5),\n",
       "  ('自由', 5)],\n",
       " '全部': [('英國', 40),\n",
       "  ('中國', 32),\n",
       "  ('台灣', 30),\n",
       "  ('關稅', 28),\n",
       "  ('醫院', 26),\n",
       "  ('美國', 26),\n",
       "  ('城市', 20),\n",
       "  ('美方', 19),\n",
       "  ('國家', 19),\n",
       "  ('作品', 18)]}"
      ]
     },
     "execution_count": 15,
     "metadata": {},
     "output_type": "execute_result"
    }
   ],
   "source": [
    "top_cate_words\n"
   ]
  },
  {
   "cell_type": "code",
   "execution_count": 16,
   "metadata": {},
   "outputs": [
    {
     "data": {
      "text/plain": [
       "[('生活',\n",
       "  [('醫院', 26),\n",
       "   ('護理', 8),\n",
       "   ('星彩', 8),\n",
       "   ('工會', 8),\n",
       "   ('離島', 7),\n",
       "   ('石崇良', 7),\n",
       "   ('衛福部', 7),\n",
       "   ('人員', 6),\n",
       "   ('護理費', 6),\n",
       "   ('號碼', 6)]),\n",
       " ('國際',\n",
       "  [('英國', 40),\n",
       "   ('關稅', 28),\n",
       "   ('中國', 21),\n",
       "   ('美方', 19),\n",
       "   ('城市', 19),\n",
       "   ('美國', 18),\n",
       "   ('全球', 13),\n",
       "   ('智慧', 13),\n",
       "   ('措施', 11),\n",
       "   ('川普', 10)]),\n",
       " ('社會',\n",
       "  [('澎湖', 8),\n",
       "   ('蘇男', 7),\n",
       "   ('沈慶京', 6),\n",
       "   ('車輛', 5),\n",
       "   ('人員', 5),\n",
       "   ('董桂珠', 5),\n",
       "   ('男子', 4),\n",
       "   ('許女', 4),\n",
       "   ('地檢署', 4),\n",
       "   ('收容人', 4)]),\n",
       " ('文化',\n",
       "  [('台灣', 16),\n",
       "   ('攝影', 14),\n",
       "   ('國父', 14),\n",
       "   ('作品', 12),\n",
       "   ('博物館', 12),\n",
       "   ('日本', 11),\n",
       "   ('漫畫', 11),\n",
       "   ('大都會', 11),\n",
       "   ('左萱', 9),\n",
       "   ('文化', 8)]),\n",
       " ('兩岸',\n",
       "  [('新聞', 12),\n",
       "   ('中國', 11),\n",
       "   ('中共', 9),\n",
       "   ('台灣', 8),\n",
       "   ('趙樂際', 8),\n",
       "   ('中央', 6),\n",
       "   ('企業', 6),\n",
       "   ('大陸', 5),\n",
       "   ('思想', 5),\n",
       "   ('自由', 5)]),\n",
       " ('全部',\n",
       "  [('英國', 40),\n",
       "   ('中國', 32),\n",
       "   ('台灣', 30),\n",
       "   ('關稅', 28),\n",
       "   ('醫院', 26),\n",
       "   ('美國', 26),\n",
       "   ('城市', 20),\n",
       "   ('美方', 19),\n",
       "   ('國家', 19),\n",
       "   ('作品', 18)])]"
      ]
     },
     "execution_count": 16,
     "metadata": {},
     "output_type": "execute_result"
    }
   ],
   "source": [
    "list(top_cate_words.items())"
   ]
  },
  {
   "cell_type": "code",
   "execution_count": 17,
   "metadata": {},
   "outputs": [
    {
     "data": {
      "text/plain": [
       "[1, 2, 3, 4, 5, 6]"
      ]
     },
     "execution_count": 17,
     "metadata": {},
     "output_type": "execute_result"
    }
   ],
   "source": [
    "[1,2,3] + [4,5,6]    "
   ]
  },
  {
   "cell_type": "code",
   "execution_count": 18,
   "metadata": {},
   "outputs": [
    {
     "data": {
      "text/plain": [
       "Counter({1: 2, 2: 2, 3: 1, 5: 1})"
      ]
     },
     "execution_count": 18,
     "metadata": {},
     "output_type": "execute_result"
    }
   ],
   "source": [
    "counter_all = Counter([1,2,3]) + Counter([1,2,5])\n",
    "counter_all"
   ]
  },
  {
   "cell_type": "code",
   "execution_count": 19,
   "metadata": {},
   "outputs": [],
   "source": [
    "from collections import Counter"
   ]
  },
  {
   "cell_type": "code",
   "execution_count": 20,
   "metadata": {},
   "outputs": [],
   "source": [
    "news_links =['ahel','aopl','asoc','acul','acn']\n",
    "news_categories=['生活','國際','社會','文化','兩岸']\n",
    "# news_links =['aipl', 'ait', 'aspt', 'asc', 'aie', 'amov','ahel','aopl','asoc','acul','acn']\n",
    "# news_categories=['政治','科技','運動','證卷','產經','娛樂','生活','國際','社會','文化','兩岸']"
   ]
  },
  {
   "cell_type": "code",
   "execution_count": 21,
   "metadata": {},
   "outputs": [],
   "source": [
    "allowedPOS=['Na','Nb','Nc']"
   ]
  },
  {
   "cell_type": "code",
   "execution_count": 22,
   "metadata": {},
   "outputs": [],
   "source": [
    "# All-in-one function\n",
    "def get_top_words():\n",
    "    top_cate_words={} # final result\n",
    "    counter_all = Counter() # counter for category '全部'\n",
    "    for category in news_categories:\n",
    "\n",
    "        df_group = df[df.category == category]\n",
    "\n",
    "        # concatenate all filtered words in the same category\n",
    "        words_group = []\n",
    "        for row in df_group.token_pos:\n",
    "\n",
    "            # filter words for each news\n",
    "            filtered_words =[]\n",
    "            for (word, pos) in eval(row):\n",
    "                if (len(word) >= 2) & (pos in allowedPOS):\n",
    "                    filtered_words.append(word)\n",
    "\n",
    "            # concatenate filtered words  \n",
    "            words_group += filtered_words\n",
    "\n",
    "        # now we can count word frequency\n",
    "        counter = Counter( words_group )\n",
    "\n",
    "        # counter \n",
    "        counter_all += counter\n",
    "        topwords = counter.most_common(10)\n",
    "\n",
    "        # store topwords\n",
    "        top_cate_words[category]= topwords\n",
    "\n",
    "    # Process category '全部'\n",
    "    top_cate_words['全部'] = counter_all.most_common(10)\n",
    "    \n",
    "    # To conveniently save data using pandas, we should convert dict to list.\n",
    "    return list(top_cate_words.items())"
   ]
  },
  {
   "cell_type": "code",
   "execution_count": 23,
   "metadata": {},
   "outputs": [
    {
     "name": "stdout",
     "output_type": "stream",
     "text": [
      "CPU times: total: 31.2 ms\n",
      "Wall time: 37 ms\n"
     ]
    }
   ],
   "source": [
    "%%time\n",
    "result = get_top_words()"
   ]
  },
  {
   "cell_type": "code",
   "execution_count": 24,
   "metadata": {},
   "outputs": [
    {
     "data": {
      "text/plain": [
       "[('生活',\n",
       "  [('醫院', 26),\n",
       "   ('護理', 8),\n",
       "   ('星彩', 8),\n",
       "   ('工會', 8),\n",
       "   ('離島', 7),\n",
       "   ('石崇良', 7),\n",
       "   ('衛福部', 7),\n",
       "   ('人員', 6),\n",
       "   ('護理費', 6),\n",
       "   ('號碼', 6)]),\n",
       " ('國際',\n",
       "  [('英國', 40),\n",
       "   ('關稅', 28),\n",
       "   ('中國', 21),\n",
       "   ('美方', 19),\n",
       "   ('城市', 19),\n",
       "   ('美國', 18),\n",
       "   ('全球', 13),\n",
       "   ('智慧', 13),\n",
       "   ('措施', 11),\n",
       "   ('川普', 10)]),\n",
       " ('社會',\n",
       "  [('澎湖', 8),\n",
       "   ('蘇男', 7),\n",
       "   ('沈慶京', 6),\n",
       "   ('車輛', 5),\n",
       "   ('人員', 5),\n",
       "   ('董桂珠', 5),\n",
       "   ('男子', 4),\n",
       "   ('許女', 4),\n",
       "   ('地檢署', 4),\n",
       "   ('收容人', 4)])]"
      ]
     },
     "execution_count": 24,
     "metadata": {},
     "output_type": "execute_result"
    }
   ],
   "source": [
    "result[0:3]"
   ]
  },
  {
   "cell_type": "code",
   "execution_count": 25,
   "metadata": {},
   "outputs": [],
   "source": [
    "import pandas as pd"
   ]
  },
  {
   "cell_type": "code",
   "execution_count": 26,
   "metadata": {},
   "outputs": [],
   "source": [
    "top_group_words = get_top_words()"
   ]
  },
  {
   "cell_type": "code",
   "execution_count": 27,
   "metadata": {},
   "outputs": [],
   "source": [
    "df_top_group_words = pd.DataFrame(top_group_words, columns = ['category','top_keys'])"
   ]
  },
  {
   "cell_type": "code",
   "execution_count": 28,
   "metadata": {},
   "outputs": [
    {
     "data": {
      "text/html": [
       "<div>\n",
       "<style scoped>\n",
       "    .dataframe tbody tr th:only-of-type {\n",
       "        vertical-align: middle;\n",
       "    }\n",
       "\n",
       "    .dataframe tbody tr th {\n",
       "        vertical-align: top;\n",
       "    }\n",
       "\n",
       "    .dataframe thead th {\n",
       "        text-align: right;\n",
       "    }\n",
       "</style>\n",
       "<table border=\"1\" class=\"dataframe\">\n",
       "  <thead>\n",
       "    <tr style=\"text-align: right;\">\n",
       "      <th></th>\n",
       "      <th>category</th>\n",
       "      <th>top_keys</th>\n",
       "    </tr>\n",
       "  </thead>\n",
       "  <tbody>\n",
       "    <tr>\n",
       "      <th>0</th>\n",
       "      <td>生活</td>\n",
       "      <td>[(醫院, 26), (護理, 8), (星彩, 8), (工會, 8), (離島, 7),...</td>\n",
       "    </tr>\n",
       "    <tr>\n",
       "      <th>1</th>\n",
       "      <td>國際</td>\n",
       "      <td>[(英國, 40), (關稅, 28), (中國, 21), (美方, 19), (城市, ...</td>\n",
       "    </tr>\n",
       "    <tr>\n",
       "      <th>2</th>\n",
       "      <td>社會</td>\n",
       "      <td>[(澎湖, 8), (蘇男, 7), (沈慶京, 6), (車輛, 5), (人員, 5),...</td>\n",
       "    </tr>\n",
       "    <tr>\n",
       "      <th>3</th>\n",
       "      <td>文化</td>\n",
       "      <td>[(台灣, 16), (攝影, 14), (國父, 14), (作品, 12), (博物館,...</td>\n",
       "    </tr>\n",
       "    <tr>\n",
       "      <th>4</th>\n",
       "      <td>兩岸</td>\n",
       "      <td>[(新聞, 12), (中國, 11), (中共, 9), (台灣, 8), (趙樂際, 8...</td>\n",
       "    </tr>\n",
       "    <tr>\n",
       "      <th>5</th>\n",
       "      <td>全部</td>\n",
       "      <td>[(英國, 40), (中國, 32), (台灣, 30), (關稅, 28), (醫院, ...</td>\n",
       "    </tr>\n",
       "  </tbody>\n",
       "</table>\n",
       "</div>"
      ],
      "text/plain": [
       "  category                                           top_keys\n",
       "0       生活  [(醫院, 26), (護理, 8), (星彩, 8), (工會, 8), (離島, 7),...\n",
       "1       國際  [(英國, 40), (關稅, 28), (中國, 21), (美方, 19), (城市, ...\n",
       "2       社會  [(澎湖, 8), (蘇男, 7), (沈慶京, 6), (車輛, 5), (人員, 5),...\n",
       "3       文化  [(台灣, 16), (攝影, 14), (國父, 14), (作品, 12), (博物館,...\n",
       "4       兩岸  [(新聞, 12), (中國, 11), (中共, 9), (台灣, 8), (趙樂際, 8...\n",
       "5       全部  [(英國, 40), (中國, 32), (台灣, 30), (關稅, 28), (醫院, ..."
      ]
     },
     "execution_count": 28,
     "metadata": {},
     "output_type": "execute_result"
    }
   ],
   "source": [
    "df_top_group_words"
   ]
  },
  {
   "cell_type": "code",
   "execution_count": 29,
   "metadata": {},
   "outputs": [],
   "source": [
    "df_top_group_words.to_csv('cna_news_topkey_with_category_via_token_pos.csv', index=False)"
   ]
  },
  {
   "cell_type": "code",
   "execution_count": 30,
   "metadata": {},
   "outputs": [],
   "source": [
    "# 過濾條件:兩個字以上 特定的詞性\n",
    "allowedPOS=['Na','Nb','Nc']\n",
    "from collections import Counter\n",
    "\n",
    "def word_frequency( token_pos_list ):\n",
    "    filtered_words =[]\n",
    "    for word, pos in token_pos_list:\n",
    "        if (pos in allowedPOS) & (len(word) >= 2):\n",
    "            filtered_words.append(word)\n",
    "        #print('%s %s' % (word, pos))\n",
    "    counter = Counter( filtered_words )\n",
    "    return counter.most_common( 200 )"
   ]
  },
  {
   "cell_type": "code",
   "execution_count": 31,
   "metadata": {},
   "outputs": [
    {
     "name": "stdout",
     "output_type": "stream",
     "text": [
      "CPU times: total: 78.1 ms\n",
      "Wall time: 83 ms\n"
     ]
    }
   ],
   "source": [
    "%%time\n",
    "top_words_group=[]\n",
    "group_token_pos_all=[]\n",
    "for category in news_categories:\n",
    "    df_group = df[df.category == category]\n",
    "    group_token_pos =[]\n",
    "    \n",
    "    for gtp in df_group.token_pos:\n",
    "        group_token_pos += eval(gtp)\n",
    "    \n",
    "    group_token_pos_all += group_token_pos\n",
    "    \n",
    "    topwords = word_frequency( group_token_pos )\n",
    "    d = pd.DataFrame(topwords, columns = ['key','freq'])\n",
    "    top_words_group.append([category, topwords])"
   ]
  },
  {
   "cell_type": "code",
   "execution_count": 32,
   "metadata": {},
   "outputs": [],
   "source": [
    "from collections import Counter\n",
    "import pandas as pd\n",
    "\n",
    "# \n",
    "df = pd.read_csv('cna_news_preprocessed.csv',sep='|')\n",
    "news_categories=['政治','科技','運動','證卷','產經','娛樂','生活','國際','社會','文化','兩岸']\n",
    "# Filter condition: two words and specified POS\n",
    "# 過濾條件:兩個字以上 特定的詞性\n",
    "allowedPOS=['Na','Nb','Nc']\n",
    "\n",
    "# \n",
    "# get topk keyword function\n",
    "def get_top_words():\n",
    "    top_cate_words={} # final result\n",
    "    counter_all = Counter() # counter for category '全部'\n",
    "    for category in news_categories:\n",
    "\n",
    "        df_group = df[df.category == category]\n",
    "\n",
    "        # concatenate all filtered words in the same category\n",
    "        words_group = []\n",
    "        for row in df_group.token_pos:\n",
    "\n",
    "            # filter words for each news\n",
    "            filtered_words =[]\n",
    "            for (word, pos) in eval(row):\n",
    "                if (len(word) >= 2) & (pos in allowedPOS):\n",
    "                    filtered_words.append(word)\n",
    "\n",
    "            # concatenate filtered words  \n",
    "            words_group += filtered_words\n",
    "\n",
    "        # now we can count word frequency\n",
    "        counter = Counter( words_group )\n",
    "\n",
    "        # counter \n",
    "        counter_all += counter\n",
    "        topwords = counter.most_common(100)\n",
    "\n",
    "        # store topwords\n",
    "        top_cate_words[category]= topwords\n",
    "\n",
    "    # Process category '全部'\n",
    "    top_cate_words['全部'] = counter_all.most_common(100)\n",
    "    \n",
    "    # To conveniently save data using pandas, we should convert dict to list.\n",
    "    return list(top_cate_words.items())\n",
    "\n",
    "# Save top 20 word frequency for each category\n",
    "top_group_words = get_top_words()\n",
    "df_top_group_words = pd.DataFrame(top_group_words, columns = ['category','top_keys'])\n",
    "df_top_group_words.to_csv('cna_news_topkey_with_category_via_token_pos.csv', index=False)"
   ]
  },
  {
   "cell_type": "code",
   "execution_count": null,
   "metadata": {},
   "outputs": [],
   "source": []
  },
  {
   "cell_type": "code",
   "execution_count": null,
   "metadata": {},
   "outputs": [],
   "source": []
  },
  {
   "cell_type": "code",
   "execution_count": null,
   "metadata": {},
   "outputs": [],
   "source": []
  },
  {
   "cell_type": "code",
   "execution_count": null,
   "metadata": {},
   "outputs": [],
   "source": []
  },
  {
   "cell_type": "code",
   "execution_count": null,
   "metadata": {},
   "outputs": [],
   "source": []
  },
  {
   "cell_type": "code",
   "execution_count": null,
   "metadata": {},
   "outputs": [],
   "source": []
  },
  {
   "cell_type": "code",
   "execution_count": null,
   "metadata": {},
   "outputs": [],
   "source": []
  },
  {
   "cell_type": "code",
   "execution_count": null,
   "metadata": {},
   "outputs": [],
   "source": []
  },
  {
   "cell_type": "code",
   "execution_count": null,
   "metadata": {},
   "outputs": [],
   "source": []
  },
  {
   "cell_type": "code",
   "execution_count": null,
   "metadata": {},
   "outputs": [],
   "source": []
  },
  {
   "cell_type": "code",
   "execution_count": null,
   "metadata": {},
   "outputs": [],
   "source": []
  },
  {
   "cell_type": "code",
   "execution_count": null,
   "metadata": {},
   "outputs": [],
   "source": []
  },
  {
   "cell_type": "code",
   "execution_count": null,
   "metadata": {},
   "outputs": [],
   "source": []
  },
  {
   "cell_type": "code",
   "execution_count": null,
   "metadata": {},
   "outputs": [],
   "source": []
  },
  {
   "cell_type": "code",
   "execution_count": null,
   "metadata": {},
   "outputs": [],
   "source": []
  },
  {
   "cell_type": "code",
   "execution_count": null,
   "metadata": {},
   "outputs": [],
   "source": []
  },
  {
   "cell_type": "code",
   "execution_count": null,
   "metadata": {},
   "outputs": [],
   "source": []
  },
  {
   "cell_type": "code",
   "execution_count": null,
   "metadata": {},
   "outputs": [],
   "source": []
  },
  {
   "cell_type": "code",
   "execution_count": null,
   "metadata": {},
   "outputs": [],
   "source": []
  },
  {
   "cell_type": "code",
   "execution_count": null,
   "metadata": {},
   "outputs": [],
   "source": []
  },
  {
   "cell_type": "code",
   "execution_count": null,
   "metadata": {},
   "outputs": [],
   "source": []
  },
  {
   "cell_type": "code",
   "execution_count": null,
   "metadata": {},
   "outputs": [],
   "source": []
  },
  {
   "cell_type": "code",
   "execution_count": null,
   "metadata": {},
   "outputs": [],
   "source": []
  },
  {
   "cell_type": "code",
   "execution_count": null,
   "metadata": {},
   "outputs": [],
   "source": []
  },
  {
   "cell_type": "code",
   "execution_count": null,
   "metadata": {},
   "outputs": [],
   "source": []
  },
  {
   "cell_type": "code",
   "execution_count": null,
   "metadata": {},
   "outputs": [],
   "source": []
  },
  {
   "cell_type": "code",
   "execution_count": null,
   "metadata": {},
   "outputs": [],
   "source": []
  },
  {
   "cell_type": "code",
   "execution_count": null,
   "metadata": {},
   "outputs": [],
   "source": []
  },
  {
   "cell_type": "code",
   "execution_count": null,
   "metadata": {},
   "outputs": [],
   "source": []
  },
  {
   "cell_type": "code",
   "execution_count": null,
   "metadata": {},
   "outputs": [],
   "source": []
  },
  {
   "cell_type": "code",
   "execution_count": null,
   "metadata": {},
   "outputs": [],
   "source": []
  },
  {
   "cell_type": "code",
   "execution_count": null,
   "metadata": {},
   "outputs": [],
   "source": []
  },
  {
   "cell_type": "code",
   "execution_count": null,
   "metadata": {},
   "outputs": [],
   "source": []
  },
  {
   "cell_type": "code",
   "execution_count": null,
   "metadata": {},
   "outputs": [],
   "source": []
  },
  {
   "cell_type": "code",
   "execution_count": null,
   "metadata": {},
   "outputs": [],
   "source": []
  },
  {
   "cell_type": "code",
   "execution_count": null,
   "metadata": {},
   "outputs": [],
   "source": []
  },
  {
   "cell_type": "code",
   "execution_count": null,
   "metadata": {},
   "outputs": [],
   "source": []
  },
  {
   "cell_type": "code",
   "execution_count": null,
   "metadata": {},
   "outputs": [],
   "source": []
  },
  {
   "cell_type": "code",
   "execution_count": null,
   "metadata": {},
   "outputs": [],
   "source": []
  },
  {
   "cell_type": "code",
   "execution_count": null,
   "metadata": {},
   "outputs": [],
   "source": []
  },
  {
   "cell_type": "code",
   "execution_count": null,
   "metadata": {},
   "outputs": [],
   "source": []
  },
  {
   "cell_type": "code",
   "execution_count": null,
   "metadata": {},
   "outputs": [],
   "source": []
  },
  {
   "cell_type": "code",
   "execution_count": null,
   "metadata": {},
   "outputs": [],
   "source": []
  },
  {
   "cell_type": "code",
   "execution_count": null,
   "metadata": {},
   "outputs": [],
   "source": []
  },
  {
   "cell_type": "code",
   "execution_count": null,
   "metadata": {},
   "outputs": [],
   "source": []
  },
  {
   "cell_type": "code",
   "execution_count": null,
   "metadata": {},
   "outputs": [],
   "source": []
  },
  {
   "cell_type": "code",
   "execution_count": null,
   "metadata": {},
   "outputs": [],
   "source": []
  },
  {
   "cell_type": "code",
   "execution_count": null,
   "metadata": {},
   "outputs": [],
   "source": []
  },
  {
   "cell_type": "code",
   "execution_count": null,
   "metadata": {},
   "outputs": [],
   "source": []
  },
  {
   "cell_type": "code",
   "execution_count": null,
   "metadata": {},
   "outputs": [],
   "source": []
  },
  {
   "cell_type": "code",
   "execution_count": null,
   "metadata": {},
   "outputs": [],
   "source": []
  },
  {
   "cell_type": "code",
   "execution_count": null,
   "metadata": {},
   "outputs": [],
   "source": []
  },
  {
   "cell_type": "code",
   "execution_count": null,
   "metadata": {},
   "outputs": [],
   "source": []
  },
  {
   "cell_type": "code",
   "execution_count": null,
   "metadata": {},
   "outputs": [],
   "source": []
  },
  {
   "cell_type": "code",
   "execution_count": null,
   "metadata": {},
   "outputs": [],
   "source": []
  },
  {
   "cell_type": "code",
   "execution_count": null,
   "metadata": {},
   "outputs": [],
   "source": []
  },
  {
   "cell_type": "code",
   "execution_count": null,
   "metadata": {},
   "outputs": [],
   "source": []
  },
  {
   "cell_type": "code",
   "execution_count": null,
   "metadata": {},
   "outputs": [],
   "source": []
  },
  {
   "cell_type": "code",
   "execution_count": null,
   "metadata": {},
   "outputs": [],
   "source": []
  },
  {
   "cell_type": "code",
   "execution_count": null,
   "metadata": {},
   "outputs": [],
   "source": []
  },
  {
   "cell_type": "code",
   "execution_count": null,
   "metadata": {},
   "outputs": [],
   "source": []
  },
  {
   "cell_type": "code",
   "execution_count": null,
   "metadata": {},
   "outputs": [],
   "source": []
  },
  {
   "cell_type": "code",
   "execution_count": null,
   "metadata": {},
   "outputs": [],
   "source": []
  },
  {
   "cell_type": "code",
   "execution_count": null,
   "metadata": {},
   "outputs": [],
   "source": []
  },
  {
   "cell_type": "code",
   "execution_count": null,
   "metadata": {},
   "outputs": [],
   "source": []
  },
  {
   "cell_type": "code",
   "execution_count": null,
   "metadata": {},
   "outputs": [],
   "source": []
  },
  {
   "cell_type": "code",
   "execution_count": null,
   "metadata": {},
   "outputs": [],
   "source": []
  },
  {
   "cell_type": "code",
   "execution_count": null,
   "metadata": {},
   "outputs": [],
   "source": []
  },
  {
   "cell_type": "code",
   "execution_count": null,
   "metadata": {},
   "outputs": [],
   "source": []
  },
  {
   "cell_type": "code",
   "execution_count": null,
   "metadata": {},
   "outputs": [],
   "source": []
  },
  {
   "cell_type": "code",
   "execution_count": null,
   "metadata": {},
   "outputs": [],
   "source": []
  },
  {
   "cell_type": "code",
   "execution_count": null,
   "metadata": {},
   "outputs": [],
   "source": []
  },
  {
   "cell_type": "code",
   "execution_count": null,
   "metadata": {},
   "outputs": [],
   "source": []
  },
  {
   "cell_type": "code",
   "execution_count": null,
   "metadata": {},
   "outputs": [],
   "source": []
  },
  {
   "cell_type": "code",
   "execution_count": null,
   "metadata": {},
   "outputs": [],
   "source": []
  },
  {
   "cell_type": "code",
   "execution_count": null,
   "metadata": {},
   "outputs": [],
   "source": []
  },
  {
   "cell_type": "code",
   "execution_count": null,
   "metadata": {},
   "outputs": [],
   "source": []
  },
  {
   "cell_type": "code",
   "execution_count": null,
   "metadata": {},
   "outputs": [],
   "source": []
  },
  {
   "cell_type": "code",
   "execution_count": null,
   "metadata": {},
   "outputs": [],
   "source": []
  },
  {
   "cell_type": "code",
   "execution_count": null,
   "metadata": {},
   "outputs": [],
   "source": []
  },
  {
   "cell_type": "code",
   "execution_count": null,
   "metadata": {},
   "outputs": [],
   "source": []
  }
 ],
 "metadata": {
  "kernelspec": {
   "display_name": "ai23",
   "language": "python",
   "name": "python3"
  },
  "language_info": {
   "codemirror_mode": {
    "name": "ipython",
    "version": 3
   },
   "file_extension": ".py",
   "mimetype": "text/x-python",
   "name": "python",
   "nbconvert_exporter": "python",
   "pygments_lexer": "ipython3",
   "version": "3.10.16"
  },
  "orig_nbformat": 4
 },
 "nbformat": 4,
 "nbformat_minor": 2
}
