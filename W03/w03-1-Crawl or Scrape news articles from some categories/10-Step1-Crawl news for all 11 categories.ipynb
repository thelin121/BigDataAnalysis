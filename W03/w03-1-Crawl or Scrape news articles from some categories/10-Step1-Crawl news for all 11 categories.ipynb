{
 "cells": [
  {
   "cell_type": "markdown",
   "metadata": {},
   "source": [
    "# Crawl CNA news from several categories\n",
    "\n",
    "Only 5 pieces of news on the first page from each category\n",
    "\n",
    "中央社新聞各類新聞各5篇\n"
   ]
  },
  {
   "cell_type": "code",
   "execution_count": 1,
   "metadata": {},
   "outputs": [],
   "source": [
    "import requests\n",
    "from bs4 import BeautifulSoup\n",
    "import re"
   ]
  },
  {
   "cell_type": "markdown",
   "metadata": {},
   "source": [
    "# There are 11 categories in CNA news\n",
    "\n",
    "Crawl links on a category's first page.\n",
    "\n",
    "中央社新聞爬蟲-11類別的新聞(只能爬第一頁的內容，沒有翻頁的功能)"
   ]
  },
  {
   "cell_type": "raw",
   "metadata": {},
   "source": [
    "政治\n",
    "https://www.cna.com.tw/list/aipl.aspx\n",
    "科技\n",
    "https://www.cna.com.tw/list/ait.aspx\n",
    "運動\n",
    "https://www.cna.com.tw/list/aspt.aspx\n",
    "證卷\n",
    "https://www.cna.com.tw/list/asc.aspx\n",
    "產經\n",
    "https://www.cna.com.tw/list/aie.aspx\n",
    "娛樂\n",
    "https://www.cna.com.tw/list/amov.aspx\n",
    "生活\n",
    "https://www.cna.com.tw/list/ahel.aspx\n",
    "國際\n",
    "https://www.cna.com.tw/list/aopl.aspx\n",
    "社會\n",
    "https://www.cna.com.tw/list/asoc.aspx\n",
    "文化\n",
    "https://www.cna.com.tw/list/acul.aspx\n",
    "\n",
    "\n",
    "兩岸\n",
    "https://www.cna.com.tw/list/acn.aspx"
   ]
  },
  {
   "cell_type": "code",
   "execution_count": 2,
   "metadata": {},
   "outputs": [
    {
     "name": "stdout",
     "output_type": "stream",
     "text": [
      "Requirement already satisfied: fake_useragent in c:\\users\\user\\anaconda3\\envs\\ai23\\lib\\site-packages (2.0.3)\n"
     ]
    }
   ],
   "source": [
    "!pip install fake_useragent"
   ]
  },
  {
   "cell_type": "markdown",
   "metadata": {},
   "source": [
    "## Crawl news for 11 categories"
   ]
  },
  {
   "cell_type": "code",
   "execution_count": 3,
   "metadata": {},
   "outputs": [],
   "source": [
    "# 11 news categories\n",
    "#news_links =['aipl', 'ait', 'aspt', 'asc', 'aie', 'amov','ahel','aopl','asoc','acul','acn']\n",
    "#news_categories=['政治','科技','運動','證卷','產經','娛樂','生活','國際','社會','文化','兩岸']\n",
    "news_links =['aipl', 'ait', 'aspt']\n",
    "news_categories=['政治','科技','運動']\n",
    "base_url = 'https://www.cna.com.tw/list/'"
   ]
  },
  {
   "cell_type": "code",
   "execution_count": 4,
   "metadata": {},
   "outputs": [],
   "source": [
    "import requests\n",
    "import re\n",
    "from bs4 import BeautifulSoup\n",
    "import time\n",
    "import pandas as pd\n",
    "from datetime import datetime, timedelta\n",
    "from fake_useragent import UserAgent"
   ]
  },
  {
   "cell_type": "code",
   "execution_count": 5,
   "metadata": {},
   "outputs": [],
   "source": [
    "user_agent = UserAgent()"
   ]
  },
  {
   "cell_type": "code",
   "execution_count": null,
   "metadata": {},
   "outputs": [
    {
     "name": "stdout",
     "output_type": "stream",
     "text": [
      "Getting categorical news: 政治\n",
      "[<li><a href=\"/news/aipl/202503120373.aspx\"><div class=\"wrap\"><img alt=\"國合會助貝里斯開創香草產業 勉小農婦女經濟自主\" class=\"lazyload\" data-src=\"https://imgcdn.cna.com.tw/www/WebPhotos/200/20250312/1365x768_wmkn_0_C20250312000243.jpg\"/></div><div class=\"listInfo\"><h2><span>國合會助貝里斯開創香草產業 勉小農婦女經濟自主</span></h2><div class=\"date\">2025/03/12 20:40</div></div></a></li>, <li><a href=\"/news/aipl/202503120363.aspx\"><div class=\"wrap\"><img alt=\"國會衝突綠委控傷害 藍白立委收到檢方傳票\" class=\"lazyload\" data-src=\"https://imgcdn.cna.com.tw/www/webphotos/WebCover/420/20250312/1838x1378_836766746345.jpg\"/></div><div class=\"listInfo\"><h2><span>國會衝突綠委控傷害 藍白立委收到檢方傳票</span></h2><div class=\"date\">2025/03/12 19:49</div></div></a></li>, <li><a href=\"/news/aipl/202503120360.aspx\"><div class=\"wrap\"><img alt=\"總預算財劃法覆議被封殺 吳思瑤：創3個前所未見災害\" class=\"lazyload\" data-src=\"https://imgcdn.cna.com.tw/www/WebPhotos/200/20250312/1152x768_wmky_0_C20250312000173.jpg\"/></div><div class=\"listInfo\"><h2><span>總預算財劃法覆議被封殺 吳思瑤：創3個前所未見災害</span></h2><div class=\"date\">2025/03/12 19:42</div></div></a></li>, <li><a href=\"/news/aipl/202503120354.aspx\"><div class=\"wrap\"><img alt=\"藍白封殺覆議案 民進黨：全台宣講展現民意\" class=\"lazyload\" data-src=\"https://imgcdn.cna.com.tw/www/WebPhotos/200/20250312/1200x800_wmky_804312358617_202503120170000000.jpg\"/></div><div class=\"listInfo\"><h2><span>藍白封殺覆議案 民進黨：全台宣講展現民意</span></h2><div class=\"date\">2025/03/12 19:20</div></div></a></li>, <li><a href=\"/news/aipl/202503120350.aspx\"><div class=\"wrap\"><img alt=\"總預算財劃法覆議案遭否決 卓榮泰：必要時到各地向大家報告\" class=\"lazyload\" data-src=\"https://imgcdn.cna.com.tw/www/webphotos/WebCover/420/20250312/917x687_882149391359.jpg\"/></div><div class=\"listInfo\"><h2><span>總預算財劃法覆議案遭否決 卓榮泰：必要時到各地向大家報告</span></h2><div class=\"date\">2025/03/12 19:14</div></div></a></li>, <li><a href=\"/news/aipl/202503120340.aspx\"><div class=\"wrap\"><img alt=\"民進黨：藍白否決覆議案  歷史罪人勢必受民意制裁\" class=\"lazyload\" data-src=\"https://imgcdn.cna.com.tw/www/WebPhotos/200/20250312/1200x800_wmky_094563944639_202503120170000000.jpg\"/></div><div class=\"listInfo\"><h2><span>民進黨：藍白否決覆議案  歷史罪人勢必受民意制裁</span></h2><div class=\"date\">2025/03/12 18:52</div></div></a></li>, <li><a href=\"/news/aipl/202503120339.aspx\"><div class=\"wrap\"><img alt=\"媒體指僑生來台淪學工 徐佳青：偽專題給學生貼標籤\" class=\"lazyload\" data-src=\"https://imgcdn.cna.com.tw/www/WebPhotos/200/20250312/1024x768_wmky_0_C20250312000244.jpg\"/></div><div class=\"listInfo\"><h2><span>媒體指僑生來台淪學工 徐佳青：偽專題給學生貼標籤</span></h2><div class=\"date\">2025/03/12 18:52</div></div></a></li>, <li><a href=\"/news/aipl/202503120336.aspx\"><div class=\"wrap\"><img alt=\"APF關切台灣人權會遭大刪預算 籲應符國際標準\" class=\"lazyload\" data-src=\"https://imgcdn.cna.com.tw/www/WebPhotos/200/20250312/1200x900_097359572265.jpg\"/></div><div class=\"listInfo\"><h2><span>APF關切台灣人權會遭大刪預算 籲應符國際標準</span></h2><div class=\"date\">2025/03/12 18:47</div></div></a></li>, <li><a href=\"/news/aipl/202503120330.aspx\"><div class=\"wrap\"><img alt=\"士兵手機內軍事資訊外流 軍方：未涉機敏資訊\" class=\"lazyload\" data-src=\"https://imgcdn.cna.com.tw/www/WebPhotos/200/20250312/1200x800_034537732457.jpg\"/></div><div class=\"listInfo\"><h2><span>士兵手機內軍事資訊外流 軍方：未涉機敏資訊</span></h2><div class=\"date\">2025/03/12 18:37</div></div></a></li>, <li><a href=\"/news/aipl/202503120323.aspx\"><div class=\"wrap\"><img alt=\"總預算財劃法覆議案皆遭藍白否決 51票贊成61票反對\" class=\"lazyload\" data-src=\"https://imgcdn.cna.com.tw/www/webphotos/WebCover/420/20250312/1067x800_977965707002.jpg\"/></div><div class=\"listInfo\"><h2><span>總預算財劃法覆議案皆遭藍白否決 51票贊成61票反對</span></h2><div class=\"date\">2025/03/12 18:25</div></div></a></li>, <li><a href=\"/news/aipl/202503120305.aspx\"><div class=\"wrap\"><img alt=\"民眾黨批檢方訊問方式侵害人權 要求法務部究責\" class=\"lazyload\" data-src=\"https://imgcdn.cna.com.tw/www/WebPhotos/200/20250312/1262x768_wmky_0_C20250312000211.jpg\"/></div><div class=\"listInfo\"><h2><span>民眾黨批檢方訊問方式侵害人權 要求法務部究責</span></h2><div class=\"date\">2025/03/12 18:13</div></div></a></li>, <li><a href=\"/news/aipl/202503125003.aspx\"><div class=\"wrap\"><img alt=\"財劃法修法覆議案 藍白人數優勢聯手否決\" class=\"lazyload\" data-src=\"https://imgcdn.cna.com.tw/www/webphotos/WebCover/420/20250312/1067x800_307027114184.jpg\"/></div><div class=\"listInfo\"><h2><span>財劃法修法覆議案 藍白人數優勢聯手否決</span></h2><div class=\"date\">2025/03/12 17:38</div></div></a></li>, <li><a href=\"/news/aipl/202503120270.aspx\"><div class=\"wrap\"><img alt=\"財劃法覆議案 卓榮泰：立委不應只為選區不為國家\" class=\"lazyload\" data-src=\"https://imgcdn.cna.com.tw/www/WebPhotos/200/20250312/792x1024_wmky_0_C20250312000161.jpg\"/></div><div class=\"listInfo\"><h2><span>財劃法覆議案 卓榮泰：立委不應只為選區不為國家</span></h2><div class=\"date\">2025/03/12 17:21</div></div></a></li>, <li><a href=\"/news/aipl/202503125002.aspx\"><div class=\"wrap\"><img alt=\"114年度中央政府總預算覆議案 藍白人數優勢否決\" class=\"lazyload\" data-src=\"https://imgcdn.cna.com.tw/www/webphotos/WebCover/420/20250312/1067x800_67644334376.jpg\"/></div><div class=\"listInfo\"><h2><span>114年度中央政府總預算覆議案 藍白人數優勢否決</span></h2><div class=\"date\">2025/03/12 17:21</div></div></a></li>, <li><a href=\"/news/aipl/202503120245.aspx\"><div class=\"wrap\"><img alt=\"副總統接見澳洲雪梨大學訪團 盼加深雙方了解與合作\" class=\"lazyload\" data-src=\"https://imgcdn.cna.com.tw/www/WebPhotos/200/20250312/1152x768_wmkn_0_C20250312000238.jpg\"/></div><div class=\"listInfo\"><h2><span>副總統接見澳洲雪梨大學訪團 盼加深雙方了解與合作</span></h2><div class=\"date\">2025/03/12 16:40</div></div></a></li>, <li><a href=\"/news/aipl/202503120242.aspx\"><div class=\"wrap\"><img alt=\"王世堅盼黨澄清常會未錄音 賴清德：事件到此為止\" class=\"lazyload\" data-src=\"https://imgcdn.cna.com.tw/www/WebPhotos/200/20250312/1082x768_wmky_0_C20250312000163.jpg\"/></div><div class=\"listInfo\"><h2><span>王世堅盼黨澄清常會未錄音 賴清德：事件到此為止</span></h2><div class=\"date\">2025/03/12 16:36</div></div></a></li>, <li><a href=\"/news/aipl/202503120239.aspx\"><div class=\"wrap\"><img alt=\"反制綠政策宣講 民眾黨啟動「人民要當家」下鄉巡迴\" class=\"lazyload\" data-src=\"https://imgcdn.cna.com.tw/www/WebPhotos/200/20250312/880x1024_wmky_0_C20250312000231.jpg\"/></div><div class=\"listInfo\"><h2><span>反制綠政策宣講 民眾黨啟動「人民要當家」下鄉巡迴</span></h2><div class=\"date\">2025/03/12 16:30</div></div></a></li>, <li><a href=\"/news/aipl/202503120226.aspx\"><div class=\"wrap\"><img alt=\"林佳龍接見傳統基金會創辦人 促台美智庫二軌外交\" class=\"lazyload\" data-src=\"https://imgcdn.cna.com.tw/www/WebPhotos/200/20250312/1200x935_77527247257.jpg\"/></div><div class=\"listInfo\"><h2><span>林佳龍接見傳統基金會創辦人 促台美智庫二軌外交</span></h2><div class=\"date\">2025/03/12 16:04</div></div></a></li>]\n",
      "1 -- 國合會助貝里斯開創香草產業 勉小農婦女經濟自主\n",
      "/news/aipl/202503120373.aspx\n",
      "https://www.cna.com.tw/news/aipl/202503120373.aspx\n",
      "2 -- 國會衝突綠委控傷害 藍白立委收到檢方傳票\n",
      "/news/aipl/202503120363.aspx\n",
      "https://www.cna.com.tw/news/aipl/202503120363.aspx\n",
      "3 -- 總預算財劃法覆議被封殺 吳思瑤：創3個前所未見災害\n",
      "/news/aipl/202503120360.aspx\n",
      "https://www.cna.com.tw/news/aipl/202503120360.aspx\n",
      "4 -- 藍白封殺覆議案 民進黨：全台宣講展現民意\n",
      "/news/aipl/202503120354.aspx\n",
      "https://www.cna.com.tw/news/aipl/202503120354.aspx\n",
      "Getting categorical news: 科技\n",
      "[<li><a href=\"/news/ait/202503120333.aspx\"><div class=\"wrap\"><img alt=\"NASA 2太空人任務8天變9個月 16日可望搭SpaceX乘龍號返地球\" class=\"lazyload\" data-src=\"https://imgcdn.cna.com.tw/www/webphotos/WebCover/420/20250312/1411x1058_706636520405.jpg\"/></div><div class=\"listInfo\"><h2><span>NASA 2太空人任務8天變9個月 16日可望搭SpaceX乘龍號返地球</span></h2><div class=\"date\">2025/03/12 18:45</div></div></a></li>, <li><a href=\"/news/ait/202503120293.aspx\"><div class=\"wrap\"><img alt=\"印尼學者：盼台積電助攻半導體發展 根留台灣最重要\" class=\"lazyload\" data-src=\"https://imgcdn.cna.com.tw/www/WebPhotos/200/20250312/793x1024_wmkn_0_C20250312000196.jpg\"/></div><div class=\"listInfo\"><h2><span>印尼學者：盼台積電助攻半導體發展 根留台灣最重要</span></h2><div class=\"date\">2025/03/12 17:42</div></div></a></li>, <li><a href=\"/news/ait/202503120233.aspx\"><div class=\"wrap\"><img alt=\"NASA太空望遠鏡SPHEREx發射升空 探索宇宙起源[影]\" class=\"lazyload\" data-src=\"https://imgcdn.cna.com.tw/www/webphotos/WebCover/420/20250312/1260x945_250114085923.jpg\"/></div><div class=\"listInfo\"><h2><span>NASA太空望遠鏡SPHEREx發射升空 探索宇宙起源[影]</span></h2><div class=\"date\">2025/03/12 16:19</div></div></a></li>, <li><a href=\"/news/ait/202503120095.aspx\"><div class=\"listInfo\"><h2><span>新漢參展輝達GTC大會 將發表AI機器人控制器</span></h2><div class=\"date\">2025/03/12 12:06</div></div></a></li>, <li><a href=\"/news/ait/202503110161.aspx\"><div class=\"wrap\"><img alt=\"全球首創 國研院打造互動式實驗動物顯微手術基地\" class=\"lazyload\" data-src=\"https://imgcdn.cna.com.tw/www/WebPhotos/200/20250311/1024x768_wmky_0_C20250311000113.jpg\"/></div><div class=\"listInfo\"><h2><span>全球首創 國研院打造互動式實驗動物顯微手術基地</span></h2><div class=\"date\">2025/03/11 14:22</div></div></a></li>, <li><a href=\"/news/ait/202503100040.aspx\"><div class=\"wrap\"><img alt=\"蘋果AI版Siri延期 傳附帶螢幕HomePod也延後推出\" class=\"lazyload\" data-src=\"https://imgcdn.cna.com.tw/www/WebPhotos/200/20250226/960x640_wmkn_404433775088_0.jpg\"/></div><div class=\"listInfo\"><h2><span>蘋果AI版Siri延期 傳附帶螢幕HomePod也延後推出</span></h2><div class=\"date\">2025/03/10 10:41</div></div></a></li>, <li><a href=\"/news/ait/202503100032.aspx\"><div class=\"wrap\"><img alt=\"輝達助攻 鴻海研究院推首版繁體中文AI大語言模型\" class=\"lazyload\" data-src=\"https://imgcdn.cna.com.tw/www/WebPhotos/200/20250310/908x602_wmkn_526150020657_0.jpg\"/></div><div class=\"listInfo\"><h2><span>輝達助攻 鴻海研究院推首版繁體中文AI大語言模型</span></h2><div class=\"date\">2025/03/10 10:12</div></div></a></li>, <li><a href=\"/news/ait/202503080155.aspx\"><div class=\"listInfo\"><h2><span>培養科技女力 國科會啟動2025 GiCS尋找資安女婕思</span></h2><div class=\"date\">2025/03/08 16:54</div></div></a></li>, <li><a href=\"/news/ait/202503070201.aspx\"><div class=\"listInfo\"><h2><span>美民間企業二度嘗試登月 登陸器再次傾倒以側面著陸</span></h2><div class=\"date\">2025/03/07 16:20</div></div></a></li>, <li><a href=\"https://netzero.cna.com.tw/news/202503070145/\"><div class=\"listInfo\"><h2><span>中國加強碳排控管 鋼鋁水泥業年底納入碳市場</span></h2><div class=\"date\">2025/03/07 13:46</div></div></a></li>, <li><a href=\"/news/ait/202503070073.aspx\"><div class=\"wrap\"><img alt=\"SpaceX星艦第8次試飛又爆炸 碎片影響佛州飛航[影]\" class=\"lazyload\" data-src=\"https://imgcdn.cna.com.tw/www/webphotos/WebCover/420/20250307/800x600_689221744159.jpg\"/></div><div class=\"listInfo\"><h2><span>SpaceX星艦第8次試飛又爆炸 碎片影響佛州飛航[影]</span></h2><div class=\"date\">2025/03/07 11:02</div></div></a></li>, <li><a href=\"/news/ait/202503070041.aspx\"><div class=\"wrap\"><img alt=\"彭博：美Stargate首座設施配逾6萬顆輝達超級晶片\" class=\"lazyload\" data-src=\"https://imgcdn.cna.com.tw/www/WebPhotos/200/20230525/960x640_wmkn_155822161594_0.jpg\"/></div><div class=\"listInfo\"><h2><span>彭博：美Stargate首座設施配逾6萬顆輝達超級晶片</span></h2><div class=\"date\">2025/03/07 09:35</div></div></a></li>, <li><a href=\"/news/ait/202503070007.aspx\"><div class=\"listInfo\"><h2><span>阿利安6型火箭首趟商業任務成功 證明歐洲太空能力</span></h2><div class=\"date\">2025/03/07 03:46</div></div></a></li>, <li><a href=\"/news/ait/202503060406.aspx\"><div class=\"wrap\"><img alt=\"繼DeepSeek後中國AI軟體Manus爆紅 宣稱能找房分析股市\" class=\"lazyload\" data-src=\"https://imgcdn.cna.com.tw/www/webphotos/WebCover/420/20250306/1440x1080_165649199271.jpg\"/></div><div class=\"listInfo\"><h2><span>繼DeepSeek後中國AI軟體Manus爆紅 宣稱能找房分析股市</span></h2><div class=\"date\">2025/03/06 21:35</div></div></a></li>, <li><a href=\"/news/ait/202503060394.aspx\"><div class=\"wrap\"><img alt=\"中華電建置縮距場毫米波量測實驗室 助6G發展\" class=\"lazyload\" data-src=\"https://imgcdn.cna.com.tw/www/WebPhotos/200/20250306/1200x676_639912677407.jpg\"/></div><div class=\"listInfo\"><h2><span>中華電建置縮距場毫米波量測實驗室 助6G發展</span></h2><div class=\"date\">2025/03/06 21:13</div></div></a></li>, <li><a href=\"/news/ait/202503060390.aspx\"><div class=\"wrap\"><img alt=\"黃仁勳也愛用 AI搜尋引擎Perplexity進軍台灣\" class=\"lazyload\" data-src=\"https://imgcdn.cna.com.tw/www/webphotos/WebCover/420/20250306/1178x883_850534058134.jpg\"/></div><div class=\"listInfo\"><h2><span>黃仁勳也愛用 AI搜尋引擎Perplexity進軍台灣</span></h2><div class=\"date\">2025/03/06 21:03</div></div></a></li>, <li><a href=\"/news/ait/202503060376.aspx\"><div class=\"listInfo\"><h2><span>國科會攜5家醫院赴美參展 聚焦智慧醫療與數據應用</span></h2><div class=\"date\">2025/03/06 20:20</div></div></a></li>, <li><a href=\"/news/ait/202503060107.aspx\"><div class=\"wrap\"><img alt=\"台大團隊研究高溫影響昆蟲繁殖 親代照護緩解影響有限\" class=\"lazyload\" data-src=\"https://imgcdn.cna.com.tw/www/WebPhotos/200/20250306/2000x1335_wmkn_94106132459466_0.jpg\"/></div><div class=\"listInfo\"><h2><span>台大團隊研究高溫影響昆蟲繁殖 親代照護緩解影響有限</span></h2><div class=\"date\">2025/03/06 12:26</div></div></a></li>, <li><a href=\"/news/ait/202503060022.aspx\"><div class=\"wrap\"><img alt=\"輝達GTC大會17日登場  首度舉辦夜市、量子日\" class=\"lazyload\" data-src=\"https://imgcdn.cna.com.tw/www/WebPhotos/200/20250306/1464x768_wmky_0_C20250306000003.jpg\"/></div><div class=\"listInfo\"><h2><span>輝達GTC大會17日登場  首度舉辦夜市、量子日</span></h2><div class=\"date\">2025/03/06 07:43</div></div></a></li>, <li><a href=\"/news/ait/202503050399.aspx\"><div class=\"wrap\"><img alt=\"蘋果新品連發 推M3 Ultra晶片、M4版輕薄筆電\" class=\"lazyload\" data-src=\"https://imgcdn.cna.com.tw/www/webphotos/WebCover/420/20250306/1025x768_860136089469.jpg\"/></div><div class=\"listInfo\"><h2><span>蘋果新品連發 推M3 Ultra晶片、M4版輕薄筆電</span></h2><div class=\"date\">2025/03/05 22:59</div></div></a></li>]\n",
      "1 -- NASA 2太空人任務8天變9個月 16日可望搭SpaceX乘龍號返地球\n",
      "/news/ait/202503120333.aspx\n",
      "https://www.cna.com.tw/news/ait/202503120333.aspx\n",
      "2 -- 印尼學者：盼台積電助攻半導體發展 根留台灣最重要\n",
      "/news/ait/202503120293.aspx\n",
      "https://www.cna.com.tw/news/ait/202503120293.aspx\n",
      "3 -- NASA太空望遠鏡SPHEREx發射升空 探索宇宙起源[影]\n",
      "/news/ait/202503120233.aspx\n",
      "https://www.cna.com.tw/news/ait/202503120233.aspx\n",
      "4 -- 新漢參展輝達GTC大會 將發表AI機器人控制器\n",
      "/news/ait/202503120095.aspx\n",
      "https://www.cna.com.tw/news/ait/202503120095.aspx\n",
      "Getting categorical news: 運動\n",
      "[<li><a href=\"/news/aspt/202503120398.aspx\"><div class=\"wrap\"><img alt=\"BWF全英羽球賽 台灣混雙楊博軒、胡綾芳逆轉晉16強\" class=\"lazyload\" data-src=\"https://imgcdn.cna.com.tw/www/WebPhotos/200/20250312/1200x800_524511166897.jpg\"/></div><div class=\"listInfo\"><h2><span>BWF全英羽球賽 台灣混雙楊博軒、胡綾芳逆轉晉16強</span></h2><div class=\"date\">2025/03/12 22:27</div></div></a></li>, <li><a href=\"/news/aspt/202503120378.aspx\"><div class=\"wrap\"><img alt=\"國中硬式棒球聯賽許梓奕好投 新明淘汰中山晉16強\" class=\"lazyload\" data-src=\"https://imgcdn.cna.com.tw/www/WebPhotos/200/20250312/1152x768_wmkn_0_C20250312000249.jpg\"/></div><div class=\"listInfo\"><h2><span>國中硬式棒球聯賽許梓奕好投 新明淘汰中山晉16強</span></h2><div class=\"date\">2025/03/12 20:57</div></div></a></li>, <li><a href=\"/news/aspt/202503120371.aspx\"><div class=\"wrap\"><img alt=\"BWF全英公開賽 李佳豪化解6個賽末點晉16強\" class=\"lazyload\" data-src=\"https://imgcdn.cna.com.tw/www/WebPhotos/200/20250312/1200x800_717763404160.jpg\"/></div><div class=\"listInfo\"><h2><span>BWF全英公開賽 李佳豪化解6個賽末點晉16強</span></h2><div class=\"date\">2025/03/12 20:33</div></div></a></li>, <li><a href=\"/news/aspt/202503120341.aspx\"><div class=\"listInfo\"><h2><span>中職二軍4/1開打 6至9月開賽時間改4時</span></h2><div class=\"date\">2025/03/12 18:54</div></div></a></li>, <li><a href=\"/news/aspt/202503120334.aspx\"><div class=\"wrap\"><img alt=\"U18亞洲盃5人制棒球鐘家樂攻守俱佳 也是氣氛組\" class=\"lazyload\" data-src=\"https://imgcdn.cna.com.tw/www/WebPhotos/200/20250312/1024x768_wmky_0_C20250312000217.jpg\"/></div><div class=\"listInfo\"><h2><span>U18亞洲盃5人制棒球鐘家樂攻守俱佳 也是氣氛組</span></h2><div class=\"date\">2025/03/12 18:45</div></div></a></li>, <li><a href=\"/news/aspt/202503120322.aspx\"><div class=\"wrap\"><img alt=\"關達祐首披國家隊戰袍像夢一樣 期待與陳盈駿聯手\" class=\"lazyload\" data-src=\"https://imgcdn.cna.com.tw/www/WebPhotos/200/20250312/1024x768_wmky_0_C20250312000207.jpg\"/></div><div class=\"listInfo\"><h2><span>關達祐首披國家隊戰袍像夢一樣 期待與陳盈駿聯手</span></h2><div class=\"date\">2025/03/12 18:24</div></div></a></li>, <li><a href=\"/news/aspt/202503120314.aspx\"><div class=\"wrap\"><img alt=\"U18亞洲盃5人制棒球台灣勝日 4勝晉冠軍戰機會大\" class=\"lazyload\" data-src=\"https://imgcdn.cna.com.tw/www/WebPhotos/200/20250312/1024x768_wmky_0_C20250312000208.jpg\"/></div><div class=\"listInfo\"><h2><span>U18亞洲盃5人制棒球台灣勝日 4勝晉冠軍戰機會大</span></h2><div class=\"date\">2025/03/12 18:19</div></div></a></li>, <li><a href=\"/news/aspt/202503120303.aspx\"><div class=\"listInfo\"><h2><span>不滿薪資過低 WNBA醞釀停賽</span></h2><div class=\"date\">2025/03/12 18:03</div></div></a></li>, <li><a href=\"/news/aspt/202503120299.aspx\"><div class=\"wrap\"><img alt=\"日職張峻瑋春季教育聯盟登板 後援1局無失分\" class=\"lazyload\" data-src=\"https://imgcdn.cna.com.tw/www/WebPhotos/200/20250312/1200x1200_182328758625.jpg\"/></div><div class=\"listInfo\"><h2><span>日職張峻瑋春季教育聯盟登板 後援1局無失分</span></h2><div class=\"date\">2025/03/12 17:52</div></div></a></li>, <li><a href=\"/news/aspt/202503120187.aspx\"><div class=\"wrap\"><img alt=\"台灣男籃16人名單  陳盈駿、劉錚領軍拚亞洲盃門票\" class=\"lazyload\" data-src=\"https://imgcdn.cna.com.tw/www/WebPhotos/200/20250312/1200x800_615766505357.jpg\"/></div><div class=\"listInfo\"><h2><span>台灣男籃16人名單  陳盈駿、劉錚領軍拚亞洲盃門票</span></h2><div class=\"date\">2025/03/12 14:56</div></div></a></li>, <li><a href=\"/news/aspt/202503120185.aspx\"><div class=\"wrap\"><img alt=\"U18亞洲盃5人制棒球伊拉克輸台灣 選手具足球資歷\" class=\"lazyload\" data-src=\"https://imgcdn.cna.com.tw/www/WebPhotos/200/20250312/1190x768_wmky_0_C20250312000107.jpg\"/></div><div class=\"listInfo\"><h2><span>U18亞洲盃5人制棒球伊拉克輸台灣 選手具足球資歷</span></h2><div class=\"date\">2025/03/12 14:53</div></div></a></li>, <li><a href=\"/news/aspt/202503120171.aspx\"><div class=\"wrap\"><img alt=\"NBA威廉森大三元 鵜鶘擊沉快艇終止4連敗\" class=\"lazyload\" data-src=\"https://imgcdn.cna.com.tw/www/webphotos/WebCover/420/20250312/799x599_316819342686.jpg\"/></div><div class=\"listInfo\"><h2><span>NBA威廉森大三元 鵜鶘擊沉快艇終止4連敗</span></h2><div class=\"date\">2025/03/12 14:36</div></div></a></li>, <li><a href=\"/news/aspt/202503120162.aspx\"><div class=\"listInfo\"><h2><span>陳偉殷告別投手丘 21日台灣引退記者會分享規劃</span></h2><div class=\"date\">2025/03/12 14:23</div></div></a></li>, <li><a href=\"/news/aspt/202503120159.aspx\"><div class=\"wrap\"><img alt=\"謝淑薇拍落澳網亞軍拍檔 闖印地安泉網賽女雙4強\" class=\"lazyload\" data-src=\"https://imgcdn.cna.com.tw/www/webphotos/WebCover/420/20250312/1323x993_465163024252.jpg\"/></div><div class=\"listInfo\"><h2><span>謝淑薇拍落澳網亞軍拍檔 闖印地安泉網賽女雙4強</span></h2><div class=\"date\">2025/03/12 14:18</div></div></a></li>, <li><a href=\"/news/aspt/202503120143.aspx\"><div class=\"wrap\"><img alt=\"WTT重慶冠軍賽  林昀儒直落3勝韓國一哥晉16強\" class=\"lazyload\" data-src=\"https://imgcdn.cna.com.tw/www/WebPhotos/200/20250312/1200x800_584450188116.jpg\"/></div><div class=\"listInfo\"><h2><span>WTT重慶冠軍賽  林昀儒直落3勝韓國一哥晉16強</span></h2><div class=\"date\">2025/03/12 13:53</div></div></a></li>, <li><a href=\"/news/aspt/202503120091.aspx\"><div class=\"wrap\"><img alt=\"NBA哈利伯頓戲劇性四分打 溜馬逆轉氣走公鹿\" class=\"lazyload\" data-src=\"https://imgcdn.cna.com.tw/www/webphotos/WebCover/420/20250312/1798x1348_689747772722.jpg\"/></div><div class=\"listInfo\"><h2><span>NBA哈利伯頓戲劇性四分打 溜馬逆轉氣走公鹿</span></h2><div class=\"date\">2025/03/12 11:59</div></div></a></li>, <li><a href=\"/news/aspt/202503120088.aspx\"><div class=\"wrap\"><img alt=\"鄭宗哲熱身賽打擊率3成53仍下放3A 大聯盟春訓台將剩李灝宇\" class=\"lazyload\" data-src=\"https://imgcdn.cna.com.tw/www/webphotos/WebCover/420/20250312/1080x810_99811820958.jpg\"/></div><div class=\"listInfo\"><h2><span>鄭宗哲熱身賽打擊率3成53仍下放3A 大聯盟春訓台將剩李灝宇</span></h2><div class=\"date\">2025/03/12 11:47</div></div></a></li>, <li><a href=\"/news/aspt/202503120017.aspx\"><div class=\"wrap\"><img alt=\"沉浸式體驗大聯盟 王啟恩與聽友揪團看春訓\" class=\"lazyload\" data-src=\"https://imgcdn.cna.com.tw/www/WebPhotos/200/20250312/1377x768_wmky_0_C20250312000005.jpg\"/></div><div class=\"listInfo\"><h2><span>沉浸式體驗大聯盟 王啟恩與聽友揪團看春訓</span></h2><div class=\"date\">2025/03/12 08:22</div></div></a></li>]\n",
      "1 -- BWF全英羽球賽 台灣混雙楊博軒、胡綾芳逆轉晉16強\n",
      "/news/aspt/202503120398.aspx\n",
      "https://www.cna.com.tw/news/aspt/202503120398.aspx\n",
      "2 -- 國中硬式棒球聯賽許梓奕好投 新明淘汰中山晉16強\n",
      "/news/aspt/202503120378.aspx\n",
      "https://www.cna.com.tw/news/aspt/202503120378.aspx\n",
      "3 -- BWF全英公開賽 李佳豪化解6個賽末點晉16強\n",
      "/news/aspt/202503120371.aspx\n",
      "https://www.cna.com.tw/news/aspt/202503120371.aspx\n",
      "4 -- 中職二軍4/1開打 6至9月開賽時間改4時\n",
      "/news/aspt/202503120341.aspx\n",
      "https://www.cna.com.tw/news/aspt/202503120341.aspx\n",
      "CPU times: total: 594 ms\n",
      "Wall time: 1min 32s\n"
     ]
    }
   ],
   "source": [
    "%%time\n",
    "# 存放資料之變數\n",
    "links = []\n",
    "titles = []\n",
    "dates = []\n",
    "contents = []\n",
    "categories = []\n",
    "item_id = []\n",
    "photo_links = []\n",
    "\n",
    "\n",
    "# 這裡我們需要用for迴圈爬取11個類別\n",
    "# Here we need to crawl 11 categories using for loop\n",
    "for i, url_short_name in enumerate(news_links):  #針對每一類 共有11類\n",
    "\n",
    "    category = news_categories[i] #'政治' #類別名稱紀錄起來 \n",
    "\n",
    "    # Categorical url link\n",
    "    category_url = base_url + url_short_name + '.aspx'\n",
    "    print(\"Getting categorical news:\", category)\n",
    "\n",
    "    # Request the categorical news page\n",
    "    # req = requests.get(category_url)\n",
    "    req = requests.get(category_url, headers={ 'user-agent': user_agent.random }, timeout=5)\n",
    "    page = BeautifulSoup(req.text, 'lxml')\n",
    "    print(page)\n",
    "\n",
    "    # 抓新聞列表\n",
    "    items = page.find('ul', {'id': re.compile(\"jsMainList\\w*\")}).findAll('li')\n",
    "    print(items)\n",
    "\n",
    "\n",
    "    # Let's start to crawl the news in the first page for that category\n",
    "    serial_no = 1\n",
    "    for item_j, item in enumerate(items,start=1): #針對每一篇項目 抓其細節\n",
    "        title = item.find('h2').text\n",
    "        print(serial_no,'--', title )\n",
    "        \n",
    "        link = item.find('a').get('href')\n",
    "        print(link)\n",
    "\n",
    "        try:\n",
    "            if item.find('img').has_attr('data-src'):\n",
    "                photo_link = item.find('img').get('data-src')\n",
    "            else:\n",
    "                photo_link = item.find('img').get('src')\n",
    "        except:\n",
    "            photo_link = ''\n",
    "        \n",
    "        # get date and convert it with the format of  \"2022-04-20\"\n",
    "        news_date = item.find('div', {'class':\"date\"}).text\n",
    "        # print(news_date)\n",
    "        dtime = datetime.strptime(news_date, '%Y/%m/%d %H:%M')\n",
    "        # conver to the format of  \"2022-04-20\"\n",
    "        news_date_str = dtime.strftime(\"%Y-%m-%d\") # keep only date, remove the time.\n",
    "\n",
    "        categories.append(category)\n",
    "        titles.append(title)\n",
    "        links.append(link)\n",
    "        photo_links.append(photo_link)\n",
    "        dates.append(news_date_str)\n",
    " \n",
    "        # item_id.append(\"cna_\" + tstr + \"_\" + str(serial_no))\n",
    "        # conver to the format of  \"20220420\"\n",
    "        dtstr = dtime.strftime(\"%Y%m%d\") # keep only date, remove the time.\n",
    "        # format of serial number: aipl_20220314_1\n",
    "        \n",
    "        item_id.append(url_short_name + \"_\" + dtstr + \"_\" + str(serial_no))\n",
    "        serial_no += 1\n",
    "\n",
    "        #抓新聞內容\n",
    "        # 最新的新聞列表之新聞連結:開頭缺少\"https://www.cna.com.tw\"\n",
    "        if link.startswith(\"/news\"):\n",
    "            link = \"https://www.cna.com.tw\"+link\n",
    "        \n",
    "        print(link)\n",
    "        req = requests.get(link, headers={ 'user-agent': user_agent.random }, timeout=5)\n",
    "        \n",
    "        page = BeautifulSoup(req.text,'lxml')\n",
    "\n",
    "        # Find content\n",
    "        content = page.find('div',{'class':\"paragraph\"})\n",
    "\n",
    "        # Remove unnecessary content\n",
    "        # There are some words we don't like to analyze, They should be removed.\n",
    "        # Remove \"透過 Google News追蹤中央社\"\n",
    "        try:\n",
    "            content.find('div', {'class':\"gmailNews\"}).decompose()\n",
    "        except:\n",
    "            pass\n",
    "        # 額外插入的延伸閱讀區塊-->移除之\n",
    "        try:\n",
    "            content.find('div', {'class':\"paragraph moreArticle\"}).decompose()\n",
    "        except:\n",
    "            pass\n",
    "        # 額外插入的訂閱連結-->移除之\n",
    "        try:\n",
    "            content.find('div', class_=\"SubscriptionInner mySubscriptionInner\").decompose()\n",
    "        except:\n",
    "            pass\n",
    "\n",
    "        # 額外插入的圖片與文字說明區塊-->移除之\n",
    "        try:\n",
    "            for media in content.findAll('div', {'class':\"media\"}):\n",
    "                media.decompose()\n",
    "        except:\n",
    "            pass\n",
    "\n",
    "        # Remove unnecessary content\n",
    "        cont = content.text\n",
    "        cont = re.sub('（中央社.+?）','', cont)\n",
    "        cont = re.sub('（編輯：.*','', cont) \n",
    "        cont = re.sub('（譯者：.*','', cont) \n",
    "        \n",
    "        contents.append(cont)\n",
    "\n",
    "        if item_j >= 4: # Here we crawl only 4 pieces of news for each category, in order to save time.\n",
    "            break # 跳開一層迴圈\n",
    "        \n",
    "        time.sleep(10)  # 遵守爬蟲禮節，請小睡一下\n"
   ]
  },
  {
   "cell_type": "code",
   "execution_count": 6,
   "metadata": {},
   "outputs": [
    {
     "data": {
      "text/plain": [
       "['國合會助貝里斯開創香草產業 勉小農婦女經濟自主',\n",
       " '國會衝突綠委控傷害 藍白立委收到檢方傳票',\n",
       " '總預算財劃法覆議被封殺 吳思瑤：創3個前所未見災害',\n",
       " '民進黨：藍白否決覆議案  歷史罪人勢必受民意制裁',\n",
       " '印尼學者：盼台積電助攻半導體發展 根留台灣最重要',\n",
       " 'NASA太空望遠鏡SPHEREx發射升空 探索宇宙起源[影]',\n",
       " '新漢參展輝達GTC大會 將發表AI機器人控制器',\n",
       " '全球首創 國研院打造互動式實驗動物顯微手術基地',\n",
       " 'U18亞洲盃5人制棒球鐘家樂攻守俱佳 也是氣氛組',\n",
       " 'BWF全英公開賽 李佳豪化解6個賽末點晉16強',\n",
       " '關達祐首披國家隊戰袍像夢一樣 期待與陳盈駿聯手',\n",
       " 'U18亞洲盃5人制棒球台灣勝日 4勝晉冠軍戰機會大']"
      ]
     },
     "execution_count": 6,
     "metadata": {},
     "output_type": "execute_result"
    }
   ],
   "source": [
    "titles"
   ]
  },
  {
   "cell_type": "code",
   "execution_count": 7,
   "metadata": {},
   "outputs": [
    {
     "data": {
      "text/plain": [
       "['國合會今天表示，駐貝里斯技術團開班教種香草，30名小農及婦女日前順利結訓，當地官員期勉提升經濟自主；國合會副秘書長謝佩芬則說，香草在貝里斯尚未發展商業化生產，將持續協助當地產業發展。國合會今天發布新聞稿指出，駐貝里斯技術團於6日舉辦「小農香草種植培訓班」結訓典禮，本次培訓為國合會「後疫情時期協助拉丁美洲及加勒比海經濟復甦暨婦女賦權計畫」的重要一環，共有30名學員順利結訓，涵蓋加勒比海農業研究與發展機構（CARDI）人員、農業專業高中師生及社區婦女。國合會指出，課程結束後，每位婦女學員皆獲贈10株香草苗在自家後院實踐所學，開啟小規模生產。來自機構及學校的代表則將帶回香草苗，分別於所屬農場栽種，與兩座區域育苗中心共同發揮示範推廣的作用。駐貝里斯大使徐儷文說，對台灣在貝國香草產業發展初期即提供實質協助感到欣慰。國合會副秘書長謝佩芬表示，香草是昂貴的香料，在食品、化妝品與工業領域需求旺盛，市場前景廣闊，貝里斯具備理想生長環境，卻尚未發展商業化生產，樂見技術團發掘這項契機，未來將持續協助貝里斯投入香草產業發展。',\n",
       " '去年底立法院審查選罷法等案，朝野立委在議場爆發肢體衝突，民進黨立委對國民黨、民眾黨立委提告傷害。國民黨立委陳玉珍、徐巧芯、翁曉玲及民眾黨立委林憶君等人近日收到傳票，陳玉珍表示，當時只是基於議事攻防，綠委的行為是浪費司法資源。立法院去年底審議選罷法、憲訴法及財劃法三大法案時，多名朝野立委因激烈肢體衝突而受傷。多名民進黨女立委相繼指控遭國民黨立委陳玉珍攻擊。民進黨立委范雲、林宜瑾和陳培瑜等5人認為陳玉珍在議場內蓄意傷人，到北院提告傷害罪。知情人士今天指出，除陳玉珍外，國民黨立委徐巧芯、邱若華、翁曉玲，以及民眾黨立委林憶君等人，也被林宜瑾和陳培瑜提告傷害，國民黨立委黃仁近日也收到傳票。陳玉珍接受中央社記者訪問時，證實收到傳票。她表示，去年底，國民黨依慣例在議場前排班，希望處理選罷法、憲訴法及財劃法的修法，結果前一晚，民進黨立委卻先破窗、破壞公物，占領議場。隔天為讓議事順利進行，國民黨立委對占領主席台的民進黨立委進行排除。陳玉珍指出，過程中雙方互有拉扯、推擠，在野黨立委並沒有做出不法行為，只是基於議事攻防，希望能夠正常開會。陳玉珍表示，民進黨立委針對本應是國會自主的政治議事攻防行為提出傷害告訴，浪費司法資源，請民進黨立委以蒼生為念，讓司法官把時間用來偵辦審理詐騙等犯罪行為，這才是真正的把老百姓放在心裡。黃仁也說，尊重民進黨立委提告，但這真的是勞民傷財。民進黨立委霸占主席台，不讓立法院會順利進行，在野黨立委只是希望議事順利，沒有要傷害誰，或是意圖要傷害他人。是否親自應訊，陳玉珍表示，立法院已經開議，她會委任律師到場；黃仁則表示，還要再研究。',\n",
       " '立法院會今天否決行政院所提114年度中央政府總預算及財劃法修法覆議案，民進黨立法院黨團幹事長吳思瑤表示，投票結果比遺憾更遺憾，立法院創下「國會民主運作繼續沉淪」、「憲政秩序破壞跟戕害」及「國家政府財政陷入執行災難」3個前所未見災害。立法院會今天下午舉行記名投票表決，藍白挾人數優勢，2項行政院所提的議案，均以61票比51票予以否決。吳思瑤於表決結果出爐後，在立法院議場前舉行記者會。她表示，立法院再一次讓全民失望了，人民期待立法院能夠撥亂反正，立法院依舊交出一張傷害民意、傷害國家的成績單，表決結果是比遺憾更遺憾。對於後續的救濟作為，吳思瑤表示，民進黨團會尋求其他的民主救濟方式，對於暫時處分跟釋憲，都有提早做準備，後續的工作何時啟動，也會負責任向外界說明。吳思瑤表示，今天覆議結果，立法院創下3個前所未見，前無古人後無來者的災害。首先是國會民主運作繼續沉淪，藍白將總預算跟財劃法硬是綁在一起，卻說不出道理，藍白聯手壓縮討論時間，2項覆議案僅用2天進行詢答。吳思瑤說，第二個災害是憲政秩序破壞跟戕害。立法院此次送出史上「刪最多、凍最嚴、審最亂」的預算審查結果，連同討論只有3分鐘，掏空中央新台幣3753億元的財劃法，戕害行政部門預算權，過當利用立委審查預算權利，逼迫傷害其他憲法機關難以執行忠誠義務，讓行政機關無法運作。吳思瑤表示，2項覆議案被否決，是史上第一次讓國家政府財政陷入執行災難，沒人知道114年總預算的刪減數，也沒人知道哪些預算可以用、哪些不能用，更沒有人知道，業務費被刪除8成、9成的行政機關如何運作及如何補救，一個前提不明確的審議結果，各個機關預算執行災難才正要開始。對於接下來民進黨中央發動的下鄉宣講活動，吳思瑤表示，既然國會不討論，就讓社會來討論，民進黨有責任第一線面對人民，向人民報告立法院到底發生什麼事，更有責任讓公民了解政策的真相，不是一再被誤導跟抹黑，宣講行動早有規劃，也尊重民眾黨發動的下鄉宣講，但務必要說事實，不能說謊。',\n",
       " '總預算跟財劃法覆議案遭到藍白否決，民進黨發言人韓瑩今天說，藍白甘願做歷史的罪人，也不願共同為台灣人民社稷著想，勢必將受到民意的制裁；民進黨將持續清楚向人民報告政府施政方針，並堅持守護台灣民主憲政體制。民進黨今天發布新聞稿表示，行政院所提的中央政府總預算及財政收支劃分法2項與國家發展及人民利益有密切的關係的覆議案，遭到藍白聯手否決。韓瑩表示，藍白兩黨面對民意的憤怒，仍然一意孤行，不但否決掉國家的安全與發展、否決掉人民的荷包，更否決掉台灣大步向前的機會；藍白甘願做歷史的罪人，也不願共同為台灣人民社稷著想，勢必將受到民意的制裁。韓瑩指出，過去一年以來，藍白兩黨在國會一連串通過毀憲亂政立法院職權行使法、憲訴法、選罷法等法案，始終不願給行政部門有充分說明、給朝野立委充分討論的機會，罔顧程序正義、不顧人民反彈，更無視國家長遠發展。韓瑩說，藍白不顧民生需求，選擇擋下攸關地方財政公平與國家重大施政的法案，刻意讓國家發展停滯，明顯只為滿足自己的政治算計；民進黨身為執政團隊的一員，將持續清楚向人民報告政府施政方針，並堅持守護台灣民主憲政體制。',\n",
       " '印尼晶片設計合作中心主席阿迪諾表示，半導體產業已是國家發展計畫之一，現正著重培養人才、晶片設計和吸引外國投資。他希望，台積電和聯電能到印尼投資，並強調，半導體技術有戰略價值，未來將會持續蓬勃發展。印尼晶片設計合作中心（ICDEC）主席阿迪諾（Trio Adiono）接受中央社專訪，他表示，政府已將半導體視為重要產業，屬於「2020-2025年國家中期發展計劃」（RPJMN）中的一環，是國家發展5大重點領域之一。2023年成立的印尼晶片設計合作中心是由13所大學共同組成，旨在培育印尼半導體領域的人才和技術，由印尼菸草巨頭針記（Djarum）集團旗下的品牌商Polytron支持。阿迪諾是萬隆理工學院（ITB）教授，同時也主導政府在科技和半導體領域的政策方向。他指出，印尼半導體產業發展現正著重於人才培育、晶片設計和招商引資，並透露，目前印尼已有設計晶片，並與其他國家合作生產。阿迪諾告訴中央社，「正持續研究印尼本地會使用到晶片的產業，例如醫療、汽車、消費性電子產品等」，以決定要優先著重於哪些產業，另外，在生產晶片上也需要全球供應鏈的支持。他指出，在生產晶圓方面則屬於中期階段，原則上需先找到技術合作夥伴。針對資金來源，阿迪諾則表示，預計3至5年內就能獲得足夠投資額，接著就能開始生產，不過，「若台積電和聯電等大型公司願意投資印尼，（那就會更快）」。談及台灣與印尼在半導體產業上的合作，阿迪諾向中央社透露，過去短短2個月內，他就收到多達460人申請，想赴台灣從事半導體產業的工作。他期盼，未來台灣與印尼在晶片產業上能深化合作，並說：「若台積電與印尼合作，在印尼設計晶片，並在台積電工廠生產，會是一個很好的方式」。阿迪諾相當看好半導體產業未來的發展，他指出，半導體產業無所不在，且具有戰略意義，「像是AI領域，若沒有半導體就不可能實現」。他解釋：「現在的科技革命和顛覆都是以半導體為基礎，因此至少在未來10年內，半導體的重要性會持續增長」，並補充，世界處於分裂的情況下，還需確保供應鏈的安全。另外，針對台積電宣布擴大赴美投資，長期關注全球半導體產業動向的阿迪諾則認為，台積電作為全球性的企業，「須在不同的國家擁有供應鏈，以搶佔更多市場」。他認為，台積電擴大赴美投資應該單純的「商業考量」，並說，台積電只要根留台灣，去哪裡拓展市場都不是問題。「我覺得在哪裡（設廠）並不重要，只要台積電屬於台灣，他們就能開拓更多市場。」',\n",
       " '美國國家航空暨太空總署（NASA）太空望遠鏡SPHEREx今天透過火箭從加州發射升空，執行探索宇宙起源並在銀河系中尋找隱藏水庫的任務。路透社報導，NASA這個擴音器形狀的太空望遠鏡SPHEREx，由太空探索科技公司（SpaceX）獵鷹9號（Falcon 9）火箭搭載從加州范登堡太空基地（Vandenberg Space Force Base）升空。這座望遠鏡打算執行兩年任務，期間將收集超過4.5億個星系以及銀河系中1億多顆恆星的數據，將創建102 種顏色（即不同波長的光）的3D宇宙圖，並研究星系的歷史和演化。這項任務旨在加深對宇宙暴脹現象的理解。宇宙暴脹指的是大約138億年前發生大霹靂後，宇宙在不到一秒的時間內從一個點開始快速呈指數膨脹。加州理工學院SPHEREx儀器科學家科恩古特（Phil Korngut）表示：「SPHEREx是要嘗試了解宇宙的起源，也就是大霹靂後的最初瞬間發生了什麼。」「描述這一現象的主流理論被稱為暴脹理論，正如其名稱顯示，這理論提出宇宙經歷一次巨大的膨脹，從比原子還要小的尺度開始，在不到一秒的短短時間內膨脹了一兆兆倍。」NASA總部天體物理學部（Astrophysics Division）代理主任多瑪加爾-高德曼 （Shawn Domagal-Goldman）表示，SPHEREx將尋找「大霹靂的回聲─即宇宙誕生後極短時間內的痕跡，SPHEREx將直接觀測」。SPHEREx將在地球周圍的各個方向拍攝照片，將來自數十億個宇宙源的光，分解成其組成波長，以確定它們的成分和距離。',\n",
       " '輝達（NVIDIA）GTC技術大會將於下週登場，參展廠商新漢今天宣布，將在GTC發表全球首款搭載NVIDIA Jetson AGX Orin模組的Dual EtherCAT AI機器人控制器，內建新漢自研即時作業系統，支援雙重EtherCAT Master架構，可提升機器人應用效能。新漢也將展示用於行動邊緣人工智慧（AI）運算的智慧車載電腦ATC（Advanced Telematics Computer），以及應用於交通運輸系統的備援電池模組BBU（Backup Battery Unit）。輝達GTC大會將於3月17日至21日在美國加州聖荷西會議中心舉行，是全球AI開發者盛會，今年活動包括輝達執行長黃仁勳的主題演講、技術研討會和工作坊，展示輝達及合作廠商在AI技術方面的最新進展。新漢智慧車載事業部協理張峰榮今天透過新聞稿表示，藉由NVIDIA Jetson運算平台，新漢整合AI運算、精密運動控制技術、自動化技術，以及新漢自研的軟體系統，將應用帶進製造業、工廠自動化、交通運輸與新世代機器人場域，打造更高效且安全的作業環境。新漢指出，市面上人形機器人以私有控制架構為大宗，基於封閉的通訊協議，通常以單一控制架構為主，當系統當機或故障時，將造成整機停止運作。新漢下週將在GTC大會上推出全球首款基於NVIDIA Jetson AGX Orin平台開發的雙重EtherCAT控制架構AI機器人控制器，可解決單一EtherCAT控制架構遭遇的難題，像是機器人驅動效能不佳、運作延遲等，將提升各類型機器人尤其是人形機器人的運作效能。此外，新漢智慧車載電腦ATC搭載NVIDIA Jetson平台，提供即時AI推論能力，適用於大眾運輸、客用車載系統與軌道應用。新漢的智慧車載電腦搭配備援電池模組，可確保電腦運作不中斷，當主電源故障時，將自動切換至備用電池。',\n",
       " '實驗動物顯微手術是測試新藥、臨床前研究的關鍵一環，國研院動物中心打造全世界第1個互動式實驗動物顯微手術教育基地，透過仿生教具、1人1機訓練等，以腦血管栓塞手術為例，使實驗動物術後存活率由不到80%，提升至近乎100%，堪稱動物實驗版的Doctor-X。國科會國家實驗研究院院長蔡宏營今天在教育基地開箱記者會表示，國家實驗動物中心攜手胚操作專家、國研院資深顧問王繼廣，以及美國加州大學戴維斯分校顯微手術核心設施主任陳怡杰，打造全世界第1個互動式實驗動物顯微手術教育基地。蔡宏營指出，研究團隊常會利用顯微手術在小型實驗動物身上模擬血管栓塞造成的腦中風等疾病發生，測試新治療方法或藥物，同時，幹細胞治療、微型藥物傳輸裝置植入等，也常需利用實驗動物顯微手術進行前導測試。體外受精、基因改造等亦須在顯微鏡下執行，使提升實驗動物顯微手術技術、減少實驗動物使用，成為當今世界趨勢。國研院動物中心主任秦咸靜表示，傳統顯微手術教學是一群學生圍在老師身邊，與老師一起觀看一台顯微鏡螢幕，2024年10月啟動的教育基地採1人1機，利用現場、遠距及串流媒體整合成混成式教學模式，老師在基地執行手術，學生可在任何地方透過行動裝置觀看，基地現場則可容納12名學生，學生執行手術時，老師可同時看到操作現況並隨時指正。秦咸靜指出，過去要練習實驗動物顯微手術，必須用活體動物，造成大量犧牲，動物中心亦開發出實驗動物的仿生教具，包含皮膚、血管、導管等模組，讓初學者先利用仿生教具練習手感，熟練後再使用活體動物進行手術，大幅減少在教學訓練期間犧牲的實驗動物；目前動物中心也在評估申請仿生教具的智慧財產權。在今天活動中，有來自美國、韓國、台灣的獸醫師在進行訓練課程，使用的正是仿生教具。秦咸靜進一步表示，以腦血管栓塞手術為例，一般實驗動物術後存活率不到80%，在教育基地經過1人1機、隨時接受指正的方式學習，並先使用仿生教具練習，受訓學員執行的實驗術後存活率幾乎可達100%，宛如日劇「派遣女醫」（Doctor-X）在實驗動物場景真實上演。秦咸靜提到，教育基地除顯微手術，也擴充了胚操作訓練設備，以利人工生殖技術、投藥採樣等動物操作技術的訓練，是國內唯一兼具仿生手術訓練、存活顯微手術、胚操作訓練、動物投藥技術訓練、科學普及教育的訓練場域，供學研單位、醫學研究團隊、醫學系學生等運用。秦咸靜也強調，教育基地搭配動物照護系統，包含麻醉及監控系統、飼育系統等，落實優化動物福祉的重要目標；希望此基地未來能服務全球，與世界各大學或藥廠進行技術連線，在台灣提供關鍵的臨床前測試服務，成為顯微手術樞紐。',\n",
       " 'U18亞洲盃5人制棒球賽台灣隊今天與日本交手，高一球員鐘家樂攻守有表現，得點圈攻擊能力佳、守備反應快，還是球隊「氣氛組」，賽後日本球員落淚也試圖安慰對方。U18亞洲盃5人制棒球賽台灣隊今天上午與伊拉克交手，鐘家樂首盤2安4打點，第2盤也貢獻2安2打點，台灣隊順利搶勝；下午與日本隊交手，鐘家樂首盤3安1打點，第2盤3安2打點，第2盤兩隊3比3平手時，鐘家樂適時安打送回2分、幫助球隊超前比數，台灣隊順利擊退日本。台灣隊總教練馮韋國表示，鐘家樂攻擊力量很好，壘上有人時能有適時表現把分數打回，守備以角落三壘為主，反應快、穩定性好。高一的「阿布」鐘家樂來自西苑高中，打棒球時守備位置是游擊。比較棒球與5人制棒球的差別，他表示，守備上不能採一般棒球習慣的動作，5人制棒球速度快、傳球要更轉，第2動作也要更快到位，至於攻擊就是照平常該做的做。鐘家樂也是球隊「氣氛組」，今天比賽一度落後時，鐘家樂透露當時聚集講話，不特別說技術方面的東西，試著跟隊友開玩笑，想辦法讓氣氛開朗一點、不要這麼緊繃。台灣擊敗日本賽後合影時，日本有男選手哭得傷心，站在一旁的鐘家樂搭著肩試圖安慰他，但鐘家樂笑說自己不會說日文，只能用有限的英文單字試著溝通，對方則跟他握手。鐘家樂提到，首度當國手很享受氣氛，能有好表現很有成就感、感覺很幸福。',\n",
       " '台灣羽球男單好手李佳豪今天在全英公開賽首輪，面對香港好手李卓耀陷入苦戰，最終在化解6個賽末點後，才以21比16、16比21、25比23獲勝，艱辛闖進16強。現年25歲、世界排名第22名的李佳豪，賽前生涯對決過李卓耀1次，是在2023年的德國公開賽，當時李佳豪直落2輸球。28歲的李卓耀，前一次奪冠已經是2019年的世界羽球總會（BWF）超級500的香港公開賽，目前世界排名已經滑落至第21名。今天雙方再度交手，首局李佳豪做足準備，經過比賽前段的拉鋸後，李佳豪在雙方7比7平手時，靠著出色的前、後場節奏的轉換，拉出一波9比2的攻勢，如願先收下首局。第2局李佳豪其實多半都保持領先，比賽後段甚至以15比12領先，沒料到此時卻被李卓耀連得7分反超比數，最後無力反撲只得讓出第2局。關鍵的第3局，李佳豪幾乎一路都陷入苦戰，2度分別以10比15、16比20落後，結果不放棄的李佳豪硬是化解4個賽末點，先戰成20比20平手。進入「Deuce（丟士）」後，李佳豪又在22比23時靠著出色的後場殺球和網前小球連得3分，上演精彩的逆轉秀，如願挺進16強。李佳豪晉級16強後，接下來的對手將是日本的田中湧士。',\n",
       " '台灣職籃P.LEAGUE+桃園璞園領航猿後衛關達祐生涯首度穿上台灣男籃大隊的球衣，他透露心情很興奮，就像做夢一樣，並期待與學長陳盈駿並肩作戰。球風以敢衝、敢拚聞名的27歲後衛關達祐，從國中時期就期待有朝一日代表台灣男籃踏上國際賽舞台，只是這個夢想在心中埋藏超過10年，終於在這次亞洲盃資格賽外卡賽實現。關達祐今天在賽前記者會接受媒體聯訪時表示，心情很興奮，就像做夢一樣，甚至有點嚇到。關達祐指出，接到台灣男籃邀請的當下，正好在澳門隨隊領航猿征戰東亞超級聯賽決賽，也馬上打電話跟家人分享好消息。針對近期賽事較為密集，關達祐提到，身體確實很疲勞，因此這段時間將專注把自身調整到最佳狀態。這次台灣男籃培訓隊有盧峻翔、藍少甫及陳冠全等熟識的隊友，讓關達祐安心不少，並直言未來如果還有機會代表台灣征戰，絕對第一時間答應，期待從中增長球技，甚至許願與好友李家慷一同入選，「最欣賞是盈駿學長，因為我們同位置，又都是明仁（國中）畢業的，是我想要效法的。」執掌兵符的台灣隊總教練圖齊（Gianluca Tucci）提到，去年在瓊斯盃已有觀察關達祐的表現，評估應該能快速融入體系，加上集訓都能配合，因此選擇關達祐納入名單中。',\n",
       " 'U18亞洲盃5人制棒球賽台灣隊今天單日2勝，上午擊敗伊拉克，下午擊退日本，目前4戰全勝晉級冠軍戰機會大；總教練馮韋國說，若有機會冠軍戰再碰日本，心態最重要、不能放鬆。U18亞洲盃5人制棒球賽台灣隊昨天首日依序擊敗馬來西亞、韓國隊，今天上午與伊拉克隊交手，以23比0、17比1搶勝，下午與賽前就設定需要特別注意的勁敵日本隊交手，首盤以4比0拿下，第2盤一度3分落後，最後以8比3搶勝。台灣隊今天賽程結束戰績4勝是目前唯一全勝球隊，日本、韓國戰績同為3勝1敗，台灣隊明天最後2場比賽將與泰國、香港隊交手；為了避免天氣影響，明後天賽程將移往北藝中心舉行。台灣隊總教練馮韋國表示，今天與日本交手打到第2盤雖然一度落後3分，但對選手很有信心，喊暫停提醒選手一個一個出局數抓，平時集訓練習賽強度就很高，沒有太大問題。此次比賽開打前，馮韋國就設定與日本隊比賽將是關鍵，今天實際交手，他表示，跟預期和情蒐的資料差不多，日本隊的男選手速度很快，女選手敏捷度也很出色。若沒意外，很有可能台灣與日本將在冠軍戰再碰頭，馮韋國表示，若冠軍戰再與日本交手，心態最重要，會提醒選手不要因為贏過一次就放鬆，日本輸過一場後，相信搶勝的企圖心一定更強，會提醒台灣選手特別注意。']"
      ]
     },
     "execution_count": 7,
     "metadata": {},
     "output_type": "execute_result"
    }
   ],
   "source": [
    "contents"
   ]
  },
  {
   "cell_type": "code",
   "execution_count": 8,
   "metadata": {},
   "outputs": [
    {
     "data": {
      "text/plain": [
       "['aipl_20250312_1',\n",
       " 'aipl_20250312_2',\n",
       " 'aipl_20250312_3',\n",
       " 'aipl_20250312_4',\n",
       " 'ait_20250312_1',\n",
       " 'ait_20250312_2',\n",
       " 'ait_20250312_3',\n",
       " 'ait_20250311_4',\n",
       " 'aspt_20250312_1',\n",
       " 'aspt_20250312_2',\n",
       " 'aspt_20250312_3',\n",
       " 'aspt_20250312_4']"
      ]
     },
     "execution_count": 8,
     "metadata": {},
     "output_type": "execute_result"
    }
   ],
   "source": [
    "item_id"
   ]
  },
  {
   "cell_type": "markdown",
   "metadata": {},
   "source": [
    "# Save data"
   ]
  },
  {
   "cell_type": "code",
   "execution_count": 9,
   "metadata": {},
   "outputs": [],
   "source": [
    "data = zip(item_id, dates, categories, titles, contents, links, photo_links)\n",
    "df = pd.DataFrame(list(data), columns=['item_id','date','category','title','content','link','photo_link'])"
   ]
  },
  {
   "cell_type": "code",
   "execution_count": 10,
   "metadata": {},
   "outputs": [
    {
     "data": {
      "text/html": [
       "<div>\n",
       "<style scoped>\n",
       "    .dataframe tbody tr th:only-of-type {\n",
       "        vertical-align: middle;\n",
       "    }\n",
       "\n",
       "    .dataframe tbody tr th {\n",
       "        vertical-align: top;\n",
       "    }\n",
       "\n",
       "    .dataframe thead th {\n",
       "        text-align: right;\n",
       "    }\n",
       "</style>\n",
       "<table border=\"1\" class=\"dataframe\">\n",
       "  <thead>\n",
       "    <tr style=\"text-align: right;\">\n",
       "      <th></th>\n",
       "      <th>item_id</th>\n",
       "      <th>date</th>\n",
       "      <th>category</th>\n",
       "      <th>title</th>\n",
       "      <th>content</th>\n",
       "      <th>link</th>\n",
       "      <th>photo_link</th>\n",
       "    </tr>\n",
       "  </thead>\n",
       "  <tbody>\n",
       "    <tr>\n",
       "      <th>0</th>\n",
       "      <td>aipl_20250312_1</td>\n",
       "      <td>2025-03-12</td>\n",
       "      <td>政治</td>\n",
       "      <td>國合會助貝里斯開創香草產業 勉小農婦女經濟自主</td>\n",
       "      <td>國合會今天表示，駐貝里斯技術團開班教種香草，30名小農及婦女日前順利結訓，當地官員期勉提升經...</td>\n",
       "      <td>/news/aipl/202503120373.aspx</td>\n",
       "      <td>https://imgcdn.cna.com.tw/www/WebPhotos/200/20...</td>\n",
       "    </tr>\n",
       "    <tr>\n",
       "      <th>1</th>\n",
       "      <td>aipl_20250312_2</td>\n",
       "      <td>2025-03-12</td>\n",
       "      <td>政治</td>\n",
       "      <td>國會衝突綠委控傷害 藍白立委收到檢方傳票</td>\n",
       "      <td>去年底立法院審查選罷法等案，朝野立委在議場爆發肢體衝突，民進黨立委對國民黨、民眾黨立委提告傷...</td>\n",
       "      <td>/news/aipl/202503120363.aspx</td>\n",
       "      <td>https://imgcdn.cna.com.tw/www/webphotos/WebCov...</td>\n",
       "    </tr>\n",
       "  </tbody>\n",
       "</table>\n",
       "</div>"
      ],
      "text/plain": [
       "           item_id        date category                    title  \\\n",
       "0  aipl_20250312_1  2025-03-12       政治  國合會助貝里斯開創香草產業 勉小農婦女經濟自主   \n",
       "1  aipl_20250312_2  2025-03-12       政治     國會衝突綠委控傷害 藍白立委收到檢方傳票   \n",
       "\n",
       "                                             content  \\\n",
       "0  國合會今天表示，駐貝里斯技術團開班教種香草，30名小農及婦女日前順利結訓，當地官員期勉提升經...   \n",
       "1  去年底立法院審查選罷法等案，朝野立委在議場爆發肢體衝突，民進黨立委對國民黨、民眾黨立委提告傷...   \n",
       "\n",
       "                           link  \\\n",
       "0  /news/aipl/202503120373.aspx   \n",
       "1  /news/aipl/202503120363.aspx   \n",
       "\n",
       "                                          photo_link  \n",
       "0  https://imgcdn.cna.com.tw/www/WebPhotos/200/20...  \n",
       "1  https://imgcdn.cna.com.tw/www/webphotos/WebCov...  "
      ]
     },
     "execution_count": 10,
     "metadata": {},
     "output_type": "execute_result"
    }
   ],
   "source": [
    "df.head(2)"
   ]
  },
  {
   "cell_type": "code",
   "execution_count": 11,
   "metadata": {},
   "outputs": [
    {
     "data": {
      "text/plain": [
       "(12, 7)"
      ]
     },
     "execution_count": 11,
     "metadata": {},
     "output_type": "execute_result"
    }
   ],
   "source": [
    "df.shape"
   ]
  },
  {
   "cell_type": "code",
   "execution_count": 12,
   "metadata": {},
   "outputs": [
    {
     "data": {
      "text/plain": [
       "'國合會今天表示，駐貝里斯技術團開班教種香草，30名小農及婦女日前順利結訓，當地官員期勉提升經濟自主；國合會副秘書長謝佩芬則說，香草在貝里斯尚未發展商業化生產，將持續協助當地產業發展。國合會今天發布新聞稿指出，駐貝里斯技術團於6日舉辦「小農香草種植培訓班」結訓典禮，本次培訓為國合會「後疫情時期協助拉丁美洲及加勒比海經濟復甦暨婦女賦權計畫」的重要一環，共有30名學員順利結訓，涵蓋加勒比海農業研究與發展機構（CARDI）人員、農業專業高中師生及社區婦女。國合會指出，課程結束後，每位婦女學員皆獲贈10株香草苗在自家後院實踐所學，開啟小規模生產。來自機構及學校的代表則將帶回香草苗，分別於所屬農場栽種，與兩座區域育苗中心共同發揮示範推廣的作用。駐貝里斯大使徐儷文說，對台灣在貝國香草產業發展初期即提供實質協助感到欣慰。國合會副秘書長謝佩芬表示，香草是昂貴的香料，在食品、化妝品與工業領域需求旺盛，市場前景廣闊，貝里斯具備理想生長環境，卻尚未發展商業化生產，樂見技術團發掘這項契機，未來將持續協助貝里斯投入香草產業發展。'"
      ]
     },
     "execution_count": 12,
     "metadata": {},
     "output_type": "execute_result"
    }
   ],
   "source": [
    "df.content[0]"
   ]
  },
  {
   "cell_type": "code",
   "execution_count": 13,
   "metadata": {},
   "outputs": [],
   "source": [
    "df.to_csv(\"cna_category_news.csv\", sep=\"|\", index=False)"
   ]
  },
  {
   "cell_type": "code",
   "execution_count": null,
   "metadata": {},
   "outputs": [],
   "source": []
  },
  {
   "cell_type": "code",
   "execution_count": null,
   "metadata": {},
   "outputs": [],
   "source": []
  }
 ],
 "metadata": {
  "kernelspec": {
   "display_name": "ai23",
   "language": "python",
   "name": "python3"
  },
  "language_info": {
   "codemirror_mode": {
    "name": "ipython",
    "version": 3
   },
   "file_extension": ".py",
   "mimetype": "text/x-python",
   "name": "python",
   "nbconvert_exporter": "python",
   "pygments_lexer": "ipython3",
   "version": "3.10.16"
  },
  "toc": {
   "base_numbering": 1,
   "nav_menu": {},
   "number_sections": true,
   "sideBar": true,
   "skip_h1_title": false,
   "title_cell": "Table of Contents",
   "title_sidebar": "Contents",
   "toc_cell": false,
   "toc_position": {},
   "toc_section_display": true,
   "toc_window_display": false
  }
 },
 "nbformat": 4,
 "nbformat_minor": 2
}
