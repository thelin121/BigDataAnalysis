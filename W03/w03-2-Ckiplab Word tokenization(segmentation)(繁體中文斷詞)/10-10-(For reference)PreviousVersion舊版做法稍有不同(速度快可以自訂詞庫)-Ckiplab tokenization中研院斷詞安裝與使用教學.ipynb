{
 "cells": [
  {
   "cell_type": "markdown",
   "metadata": {},
   "source": [
    "# CKIP Neural Chinese Word Segmentation, POS Tagging, and NER\n",
    "\n",
    "台灣人之光:Ckiplab中研院斷詞Python套件\n",
    "\n",
    "CHINESE KNOWLEDGE AND INFORMATION PROCESSING (詞庫小組)(助研究員馬偉雲)\t\n",
    "\n",
    "中研院資訊所、語言所於民國七十五年成立一個跨所合作的中文計算語言研究小組，共同合作建構中文自然語言處理的資源與研究環境，為國內外中文自然語言處理及其相關研究提供基本的研究資料與知識架構。代表性研究成果包括中文詞知識庫、語料庫及中文處理技術等。網際網路產生大量資訊，但缺乏有效的自動化分析方法及技術足以快速處理。為了達到智慧型的資訊處理，知識為本的訊息處理成為目前研究的核心焦點，本計劃進行五個主要研究方向：深度學習、知識表達、自然語言理解、知識擷取、聊天機器人。\n",
    "\n",
    "[Official website官網](https://ckip.iis.sinica.edu.tw/project/coreference/)\n",
    "\n",
    "[What can ckiplab NLP do? Let's take a look.](https://ckip.iis.sinica.edu.tw/service/corenlp/)\n",
    "\n",
    "![](https://ckip.iis.sinica.edu.tw/images/home/ckip.jpg)"
   ]
  },
  {
   "cell_type": "code",
   "execution_count": null,
   "metadata": {},
   "outputs": [],
   "source": []
  },
  {
   "cell_type": "markdown",
   "metadata": {},
   "source": [
    "# Setup and download pretrained model (安裝與下載模型檔案)\n",
    "This open-source library implements neural CKIP-style Chinese NLP tools.\n",
    "\n",
    "* (WS) word segmentation\n",
    "* (POS) part-of-speech tagging\n",
    "* (NER) named entity recognition"
   ]
  },
  {
   "cell_type": "markdown",
   "metadata": {},
   "source": [
    "[Github Link](https://github.com/ckiplab/ckiptagger)\n",
    "\n",
    "Requirements:\n",
    "* python>=3.6\n",
    "* tensorflow>=1.13.1,<2 / tensorflow-gpu>=1.13.1,<2 (one of them)\n",
    "\n"
   ]
  },
  {
   "cell_type": "code",
   "execution_count": 1,
   "metadata": {},
   "outputs": [
    {
     "name": "stdout",
     "output_type": "stream",
     "text": [
      "Name: tensorflow\n",
      "Version: 2.3.0\n",
      "Summary: TensorFlow is an open source machine learning framework for everyone.\n",
      "Home-page: https://www.tensorflow.org/\n",
      "Author: Google Inc.\n",
      "Author-email: packages@tensorflow.org\n",
      "License: Apache 2.0\n",
      "Location: c:\\users\\clhuang\\miniconda3\\envs\\ai23\\lib\\site-packages\n",
      "Requires: wrapt, scipy, astunparse, opt-einsum, absl-py, numpy, grpcio, tensorflow-estimator, h5py, termcolor, wheel, protobuf, keras-preprocessing, six, google-pasta, gast, tensorboard\n",
      "Required-by: \n"
     ]
    }
   ],
   "source": [
    "!pip show tensorflow"
   ]
  },
  {
   "cell_type": "markdown",
   "metadata": {},
   "source": [
    "    How to install ckiplab tokenization tool(套件安裝)?\n",
    "\n",
    "    pip install -U ckiptagger\n",
    "    or \n",
    "    pip install -U ckiptagger[tf,gdown]\n",
    "\n",
    "    GPU version (We don't use GPU in class.)\n",
    "    pip install -U ckiptagger[tfgpu,gdown]"
   ]
  },
  {
   "cell_type": "code",
   "execution_count": null,
   "metadata": {},
   "outputs": [],
   "source": []
  },
  {
   "cell_type": "markdown",
   "metadata": {},
   "source": [
    "### Download models 下載模型檔\n",
    "\n",
    "Downlaod model from one of the sources:\n",
    "* https://drive.google.com/drive/folders/105IKCb88evUyLKlLondvDBoh7Dy_I1tm\n",
    "* https://drive.google.com/drive/folders/15BDjL2IaX3eYdFVzT422VwCb743Hrbi3\n",
    "* http://ckip.iis.sinica.edu.tw/data/ckiptagger/data.zip\n",
    "\n",
    "\n",
    "* 解壓縮並置放於./ckiplab_model目錄底下 (或是./data目錄)\n",
    "* 須注意官網是否有新版本的模型檔"
   ]
  },
  {
   "cell_type": "code",
   "execution_count": null,
   "metadata": {},
   "outputs": [],
   "source": []
  },
  {
   "cell_type": "markdown",
   "metadata": {},
   "source": [
    "# How to use?"
   ]
  },
  {
   "cell_type": "code",
   "execution_count": 2,
   "metadata": {},
   "outputs": [],
   "source": [
    "from ckiptagger import WS, POS, NER"
   ]
  },
  {
   "cell_type": "markdown",
   "metadata": {},
   "source": [
    "### Load models 載入中文處理工具包\n",
    "* (WS) 斷詞\n",
    "* (POS) 詞性標注\n",
    "* (NER) 命名實體辨識"
   ]
  },
  {
   "cell_type": "code",
   "execution_count": 3,
   "metadata": {},
   "outputs": [],
   "source": [
    "# location of models\n",
    "model_path = 'C:/Users/clhuang/Documents/ckiplab-model-data'"
   ]
  },
  {
   "cell_type": "code",
   "execution_count": 4,
   "metadata": {},
   "outputs": [],
   "source": [
    "# It takes a moment to load models\n",
    "#  \n",
    "ws = WS(model_path)\n",
    "pos = POS(model_path)\n",
    "ner = NER(model_path)"
   ]
  },
  {
   "cell_type": "code",
   "execution_count": 5,
   "metadata": {},
   "outputs": [
    {
     "data": {
      "text/plain": [
       "ckiptagger.api.WS"
      ]
     },
     "execution_count": 5,
     "metadata": {},
     "output_type": "execute_result"
    }
   ],
   "source": [
    "type(ws)"
   ]
  },
  {
   "cell_type": "code",
   "execution_count": null,
   "metadata": {},
   "outputs": [],
   "source": []
  },
  {
   "cell_type": "markdown",
   "metadata": {},
   "source": [
    "# TL;DR"
   ]
  },
  {
   "cell_type": "markdown",
   "metadata": {},
   "source": [
    "## Three steps"
   ]
  },
  {
   "cell_type": "code",
   "execution_count": 6,
   "metadata": {},
   "outputs": [
    {
     "data": {
      "text/plain": [
       "[['傅達仁', '今', '將', '執行', '安樂死']]"
      ]
     },
     "execution_count": 6,
     "metadata": {},
     "output_type": "execute_result"
    }
   ],
   "source": [
    "ws([\"傅達仁今將執行安樂死\"])"
   ]
  },
  {
   "cell_type": "code",
   "execution_count": 7,
   "metadata": {},
   "outputs": [
    {
     "data": {
      "text/plain": [
       "[['Nb', 'Nd', 'D', 'VC', 'Na']]"
      ]
     },
     "execution_count": 7,
     "metadata": {},
     "output_type": "execute_result"
    }
   ],
   "source": [
    "pos([['傅達仁', '今', '將', '執行', '安樂死']])"
   ]
  },
  {
   "cell_type": "code",
   "execution_count": 8,
   "metadata": {},
   "outputs": [
    {
     "data": {
      "text/plain": [
       "[{(0, 3, 'PERSON', '傅達仁')}]"
      ]
     },
     "execution_count": 8,
     "metadata": {},
     "output_type": "execute_result"
    }
   ],
   "source": [
    "ner([['傅達仁', '今', '將', '執行', '安樂死']], [['Nb', 'Nd', 'D', 'VC', 'Na']])"
   ]
  },
  {
   "cell_type": "code",
   "execution_count": null,
   "metadata": {},
   "outputs": [],
   "source": []
  },
  {
   "cell_type": "markdown",
   "metadata": {},
   "source": [
    "## put them together"
   ]
  },
  {
   "cell_type": "code",
   "execution_count": 9,
   "metadata": {},
   "outputs": [],
   "source": [
    "docs = [\"傅達仁今將執行安樂死\"]"
   ]
  },
  {
   "cell_type": "code",
   "execution_count": 10,
   "metadata": {},
   "outputs": [],
   "source": [
    "words = ws(docs)\n",
    "tagged = pos(words)\n",
    "ner_result = ner(words, tagged)"
   ]
  },
  {
   "cell_type": "code",
   "execution_count": 11,
   "metadata": {},
   "outputs": [
    {
     "data": {
      "text/plain": [
       "[['傅達仁', '今', '將', '執行', '安樂死']]"
      ]
     },
     "execution_count": 11,
     "metadata": {},
     "output_type": "execute_result"
    }
   ],
   "source": [
    "words"
   ]
  },
  {
   "cell_type": "code",
   "execution_count": 12,
   "metadata": {},
   "outputs": [
    {
     "data": {
      "text/plain": [
       "[['Nb', 'Nd', 'D', 'VC', 'Na']]"
      ]
     },
     "execution_count": 12,
     "metadata": {},
     "output_type": "execute_result"
    }
   ],
   "source": [
    "tagged"
   ]
  },
  {
   "cell_type": "code",
   "execution_count": 13,
   "metadata": {},
   "outputs": [
    {
     "data": {
      "text/plain": [
       "[{(0, 3, 'PERSON', '傅達仁')}]"
      ]
     },
     "execution_count": 13,
     "metadata": {},
     "output_type": "execute_result"
    }
   ],
   "source": [
    "ner_result"
   ]
  },
  {
   "cell_type": "code",
   "execution_count": null,
   "metadata": {},
   "outputs": [],
   "source": []
  },
  {
   "cell_type": "code",
   "execution_count": null,
   "metadata": {},
   "outputs": [],
   "source": []
  },
  {
   "cell_type": "markdown",
   "metadata": {},
   "source": [
    "## Process multiple documents\n",
    "\n",
    "we must put documents in a list"
   ]
  },
  {
   "cell_type": "code",
   "execution_count": 14,
   "metadata": {},
   "outputs": [],
   "source": [
    "# two ducuments\n",
    "docs = [\"高科大、文藻外語大學與故宮自2016年12月攜手辦理人才培育計畫，培養學生擔任中英文導覽及參與故宮南院的實作服務。\",\"美國參議院針對今天總統布什所提名的勞工部長趙小蘭展開認可聽證會，預料她將會很順利通過參議院支持。\"]"
   ]
  },
  {
   "cell_type": "code",
   "execution_count": 15,
   "metadata": {},
   "outputs": [],
   "source": [
    "words = ws(docs)\n",
    "tagged = pos(words)\n",
    "ner_result = ner(words, tagged)"
   ]
  },
  {
   "cell_type": "code",
   "execution_count": 16,
   "metadata": {},
   "outputs": [
    {
     "data": {
      "text/plain": [
       "[['高科大',\n",
       "  '、',\n",
       "  '文藻',\n",
       "  '外語',\n",
       "  '大學',\n",
       "  '與',\n",
       "  '故宮',\n",
       "  '自',\n",
       "  '2016年',\n",
       "  '12月',\n",
       "  '攜手',\n",
       "  '辦理',\n",
       "  '人才',\n",
       "  '培育',\n",
       "  '計畫',\n",
       "  '，',\n",
       "  '培養',\n",
       "  '學生',\n",
       "  '擔任',\n",
       "  '中英文',\n",
       "  '導覽',\n",
       "  '及',\n",
       "  '參與',\n",
       "  '故宮',\n",
       "  '南院',\n",
       "  '的',\n",
       "  '實作',\n",
       "  '服務',\n",
       "  '。'],\n",
       " ['美國',\n",
       "  '參議院',\n",
       "  '針對',\n",
       "  '今天',\n",
       "  '總統',\n",
       "  '布什',\n",
       "  '所',\n",
       "  '提名',\n",
       "  '的',\n",
       "  '勞工部長',\n",
       "  '趙小蘭',\n",
       "  '展開',\n",
       "  '認可',\n",
       "  '聽證會',\n",
       "  '，',\n",
       "  '預料',\n",
       "  '她',\n",
       "  '將',\n",
       "  '會',\n",
       "  '很',\n",
       "  '順利',\n",
       "  '通過',\n",
       "  '參議院',\n",
       "  '支持',\n",
       "  '。']]"
      ]
     },
     "execution_count": 16,
     "metadata": {},
     "output_type": "execute_result"
    }
   ],
   "source": [
    "words"
   ]
  },
  {
   "cell_type": "code",
   "execution_count": 17,
   "metadata": {},
   "outputs": [
    {
     "data": {
      "text/plain": [
       "[['Nc',\n",
       "  'PAUSECATEGORY',\n",
       "  'Nb',\n",
       "  'Na',\n",
       "  'Nc',\n",
       "  'Caa',\n",
       "  'Nc',\n",
       "  'P',\n",
       "  'Nd',\n",
       "  'Nd',\n",
       "  'D',\n",
       "  'VC',\n",
       "  'Na',\n",
       "  'VC',\n",
       "  'Na',\n",
       "  'COMMACATEGORY',\n",
       "  'VC',\n",
       "  'Na',\n",
       "  'VG',\n",
       "  'Na',\n",
       "  'VC',\n",
       "  'Caa',\n",
       "  'VC',\n",
       "  'Nc',\n",
       "  'Nc',\n",
       "  'DE',\n",
       "  'Nv',\n",
       "  'Nv',\n",
       "  'PERIODCATEGORY'],\n",
       " ['Nc',\n",
       "  'Nc',\n",
       "  'P',\n",
       "  'Nd',\n",
       "  'Na',\n",
       "  'Nb',\n",
       "  'D',\n",
       "  'VC',\n",
       "  'DE',\n",
       "  'Na',\n",
       "  'Nb',\n",
       "  'VC',\n",
       "  'VC',\n",
       "  'Na',\n",
       "  'COMMACATEGORY',\n",
       "  'VE',\n",
       "  'Nh',\n",
       "  'D',\n",
       "  'D',\n",
       "  'Dfa',\n",
       "  'VH',\n",
       "  'VC',\n",
       "  'Nc',\n",
       "  'VC',\n",
       "  'PERIODCATEGORY']]"
      ]
     },
     "execution_count": 17,
     "metadata": {},
     "output_type": "execute_result"
    }
   ],
   "source": [
    "tagged"
   ]
  },
  {
   "cell_type": "code",
   "execution_count": 18,
   "metadata": {},
   "outputs": [
    {
     "data": {
      "text/plain": [
       "[{(0, 3, 'ORG', '高科大'),\n",
       "  (4, 10, 'ORG', '文藻外語大學'),\n",
       "  (11, 13, 'ORG', '故宮'),\n",
       "  (14, 22, 'DATE', '2016年12月'),\n",
       "  (40, 42, 'LANGUAGE', '英文'),\n",
       "  (47, 51, 'ORG', '故宮南院')},\n",
       " {(0, 2, 'GPE', '美國'),\n",
       "  (2, 5, 'ORG', '參議院'),\n",
       "  (7, 9, 'DATE', '今天'),\n",
       "  (11, 13, 'PERSON', '布什'),\n",
       "  (17, 21, 'ORG', '勞工部長'),\n",
       "  (21, 24, 'PERSON', '趙小蘭'),\n",
       "  (42, 45, 'ORG', '參議院')}]"
      ]
     },
     "execution_count": 18,
     "metadata": {},
     "output_type": "execute_result"
    }
   ],
   "source": [
    "ner_result"
   ]
  },
  {
   "cell_type": "code",
   "execution_count": null,
   "metadata": {},
   "outputs": [],
   "source": []
  },
  {
   "cell_type": "code",
   "execution_count": null,
   "metadata": {},
   "outputs": [],
   "source": []
  },
  {
   "cell_type": "markdown",
   "metadata": {},
   "source": [
    "# Word Segmentation 斷詞"
   ]
  },
  {
   "cell_type": "code",
   "execution_count": 19,
   "metadata": {},
   "outputs": [
    {
     "data": {
      "text/plain": [
       "[['傅達仁', '今', '將', '執行', '安樂死']]"
      ]
     },
     "execution_count": 19,
     "metadata": {},
     "output_type": "execute_result"
    }
   ],
   "source": [
    "ws([\"傅達仁今將執行安樂死\"])"
   ]
  },
  {
   "cell_type": "code",
   "execution_count": 20,
   "metadata": {},
   "outputs": [
    {
     "data": {
      "text/plain": [
       "[['傅'], ['達'], ['仁'], ['今'], ['將'], ['執'], ['行'], ['安'], ['樂'], ['死']]"
      ]
     },
     "execution_count": 20,
     "metadata": {},
     "output_type": "execute_result"
    }
   ],
   "source": [
    "# wrong format: shoud be list not a string! (吃list，不是吃string)\n",
    "ws(\"傅達仁今將執行安樂死\")"
   ]
  },
  {
   "cell_type": "code",
   "execution_count": null,
   "metadata": {},
   "outputs": [],
   "source": []
  },
  {
   "cell_type": "code",
   "execution_count": 21,
   "metadata": {},
   "outputs": [
    {
     "data": {
      "text/plain": [
       "[['高科大',\n",
       "  '、',\n",
       "  '文藻',\n",
       "  '外語',\n",
       "  '大學',\n",
       "  '與',\n",
       "  '故宮',\n",
       "  '自',\n",
       "  '2016年',\n",
       "  '12月',\n",
       "  '攜手',\n",
       "  '辦理',\n",
       "  '人才',\n",
       "  '培育',\n",
       "  '計畫',\n",
       "  '，',\n",
       "  '培養',\n",
       "  '學生',\n",
       "  '擔任',\n",
       "  '中英文',\n",
       "  '導覽',\n",
       "  '及',\n",
       "  '參與',\n",
       "  '故宮',\n",
       "  '南院',\n",
       "  '的',\n",
       "  '實作',\n",
       "  '服務',\n",
       "  '。']]"
      ]
     },
     "execution_count": 21,
     "metadata": {},
     "output_type": "execute_result"
    }
   ],
   "source": [
    "ws([\"高科大、文藻外語大學與故宮自2016年12月攜手辦理人才培育計畫，培養學生擔任中英文導覽及參與故宮南院的實作服務。\"])"
   ]
  },
  {
   "cell_type": "code",
   "execution_count": 22,
   "metadata": {},
   "outputs": [
    {
     "data": {
      "text/plain": [
       "[['美國',\n",
       "  '參議院',\n",
       "  '針對',\n",
       "  '今天',\n",
       "  '總統',\n",
       "  '布什',\n",
       "  '所',\n",
       "  '提名',\n",
       "  '的',\n",
       "  '勞工部長',\n",
       "  '趙小蘭',\n",
       "  '展開',\n",
       "  '認可',\n",
       "  '聽證會',\n",
       "  '，',\n",
       "  '預料',\n",
       "  '她',\n",
       "  '將',\n",
       "  '會',\n",
       "  '很',\n",
       "  '順利',\n",
       "  '通過',\n",
       "  '參議院',\n",
       "  '支持',\n",
       "  '。']]"
      ]
     },
     "execution_count": 22,
     "metadata": {},
     "output_type": "execute_result"
    }
   ],
   "source": [
    "ws([\"美國參議院針對今天總統布什所提名的勞工部長趙小蘭展開認可聽證會，預料她將會很順利通過參議院支持。\"])"
   ]
  },
  {
   "cell_type": "code",
   "execution_count": null,
   "metadata": {},
   "outputs": [],
   "source": []
  },
  {
   "cell_type": "markdown",
   "metadata": {},
   "source": [
    "## more than two documents"
   ]
  },
  {
   "cell_type": "code",
   "execution_count": 23,
   "metadata": {},
   "outputs": [],
   "source": [
    "docs = [\"高科大、文藻外語大學與故宮自2016年12月攜手辦理人才培育計畫，培養學生擔任中英文導覽及參與故宮南院的實作服務。\",\"美國參議院針對今天總統布什所提名的勞工部長趙小蘭展開認可聽證會，預料她將會很順利通過參議院支持。\"]"
   ]
  },
  {
   "cell_type": "code",
   "execution_count": 24,
   "metadata": {},
   "outputs": [
    {
     "data": {
      "text/plain": [
       "[['高科大',\n",
       "  '、',\n",
       "  '文藻',\n",
       "  '外語',\n",
       "  '大學',\n",
       "  '與',\n",
       "  '故宮',\n",
       "  '自',\n",
       "  '2016年',\n",
       "  '12月',\n",
       "  '攜手',\n",
       "  '辦理',\n",
       "  '人才',\n",
       "  '培育',\n",
       "  '計畫',\n",
       "  '，',\n",
       "  '培養',\n",
       "  '學生',\n",
       "  '擔任',\n",
       "  '中英文',\n",
       "  '導覽',\n",
       "  '及',\n",
       "  '參與',\n",
       "  '故宮',\n",
       "  '南院',\n",
       "  '的',\n",
       "  '實作',\n",
       "  '服務',\n",
       "  '。'],\n",
       " ['美國',\n",
       "  '參議院',\n",
       "  '針對',\n",
       "  '今天',\n",
       "  '總統',\n",
       "  '布什',\n",
       "  '所',\n",
       "  '提名',\n",
       "  '的',\n",
       "  '勞工部長',\n",
       "  '趙小蘭',\n",
       "  '展開',\n",
       "  '認可',\n",
       "  '聽證會',\n",
       "  '，',\n",
       "  '預料',\n",
       "  '她',\n",
       "  '將',\n",
       "  '會',\n",
       "  '很',\n",
       "  '順利',\n",
       "  '通過',\n",
       "  '參議院',\n",
       "  '支持',\n",
       "  '。']]"
      ]
     },
     "execution_count": 24,
     "metadata": {},
     "output_type": "execute_result"
    }
   ],
   "source": [
    "ws(docs)"
   ]
  },
  {
   "cell_type": "code",
   "execution_count": null,
   "metadata": {},
   "outputs": [],
   "source": []
  },
  {
   "cell_type": "markdown",
   "metadata": {},
   "source": [
    "# POS Tagging詞性標註"
   ]
  },
  {
   "cell_type": "raw",
   "metadata": {},
   "source": [
    "Name\tDescription\n",
    "A\t非謂形容詞\n",
    "Caa\t對等連接詞\n",
    "Cab\t連接詞，如：等等\n",
    "Cba\t連接詞，如：的話\n",
    "Cbb\t關聯連接詞\n",
    "D\t副詞\n",
    "Da\t數量副詞\n",
    "Dfa\t動詞前程度副詞\n",
    "Dfb\t動詞後程度副詞\n",
    "Di\t時態標記\n",
    "Dk\t句副詞\n",
    "DM\t定量式\n",
    "I\t感嘆詞\n",
    "Na\t普通名詞\n",
    "Nb\t專有名詞\n",
    "Nc\t地方詞\n",
    "Ncd\t位置詞\n",
    "Nd\t時間詞\n",
    "Nep\t指代定詞\n",
    "Neqa\t數量定詞\n",
    "Neqb\t後置數量定詞\n",
    "Nes\t特指定詞\n",
    "Neu\t數詞定詞\n",
    "Nf\t量詞\n",
    "Ng\t後置詞\n",
    "Nh\t代名詞\n",
    "Nv\t名物化動詞\n",
    "P\t介詞\n",
    "T\t語助詞\n",
    "VA\t動作不及物動詞\n",
    "VAC\t動作使動動詞\n",
    "VB\t動作類及物動詞\n",
    "VC\t動作及物動詞\n",
    "VCL\t動作接地方賓語動詞\n",
    "VD\t雙賓動詞\n",
    "VF\t動作謂賓動詞\n",
    "VE\t動作句賓動詞\n",
    "VG\t分類動詞\n",
    "VH\t狀態不及物動詞\n",
    "VHC\t狀態使動動詞\n",
    "VI\t狀態類及物動詞\n",
    "VJ\t狀態及物動詞\n",
    "VK\t狀態句賓動詞\n",
    "VL\t狀態謂賓動詞\n",
    "V_2\t有\n",
    "DE\t的之得地\n",
    "SHI\t是\n",
    "FW\t外文\n",
    "COLONCATEGORY\t冒號\n",
    "COMMACATEGORY\t逗號\n",
    "DASHCATEGORY\t破折號\n",
    "DOTCATEGORY\t點號\n",
    "ETCCATEGORY\t刪節號\n",
    "EXCLAMATIONCATEGORY\t驚嘆號\n",
    "PARENTHESISCATEGORY\t括號\n",
    "PAUSECATEGORY\t頓號\n",
    "PERIODCATEGORY\t句號\n",
    "QUESTIONCATEGORY\t問號\n",
    "SEMICOLONCATEGORY\t分號\n",
    "SPCHANGECATEGORY\t雙直線\n",
    "WHITESPACE\t空白"
   ]
  },
  {
   "cell_type": "code",
   "execution_count": 25,
   "metadata": {},
   "outputs": [
    {
     "data": {
      "text/plain": [
       "[['Nb', 'Nd', 'D', 'VC', 'Na']]"
      ]
     },
     "execution_count": 25,
     "metadata": {},
     "output_type": "execute_result"
    }
   ],
   "source": [
    "pos([['傅達仁', '今', '將', '執行', '安樂死']])"
   ]
  },
  {
   "cell_type": "code",
   "execution_count": 26,
   "metadata": {},
   "outputs": [
    {
     "data": {
      "text/plain": [
       "[['Nb', 'VJ', 'Na'], ['Nd'], ['D'], ['VC', 'VA'], ['D', 'VH', 'VH']]"
      ]
     },
     "execution_count": 26,
     "metadata": {},
     "output_type": "execute_result"
    }
   ],
   "source": [
    "# wrong format 這樣給資料結果是不對的，會切成一個字一個字\n",
    "pos(['傅達仁', '今', '將', '執行', '安樂死'])"
   ]
  },
  {
   "cell_type": "code",
   "execution_count": null,
   "metadata": {},
   "outputs": [],
   "source": []
  },
  {
   "cell_type": "code",
   "execution_count": 27,
   "metadata": {},
   "outputs": [],
   "source": [
    "docs = [\"高科大、文藻外語大學與故宮自2016年12月攜手辦理人才培育計畫，培養學生擔任中英文導覽及參與故宮南院的實作服務。\"]\n",
    "\n",
    "# docs = [\"美國參議院針對今天總統布什所提名的勞工部長趙小蘭展開認可聽證會，預料她將會很順利通過參議院支持。\"]"
   ]
  },
  {
   "cell_type": "code",
   "execution_count": 28,
   "metadata": {},
   "outputs": [
    {
     "data": {
      "text/plain": [
       "[['Nc',\n",
       "  'PAUSECATEGORY',\n",
       "  'Nb',\n",
       "  'Na',\n",
       "  'Nc',\n",
       "  'Caa',\n",
       "  'Nc',\n",
       "  'P',\n",
       "  'Nd',\n",
       "  'Nd',\n",
       "  'D',\n",
       "  'VC',\n",
       "  'Na',\n",
       "  'VC',\n",
       "  'Na',\n",
       "  'COMMACATEGORY',\n",
       "  'VC',\n",
       "  'Na',\n",
       "  'VG',\n",
       "  'Na',\n",
       "  'VC',\n",
       "  'Caa',\n",
       "  'VC',\n",
       "  'Nc',\n",
       "  'Nc',\n",
       "  'DE',\n",
       "  'Nv',\n",
       "  'Nv',\n",
       "  'PERIODCATEGORY']]"
      ]
     },
     "execution_count": 28,
     "metadata": {},
     "output_type": "execute_result"
    }
   ],
   "source": [
    "words = ws(docs)\n",
    "pos(words)"
   ]
  },
  {
   "cell_type": "code",
   "execution_count": 29,
   "metadata": {},
   "outputs": [
    {
     "data": {
      "text/plain": [
       "[['高科大',\n",
       "  '、',\n",
       "  '文藻',\n",
       "  '外語',\n",
       "  '大學',\n",
       "  '與',\n",
       "  '故宮',\n",
       "  '自',\n",
       "  '2016年',\n",
       "  '12月',\n",
       "  '攜手',\n",
       "  '辦理',\n",
       "  '人才',\n",
       "  '培育',\n",
       "  '計畫',\n",
       "  '，',\n",
       "  '培養',\n",
       "  '學生',\n",
       "  '擔任',\n",
       "  '中英文',\n",
       "  '導覽',\n",
       "  '及',\n",
       "  '參與',\n",
       "  '故宮',\n",
       "  '南院',\n",
       "  '的',\n",
       "  '實作',\n",
       "  '服務',\n",
       "  '。']]"
      ]
     },
     "execution_count": 29,
     "metadata": {},
     "output_type": "execute_result"
    }
   ],
   "source": [
    "words"
   ]
  },
  {
   "cell_type": "markdown",
   "metadata": {},
   "source": [
    "## combine word and pos (將詞與其詞性 搭配一起顯示)"
   ]
  },
  {
   "cell_type": "code",
   "execution_count": 30,
   "metadata": {},
   "outputs": [],
   "source": [
    "docs = [\"高科大、文藻外語大學與故宮自2016年12月攜手辦理人才培育計畫，培養學生擔任中英文導覽及參與故宮南院的實作服務。\"]"
   ]
  },
  {
   "cell_type": "code",
   "execution_count": 31,
   "metadata": {},
   "outputs": [],
   "source": [
    "words = ws(docs)\n",
    "tagged = pos(words)"
   ]
  },
  {
   "cell_type": "code",
   "execution_count": 32,
   "metadata": {},
   "outputs": [
    {
     "data": {
      "text/plain": [
       "1"
      ]
     },
     "execution_count": 32,
     "metadata": {},
     "output_type": "execute_result"
    }
   ],
   "source": [
    "len(words)"
   ]
  },
  {
   "cell_type": "code",
   "execution_count": 33,
   "metadata": {},
   "outputs": [
    {
     "data": {
      "text/plain": [
       "1"
      ]
     },
     "execution_count": 33,
     "metadata": {},
     "output_type": "execute_result"
    }
   ],
   "source": [
    "len(tagged)"
   ]
  },
  {
   "cell_type": "code",
   "execution_count": 34,
   "metadata": {},
   "outputs": [
    {
     "data": {
      "text/plain": [
       "29"
      ]
     },
     "execution_count": 34,
     "metadata": {},
     "output_type": "execute_result"
    }
   ],
   "source": [
    "len(words[0])"
   ]
  },
  {
   "cell_type": "code",
   "execution_count": 35,
   "metadata": {},
   "outputs": [
    {
     "data": {
      "text/plain": [
       "29"
      ]
     },
     "execution_count": 35,
     "metadata": {},
     "output_type": "execute_result"
    }
   ],
   "source": [
    "len(tagged[0])"
   ]
  },
  {
   "cell_type": "code",
   "execution_count": null,
   "metadata": {},
   "outputs": [],
   "source": []
  },
  {
   "cell_type": "code",
   "execution_count": 36,
   "metadata": {},
   "outputs": [],
   "source": [
    "word_pos_pair=[]\n",
    "for i in range(len(words)):\n",
    "    word_pos_pair.append(list(zip( words[i], tagged[i])))"
   ]
  },
  {
   "cell_type": "code",
   "execution_count": 37,
   "metadata": {},
   "outputs": [
    {
     "data": {
      "text/plain": [
       "[[('高科大', 'Nc'),\n",
       "  ('、', 'PAUSECATEGORY'),\n",
       "  ('文藻', 'Nb'),\n",
       "  ('外語', 'Na'),\n",
       "  ('大學', 'Nc'),\n",
       "  ('與', 'Caa'),\n",
       "  ('故宮', 'Nc'),\n",
       "  ('自', 'P'),\n",
       "  ('2016年', 'Nd'),\n",
       "  ('12月', 'Nd'),\n",
       "  ('攜手', 'D'),\n",
       "  ('辦理', 'VC'),\n",
       "  ('人才', 'Na'),\n",
       "  ('培育', 'VC'),\n",
       "  ('計畫', 'Na'),\n",
       "  ('，', 'COMMACATEGORY'),\n",
       "  ('培養', 'VC'),\n",
       "  ('學生', 'Na'),\n",
       "  ('擔任', 'VG'),\n",
       "  ('中英文', 'Na'),\n",
       "  ('導覽', 'VC'),\n",
       "  ('及', 'Caa'),\n",
       "  ('參與', 'VC'),\n",
       "  ('故宮', 'Nc'),\n",
       "  ('南院', 'Nc'),\n",
       "  ('的', 'DE'),\n",
       "  ('實作', 'Nv'),\n",
       "  ('服務', 'Nv'),\n",
       "  ('。', 'PERIODCATEGORY')]]"
      ]
     },
     "execution_count": 37,
     "metadata": {},
     "output_type": "execute_result"
    }
   ],
   "source": [
    "word_pos_pair"
   ]
  },
  {
   "cell_type": "code",
   "execution_count": 38,
   "metadata": {},
   "outputs": [
    {
     "data": {
      "text/plain": [
       "[[('高科大', 'Nc'),\n",
       "  ('、', 'PAUSECATEGORY'),\n",
       "  ('文藻', 'Nb'),\n",
       "  ('外語', 'Na'),\n",
       "  ('大學', 'Nc'),\n",
       "  ('與', 'Caa'),\n",
       "  ('故宮', 'Nc'),\n",
       "  ('自', 'P'),\n",
       "  ('2016年', 'Nd'),\n",
       "  ('12月', 'Nd'),\n",
       "  ('攜手', 'D'),\n",
       "  ('辦理', 'VC'),\n",
       "  ('人才', 'Na'),\n",
       "  ('培育', 'VC'),\n",
       "  ('計畫', 'Na'),\n",
       "  ('，', 'COMMACATEGORY'),\n",
       "  ('培養', 'VC'),\n",
       "  ('學生', 'Na'),\n",
       "  ('擔任', 'VG'),\n",
       "  ('中英文', 'Na'),\n",
       "  ('導覽', 'VC'),\n",
       "  ('及', 'Caa'),\n",
       "  ('參與', 'VC'),\n",
       "  ('故宮', 'Nc'),\n",
       "  ('南院', 'Nc'),\n",
       "  ('的', 'DE'),\n",
       "  ('實作', 'Nv'),\n",
       "  ('服務', 'Nv'),\n",
       "  ('。', 'PERIODCATEGORY')]]"
      ]
     },
     "execution_count": 38,
     "metadata": {},
     "output_type": "execute_result"
    }
   ],
   "source": [
    "# same result with one line \n",
    "[ list(zip(w,p)) for w,p in zip(words, tagged)]"
   ]
  },
  {
   "cell_type": "code",
   "execution_count": null,
   "metadata": {},
   "outputs": [],
   "source": []
  },
  {
   "cell_type": "markdown",
   "metadata": {},
   "source": [
    "# NER (named entity recognition)實體命名辨識\n",
    "* 例如：人名、地名、組織名，在生醫領域中也可能是藥品名、分子式等等。NER 讓機器能自動找尋文本中提到的我們感興趣的實體，例如公眾人物等，並加以分析，其產出亦作為人工智慧理解自然語言的重要資訊。\n",
    "* 小明PERSON昨天DATE在中研院FAC附近買了五CARDINAL顆蘋果。"
   ]
  },
  {
   "cell_type": "raw",
   "metadata": {},
   "source": [
    "Name\tDescription\n",
    "CARDINAL\t數字\n",
    "DATE\t日期\n",
    "EVENT\t事件\n",
    "FAC\t設施\n",
    "GPE\t行政區\n",
    "LANGUAGE\t語言\n",
    "LAW\t法律\n",
    "LOC\t地理區\n",
    "MONEY\t金錢\n",
    "NORP\t民族、宗教、政治團體\n",
    "ORDINAL\t序數\n",
    "ORG\t組織\n",
    "PERCENT\t百分比率\n",
    "PERSON\t人物\n",
    "PRODUCT\t產品\n",
    "QUANTITY\t數量\n",
    "TIME\t時間\n",
    "WORK_OF_ART\t作品"
   ]
  },
  {
   "cell_type": "code",
   "execution_count": null,
   "metadata": {},
   "outputs": [],
   "source": []
  },
  {
   "cell_type": "code",
   "execution_count": 39,
   "metadata": {},
   "outputs": [],
   "source": [
    "docs = [\"高科大、文藻外語大學與故宮自2016年12月攜手辦理人才培育計畫，培養學生擔任中英文導覽及參與故宮南院的實作服務。\"]"
   ]
  },
  {
   "cell_type": "code",
   "execution_count": 40,
   "metadata": {},
   "outputs": [],
   "source": [
    "words = ws(docs)\n",
    "tagged = pos(words)"
   ]
  },
  {
   "cell_type": "code",
   "execution_count": 41,
   "metadata": {},
   "outputs": [
    {
     "data": {
      "text/plain": [
       "[{(0, 3, 'ORG', '高科大'),\n",
       "  (4, 10, 'ORG', '文藻外語大學'),\n",
       "  (11, 13, 'ORG', '故宮'),\n",
       "  (14, 22, 'DATE', '2016年12月'),\n",
       "  (40, 42, 'LANGUAGE', '英文'),\n",
       "  (47, 51, 'ORG', '故宮南院')}]"
      ]
     },
     "execution_count": 41,
     "metadata": {},
     "output_type": "execute_result"
    }
   ],
   "source": [
    "ner(words, tagged)"
   ]
  },
  {
   "cell_type": "code",
   "execution_count": null,
   "metadata": {},
   "outputs": [],
   "source": []
  },
  {
   "cell_type": "markdown",
   "metadata": {},
   "source": [
    "# User dictionary (自訂字庫)\n",
    "* 可為斷詞提供想特別關注的詞彙及它們的相對權重"
   ]
  },
  {
   "cell_type": "code",
   "execution_count": 42,
   "metadata": {},
   "outputs": [],
   "source": [
    "from ckiptagger import construct_dictionary"
   ]
  },
  {
   "cell_type": "code",
   "execution_count": 43,
   "metadata": {},
   "outputs": [
    {
     "name": "stdout",
     "output_type": "stream",
     "text": [
      "[(2, {'公有': 2.0}), (3, {'土地公': 1.0, '土地婆': 1.0}), (5, {'緯來體育台': 1.0})]\n"
     ]
    }
   ],
   "source": [
    "# 前面的數字表示該詞彙有幾個字，dict裡的數字表示權重\n",
    "word_to_weight = {\n",
    "    \"土地公\": 1,\n",
    "    \"土地婆\": 1,\n",
    "    \"公有\": 2,\n",
    "    \"\": 1,         # wrong format\n",
    "    \"來亂的\": \"啦\", # wrong format\n",
    "    \"緯來體育台\": 1,\n",
    "}\n",
    "dictionary = construct_dictionary(word_to_weight)\n",
    "print(dictionary)"
   ]
  },
  {
   "cell_type": "code",
   "execution_count": 44,
   "metadata": {},
   "outputs": [],
   "source": [
    "docs = [\n",
    "    \"傅達仁今將執行安樂死，卻突然爆出自己20年前遭緯來體育台封殺，他不懂自己哪裡得罪到電視台。\",\n",
    "    \"美國參議院針對今天總統布什所提名的勞工部長趙小蘭展開認可聽證會，預料她將會很順利通過參議院支持，成為該國有史以來第一位的華裔女性內閣成員。\",\n",
    "    \"\",\n",
    "    \"土地公有政策?？還是土地婆有政策。.\",\n",
    "    \"… 你確定嗎… 不要再騙了……\",\n",
    "    \"最多容納59,000個人,或5.9萬人,再多就不行了.這是環評的結論.\",\n",
    "    \"科長說:1,坪數對人數為1:3。2,可以再增加。\",\n",
    "]"
   ]
  },
  {
   "cell_type": "raw",
   "metadata": {},
   "source": [
    "不合法的寫法，會被自動排除掉:\n",
    "\"\": 1,\n",
    "\"來亂的\": \"啦\","
   ]
  },
  {
   "cell_type": "code",
   "execution_count": 45,
   "metadata": {},
   "outputs": [
    {
     "data": {
      "text/plain": [
       "[['傅達仁',\n",
       "  '今',\n",
       "  '將',\n",
       "  '執行',\n",
       "  '安樂死',\n",
       "  '，',\n",
       "  '卻',\n",
       "  '突然',\n",
       "  '爆出',\n",
       "  '自己',\n",
       "  '20',\n",
       "  '年',\n",
       "  '前',\n",
       "  '遭',\n",
       "  '緯來',\n",
       "  '體育台',\n",
       "  '封殺',\n",
       "  '，',\n",
       "  '他',\n",
       "  '不',\n",
       "  '懂',\n",
       "  '自己',\n",
       "  '哪裡',\n",
       "  '得罪到',\n",
       "  '電視台',\n",
       "  '。'],\n",
       " ['美國',\n",
       "  '參議院',\n",
       "  '針對',\n",
       "  '今天',\n",
       "  '總統',\n",
       "  '布什',\n",
       "  '所',\n",
       "  '提名',\n",
       "  '的',\n",
       "  '勞工部長',\n",
       "  '趙小蘭',\n",
       "  '展開',\n",
       "  '認可',\n",
       "  '聽證會',\n",
       "  '，',\n",
       "  '預料',\n",
       "  '她',\n",
       "  '將',\n",
       "  '會',\n",
       "  '很',\n",
       "  '順利',\n",
       "  '通過',\n",
       "  '參議院',\n",
       "  '支持',\n",
       "  '，',\n",
       "  '成為',\n",
       "  '該',\n",
       "  '國',\n",
       "  '有史以來',\n",
       "  '第一',\n",
       "  '位',\n",
       "  '的',\n",
       "  '華裔',\n",
       "  '女性',\n",
       "  '內閣',\n",
       "  '成員',\n",
       "  '。'],\n",
       " [],\n",
       " ['土地公', '有', '政策', '?', '？', '還是', '土地', '婆', '有', '政策', '。', '.'],\n",
       " ['…', ' ', '你', '確定', '嗎', '…', ' ', '不要', '再', '騙', '了', '…', '…'],\n",
       " ['最多',\n",
       "  '容納',\n",
       "  '59,000',\n",
       "  '個',\n",
       "  '人',\n",
       "  ',',\n",
       "  '或',\n",
       "  '5.9萬',\n",
       "  '人',\n",
       "  ',',\n",
       "  '再',\n",
       "  '多',\n",
       "  '就',\n",
       "  '不行',\n",
       "  '了',\n",
       "  '.',\n",
       "  '這',\n",
       "  '是',\n",
       "  '環評',\n",
       "  '的',\n",
       "  '結論',\n",
       "  '.'],\n",
       " ['科長',\n",
       "  '說',\n",
       "  ':1,',\n",
       "  '坪數',\n",
       "  '對',\n",
       "  '人數',\n",
       "  '為',\n",
       "  '1:3',\n",
       "  '。',\n",
       "  '2',\n",
       "  ',',\n",
       "  '可以',\n",
       "  '再',\n",
       "  '增加',\n",
       "  '。']]"
      ]
     },
     "execution_count": 45,
     "metadata": {},
     "output_type": "execute_result"
    }
   ],
   "source": [
    "ws(docs)"
   ]
  },
  {
   "cell_type": "code",
   "execution_count": 46,
   "metadata": {},
   "outputs": [
    {
     "data": {
      "text/plain": [
       "[['傅達仁',\n",
       "  '今',\n",
       "  '將',\n",
       "  '執行',\n",
       "  '安樂死',\n",
       "  '，',\n",
       "  '卻',\n",
       "  '突然',\n",
       "  '爆出',\n",
       "  '自己',\n",
       "  '20',\n",
       "  '年',\n",
       "  '前',\n",
       "  '遭',\n",
       "  '緯來體育台',\n",
       "  '封殺',\n",
       "  '，',\n",
       "  '他',\n",
       "  '不',\n",
       "  '懂',\n",
       "  '自己',\n",
       "  '哪裡',\n",
       "  '得罪到',\n",
       "  '電視台',\n",
       "  '。'],\n",
       " ['美國',\n",
       "  '參議院',\n",
       "  '針對',\n",
       "  '今天',\n",
       "  '總統',\n",
       "  '布什',\n",
       "  '所',\n",
       "  '提名',\n",
       "  '的',\n",
       "  '勞工部長',\n",
       "  '趙小蘭',\n",
       "  '展開',\n",
       "  '認可',\n",
       "  '聽證會',\n",
       "  '，',\n",
       "  '預料',\n",
       "  '她',\n",
       "  '將',\n",
       "  '會',\n",
       "  '很',\n",
       "  '順利',\n",
       "  '通過',\n",
       "  '參議院',\n",
       "  '支持',\n",
       "  '，',\n",
       "  '成為',\n",
       "  '該',\n",
       "  '國',\n",
       "  '有史以來',\n",
       "  '第一',\n",
       "  '位',\n",
       "  '的',\n",
       "  '華裔',\n",
       "  '女性',\n",
       "  '內閣',\n",
       "  '成員',\n",
       "  '。'],\n",
       " [],\n",
       " ['土地公', '有', '政策', '?', '？', '還是', '土地婆', '有', '政策', '。', '.'],\n",
       " ['…', ' ', '你', '確定', '嗎', '…', ' ', '不要', '再', '騙', '了', '…', '…'],\n",
       " ['最多',\n",
       "  '容納',\n",
       "  '59,000',\n",
       "  '個',\n",
       "  '人',\n",
       "  ',',\n",
       "  '或',\n",
       "  '5.9萬',\n",
       "  '人',\n",
       "  ',',\n",
       "  '再',\n",
       "  '多',\n",
       "  '就',\n",
       "  '不行',\n",
       "  '了',\n",
       "  '.',\n",
       "  '這',\n",
       "  '是',\n",
       "  '環評',\n",
       "  '的',\n",
       "  '結論',\n",
       "  '.'],\n",
       " ['科長',\n",
       "  '說',\n",
       "  ':1,',\n",
       "  '坪數',\n",
       "  '對',\n",
       "  '人數',\n",
       "  '為',\n",
       "  '1:3',\n",
       "  '。',\n",
       "  '2',\n",
       "  ',',\n",
       "  '可以',\n",
       "  '再',\n",
       "  '增加',\n",
       "  '。']]"
      ]
     },
     "execution_count": 46,
     "metadata": {},
     "output_type": "execute_result"
    }
   ],
   "source": [
    "ws(docs,\n",
    "    recommend_dictionary = dictionary, # words in this dictionary are encouraged  吃自訂字庫\n",
    ")\n",
    "# 原本 '緯來', '體育台', 變 '緯來體育台'；'土地', '婆' 變 '土地婆'"
   ]
  },
  {
   "cell_type": "code",
   "execution_count": null,
   "metadata": {},
   "outputs": [],
   "source": []
  }
 ],
 "metadata": {
  "kernelspec": {
   "display_name": "Python 3",
   "language": "python",
   "name": "python3"
  },
  "language_info": {
   "codemirror_mode": {
    "name": "ipython",
    "version": 3
   },
   "file_extension": ".py",
   "mimetype": "text/x-python",
   "name": "python",
   "nbconvert_exporter": "python",
   "pygments_lexer": "ipython3",
   "version": "3.8.12"
  },
  "toc": {
   "base_numbering": 1,
   "nav_menu": {},
   "number_sections": true,
   "sideBar": true,
   "skip_h1_title": false,
   "title_cell": "Table of Contents",
   "title_sidebar": "Contents",
   "toc_cell": false,
   "toc_position": {},
   "toc_section_display": true,
   "toc_window_display": false
  }
 },
 "nbformat": 4,
 "nbformat_minor": 2
}
